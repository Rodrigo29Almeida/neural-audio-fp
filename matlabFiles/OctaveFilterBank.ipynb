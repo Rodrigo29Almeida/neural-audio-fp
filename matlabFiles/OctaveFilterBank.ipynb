{
 "cells": [
  {
   "cell_type": "markdown",
   "metadata": {},
   "source": [
    "```getOctaveFilterBank()``` gera um banco de filtros triangulares em escala logarítmica com \"Nfpo\" filtros por oitava. Retorna a s respostas em frequência dos fitros na matriz \"H\" bem como os valores das frequências centrais (vértice dos triângulos dos filtros).\n",
    " \n",
    "Argumentos:\n",
    "- ```fs```   - frequência de amostragem do sinal de áudio. (default: 16000)\n",
    "- ```Nfft``` - Número de amostras da FFT (para amostrar a resposta em frequência dos filtros)(default=4096)\n",
    "- ```Nfpo``` - Número de filtros por oitava (default: 12)\n",
    "- ```fmin_user``` - frequência mínima que o utilizador propõe (default: 32.7032 Hz: C1)\n",
    "- ```fmax_user``` - frequência máxima que o utilizador propõe (default: 7040 Hz:    A8)\n",
    "- ```edges``` - string; se igual a 'edges', junta ao vetor de saída fcf, os vértices do 1º e último filtro.\n",
    "           (default: eges='')\n",
    "Saídas:\n",
    "- H    - matriz de dimensão Nb x Nfft/2+1 com a parte positiva das respostas em frequência dos Nb filtros (um filtro por linha de H)\n",
    "- fcf  - vetor com os vétices dos filtros. Se edges='edges' junta fmin e fmax: fcf=[fmin,fcf,fmax]\n",
    "\n",
    "**Nota:** os filtros estão sobrepostos em frequência de forma que se fcf(i) for a frequência central do filtro i, é também o vértice superior do filtro i-1 e o vértice inferior do filtro i+1. <br>\n",
    "A frequência fcf(i) é dada por: \n",
    "                               $$f(i) = f(0)\\times2^{(i/Nfpo)},$$\n",
    "de forma que f(0)=fmin, f(1) é a frequência central do 1º filtro, etc. f(Nfpo) = 2*f(0) e f(Nb+1)=fmax.\n",
    "\n",
    "**Nota:** as frequências centrais são ajustadas, sempre que possível, aos semitons musicais na escala temperada. Daí que fmin_user é apenas indicativa e pode ser diferente de fmin. O mesmo para fmax.\n",
    "\n",
    "Inicialmente é feito o cálculo do número de filtros (Nb) que o banco de filtros terá pelas frequências miníma (fmin_user) e máxima (fmax_user) dadas pelo utilizador e pelo número de filtros por oitava (Nfpo).\n",
    " \n",
    "O primeiro filtro tem a frequência mínima (fmin), a primeira frequência central (f1).\n",
    " \n",
    "A construção do Banco de Filtros dependerá de fi. Pelo que o primeiro valor de fi, será a frequência mínima do primeiro filtro que será\n",
    "usado na aplicação do Banco de Filtros, a frequência seguinte no vetor fi será a frequência central (fcf) do primeiro filtro. A terceira frequência do vetor fi será a frequência alta do primeiro filtro. O segundo filtro terá como frequência mínima a frequência central do primeiro filtro e terá como frequência central a frequência mais alta do primeiro filtro.\n",
    "\n",
    "% Respostas dos filtros\n",
    "% 1          .\n",
    "%           /|\\\n",
    "%          / |  \\                    H(1,:)\n",
    "% --------+  |   +--------------------------------->f\n",
    "% 1    fmin  f1  .\n",
    "%               /|\\\n",
    "%             /  |  \\                H(2,:)\n",
    "% -----------+   |   +----------------------------->f\n",
    "%                f2\n",
    "% ...\n",
    "%                  1            .\n",
    "%                             ´ | `\n",
    "%                         ´     |    `      H(Nb,:)\n",
    "%----------------------+        |        +--------->f\n",
    "%                   f_Nb-1    f_Nb      fmax"
   ]
  },
  {
   "cell_type": "markdown",
   "metadata": {},
   "source": [
    " function [H,fcf]=getOctaveFilterBank(fs, Nfft, Nfpo, fmin_user, fmax_user, edges)\n",
    "%function [H,fcf]=getOctaveFilterBank(fs, Nfft, Nfpo, fmin_user, fmax_user, edges)\n",
    "%\n",
    "\n",
    "\n",
    "\n",
    "\t%default values:\n",
    "\tif nargin < 1\n",
    "\t\tfs=16000;\n",
    "\tend\n",
    "\tif nargin < 2\n",
    "\t\tNfft=4096;\n",
    "\tend\n",
    "\tif nargin < 3\n",
    "\t\tNfpo=12;\n",
    "\tend\t\n",
    "\tif nargin < 4\n",
    "\t\tfmin_user= 440*2.^(((1+1)*12+0-69)/12);\n",
    "\tend\t\n",
    "\tif nargin < 5\n",
    "\t\tfmax_user= 440*2.^(((8+1)*12+9-69)/12);\n",
    "\tend\t\n",
    "\tif nargin < 6\n",
    "\t\tedges='';\n",
    "\tend\t\n",
    "\n",
    "\tif fmax_user>fs/2\n",
    "\t\tfmax_user=fs/2;\n",
    "\tend\n",
    "\n",
    "\n",
    "    %if(fmax_user<fs/2)\n",
    "    %    disp('A frequência máxima tem de ser maior ou igual que metade da frequência de amostragem.');\n",
    "    %    return;\n",
    "    %end\n",
    "    %Numero de linhas de H=Nb\n",
    "    %size(H)=Nb*(Nfft/2+1)\n",
    "\n",
    "    %fs=16e3; Nfft=4096; Nfpo=12; fmin_user=50; fmax_user=8e3;\n",
    "    %fs=16e3; Nfft=4096; Nfpo=7; fmin_user=30; fmax_user=4.1860e3;\n",
    "    %fs=16e3; Nfft=4096; Nfpo=2; fmin_user=50; fmax_user=8e3;\n",
    "\n",
    "    i0=ceil(Nfpo*log2(fmin_user/440));\n",
    "    %i0_indexes=i0+69; %69, Lá como referência\n",
    "\n",
    "    fmin=440*2^(i0/Nfpo); %Freq. Low do 1ºfiltro - não conta\n",
    "    \n",
    "    i=floor(-i0+Nfpo*(log2(fmax_user/440)));\n",
    "    Nb=i-1;\n",
    "    fmax=440*2^((i+i0)/Nfpo);\n",
    "\n",
    "    %f1=440*2^((i0+1)/Nfpo)\n",
    "    \n",
    "\n",
    "\ti=0:Nb+1;\n",
    "\tfi = fmin*2.^(i/Nfpo);\n",
    "\n",
    "    % fi=zeros(1,Nb+2);\n",
    "    % %fi(1)=fmin;\n",
    "    % for i=0:Nb+1\n",
    "    %     fi(i+1)=440*2^((i0+i)/Nfpo);\n",
    "    %     i=i+1;\n",
    "    % end\n",
    "    % %f(end)=fmax;\n",
    "\n",
    "    \n",
    "    %Construção do Banco de Filtros\n",
    "    k=0:Nfft/2; f=k*fs/Nfft;\n",
    "    H=zeros(Nb,Nfft/2+1);\n",
    "    fcf=zeros(1, Nb);\n",
    "    for j=1:Nb\n",
    "        fLow=fi(j); fcf(j)=fi(j+1); fUpp=fi(j+2);\n",
    "\n",
    "        H(j,:)= (f-fLow)/(fcf(j)-fLow).*(f>fLow & f<=fcf(j)) + ...\n",
    "\t\t\t    (f-fUpp)/(fcf(j)-fUpp).*(f>fcf(j)  & f<=fUpp);\n",
    "    end\n",
    "\n",
    "\n",
    "    %figure ;\n",
    "    %plot(f,H)\n",
    "\n",
    "    %figure ;\n",
    "    %plot(f, sum(H))\n",
    "\n",
    "    if nargout>1 && strcmp(edges,'edges')\n",
    "        fcf=[fmin,fcf,fmax]; %edges\n",
    "    end\n",
    "\n",
    "end\n"
   ]
  },
  {
   "cell_type": "code",
   "execution_count": 8,
   "metadata": {},
   "outputs": [],
   "source": [
    "import math\n",
    "import numpy as np"
   ]
  },
  {
   "cell_type": "code",
   "execution_count": 9,
   "metadata": {},
   "outputs": [],
   "source": [
    "fmin_user = 440 * 2 ** (((1 + 1) * 12 + 0 - 69) / 12)\n",
    "i0 = np.ceil(12 * np.log2(fmin_user / 440))\n",
    "fmin = 440 * 2 ** (i0 / 12)"
   ]
  },
  {
   "cell_type": "code",
   "execution_count": 10,
   "metadata": {},
   "outputs": [
    {
     "data": {
      "text/plain": [
       "32.70319566257483"
      ]
     },
     "execution_count": 10,
     "metadata": {},
     "output_type": "execute_result"
    }
   ],
   "source": [
    "fmin"
   ]
  },
  {
   "cell_type": "code",
   "execution_count": 7,
   "metadata": {},
   "outputs": [
    {
     "data": {
      "text/plain": [
       "32.70319566257483"
      ]
     },
     "execution_count": 7,
     "metadata": {},
     "output_type": "execute_result"
    }
   ],
   "source": [
    "440 * 2 ** (((1 + 1) * 12 + 0 - 69) / 12)"
   ]
  },
  {
   "cell_type": "code",
   "execution_count": 1,
   "metadata": {},
   "outputs": [],
   "source": [
    "import numpy as np\n",
    "\n",
    "def getOctaveFilterBank(fs=16000, Nfft=4096, Nfpo=12, fmin_user=None, fmax_user=None, edges=''):\n",
    "    if fmin_user is None:\n",
    "        fmin_user = 440 * 2 ** (((1 + 1) * 12 + 0 - 69) / 12)\n",
    "    if fmax_user is None:\n",
    "        fmax_user = 440 * 2 ** (((8 + 1) * 12 + 9 - 69) / 12)\n",
    "    if edges == '':\n",
    "        edges_flag = False\n",
    "    else:\n",
    "        edges_flag = True\n",
    "\n",
    "    if fmax_user > fs / 2:\n",
    "        fmax_user = fs / 2\n",
    "\n",
    "    i0 = np.ceil(Nfpo * np.log2(fmin_user / 440))\n",
    "    fmin = 440 * 2 ** (i0 / Nfpo)\n",
    "\n",
    "    i = np.floor(-i0 + Nfpo * (np.log2(fmax_user / 440)))\n",
    "    Nb = int(i - 1)\n",
    "    fmax = 440 * 2 ** ((i + i0) / Nfpo)\n",
    "\n",
    "    i = np.arange(Nb + 2)\n",
    "    fi = fmin * 2 ** (i / Nfpo)\n",
    "\n",
    "    H = np.zeros((Nb, Nfft // 2 + 1))\n",
    "    fcf = np.zeros(Nb)\n",
    "\n",
    "    k = np.arange(Nfft // 2 + 1)\n",
    "    f = k * fs / Nfft\n",
    "\n",
    "    for j in range(Nb):\n",
    "        fLow = fi[j]\n",
    "        fcf[j] = fi[j + 1]\n",
    "        fUpp = fi[j + 2]\n",
    "\n",
    "        H[j, :] = ((f - fLow) / (fcf[j] - fLow)) * ((f > fLow) & (f <= fcf[j])) + \\\n",
    "                  ((f - fUpp) / (fcf[j] - fUpp)) * ((f > fcf[j]) & (f <= fUpp))\n",
    "\n",
    "    if edges_flag:\n",
    "        fcf = np.concatenate(([fmin], fcf, [fmax]))\n",
    "\n",
    "    return H, fcf\n",
    "\n",
    "# Exemplo de uso:\n",
    "# H, fcf = getOctaveFilterBank()\n",
    "# print(H.shape)\n",
    "# print(fcf)\n"
   ]
  },
  {
   "cell_type": "code",
   "execution_count": 2,
   "metadata": {},
   "outputs": [
    {
     "name": "stdout",
     "output_type": "stream",
     "text": [
      "(92, 2049)\n",
      "[  34.64782887   36.70809599   38.89087297   41.20344461   43.65352893\n",
      "   46.24930284   48.9994295    51.9130872    55.           58.27047019\n",
      "   61.73541266   65.40639133   69.29565774   73.41619198   77.78174593\n",
      "   82.40688923   87.30705786   92.49860568   97.998859    103.82617439\n",
      "  110.          116.54094038  123.47082531  130.81278265  138.59131549\n",
      "  146.83238396  155.56349186  164.81377846  174.61411572  184.99721136\n",
      "  195.99771799  207.65234879  220.          233.08188076  246.94165063\n",
      "  261.6255653   277.18263098  293.66476792  311.12698372  329.62755691\n",
      "  349.22823143  369.99442271  391.99543598  415.30469758  440.\n",
      "  466.16376152  493.88330126  523.2511306   554.36526195  587.32953583\n",
      "  622.25396744  659.25511383  698.45646287  739.98884542  783.99087196\n",
      "  830.60939516  880.          932.32752304  987.76660251 1046.5022612\n",
      " 1108.73052391 1174.65907167 1244.50793489 1318.51022765 1396.91292573\n",
      " 1479.97769085 1567.98174393 1661.21879032 1760.         1864.65504607\n",
      " 1975.53320502 2093.0045224  2217.46104781 2349.31814334 2489.01586978\n",
      " 2637.0204553  2793.82585146 2959.95538169 3135.96348785 3322.43758064\n",
      " 3520.         3729.31009214 3951.06641005 4186.00904481 4434.92209563\n",
      " 4698.63628668 4978.03173955 5274.04091061 5587.65170293 5919.91076339\n",
      " 6271.92697571 6644.87516128]\n"
     ]
    }
   ],
   "source": [
    "H, fcf = getOctaveFilterBank()\n",
    "print(H.shape)\n",
    "print(fcf)"
   ]
  },
  {
   "cell_type": "markdown",
   "metadata": {},
   "source": [
    "## Demo"
   ]
  },
  {
   "cell_type": "code",
   "execution_count": 11,
   "metadata": {},
   "outputs": [
    {
     "name": "stderr",
     "output_type": "stream",
     "text": [
      "/tmp/ipykernel_3476544/3186404775.py:9: WavFileWarning: Chunk (non-data) not understood, skipping it.\n",
      "  fs_orig, x = wavfile.read('Diatonic_scale_on_C.wav')\n"
     ]
    },
    {
     "data": {
      "image/png": "[encoded data removed]",
      "text/plain": [
       "<Figure size 1000x600 with 2 Axes>"
      ]
     },
     "metadata": {},
     "output_type": "display_data"
    },
    {
     "ename": "NameError",
     "evalue": "name 'getOctaveFilterBank' is not defined",
     "output_type": "error",
     "traceback": [
      "\u001b[0;31m---------------------------------------------------------------------------\u001b[0m",
      "\u001b[0;31mNameError\u001b[0m                                 Traceback (most recent call last)",
      "Cell \u001b[0;32mIn[11], line 43\u001b[0m\n\u001b[1;32m     40\u001b[0m plt\u001b[38;5;241m.\u001b[39mshow()\n\u001b[1;32m     42\u001b[0m \u001b[38;5;66;03m# CQT\u001b[39;00m\n\u001b[0;32m---> 43\u001b[0m H, fcf \u001b[38;5;241m=\u001b[39m \u001b[43mgetOctaveFilterBank\u001b[49m(fs, Nfft, \u001b[38;5;241m12\u001b[39m, \u001b[38;5;241m32\u001b[39m, \u001b[38;5;241m4500\u001b[39m, \u001b[38;5;124m'\u001b[39m\u001b[38;5;124medges\u001b[39m\u001b[38;5;124m'\u001b[39m)\n\u001b[1;32m     44\u001b[0m Nb \u001b[38;5;241m=\u001b[39m \u001b[38;5;28mlen\u001b[39m(fcf) \u001b[38;5;241m-\u001b[39m \u001b[38;5;241m2\u001b[39m\n\u001b[1;32m     46\u001b[0m \u001b[38;5;66;03m# Plot dos filtros\u001b[39;00m\n",
      "\u001b[0;31mNameError\u001b[0m: name 'getOctaveFilterBank' is not defined"
     ]
    }
   ],
   "source": [
    "import numpy as np\n",
    "import matplotlib.pyplot as plt\n",
    "from scipy.io import wavfile\n",
    "from scipy.signal import resample\n",
    "from scipy.fft import fft\n",
    "from scipy.ndimage import gaussian_filter\n",
    "\n",
    "# Carregar o áudio\n",
    "fs_orig, x = wavfile.read('Diatonic_scale_on_C.wav')\n",
    "\n",
    "# Redimensionar a taxa de amostragem para 16000 Hz\n",
    "fs = 16000\n",
    "x16 = resample(x[:, 0], int(fs / fs_orig * len(x)), axis=0)\n",
    "\n",
    "# Parâmetros de análise\n",
    "N = 4096\n",
    "M = 800\n",
    "xframes = np.array([x16[i:i + N] for i in range(0, len(x16) - N + 1, M)])\n",
    "Nframes = len(xframes)\n",
    "\n",
    "# Sonograma DFT\n",
    "Nfft = 2 ** int(np.ceil(np.log2(N)))\n",
    "Xframes = fft(xframes, axis=1, n=Nfft)\n",
    "Xframes = np.abs(Xframes[:, :Nfft // 2 + 1])\n",
    "k = np.arange(Nfft // 2 + 1)\n",
    "Delta = fs / Nfft\n",
    "f = (k - 0.5) * Delta\n",
    "f[0] = f[1] / 4\n",
    "log2f = np.log2(f)\n",
    "th = np.floor(np.max(np.max(np.log10(Xframes))) - 80)\n",
    "\n",
    "# Plot do sonograma DFT\n",
    "plt.figure(figsize=(10, 6))\n",
    "plt.imshow(gaussian_filter(10 * np.log10(Xframes.T + 1e-10), (1, 1)), aspect='auto', origin='lower', cmap='viridis',\n",
    "           extent=[1, Nframes, log2f[1], log2f[-1]], vmin=-80, vmax=th)\n",
    "plt.colorbar(label='Magnitude (dB)')\n",
    "plt.title('DFT Sonogram')\n",
    "plt.xlabel('Frame Index')\n",
    "plt.ylabel('log2(f)')\n",
    "plt.show()\n",
    "\n",
    "# CQT\n",
    "H, fcf = getOctaveFilterBank(fs, Nfft, 12, 32, 4500, 'edges')\n",
    "Nb = len(fcf) - 2\n",
    "\n",
    "# Plot dos filtros\n",
    "plt.figure(figsize=(10, 6))\n",
    "for k in range(Nb):\n",
    "    plt.plot([0, fcf[k], fcf[k + 1], fcf[k + 2], fs / 2], [0, 0, 1, 0, 0])\n",
    "plt.xlabel('f [Hz]')\n",
    "plt.ylim(-0.2, 1.2)\n",
    "plt.title('Filters')\n",
    "plt.show()\n",
    "\n",
    "# Plot dos filtros em relação à frequência\n",
    "plt.figure(figsize=(10, 6))\n",
    "plt.plot(f, H.T)\n",
    "plt.xlabel('f [Hz]')\n",
    "plt.ylim(-0.2, 1.2)\n",
    "plt.title('Filter Bank')\n",
    "plt.show()\n",
    "\n",
    "# Aplicação dos filtros\n",
    "RMS = np.dot(H, Xframes.T)\n",
    "\n",
    "# Plot do sonograma CQT\n",
    "plt.figure(figsize=(10, 6))\n",
    "th2 = np.floor(np.max(np.max(np.log10(RMS))) - 20)\n",
    "plt.imshow(gaussian_filter(10 * np.log10(RMS + 1e-10), (1, 1)), aspect='auto', origin='lower', cmap='viridis',\n",
    "           extent=[1, Nframes, fcf[1], fcf[-2]], vmin=-20, vmax=th2)\n",
    "plt.colorbar(label='Magnitude (dB)')\n",
    "plt.title('CQT Sonogram')\n",
    "plt.xlabel('Frame Index')\n",
    "plt.ylabel('f [Hz]')\n",
    "plt.yscale('log')\n",
    "plt.show()\n"
   ]
  }
 ],
 "metadata": {
  "kernelspec": {
   "display_name": "tf",
   "language": "python",
   "name": "python3"
  },
  "language_info": {
   "codemirror_mode": {
    "name": "ipython",
    "version": 3
   },
   "file_extension": ".py",
   "mimetype": "text/x-python",
   "name": "python",
   "nbconvert_exporter": "python",
   "pygments_lexer": "ipython3",
   "version": "3.11.9"
  }
 },
 "nbformat": 4,
 "nbformat_minor": 2
}
