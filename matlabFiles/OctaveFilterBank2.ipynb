{
 "cells": [
  {
   "cell_type": "code",
   "execution_count": 1,
   "metadata": {},
   "outputs": [],
   "source": [
    "import math\n",
    "import numpy as np\n",
    "import librosa\n",
    "%matplotlib widget\n",
    "import matplotlib.pyplot as plt"
   ]
  },
  {
   "cell_type": "code",
   "execution_count": 4,
   "metadata": {},
   "outputs": [
    {
     "data": {
      "text/plain": [
       "'0.10.1'"
      ]
     },
     "execution_count": 4,
     "metadata": {},
     "output_type": "execute_result"
    }
   ],
   "source": [
    "librosa.__version__"
   ]
  },
  {
   "cell_type": "markdown",
   "metadata": {},
   "source": [
    "## **Kapre**"
   ]
  },
  {
   "cell_type": "code",
   "execution_count": 7,
   "metadata": {},
   "outputs": [],
   "source": [
    "def filterbank_mel(\n",
    "    sample_rate, n_freq, n_mels=128, f_min=0.0, f_max=None, htk=False, norm='slaney'\n",
    "):\n",
    "    \"\"\"A wrapper for librosa.filters.mel that additionally does transpose and tensor conversion\n",
    "\n",
    "    Args:\n",
    "        sample_rate (`int`): sample rate of the input audio\n",
    "        n_freq (`int`): number of frequency bins in the input STFT magnitude.\n",
    "        n_mels (`int`): the number of mel bands\n",
    "        f_min (`float`): lowest frequency that is going to be included in the mel filterbank (Hertz)\n",
    "        f_max (`float`): highest frequency that is going to be included in the mel filterbank (Hertz)\n",
    "        htk (bool): whether to use `htk` formula or not\n",
    "        norm: The default, 'slaney', would normalize the the mel weights by the width of the mel band.\n",
    "\n",
    "    Returns:\n",
    "        (`Tensor`): mel filterbanks. Shape=`(n_freq, n_mels)`\n",
    "    \"\"\"\n",
    "    filterbank = librosa.filters.mel(\n",
    "        sr=sample_rate,\n",
    "        n_fft=(n_freq - 1) * 2,\n",
    "        n_mels=n_mels,\n",
    "        fmin=f_min,\n",
    "        fmax=f_max,\n",
    "        htk=htk,\n",
    "        norm=norm)\n",
    "    \n",
    "    return filterbank"
   ]
  },
  {
   "cell_type": "code",
   "execution_count": 8,
   "metadata": {},
   "outputs": [],
   "source": [
    "def filterbank_log(sample_rate, n_freq, n_bins=84, bins_per_octave=12, f_min=None, spread=0.125):\n",
    "    \"\"\"A function that returns a approximation of constant-Q filter banks for a fixed-window STFT.\n",
    "    Each filter is a log-normal window centered at the corresponding frequency.\n",
    "\n",
    "    Args:\n",
    "        sample_rate (`int`): audio sampling rate\n",
    "        n_freq (`int`): number of the input frequency bins. E.g., `n_fft / 2 + 1`\n",
    "        n_bins (`int`): number of the resulting log-frequency bins.  Defaults to 84 (7 octaves).\n",
    "        bins_per_octave (`int`): number of bins per octave. Defaults to 12 (semitones).\n",
    "        f_min (`float`): lowest frequency that is going to be included in the log filterbank. Defaults to `C1 ~= 32.70`\n",
    "        spread (`float`): spread of each filter, as a fraction of a bin.\n",
    "\n",
    "    Returns:\n",
    "        (`Tensor`): log-frequency filterbanks. Shape=`(n_freq, n_bins)`\n",
    "\n",
    "    Note:\n",
    "        The code is originally from `logfrequency` in librosa 0.4 (deprecated) and copy-and-pasted.\n",
    "        `tuning` parameter was removed and we use `n_freq` instead of `n_fft`.\n",
    "    \"\"\"\n",
    "\n",
    "    if f_min is None:\n",
    "        f_min = 32.70319566\n",
    "\n",
    "    f_max = f_min * 2 ** (n_bins / bins_per_octave)\n",
    "    if f_max > sample_rate // 2:\n",
    "        raise RuntimeError(\n",
    "            'Maximum frequency of log filterbank should be lower or equal to the maximum'\n",
    "            'frequency of the input (defined by its sample rate), '\n",
    "            'but f_max=%f and maximum frequency is %f. \\n'\n",
    "            'Fix it by reducing n_bins, increasing bins_per_octave and/or reducing f_min.\\n'\n",
    "            'You can also do it by increasing sample_rate but it means you need to upsample'\n",
    "            'the input audio data, too.' % (f_max, sample_rate)\n",
    "        )\n",
    "\n",
    "    # What's the shape parameter for our log-normal filters?\n",
    "    sigma = float(spread) / bins_per_octave\n",
    "\n",
    "    # Construct the output matrix\n",
    "    basis = np.zeros((n_bins, n_freq))\n",
    "\n",
    "    # Get log frequencies of bins\n",
    "    log_freqs = np.log2(librosa.fft_frequencies(sr=sample_rate, n_fft=(n_freq - 1) * 2)[1:])\n",
    "\n",
    "    for i in range(n_bins):\n",
    "        # What's the center (median) frequency of this filter?\n",
    "        c_freq = f_min * (2.0 ** (float(i) / bins_per_octave))\n",
    "\n",
    "        # Place a log-normal window around c_freq\n",
    "        basis[i, 1:] = np.exp(\n",
    "            -0.5 * ((log_freqs - np.log2(c_freq)) / sigma) ** 2 - np.log2(sigma) - log_freqs\n",
    "        )\n",
    "\n",
    "    # Normalize the filters\n",
    "    basis2 = librosa.util.normalize(basis, norm=1, axis=1)\n",
    "    \n",
    "    return basis, basis2"
   ]
  },
  {
   "cell_type": "code",
   "execution_count": 9,
   "metadata": {},
   "outputs": [],
   "source": [
    "filter_log, filter_log_norm = filterbank_log(sample_rate=16000, n_freq=2048//2+1, n_bins=84, bins_per_octave=12, f_min=None, spread=0.125)\n",
    "filter_mel = filterbank_mel(sample_rate=16000, n_freq=2048//2+1, n_mels=128, f_min=0.0, f_max=None, htk=False, norm='slaney')"
   ]
  },
  {
   "cell_type": "markdown",
   "metadata": {},
   "source": [
    "### **log**"
   ]
  },
  {
   "cell_type": "code",
   "execution_count": null,
   "metadata": {},
   "outputs": [],
   "source": [
    "plt.figure(figsize=(20, 15), dpi=300)\n",
    "plt.plot(filter_log_norm.T)\n",
    "plt.show()"
   ]
  },
  {
   "cell_type": "markdown",
   "metadata": {},
   "source": [
    "### **mel**"
   ]
  },
  {
   "cell_type": "code",
   "execution_count": null,
   "metadata": {},
   "outputs": [],
   "source": [
    "plt.figure(figsize=(20, 15), dpi=300)\n",
    "plt.plot(filter_mel.T)\n",
    "plt.show()"
   ]
  },
  {
   "cell_type": "markdown",
   "metadata": {},
   "source": [
    "Triangular FilterBank"
   ]
  },
  {
   "cell_type": "code",
   "execution_count": 2,
   "metadata": {},
   "outputs": [
    {
     "name": "stderr",
     "output_type": "stream",
     "text": [
      "2024-06-04 18:02:13.403653: I tensorflow/core/platform/cpu_feature_guard.cc:182] This TensorFlow binary is optimized to use available CPU instructions in performance-critical operations.\n",
      "To enable the following instructions: SSE4.1 SSE4.2 AVX AVX2 FMA, in other operations, rebuild TensorFlow with the appropriate compiler flags.\n"
     ]
    }
   ],
   "source": [
    "import tensorflow as tf\n",
    "import numpy as np\n",
    "\n",
    "def filterbank_triangular_log(sample_rate=8000, n_fft=2048):\n",
    "        # Com o objetivo de ter 256 filtros e 8000 Hz na frequência de amostragem, teve-se de optar por Nfft de 2048, o que resulta em 54.4024 filtros por oitava, e numa frequência mínima de 151.3483 Hz.\n",
    "\n",
    "        # Sendo assim, o Nfpo será 60, 5*12, e a frequência do último filtro, f256, será Si7 = 3951.066410048992 Hz. Resultando numa frequência máxima de 3996.975590329487 Hz.\n",
    "        # Com isto, obtem-se pelo menos um bin em cada filtro, visto que f0*(2^(2/Nfpo)-1) = 4.7979 > 8000/2048 = 3.9062. Para uma Nfft de 1024, não era certo que obtivesse pelo menos um bin por filtro.\n",
    "        #O primeiro filtro estava a zero.\n",
    "\n",
    "        n_fft=2048\n",
    "        sample_rate=8000\n",
    "        Nfpo=60 #=5*12\n",
    "        Nb =256\n",
    "\n",
    "        #Cálculo da fmin e fmax\n",
    "        f256 = 440*2.**(38/12) # Si7 = 3951.066410048992 Hz;\n",
    "        f0=f256/2**(256/Nfpo) # fmin, 205.2672581380976 Hz\n",
    "        fmax = f0*2**(257/Nfpo) # fmax, 3996.975590329487 Hz\n",
    "\n",
    "        #Depois disto, dá bins em todos os fitros. Ver a linha 24 do getOctaveFilterBanck2.m\n",
    "\n",
    "        i=np.arange(0,Nb+2, dtype=np.int32)\n",
    "        k=np.arange(0, n_fft//2+1, dtype=int)\n",
    "        f=k*sample_rate/n_fft\n",
    "\n",
    "        fcf = f0 * 2.**(i/Nfpo) #3905.68454168\n",
    "\n",
    "        #fi = np.concatenate(([f0], fcf, [fmax])) #fi =[f0, fcf, fmax] \n",
    "        #fcf está a incluir f0, fcf e fmax\n",
    "\n",
    "        # Construct the output matrix\n",
    "        H = np.zeros((Nb, n_fft // 2 + 1))\n",
    "\n",
    "        #for i in range(n_filters), com isto são 256\n",
    "        for j in range(Nb):\n",
    "            fLow = fcf[j] \n",
    "            fmid = fcf[j+1] \n",
    "            fUpp = fcf[j+2]\n",
    "\n",
    "            H[j, :] = ((f - fLow) / (fmid - fLow)) * ((f > fLow) & (f <= fmid)) + \\\n",
    "                            ((f - fUpp) / (fmid - fUpp)) * ((f > fmid) & (f <= fUpp))\n",
    "            \n",
    "\n",
    "        return tf.convert_to_tensor(H.T, dtype=tf.float32), fcf"
   ]
  },
  {
   "cell_type": "code",
   "execution_count": 3,
   "metadata": {},
   "outputs": [
    {
     "name": "stdout",
     "output_type": "stream",
     "text": [
      "(1025, 256)\n",
      "[ 205.26725814  207.65234879  210.06515286  212.50599236  214.97519306\n",
      "  217.47308448  220.          222.55627687  225.14225624  227.75828325\n",
      "  230.40470702  233.08188076  235.79016176  238.52991147  241.30149553\n",
      "  244.10528385  246.94165063  249.8109744   252.7136381   255.65002913\n",
      "  258.62053938  261.6255653   264.66550794  267.74077301  270.85177094\n",
      "  273.99891692  277.18263098  280.40333801  283.66146786  286.95745535\n",
      "  290.29174037  293.66476792  297.07698816  300.52885649  304.02083359\n",
      "  307.55338552  311.12698372  314.74210514  318.39923224  322.09885311\n",
      "  325.8414615   329.62755691  333.45764463  337.33223583  341.2518476\n",
      "  345.21700307  349.22823143  353.28606802  357.3910544   361.54373842\n",
      "  365.7446743   369.99442271  374.29355082  378.64263239  383.04224785\n",
      "  387.49298438  391.99543598  396.55020355  401.15789497  405.81912518\n",
      "  410.53451628  415.30469758  420.13030572  425.01198473  429.95038611\n",
      "  434.94616896  440.          445.11255373  450.28451248  455.51656649\n",
      "  460.80941404  466.16376152  471.58032352  477.05982293  482.60299107\n",
      "  488.21056771  493.88330126  499.62194879  505.4272762   511.30005826\n",
      "  517.24107876  523.2511306   529.33101588  535.48154602  541.70354187\n",
      "  547.99783384  554.36526195  560.80667602  567.32293571  573.9149107\n",
      "  580.58348074  587.32953583  594.15397631  601.05771297  608.04166719\n",
      "  615.10677104  622.25396744  629.48421027  636.79846447  644.19770622\n",
      "  651.68292301  659.25511383  666.91528926  674.66447165  682.50369521\n",
      "  690.43400615  698.45646287  706.57213604  714.78210879  723.08747684\n",
      "  731.48934861  739.98884542  748.58710164  757.28526478  766.0844957\n",
      "  774.98596876  783.99087196  793.1004071   802.31578993  811.63825036\n",
      "  821.06903255  830.60939516  840.26061144  850.02396945  859.90077222\n",
      "  869.89233791  880.          890.22510747  900.56902496  911.03313298\n",
      "  921.61882808  932.32752304  943.16064703  954.11964587  965.20598213\n",
      "  976.42113542  987.76660251  999.24389758 1010.8545524  1022.60011652\n",
      " 1034.48215753 1046.5022612  1058.66203175 1070.96309203 1083.40708374\n",
      " 1095.99566768 1108.73052391 1121.61335204 1134.64587143 1147.82982139\n",
      " 1161.16696148 1174.65907167 1188.30795263 1202.11542594 1216.08333437\n",
      " 1230.21354208 1244.50793489 1258.96842054 1273.59692895 1288.39541243\n",
      " 1303.36584601 1318.51022765 1333.83057853 1349.32894331 1365.00739041\n",
      " 1380.8680123  1396.91292573 1413.14427208 1429.56421759 1446.17495367\n",
      " 1462.97869721 1479.97769085 1497.17420327 1514.57052955 1532.1689914\n",
      " 1549.97193753 1567.98174393 1586.2008142  1604.63157986 1623.27650071\n",
      " 1642.1380651  1661.21879032 1680.52122288 1700.04793891 1719.80154444\n",
      " 1739.78467582 1760.         1780.45021493 1801.13804991 1822.06626596\n",
      " 1843.23765616 1864.65504607 1886.32129406 1908.23929173 1930.41196426\n",
      " 1952.84227084 1975.53320502 1998.48779516 2021.70910479 2045.20023305\n",
      " 2068.96431506 2093.0045224  2117.3240635  2141.92618406 2166.81416749\n",
      " 2191.99133535 2217.46104781 2243.22670408 2269.29174285 2295.65964279\n",
      " 2322.33392296 2349.31814334 2376.61590526 2404.23085189 2432.16666874\n",
      " 2460.42708416 2489.01586978 2517.93684109 2547.1938579  2576.79082486\n",
      " 2606.73169202 2637.0204553  2667.66115706 2698.65788662 2730.01478083\n",
      " 2761.7360246  2793.82585146 2826.28854416 2859.12843517 2892.34990734\n",
      " 2925.95739442 2959.95538169 2994.34840655 3029.1410591  3064.3379828\n",
      " 3099.94387506 3135.96348785 3172.40162839 3209.26315972 3246.55300142\n",
      " 3284.27613021 3322.43758064 3361.04244576 3400.09587782 3439.60308889\n",
      " 3479.56935164 3520.         3560.90042986 3602.27609983 3644.13253192\n",
      " 3686.47531233 3729.31009214 3772.64258813 3816.47858346 3860.82392853\n",
      " 3905.68454168 3951.06641005 3996.97559033]\n"
     ]
    }
   ],
   "source": [
    "H, fcf = filterbank_triangular_log()\n",
    "print(H.shape)\n",
    "print(fcf)"
   ]
  },
  {
   "cell_type": "code",
   "execution_count": null,
   "metadata": {},
   "outputs": [],
   "source": [
    "plt.figure(figsize=(20, 15), dpi=300)\n",
    "plt.plot(H)\n",
    "plt.show()"
   ]
  },
  {
   "cell_type": "code",
   "execution_count": null,
   "metadata": {},
   "outputs": [],
   "source": [
    "plt.figure()\n",
    "#plt.plot(librosa.util.normalize(H, norm=1, axis=1).T)\n",
    "plt.plot(H)\n",
    "plt.show()"
   ]
  },
  {
   "cell_type": "markdown",
   "metadata": {},
   "source": [
    "## Meu filterbank"
   ]
  },
  {
   "cell_type": "code",
   "execution_count": null,
   "metadata": {},
   "outputs": [],
   "source": [
    "def getOctaveFilterBank(fs=16000, Nfft=4096, Nfpo=12, fmin_user=None, fmax_user=None, edges=''):\n",
    "    if fmin_user is None:\n",
    "        fmin_user = 440 * 2 ** (((1 + 1) * 12 + 0 - 69) / 12)\n",
    "    if fmax_user is None:\n",
    "        fmax_user = 440 * 2 ** (((8 + 1) * 12 + 9 - 69) / 12)\n",
    "    if edges == '':\n",
    "        edges_flag = False\n",
    "    else:\n",
    "        edges_flag = True\n",
    "\n",
    "    if fmax_user > fs / 2:\n",
    "        fmax_user = fs / 2\n",
    "\n",
    "    i0 = np.ceil(Nfpo * np.log2(fmin_user / 440))\n",
    "    fmin = 440 * 2 ** (i0 / Nfpo)\n",
    "\n",
    "    i = np.floor(-i0 + Nfpo * (np.log2(fmax_user / 440)))\n",
    "    Nb = int(i - 1)\n",
    "    fmax = 440 * 2 ** ((i + i0) / Nfpo)\n",
    "\n",
    "    i = np.arange(Nb + 2)\n",
    "    fi = fmin * 2 ** (i / Nfpo)\n",
    "\n",
    "    H = np.zeros((Nb, Nfft // 2 + 1))\n",
    "    fcf = np.zeros(Nb)\n",
    "\n",
    "    k = np.arange(Nfft // 2 + 1)\n",
    "    f = k * fs / Nfft\n",
    "\n",
    "    for j in range(Nb):\n",
    "        fLow = fi[j]\n",
    "        fcf[j] = fi[j + 1]\n",
    "        fUpp = fi[j + 2]\n",
    "\n",
    "        H[j, :] = ((f - fLow) / (fcf[j] - fLow)) * ((f > fLow) & (f <= fcf[j])) + \\\n",
    "                  ((f - fUpp) / (fcf[j] - fUpp)) * ((f > fcf[j]) & (f <= fUpp))\n",
    "\n",
    "    if edges_flag:\n",
    "        fcf = np.concatenate(([fmin], fcf, [fmax]))\n",
    "\n",
    "    return H, fcf"
   ]
  },
  {
   "cell_type": "code",
   "execution_count": 11,
   "metadata": {},
   "outputs": [
    {
     "ename": "NameError",
     "evalue": "name 'getOctaveFilterBank' is not defined",
     "output_type": "error",
     "traceback": [
      "\u001b[0;31m---------------------------------------------------------------------------\u001b[0m",
      "\u001b[0;31mNameError\u001b[0m                                 Traceback (most recent call last)",
      "Cell \u001b[0;32mIn[11], line 1\u001b[0m\n\u001b[0;32m----> 1\u001b[0m H, fcf \u001b[38;5;241m=\u001b[39m \u001b[43mgetOctaveFilterBank\u001b[49m()\n\u001b[1;32m      2\u001b[0m \u001b[38;5;28mprint\u001b[39m(H\u001b[38;5;241m.\u001b[39mshape)\n\u001b[1;32m      3\u001b[0m \u001b[38;5;28mprint\u001b[39m(fcf)\n",
      "\u001b[0;31mNameError\u001b[0m: name 'getOctaveFilterBank' is not defined"
     ]
    }
   ],
   "source": [
    "H, fcf = getOctaveFilterBank()\n",
    "print(H.shape)\n",
    "print(fcf)"
   ]
  },
  {
   "cell_type": "code",
   "execution_count": null,
   "metadata": {},
   "outputs": [
    {
     "data": {
      "application/vnd.jupyter.widget-view+json": {
       "model_id": "636c562167a24e78bea0ca4a3eae417a",
       "version_major": 2,
       "version_minor": 0
      },
      "image/png": "[encoded data removed]",
      "text/html": [
       "\n",
       "            <div style=\"display: inline-block;\">\n",
       "                <div class=\"jupyter-widgets widget-label\" style=\"text-align: center;\">\n",
       "                    Figure\n",
       "                </div>\n",
       "                <img src='data:image/png;base64,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' width=640.0/>\n",
       "            </div>\n",
       "        "
      ],
      "text/plain": [
       "Canvas(toolbar=Toolbar(toolitems=[('Home', 'Reset original view', 'home', 'home'), ('Back', 'Back to previous …"
      ]
     },
     "metadata": {},
     "output_type": "display_data"
    }
   ],
   "source": [
    "plt.figure()\n",
    "plt.plot(librosa.util.normalize(H, norm=1, axis=1).T)\n",
    "plt.show()"
   ]
  }
 ],
 "metadata": {
  "kernelspec": {
   "display_name": "tf",
   "language": "python",
   "name": "python3"
  },
  "language_info": {
   "codemirror_mode": {
    "name": "ipython",
    "version": 3
   },
   "file_extension": ".py",
   "mimetype": "text/x-python",
   "name": "python",
   "nbconvert_exporter": "python",
   "pygments_lexer": "ipython3",
   "version": "3.11.9"
  }
 },
 "nbformat": 4,
 "nbformat_minor": 2
}
