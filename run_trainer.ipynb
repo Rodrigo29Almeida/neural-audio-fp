{
 "cells": [
  {
   "cell_type": "code",
   "execution_count": 1,
   "metadata": {},
   "outputs": [],
   "source": [
    "import os\n",
    "import sys\n",
    "import pathlib\n",
    "import click\n",
    "import yaml\n",
    "os.environ['TF_CPP_MIN_LOG_LEVEL'] = '1'\n",
    "import csv\n"
   ]
  },
  {
   "cell_type": "code",
   "execution_count": 2,
   "metadata": {},
   "outputs": [],
   "source": [
    "\"\"\" trainer.py \"\"\"\n",
    "import tensorflow as tf\n",
    "from tensorflow.keras.utils import Progbar\n",
    "import tensorflow.keras as K\n",
    "from model.dataset import Dataset\n",
    "from model.fp.melspec.melspectrogram import get_melspec_layer\n",
    "from model.fp.specaug_chain.specaug_chain import get_specaug_chain_layer\n",
    "from code_jupyter import nnfp_functional\n",
    "from model.fp.NTxent_loss_single_gpu import NTxentLoss\n",
    "from model.fp.online_triplet_loss import OnlineTripletLoss\n",
    "from model.fp.lamb_optimizer import LAMB\n",
    "from model.utils.experiment_helper import ExperimentHelper\n",
    "from model.utils.mini_search_subroutines import mini_search_eval"
   ]
  },
  {
   "cell_type": "code",
   "execution_count": 3,
   "metadata": {},
   "outputs": [],
   "source": [
    "def build_fp(cfg):\n",
    "    \"\"\" Build fingerprinter \"\"\"\n",
    "    # m_pre: log-power-Mel-spectrogram layer, S.\n",
    "    m_pre = get_melspec_layer(cfg, trainable=False)\n",
    "\n",
    "    # m_specaug: spec-augmentation layer.\n",
    "    m_specaug = get_specaug_chain_layer(cfg, trainable=False)\n",
    "    assert(m_specaug.bypass==False) # Detachable by setting m_specaug.bypass.\n",
    "\n",
    "    # m_fp: fingerprinter g(f(.)).\n",
    "    #m_fp = get_fingerprinter(cfg, trainable=False)\n",
    "    #m_fp = nnfp_functional.get_fingerprinting(input1)\n",
    "    return m_pre, m_specaug#, m_fp"
   ]
  },
  {
   "cell_type": "code",
   "execution_count": 4,
   "metadata": {},
   "outputs": [],
   "source": [
    "tr_loss = K.metrics.Mean(name='train_loss')\n",
    "\n",
    "@tf.function\n",
    "def train_step(X, m_pre, m_specaug, loss_obj, opt):\n",
    "    \"\"\" Train step \"\"\"\n",
    "    # X: (Xa, Xp)\n",
    "    # Xa: anchors or originals, s.t. [xa_0, xa_1,...]\n",
    "    # Xp: augmented replicas, s.t. [xp_0, xp_1] with xp_n = rand_aug(xa_n).\n",
    "    n_anchors = len(X[0])\n",
    "    print(\"aqui1\")\n",
    "    X = tf.concat(X, axis=0)\n",
    "    feat = m_specaug(m_pre(X))  # (nA+nP, F, T, 1)\n",
    "    #m_fp = nnfp_functional.get_fingerprinting(X)\n",
    "    #m_fp.trainable = True\n",
    "    with tf.GradientTape() as t:\n",
    "        print(\"aqui2\")\n",
    "        #feat = tf.reshape(feat, shape=[feat.shape[0], 128, -1])\n",
    "        print(f\"feat={feat}\")\n",
    "        m_fp.trainable = True\n",
    "        m_fp= nnfp_functional.get_fingerprinting(feat)\n",
    "        \n",
    "        print(\"aqui3\")\n",
    "        emb = m_fp(feat)  # (BSZ, Dim)\n",
    "        print(emb)\n",
    "        print(\"aqui4\")\n",
    "        \n",
    "        loss, sim_mtx, _ = loss_obj.compute_loss(emb[:n_anchors, :], emb[n_anchors:, :]) # {emb_org, emb_rep}\n",
    "    g = t.gradient(loss, m_fp.trainable_variables)\n",
    "    m_fp.summary()\n",
    "\n",
    "    opt.apply_gradients(zip(g, m_fp.trainable_variables))\n",
    "    \n",
    "    avg_loss = tr_loss(loss) # To tensorboard.\n",
    "    \n",
    "    return avg_loss, sim_mtx # avg_loss: average within the current epoch"
   ]
  },
  {
   "cell_type": "code",
   "execution_count": 4,
   "metadata": {},
   "outputs": [],
   "source": [
    "def load_config(config_fname):\n",
    "    config_filepath = './config/' + config_fname + '.yaml'\n",
    "    if os.path.exists(config_filepath):\n",
    "        print(f'cli: Configuration from {config_filepath}')\n",
    "    else:\n",
    "        sys.exit(f'cli: ERROR! Configuration file {config_filepath} is missing!!')\n",
    "\n",
    "    with open(config_filepath, 'r') as f:\n",
    "        cfg = yaml.safe_load(f)\n",
    "    return cfg\n",
    "\n",
    "\n",
    "def update_config(cfg, key1: str, key2: str, val):\n",
    "    cfg[key1][key2] = val\n",
    "    return cfg\n",
    "\n",
    "\n",
    "def print_config(cfg):\n",
    "    os.system(\"\")\n",
    "    print('\\033[36m' + yaml.dump(cfg, indent=4, width=120, sort_keys=False) +\n",
    "          '\\033[0m')\n",
    "    return"
   ]
  },
  {
   "cell_type": "code",
   "execution_count": 6,
   "metadata": {},
   "outputs": [],
   "source": [
    "checkpoint_name:str = \"CHECKPOINT_BSZ_120\"#\"CHECKPOINT\"   # string\n",
    "checkpoint_index:int = None  # int\n",
    "config:str = \"default\"       # string 'default'\n",
    "#index_type:str = 'IVFPQ'  # {'L2', 'IVF', 'IVFPQ', \" + \"'IVFPQ-RR', 'IVFPQ-ONDISK', HNSW'}\"\n",
    "#test_seq_len:str =  '11'   # string '1 3 5 9 11 19' segundos \n",
    "#test_ids:str = \"icassp\"      # string 'icassp'\n",
    "#nogpu:bool = False         # False or True\n",
    "max_epoch:int = 1     # int"
   ]
  },
  {
   "cell_type": "code",
   "execution_count": 7,
   "metadata": {},
   "outputs": [
    {
     "name": "stdout",
     "output_type": "stream",
     "text": [
      "cli: Configuration from ./config/default.yaml\n"
     ]
    }
   ],
   "source": [
    "cfg = load_config(config)\n",
    "\n",
    "# Dataloader\n",
    "dataset = Dataset(cfg)"
   ]
  },
  {
   "cell_type": "code",
   "execution_count": null,
   "metadata": {},
   "outputs": [],
   "source": [
    "# Build models.\n",
    "#m_pre, m_specaug, m_fp = build_fp(cfg)\n",
    "m_pre, m_specaug = build_fp(cfg)\n",
    "#m_fp = nnfp_functional.get_fingerprinting(input1)"
   ]
  },
  {
   "cell_type": "code",
   "execution_count": 8,
   "metadata": {},
   "outputs": [],
   "source": [
    "# Learning schedule\n",
    "total_nsteps = cfg['TRAIN']['MAX_EPOCH'] * len(dataset.get_train_ds())\n",
    "if cfg['TRAIN']['LR_SCHEDULE'].upper() == 'COS':\n",
    "    lr_schedule = tf.keras.experimental.CosineDecay(\n",
    "        initial_learning_rate=float(cfg['TRAIN']['LR']),\n",
    "        decay_steps=total_nsteps,\n",
    "        alpha=1e-06)\n",
    "elif cfg['TRAIN']['LR_SCHEDULE'].upper() == 'COS-RESTART':\n",
    "    lr_schedule = tf.keras.experimental.CosineDecayRestarts(\n",
    "        initial_learning_rate=float(cfg['TRAIN']['LR']),\n",
    "        first_decay_steps=int(total_nsteps * 0.1),\n",
    "        num_periods=0.5,\n",
    "        alpha=2e-06)\n",
    "else:\n",
    "    lr_schedule = float(cfg['TRAIN']['LR'])\n",
    "\n",
    "# Optimizer\n",
    "if cfg['TRAIN']['OPTIMIZER'].upper() == 'LAMB':\n",
    "    opt = LAMB(learning_rate=lr_schedule)\n",
    "elif cfg['TRAIN']['OPTIMIZER'].upper() == 'ADAM':\n",
    "    opt = tf.keras.optimizers.Adam(learning_rate=lr_schedule)\n",
    "else:\n",
    "    raise NotImplementedError(cfg['TRAIN']['OPTIMIZER'])\n",
    "\n",
    "# Loss objects\n",
    "if cfg['LOSS']['LOSS_MODE'].upper() == 'NTXENT': # Default\n",
    "    loss_obj_train = NTxentLoss(\n",
    "        n_org=cfg['BSZ']['TR_N_ANCHOR'],\n",
    "        n_rep=cfg['BSZ']['TR_BATCH_SZ'] - cfg['BSZ']['TR_N_ANCHOR'],\n",
    "        tau=cfg['LOSS']['TAU'])\n",
    "else:\n",
    "    raise NotImplementedError(cfg['LOSS']['LOSS_MODE'])"
   ]
  },
  {
   "cell_type": "code",
   "execution_count": null,
   "metadata": {},
   "outputs": [],
   "source": [
    "ep = 0\n",
    "\n",
    "# Train\n",
    "\"\"\" Parallelism to speed up preprocessing.............. \"\"\"\n",
    "train_ds = dataset.get_train_ds(cfg['DATA_SEL']['REDUCE_ITEMS_P'])\n",
    "\n",
    "enq = tf.keras.utils.OrderedEnqueuer(\n",
    "    train_ds, use_multiprocessing=True, shuffle=train_ds.shuffle)\n",
    "enq.start(workers=cfg['DEVICE']['CPU_N_WORKERS'],\n",
    "            max_queue_size=cfg['DEVICE']['CPU_MAX_QUEUE'])\n",
    "i = 0\n",
    "while i < len(enq.sequence):\n",
    "    X = next(enq.get()) # X: Tuple(Xa, Xp)\n",
    "    print(f\"mini-batch {i} of {len(enq.sequence)}\")\n",
    "\n",
    "    #X = tf.concat(X, axis=0)\n",
    "    #m_fp = nnfp_functional.get_fingerprinting(X)\n",
    "    print(\"aqui-fora\")\n",
    "    avg_loss, sim_mtx = train_step(X, m_pre, m_specaug, loss_obj_train, opt=opt)\n",
    "    #print(f\"avg_loss {avg_loss}\")\n",
    "\n",
    "    i += 1\n",
    "enq.stop()\n",
    "\"\"\" End of Parallelism................................. \"\"\""
   ]
  },
  {
   "cell_type": "markdown",
   "metadata": {},
   "source": [
    "Rascunhos:"
   ]
  },
  {
   "cell_type": "code",
   "execution_count": 1,
   "metadata": {},
   "outputs": [
    {
     "name": "stderr",
     "output_type": "stream",
     "text": [
      "2024-05-11 22:02:26.093145: I tensorflow/core/platform/cpu_feature_guard.cc:182] This TensorFlow binary is optimized to use available CPU instructions in performance-critical operations.\n",
      "To enable the following instructions: SSE4.1 SSE4.2 AVX AVX2 FMA, in other operations, rebuild TensorFlow with the appropriate compiler flags.\n"
     ]
    }
   ],
   "source": [
    "import os\n",
    "import sys\n",
    "import yaml\n",
    "import tensorflow as tf"
   ]
  },
  {
   "cell_type": "code",
   "execution_count": 2,
   "metadata": {},
   "outputs": [],
   "source": [
    "\"\"\" trainer.py \"\"\"\n",
    "import tensorflow as tf\n",
    "from tensorflow.keras.utils import Progbar\n",
    "import tensorflow.keras as K\n",
    "from model.dataset import Dataset\n",
    "from model.fp.melspec.melspectrogram import get_melspec_layer\n",
    "from model.fp.specaug_chain.specaug_chain import get_specaug_chain_layer\n",
    "from code_jupyter import nnfp_functional\n",
    "from model.fp.NTxent_loss_single_gpu import NTxentLoss\n",
    "from model.fp.online_triplet_loss import OnlineTripletLoss\n",
    "from model.fp.lamb_optimizer import LAMB\n",
    "from model.utils.experiment_helper import ExperimentHelper\n",
    "from model.utils.mini_search_subroutines import mini_search_eval\n",
    "\n",
    "from tensorflow.keras import Input"
   ]
  },
  {
   "cell_type": "code",
   "execution_count": 6,
   "metadata": {},
   "outputs": [],
   "source": [
    "def load_config(config_fname):\n",
    "    config_filepath = './config/' + config_fname + '.yaml'\n",
    "    if os.path.exists(config_filepath):\n",
    "        print(f'cli: Configuration from {config_filepath}')\n",
    "    else:\n",
    "        sys.exit(f'cli: ERROR! Configuration file {config_filepath} is missing!!')\n",
    "\n",
    "    with open(config_filepath, 'r') as f:\n",
    "        cfg = yaml.safe_load(f)\n",
    "    return cfg\n",
    "\n",
    "\n",
    "def update_config(cfg, key1: str, key2: str, val):\n",
    "    cfg[key1][key2] = val\n",
    "    return cfg\n",
    "\n",
    "\n",
    "def print_config(cfg):\n",
    "    os.system(\"\")\n",
    "    print('\\033[36m' + yaml.dump(cfg, indent=4, width=120, sort_keys=False) +\n",
    "          '\\033[0m')\n",
    "    return"
   ]
  },
  {
   "cell_type": "code",
   "execution_count": 7,
   "metadata": {},
   "outputs": [
    {
     "name": "stdout",
     "output_type": "stream",
     "text": [
      "cli: Configuration from ./config/default.yaml\n"
     ]
    }
   ],
   "source": [
    "config = \"default\"\n",
    "cfg = load_config(config)\n",
    "\n",
    "dataset = Dataset(cfg)"
   ]
  },
  {
   "cell_type": "code",
   "execution_count": 5,
   "metadata": {},
   "outputs": [],
   "source": [
    "def build_fp(cfg):\n",
    "    \"\"\" Build fingerprinter \"\"\"\n",
    "    # m_pre: log-power-Mel-spectrogram layer, S.\n",
    "    m_pre = get_melspec_layer(cfg, trainable=False)\n",
    "\n",
    "    # m_specaug: spec-augmentation layer.\n",
    "    m_specaug = get_specaug_chain_layer(cfg, trainable=False)\n",
    "    assert(m_specaug.bypass==False) # Detachable by setting m_specaug.bypass.\n",
    "\n",
    "    return m_pre, m_specaug"
   ]
  },
  {
   "cell_type": "code",
   "execution_count": 6,
   "metadata": {},
   "outputs": [],
   "source": [
    "# Learning schedule\n",
    "total_nsteps = cfg['TRAIN']['MAX_EPOCH'] * len(dataset.get_train_ds())\n",
    "if cfg['TRAIN']['LR_SCHEDULE'].upper() == 'COS':\n",
    "    lr_schedule = tf.keras.experimental.CosineDecay(\n",
    "        initial_learning_rate=float(cfg['TRAIN']['LR']),\n",
    "        decay_steps=total_nsteps,\n",
    "        alpha=1e-06)\n",
    "elif cfg['TRAIN']['LR_SCHEDULE'].upper() == 'COS-RESTART':\n",
    "    lr_schedule = tf.keras.experimental.CosineDecayRestarts(\n",
    "        initial_learning_rate=float(cfg['TRAIN']['LR']),\n",
    "        first_decay_steps=int(total_nsteps * 0.1),\n",
    "        num_periods=0.5,\n",
    "        alpha=2e-06)\n",
    "else:\n",
    "    lr_schedule = float(cfg['TRAIN']['LR'])\n",
    "\n",
    "# Optimizer\n",
    "if cfg['TRAIN']['OPTIMIZER'].upper() == 'LAMB':\n",
    "    opt = LAMB(learning_rate=lr_schedule)\n",
    "elif cfg['TRAIN']['OPTIMIZER'].upper() == 'ADAM':\n",
    "    opt = tf.keras.optimizers.Adam(learning_rate=lr_schedule)\n",
    "else:\n",
    "    raise NotImplementedError(cfg['TRAIN']['OPTIMIZER'])\n",
    "\n",
    "# Loss objects\n",
    "if cfg['LOSS']['LOSS_MODE'].upper() == 'NTXENT': # Default\n",
    "    loss_obj_train = NTxentLoss(\n",
    "        n_org=cfg['BSZ']['TR_N_ANCHOR'],\n",
    "        n_rep=cfg['BSZ']['TR_BATCH_SZ'] - cfg['BSZ']['TR_N_ANCHOR'],\n",
    "        tau=cfg['LOSS']['TAU'])\n",
    "else:\n",
    "    raise NotImplementedError(cfg['LOSS']['LOSS_MODE'])"
   ]
  },
  {
   "cell_type": "code",
   "execution_count": 7,
   "metadata": {},
   "outputs": [],
   "source": [
    "ep = 0\n",
    "\n",
    "# Train\n",
    "train_ds = dataset.get_train_ds(0)\n",
    "\n",
    "enq = tf.keras.utils.OrderedEnqueuer(train_ds, use_multiprocessing=True, shuffle=train_ds.shuffle)\n",
    "\n",
    "enq.start(workers=cfg['DEVICE']['CPU_N_WORKERS'], max_queue_size=cfg['DEVICE']['CPU_MAX_QUEUE'])"
   ]
  },
  {
   "cell_type": "code",
   "execution_count": 8,
   "metadata": {},
   "outputs": [],
   "source": [
    "train_ds = dataset.get_train_ds(0)"
   ]
  },
  {
   "cell_type": "code",
   "execution_count": 9,
   "metadata": {},
   "outputs": [],
   "source": [
    "m_pre, m_specaug = build_fp(cfg)"
   ]
  },
  {
   "cell_type": "code",
   "execution_count": 10,
   "metadata": {},
   "outputs": [
    {
     "name": "stderr",
     "output_type": "stream",
     "text": [
      "2024-05-11 21:54:12.614733: W external/local_tsl/tsl/framework/cpu_allocator_impl.cc:83] Allocation of 37236480000 exceeds 10% of free system memory.\n"
     ]
    },
    {
     "ename": "ValueError",
     "evalue": "Can't convert non-rectangular Python sequence to Tensor.",
     "output_type": "error",
     "traceback": [
      "\u001b[0;31m---------------------------------------------------------------------------\u001b[0m",
      "\u001b[0;31mValueError\u001b[0m                                Traceback (most recent call last)",
      "Cell \u001b[0;32mIn[10], line 1\u001b[0m\n\u001b[0;32m----> 1\u001b[0m x_tensor \u001b[38;5;241m=\u001b[39m \u001b[43mtf\u001b[49m\u001b[38;5;241;43m.\u001b[39;49m\u001b[43mconvert_to_tensor\u001b[49m\u001b[43m(\u001b[49m\u001b[43mtrain_ds\u001b[49m\u001b[43m)\u001b[49m\n",
      "File \u001b[0;32m~/anaconda3/envs/tf/lib/python3.11/site-packages/tensorflow/python/util/traceback_utils.py:153\u001b[0m, in \u001b[0;36mfilter_traceback.<locals>.error_handler\u001b[0;34m(*args, **kwargs)\u001b[0m\n\u001b[1;32m    151\u001b[0m \u001b[38;5;28;01mexcept\u001b[39;00m \u001b[38;5;167;01mException\u001b[39;00m \u001b[38;5;28;01mas\u001b[39;00m e:\n\u001b[1;32m    152\u001b[0m   filtered_tb \u001b[38;5;241m=\u001b[39m _process_traceback_frames(e\u001b[38;5;241m.\u001b[39m__traceback__)\n\u001b[0;32m--> 153\u001b[0m   \u001b[38;5;28;01mraise\u001b[39;00m e\u001b[38;5;241m.\u001b[39mwith_traceback(filtered_tb) \u001b[38;5;28;01mfrom\u001b[39;00m \u001b[38;5;28;01mNone\u001b[39;00m\n\u001b[1;32m    154\u001b[0m \u001b[38;5;28;01mfinally\u001b[39;00m:\n\u001b[1;32m    155\u001b[0m   \u001b[38;5;28;01mdel\u001b[39;00m filtered_tb\n",
      "File \u001b[0;32m~/anaconda3/envs/tf/lib/python3.11/site-packages/tensorflow/python/framework/constant_op.py:103\u001b[0m, in \u001b[0;36mconvert_to_eager_tensor\u001b[0;34m(value, ctx, dtype)\u001b[0m\n\u001b[1;32m    101\u001b[0m     dtype \u001b[38;5;241m=\u001b[39m dtypes\u001b[38;5;241m.\u001b[39mas_dtype(dtype)\u001b[38;5;241m.\u001b[39mas_datatype_enum\n\u001b[1;32m    102\u001b[0m ctx\u001b[38;5;241m.\u001b[39mensure_initialized()\n\u001b[0;32m--> 103\u001b[0m \u001b[38;5;28;01mreturn\u001b[39;00m \u001b[43mops\u001b[49m\u001b[38;5;241;43m.\u001b[39;49m\u001b[43mEagerTensor\u001b[49m\u001b[43m(\u001b[49m\u001b[43mvalue\u001b[49m\u001b[43m,\u001b[49m\u001b[43m \u001b[49m\u001b[43mctx\u001b[49m\u001b[38;5;241;43m.\u001b[39;49m\u001b[43mdevice_name\u001b[49m\u001b[43m,\u001b[49m\u001b[43m \u001b[49m\u001b[43mdtype\u001b[49m\u001b[43m)\u001b[49m\n",
      "\u001b[0;31mValueError\u001b[0m: Can't convert non-rectangular Python sequence to Tensor."
     ]
    }
   ],
   "source": [
    "x_tensor = tf.convert_to_tensor(train_ds)"
   ]
  },
  {
   "cell_type": "code",
   "execution_count": null,
   "metadata": {},
   "outputs": [],
   "source": [
    "feat = m_specaug(m_pre(x_tensor))  # (nA+nP, F, T, 1)"
   ]
  },
  {
   "cell_type": "code",
   "execution_count": null,
   "metadata": {},
   "outputs": [],
   "source": [
    "model.compile(optimizer=opt, loss=loss_obj_train)"
   ]
  },
  {
   "cell_type": "code",
   "execution_count": null,
   "metadata": {},
   "outputs": [],
   "source": [
    "history = model.fit(train_ds, epochs=cfg['TRAIN']['MAX_EPOCH'])"
   ]
  },
  {
   "cell_type": "code",
   "execution_count": null,
   "metadata": {},
   "outputs": [],
   "source": [
    "i = 0\n",
    "m_pre, m_specaug = build_fp(cfg)\n",
    "\n",
    "\n",
    "while i < len(enq.sequence):\n",
    "    X = next(enq.get()) # X: Tuple(Xa, Xp)\n",
    "    print(f\"mini-batch {i} of {len(enq.sequence)}\")\n",
    "\n",
    "    X = tf.concat(X, axis=0) # X: (Xa, Xp)\n",
    "\n",
    "    feat = m_specaug(m_pre(X))  # (nA+nP, F, T, 1)\n",
    "\n",
    "    m_fp= nnfp_functional.get_fingerprinting(feat)\n",
    "\n",
    "\n",
    "    m_fp = nnfp_functional.get_fingerprinting()\n",
    "    #avg_loss, sim_mtx = train_step(X, m_pre, m_specaug, loss_obj_train, opt=opt)\n",
    "    i += 1\n",
    "enq.stop()"
   ]
  },
  {
   "cell_type": "code",
   "execution_count": null,
   "metadata": {},
   "outputs": [],
   "source": [
    "tr_loss = K.metrics.Mean(name='train_loss')\n",
    "\n",
    "@tf.function\n",
    "def train_step(X, m_pre, m_specaug, loss_obj, opt):\n",
    "    \"\"\" Train step \"\"\"\n",
    "    \n",
    "    n_anchors = len(X[0])\n",
    "    print(\"aqui1\")\n",
    "    \n",
    "    feat = m_specaug(m_pre(X))  # (nA+nP, F, T, 1)\n",
    "    with tf.GradientTape() as t:\n",
    "        print(\"aqui2\")\n",
    "\n",
    "        print(f\"feat={feat}\")\n",
    "        m_fp.trainable = True\n",
    "        m_fp= nnfp_functional.get_fingerprinting(feat)\n",
    "        \n",
    "        print(\"aqui3\")\n",
    "        emb = m_fp(feat)  # (BSZ, Dim)\n",
    "        print(emb)\n",
    "        print(\"aqui4\")\n",
    "        \n",
    "        loss, sim_mtx, _ = loss_obj.compute_loss(emb[:n_anchors, :], emb[n_anchors:, :]) # {emb_org, emb_rep}\n",
    "    g = t.gradient(loss, m_fp.trainable_variables)\n",
    "    m_fp.summary()\n",
    "\n",
    "    opt.apply_gradients(zip(g, m_fp.trainable_variables))\n",
    "    \n",
    "    avg_loss = tr_loss(loss) # To tensorboard.\n",
    "    \n",
    "    return avg_loss, sim_mtx # avg_loss: average within the current epoch"
   ]
  },
  {
   "cell_type": "code",
   "execution_count": null,
   "metadata": {},
   "outputs": [],
   "source": [
    "X = tf.concat(X, axis=0)\n",
    "feat = m_specaug(m_pre(X))"
   ]
  },
  {
   "cell_type": "code",
   "execution_count": null,
   "metadata": {},
   "outputs": [],
   "source": [
    "# Construindo os modelos\n",
    "input_layer = Input(shape=(256, 32, 1))\n",
    "m_pre, m_specaug = build_fp(cfg)\n",
    "m_fp = nnfp_functional.get_fingerprinting(input_layer)\n",
    "\n",
    "# Combinando os modelos em um único modelo\n",
    "input_layer = Input(shape=(256, 32, 1))\n",
    "\n",
    "x = m_pre(input_layer)\n",
    "x = m_specaug(x)\n",
    "model = m_fp(x)\n",
    "\n",
    "\n",
    "# Compilando o modelo\n",
    "#total_nsteps\n",
    "#loss\n",
    "#lr\n",
    "\n",
    "\n",
    "model.compile(optimizer=opt, loss=loss_obj_train)\n",
    "\n",
    "# Dataloader\n",
    "dataset = Dataset(cfg)\n",
    "\n",
    "# Train\n",
    "train_ds = dataset.get_train_ds(cfg['DATA_SEL']['REDUCE_ITEMS_P'])\n",
    "history = model.fit(train_ds, epochs=cfg['TRAIN']['MAX_EPOCH'])\n"
   ]
  },
  {
   "cell_type": "code",
   "execution_count": null,
   "metadata": {},
   "outputs": [],
   "source": []
  },
  {
   "cell_type": "code",
   "execution_count": null,
   "metadata": {},
   "outputs": [],
   "source": []
  },
  {
   "cell_type": "code",
   "execution_count": null,
   "metadata": {},
   "outputs": [],
   "source": []
  },
  {
   "cell_type": "code",
   "execution_count": null,
   "metadata": {},
   "outputs": [],
   "source": []
  },
  {
   "cell_type": "code",
   "execution_count": 10,
   "metadata": {},
   "outputs": [],
   "source": [
    "from tensorflow.keras.metrics import Mean\n",
    "from tensorflow.keras import Input"
   ]
  },
  {
   "cell_type": "code",
   "execution_count": null,
   "metadata": {},
   "outputs": [],
   "source": [
    "# Definindo a loss média para o treinamento\n",
    "tr_loss = Mean(name='train_loss')\n",
    "\n",
    "@tf.function\n",
    "def train_step(X, m_pre, m_specaug, m_fp, loss_obj, opt):\n",
    "    \"\"\"Passo de treinamento\"\"\"\n",
    "    # Concatenando os inputs\n",
    "    X_concatenado = tf.concat(X, axis=0)\n",
    "    # Aplicando as camadas pré-processamento e de aumento espec-aug\n",
    "    feat = m_specaug(m_pre(X_concatenado))\n",
    "    \n",
    "    # Calculando as embeddings\n",
    "    emb = m_fp(feat)  \n",
    "    \n",
    "    # Calculando a loss\n",
    "    n_anchors = len(X[0])\n",
    "    loss, _, _ = loss_obj.compute_loss(emb[:n_anchors, :], emb[n_anchors:, :])\n",
    "    \n",
    "    # Calculando os gradientes e otimizando\n",
    "    gradients = opt.gradient(loss, m_fp.trainable_variables)\n",
    "    opt.apply_gradients(zip(gradients, m_fp.trainable_variables))\n",
    "    \n",
    "    # Atualizando a loss média\n",
    "    avg_loss = tr_loss(loss)\n",
    "    \n",
    "    return avg_loss\n",
    "\n",
    "def load_config(config_fname):\n",
    "    config_filepath = './config/' + config_fname + '.yaml'\n",
    "    if os.path.exists(config_filepath):\n",
    "        print(f'cli: Configuration from {config_filepath}')\n",
    "    else:\n",
    "        sys.exit(f'cli: ERROR! Configuration file {config_filepath} is missing!!')\n",
    "\n",
    "    with open(config_filepath, 'r') as f:\n",
    "        cfg = yaml.safe_load(f)\n",
    "    return cfg\n",
    "\n",
    "\n",
    "def update_config(cfg, key1: str, key2: str, val):\n",
    "    cfg[key1][key2] = val\n",
    "    return cfg\n",
    "\n",
    "\n",
    "def print_config(cfg):\n",
    "    os.system(\"\")\n",
    "    print('\\033[36m' + yaml.dump(cfg, indent=4, width=120, sort_keys=False) +\n",
    "          '\\033[0m')\n",
    "    return\n",
    "\n",
    "# Carregando a configuração\n",
    "config = \"default\"\n",
    "cfg = load_config(config)\n",
    "\n",
    "# Construindo os modelos\n",
    "m_pre, m_specaug = build_fp(cfg)\n",
    "m_fp = nnfp_functional.get_fingerprinting(Input(shape=(256, 32, 1)))\n",
    "\n",
    "\n",
    "\n",
    "checkpoint_name:str = \"CHECKPOINT_BSZ_120\"#\"CHECKPOINT\"   # string\n",
    "checkpoint_index:int = None  # int\n",
    "config:str = \"default\"       # string 'default'\n",
    "max_epoch:int = 1     # int\n",
    "\n",
    "\n",
    "# Loop de treinamento\n",
    "train_ds = dataset.get_train_ds(cfg['DATA_SEL']['REDUCE_ITEMS_P'])\n",
    "for i, X in enumerate(train_ds):\n",
    "    print(f\"mini-batch {i} of {len(train_ds)}\")\n",
    "    avg_loss = train_step(X, m_pre, m_specaug, m_fp, loss_obj_train, opt)\n",
    "    print(f\"Average loss for mini-batch {i}: {avg_loss}\")"
   ]
  },
  {
   "cell_type": "markdown",
   "metadata": {},
   "source": []
  },
  {
   "cell_type": "code",
   "execution_count": 13,
   "metadata": {},
   "outputs": [],
   "source": [
    "def build_fp(cfg):\n",
    "    \"\"\" Build fingerprinter \"\"\"\n",
    "    # m_pre: log-power-Mel-spectrogram layer, S.\n",
    "    m_pre = get_melspec_layer(cfg, trainable=False)\n",
    "\n",
    "    # m_specaug: spec-augmentation layer.\n",
    "    m_specaug = get_specaug_chain_layer(cfg, trainable=False)\n",
    "    assert(m_specaug.bypass == False) # Detachable by setting m_specaug.bypass.\n",
    "\n",
    "    # m_fp: fingerprinter g(f(.))\n",
    "    m_fp = nnfp_functional.get_fingerprinting(cfg, trainable=False)\n",
    "    return m_pre, m_specaug, m_fp\n",
    "\n",
    "\n",
    "def trainer(cfg, checkpoint_name):\n",
    "    # Dataloader\n",
    "    dataset = Dataset(cfg)\n",
    "\n",
    "    # Build models\n",
    "    m_pre, m_specaug, m_fp = build_fp(cfg)\n",
    "\n",
    "    # Learning schedule\n",
    "    total_nsteps = cfg['TRAIN']['MAX_EPOCH'] * len(dataset.get_train_ds())\n",
    "    if cfg['TRAIN']['LR_SCHEDULE'].upper() == 'COS':\n",
    "        lr_schedule = CosineDecay(\n",
    "            initial_learning_rate=float(cfg['TRAIN']['LR']),\n",
    "            decay_steps=total_nsteps,\n",
    "            alpha=1e-06)\n",
    "    else:\n",
    "        lr_schedule = float(cfg['TRAIN']['LR'])\n",
    "\n",
    "    # Optimizer\n",
    "    if cfg['TRAIN']['OPTIMIZER'].upper() == 'LAMB':\n",
    "        opt = LAMB(learning_rate=lr_schedule)\n",
    "    elif cfg['TRAIN']['OPTIMIZER'].upper() == 'ADAM':\n",
    "        opt = Adam(learning_rate=lr_schedule)\n",
    "    else:\n",
    "        raise NotImplementedError(cfg['TRAIN']['OPTIMIZER'])\n",
    "\n",
    "    # Compile the model\n",
    "    m_fp.compile(optimizer=opt, loss='sparse_categorical_crossentropy')  # Adjust loss as needed\n",
    "\n",
    "    # Experiment helper\n",
    "    helper = ExperimentHelper(checkpoint_name=checkpoint_name, optimizer=opt, model_to_checkpoint=m_fp, cfg=cfg)\n",
    "\n",
    "    # Training loop\n",
    "    history = m_fp.fit(dataset.get_train_ds(cfg['DATA_SEL']['REDUCE_ITEMS_P']), epochs=cfg['TRAIN']['MAX_EPOCH'])\n",
    "    \n",
    "    helper.save_checkpoint()  # Save checkpoint after training\n"
   ]
  },
  {
   "cell_type": "code",
   "execution_count": 14,
   "metadata": {},
   "outputs": [
    {
     "ename": "TypeError",
     "evalue": "get_fingerprinting() got an unexpected keyword argument 'trainable'",
     "output_type": "error",
     "traceback": [
      "\u001b[0;31m---------------------------------------------------------------------------\u001b[0m",
      "\u001b[0;31mTypeError\u001b[0m                                 Traceback (most recent call last)",
      "Cell \u001b[0;32mIn[14], line 1\u001b[0m\n\u001b[0;32m----> 1\u001b[0m \u001b[43mtrainer\u001b[49m\u001b[43m(\u001b[49m\u001b[43mcfg\u001b[49m\u001b[43m,\u001b[49m\u001b[43m \u001b[49m\u001b[38;5;124;43m'\u001b[39;49m\u001b[38;5;124;43m123\u001b[39;49m\u001b[38;5;124;43m'\u001b[39;49m\u001b[43m)\u001b[49m\n",
      "Cell \u001b[0;32mIn[13], line 20\u001b[0m, in \u001b[0;36mtrainer\u001b[0;34m(cfg, checkpoint_name)\u001b[0m\n\u001b[1;32m     17\u001b[0m dataset \u001b[38;5;241m=\u001b[39m Dataset(cfg)\n\u001b[1;32m     19\u001b[0m \u001b[38;5;66;03m# Build models\u001b[39;00m\n\u001b[0;32m---> 20\u001b[0m m_pre, m_specaug, m_fp \u001b[38;5;241m=\u001b[39m \u001b[43mbuild_fp\u001b[49m\u001b[43m(\u001b[49m\u001b[43mcfg\u001b[49m\u001b[43m)\u001b[49m\n\u001b[1;32m     22\u001b[0m \u001b[38;5;66;03m# Learning schedule\u001b[39;00m\n\u001b[1;32m     23\u001b[0m total_nsteps \u001b[38;5;241m=\u001b[39m cfg[\u001b[38;5;124m'\u001b[39m\u001b[38;5;124mTRAIN\u001b[39m\u001b[38;5;124m'\u001b[39m][\u001b[38;5;124m'\u001b[39m\u001b[38;5;124mMAX_EPOCH\u001b[39m\u001b[38;5;124m'\u001b[39m] \u001b[38;5;241m*\u001b[39m \u001b[38;5;28mlen\u001b[39m(dataset\u001b[38;5;241m.\u001b[39mget_train_ds())\n",
      "Cell \u001b[0;32mIn[13], line 11\u001b[0m, in \u001b[0;36mbuild_fp\u001b[0;34m(cfg)\u001b[0m\n\u001b[1;32m      8\u001b[0m \u001b[38;5;28;01massert\u001b[39;00m(m_specaug\u001b[38;5;241m.\u001b[39mbypass \u001b[38;5;241m==\u001b[39m \u001b[38;5;28;01mFalse\u001b[39;00m) \u001b[38;5;66;03m# Detachable by setting m_specaug.bypass.\u001b[39;00m\n\u001b[1;32m     10\u001b[0m \u001b[38;5;66;03m# m_fp: fingerprinter g(f(.))\u001b[39;00m\n\u001b[0;32m---> 11\u001b[0m m_fp \u001b[38;5;241m=\u001b[39m \u001b[43mnnfp_functional\u001b[49m\u001b[38;5;241;43m.\u001b[39;49m\u001b[43mget_fingerprinting\u001b[49m\u001b[43m(\u001b[49m\u001b[43mcfg\u001b[49m\u001b[43m,\u001b[49m\u001b[43m \u001b[49m\u001b[43mtrainable\u001b[49m\u001b[38;5;241;43m=\u001b[39;49m\u001b[38;5;28;43;01mFalse\u001b[39;49;00m\u001b[43m)\u001b[49m\n\u001b[1;32m     12\u001b[0m \u001b[38;5;28;01mreturn\u001b[39;00m m_pre, m_specaug, m_fp\n",
      "\u001b[0;31mTypeError\u001b[0m: get_fingerprinting() got an unexpected keyword argument 'trainable'"
     ]
    }
   ],
   "source": [
    "trainer(cfg, '123-teste')"
   ]
  }
 ],
 "metadata": {
  "kernelspec": {
   "display_name": "tf",
   "language": "python",
   "name": "python3"
  },
  "language_info": {
   "codemirror_mode": {
    "name": "ipython",
    "version": 3
   },
   "file_extension": ".py",
   "mimetype": "text/x-python",
   "name": "python",
   "nbconvert_exporter": "python",
   "pygments_lexer": "ipython3",
   "version": "3.11.9"
  }
 },
 "nbformat": 4,
 "nbformat_minor": 2
}
