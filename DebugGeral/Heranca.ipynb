{
 "cells": [
  {
   "cell_type": "markdown",
   "metadata": {},
   "source": [
    "# Herança e Polimorfismo em Python\n",
    "## Herança em \n",
    "### Exemplo de Herança: Classes Veiculo e Carro\n",
    "Classe Base: Veiculo\n",
    "\n",
    "- Definição da Classe: class Veiculo: inicia a definição da classe Veiculo.\n",
    "- Método Construtor ```__init__```:\n",
    "    - ```def __init__(self, marca, modelo):``` é o construtor da classe. self refere-se à instância da classe, marca e modelo são argumentos do construtor.\n",
    "    - self.marca = marca; self.modelo = modelo: essas linhas atribuem os valores passados para as propriedades da instância.\n",
    "- Método ```mostrar_detalhes:```\n",
    "    - Este método imprime os detalhes do veículo."
   ]
  },
  {
   "cell_type": "code",
   "execution_count": 10,
   "metadata": {},
   "outputs": [],
   "source": [
    "class Veiculo:\n",
    "    def __init__(self, marca, modelo):\n",
    "        self.marca = marca\n",
    "        self.modelo = modelo\n",
    "\n",
    "    def mostrar_detalhes(self):\n",
    "        print(f\"Marca: {self.marca}, Modelo: {self.modelo}\")"
   ]
  },
  {
   "cell_type": "code",
   "execution_count": 11,
   "metadata": {},
   "outputs": [],
   "source": [
    "class Carro(Veiculo): # indica que Carro é uma subclasse de Veiculo\n",
    "    def __init__(self, marca, modelo, portas):\n",
    "        super().__init__(marca, modelo) # super() é usado para chamar o construtor da superclasse Veiculo. Isso garante que\n",
    "        # a inicialização da parte Veiculo de um Carro seja feita corretamente.\n",
    "        self.portas = portas # adiciona um novo atributo portas específico para a classe Carro"
   ]
  },
  {
   "cell_type": "markdown",
   "metadata": {},
   "source": [
    "## Polimorfismo em Python\n",
    "### Exemplo de Polimorfismo: Classes Veiculo, Carro e Moto\n",
    "**Herança e Polimorfismo:** Moto herda de Veiculo e tem um atributo adicional cilindradas. A função ```super().__init__(marca, modelo)``` chama o construtor da classe pai, e ```self.cilindradas = cilindradas``` adiciona um novo atributo."
   ]
  },
  {
   "cell_type": "code",
   "execution_count": 12,
   "metadata": {},
   "outputs": [],
   "source": [
    "class Moto(Veiculo):\n",
    "    def __init__(self, marca, modelo, cilindradas):\n",
    "        super().__init__(marca, modelo)\n",
    "        self.cilindradas = cilindradas"
   ]
  },
  {
   "cell_type": "markdown",
   "metadata": {},
   "source": [
    "## Função Polimórfica\n",
    "Uso Polimórfico: Esta função aceita qualquer objeto que seja um ```Veiculo``` (ou uma subclasse de ```Veiculo```) e chama seu método ```mostrar_detalhes```. Isso demonstra polimorfismo, pois ```mostrar_detalhes``` pode comportar-se de maneira diferente dependendo da classe do objeto."
   ]
  },
  {
   "cell_type": "code",
   "execution_count": 13,
   "metadata": {},
   "outputs": [],
   "source": [
    "def mostrar_informacoes_veiculo(veiculo):\n",
    "    veiculo.mostrar_detalhes()"
   ]
  },
  {
   "cell_type": "markdown",
   "metadata": {},
   "source": [
    "##  Testando com Carro e Moto"
   ]
  },
  {
   "cell_type": "code",
   "execution_count": 14,
   "metadata": {},
   "outputs": [
    {
     "name": "stdout",
     "output_type": "stream",
     "text": [
      "Marca: Ford, Modelo: Fusion\n",
      "Marca: Honda, Modelo: CBR\n"
     ]
    }
   ],
   "source": [
    "carro = Carro(\"Ford\", \"Fusion\", 4)\n",
    "moto = Moto(\"Honda\", \"CBR\", 650)\n",
    "\n",
    "mostrar_informacoes_veiculo(carro)\n",
    "mostrar_informacoes_veiculo(moto)\n"
   ]
  }
 ],
 "metadata": {
  "kernelspec": {
   "display_name": "tf",
   "language": "python",
   "name": "python3"
  },
  "language_info": {
   "codemirror_mode": {
    "name": "ipython",
    "version": 3
   },
   "file_extension": ".py",
   "mimetype": "text/x-python",
   "name": "python",
   "nbconvert_exporter": "python",
   "pygments_lexer": "ipython3",
   "version": "3.11.9"
  }
 },
 "nbformat": 4,
 "nbformat_minor": 2
}
