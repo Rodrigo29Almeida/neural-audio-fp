{
 "cells": [
  {
   "cell_type": "code",
   "execution_count": 1,
   "metadata": {},
   "outputs": [],
   "source": [
    "#!pip install --upgrade numpy==1.22\n",
    "#!pip install --upgrade tensorflow"
   ]
  },
  {
   "cell_type": "code",
   "execution_count": 3,
   "metadata": {},
   "outputs": [],
   "source": [
    "import os\n",
    "import sys\n",
    "import pathlib\n",
    "import click\n",
    "import yaml\n",
    "os.environ['TF_CPP_MIN_LOG_LEVEL'] = '1'\n",
    "import csv\n"
   ]
  },
  {
   "cell_type": "code",
   "execution_count": 2,
   "metadata": {},
   "outputs": [
    {
     "name": "stderr",
     "output_type": "stream",
     "text": [
      "2024-04-23 13:51:05.046444: E external/local_xla/xla/stream_executor/cuda/cuda_dnn.cc:9261] Unable to register cuDNN factory: Attempting to register factory for plugin cuDNN when one has already been registered\n",
      "2024-04-23 13:51:05.046472: E external/local_xla/xla/stream_executor/cuda/cuda_fft.cc:607] Unable to register cuFFT factory: Attempting to register factory for plugin cuFFT when one has already been registered\n",
      "2024-04-23 13:51:05.047521: E external/local_xla/xla/stream_executor/cuda/cuda_blas.cc:1515] Unable to register cuBLAS factory: Attempting to register factory for plugin cuBLAS when one has already been registered\n",
      "2024-04-23 13:51:05.766519: W tensorflow/compiler/tf2tensorrt/utils/py_utils.cc:38] TF-TRT Warning: Could not find TensorRT\n"
     ]
    }
   ],
   "source": [
    "\"\"\" trainer.py \"\"\"\n",
    "import tensorflow as tf\n",
    "from tensorflow.keras.utils import Progbar\n",
    "import tensorflow.keras as K\n",
    "from model.dataset import Dataset\n",
    "from model.fp.melspec.melspectrogram import get_melspec_layer\n",
    "from model.fp.specaug_chain.specaug_chain import get_specaug_chain_layer\n",
    "from model.fp.nnfp import get_fingerprinter\n",
    "from model.fp.NTxent_loss_single_gpu import NTxentLoss\n",
    "from model.fp.online_triplet_loss import OnlineTripletLoss\n",
    "from model.fp.lamb_optimizer import LAMB\n",
    "from model.utils.experiment_helper import ExperimentHelper\n",
    "from model.utils.mini_search_subroutines import mini_search_eval"
   ]
  },
  {
   "cell_type": "code",
   "execution_count": 5,
   "metadata": {},
   "outputs": [],
   "source": [
    "def build_fp(cfg):\n",
    "    \"\"\" Build fingerprinter \"\"\"\n",
    "    # m_pre: log-power-Mel-spectrogram layer, S.\n",
    "    m_pre = get_melspec_layer(cfg, trainable=False)\n",
    "\n",
    "    # m_specaug: spec-augmentation layer.\n",
    "    m_specaug = get_specaug_chain_layer(cfg, trainable=False)\n",
    "    assert(m_specaug.bypass==False) # Detachable by setting m_specaug.bypass.\n",
    "\n",
    "    # m_fp: fingerprinter g(f(.)).\n",
    "    m_fp = get_fingerprinter(cfg, trainable=False)\n",
    "    return m_pre, m_specaug, m_fp\n",
    "\n",
    "tr_loss = K.metrics.Mean(name='train_loss')\n",
    "\n",
    "@tf.function\n",
    "def train_step(X, m_pre, m_specaug, m_fp, loss_obj, opt):\n",
    "    \"\"\" Train step \"\"\"\n",
    "    # X: (Xa, Xp)\n",
    "    # Xa: anchors or originals, s.t. [xa_0, xa_1,...]\n",
    "    # Xp: augmented replicas, s.t. [xp_0, xp_1] with xp_n = rand_aug(xa_n).\n",
    "    n_anchors = len(X[0])\n",
    "    X = tf.concat(X, axis=0)\n",
    "    feat = m_specaug(m_pre(X))  # (nA+nP, F, T, 1)\n",
    "    m_fp.trainable = True\n",
    "    with tf.GradientTape() as t:\n",
    "        emb = m_fp(feat)  # (BSZ, Dim)\n",
    "        loss, sim_mtx, _ = loss_obj.compute_loss(emb[:n_anchors, :], emb[n_anchors:, :]) # {emb_org, emb_rep}\n",
    "    g = t.gradient(loss, m_fp.trainable_variables)\n",
    "    m_fp.summary()\n",
    "\n",
    "    opt.apply_gradients(zip(g, m_fp.trainable_variables))\n",
    "    \n",
    "    avg_loss = tr_loss(loss) # To tensorboard.\n",
    "    \n",
    "    return avg_loss, sim_mtx # avg_loss: average within the current epoch"
   ]
  },
  {
   "cell_type": "code",
   "execution_count": 6,
   "metadata": {},
   "outputs": [],
   "source": [
    "def load_config(config_fname):\n",
    "    config_filepath = './config/' + config_fname + '.yaml'\n",
    "    if os.path.exists(config_filepath):\n",
    "        print(f'cli: Configuration from {config_filepath}')\n",
    "    else:\n",
    "        sys.exit(f'cli: ERROR! Configuration file {config_filepath} is missing!!')\n",
    "\n",
    "    with open(config_filepath, 'r') as f:\n",
    "        cfg = yaml.safe_load(f)\n",
    "    return cfg\n",
    "\n",
    "\n",
    "def update_config(cfg, key1: str, key2: str, val):\n",
    "    cfg[key1][key2] = val\n",
    "    return cfg\n",
    "\n",
    "\n",
    "def print_config(cfg):\n",
    "    os.system(\"\")\n",
    "    print('\\033[36m' + yaml.dump(cfg, indent=4, width=120, sort_keys=False) +\n",
    "          '\\033[0m')\n",
    "    return\n",
    "\n",
    "\n",
    "\n",
    "\"\"\" Generate fingerprint (after training) \"\"\"\n",
    "def generate(checkpoint_name, checkpoint_index, config, source, output, skip_dummy):\n",
    "    \"\"\" Generate fingerprints from a saved checkpoint.\n",
    "\n",
    "    ex) python run.py generate CHECKPOINT_NAME\n",
    "\n",
    "    With custom config: \\b\\n\n",
    "        python run.py generate CHECKPOINT_NAME -c CONFIG_NAME\n",
    "\n",
    "    • If CHECKPOINT_INDEX is not specified, the latest checkpoint in the OUTPUT_ROOT_DIR will be loaded.\n",
    "    • The default value for the fingerprinting source is [TEST_DUMMY_DB] and [TEST_QUERY_DB] specified in config file.\n",
    "\n",
    "    \"\"\"\n",
    "    from model.utils.config_gpu_memory_lim import allow_gpu_memory_growth\n",
    "    from model.generate import generate_fingerprint\n",
    "\n",
    "    cfg = load_config(config)\n",
    "    allow_gpu_memory_growth()\n",
    "    generate_fingerprint(cfg, checkpoint_name, checkpoint_index, source, output, skip_dummy)\n",
    "\n",
    "\n",
    "def evaluate(checkpoint_name, checkpoint_index, config, index_type,\n",
    "             test_seq_len, test_ids, nogpu):\n",
    "    \"\"\" Search and evalutation.\n",
    "\n",
    "    ex) python run.py evaluate CHECKPOINT_NAME CHECKPOINT_INDEX\n",
    "\n",
    "    With options: \\b\\n\n",
    "\n",
    "    ex) python run.py evaluate CHECKPOINT_NAME CHEKPOINT_INDEX -i ivfpq -t 3000 --nogpu\n",
    "\n",
    "\n",
    "    • Currently, the 'evaluate' command does not reference any information other\n",
    "    than the output log directory from the config file.\n",
    "    \"\"\"\n",
    "    from eval.eval_faiss import eval_faiss\n",
    "\n",
    "    cfg = load_config(config)\n",
    "    emb_dir = cfg['DIR']['OUTPUT_ROOT_DIR'] + checkpoint_name + '/' + \\\n",
    "        str(checkpoint_index) + '/'\n",
    "\n",
    "    if nogpu:\n",
    "        eval_faiss([emb_dir, \"--index_type\", index_type, \"--test_seq_len\",\n",
    "                    test_seq_len, \"--test_ids\", test_ids, \"--nogpu\"])\n",
    "    else:\n",
    "        eval_faiss([emb_dir, \"--index_type\", index_type, \"--test_seq_len\",\n",
    "                    test_seq_len, \"--test_ids\", test_ids])\n",
    "\n"
   ]
  },
  {
   "cell_type": "code",
   "execution_count": 7,
   "metadata": {},
   "outputs": [],
   "source": [
    "checkpoint_name:str = \"CHECKPOINT_BSZ_120\"#\"CHECKPOINT\"   # string\n",
    "checkpoint_index:int = None  # int\n",
    "config:str = \"default\"       # string 'default'\n",
    "#index_type:str = 'IVFPQ'  # {'L2', 'IVF', 'IVFPQ', \" + \"'IVFPQ-RR', 'IVFPQ-ONDISK', HNSW'}\"\n",
    "#test_seq_len:str =  '11'   # string '1 3 5 9 11 19' segundos \n",
    "#test_ids:str = \"icassp\"      # string 'icassp'\n",
    "#nogpu:bool = False         # False or True\n",
    "#max_epoch:int = 1     # int"
   ]
  },
  {
   "cell_type": "code",
   "execution_count": 8,
   "metadata": {},
   "outputs": [
    {
     "name": "stdout",
     "output_type": "stream",
     "text": [
      "cli: Configuration from ./config/default.yaml\n"
     ]
    }
   ],
   "source": [
    "cfg = load_config(config)\n",
    "dataset = Dataset(cfg)"
   ]
  },
  {
   "cell_type": "code",
   "execution_count": 7,
   "metadata": {},
   "outputs": [],
   "source": [
    "m_pre, m_specaug, m_fp = build_fp(cfg)"
   ]
  },
  {
   "cell_type": "code",
   "execution_count": null,
   "metadata": {},
   "outputs": [],
   "source": [
    "d = dataset.get_train_ds()"
   ]
  },
  {
   "cell_type": "code",
   "execution_count": null,
   "metadata": {},
   "outputs": [
    {
     "data": {
      "text/plain": [
       "(16, 1, 8000)"
      ]
     },
     "execution_count": 70,
     "metadata": {},
     "output_type": "execute_result"
    }
   ],
   "source": [
    "d[0][1].shape"
   ]
  },
  {
   "cell_type": "code",
   "execution_count": 8,
   "metadata": {},
   "outputs": [],
   "source": [
    "#%matplotlib notebook\n",
    "%matplotlib inline\n",
    "import matplotlib.pyplot as plt\n",
    "import numpy as np\n",
    "import librosa\n",
    "import librosa.display\n"
   ]
  },
  {
   "cell_type": "code",
   "execution_count": null,
   "metadata": {},
   "outputs": [],
   "source": [
    "out = d[0][0][0]"
   ]
  },
  {
   "cell_type": "code",
   "execution_count": null,
   "metadata": {},
   "outputs": [
    {
     "data": {
      "text/plain": [
       "array([[0.12594604, 0.11602783, 0.1026001 , ..., 0.03756714, 0.03939819,\n",
       "        0.03936768]], dtype=float32)"
      ]
     },
     "execution_count": 73,
     "metadata": {},
     "output_type": "execute_result"
    }
   ],
   "source": [
    "out"
   ]
  },
  {
   "cell_type": "code",
   "execution_count": null,
   "metadata": {},
   "outputs": [],
   "source": [
    "x1 = d[0][1][0]"
   ]
  },
  {
   "cell_type": "code",
   "execution_count": null,
   "metadata": {},
   "outputs": [
    {
     "data": {
      "image/png": "[encoded data removed]",
      "text/plain": [
       "<Figure size 640x480 with 1 Axes>"
      ]
     },
     "metadata": {},
     "output_type": "display_data"
    }
   ],
   "source": [
    "plt.plot(out.squeeze())\n",
    "plt.plot(x1.squeeze(),'r')\n",
    "plt.show()"
   ]
  },
  {
   "cell_type": "code",
   "execution_count": null,
   "metadata": {},
   "outputs": [
    {
     "data": {
      "text/plain": [
       "16"
      ]
     },
     "execution_count": 76,
     "metadata": {},
     "output_type": "execute_result"
    }
   ],
   "source": [
    "IN = d[0]\n",
    "n_anchors = len(IN[0])\n",
    "n_anchors"
   ]
  },
  {
   "cell_type": "code",
   "execution_count": null,
   "metadata": {},
   "outputs": [],
   "source": [
    "IN = tf.concat(IN, axis=0)"
   ]
  },
  {
   "cell_type": "code",
   "execution_count": null,
   "metadata": {},
   "outputs": [
    {
     "data": {
      "text/plain": [
       "TensorShape([32, 1, 8000])"
      ]
     },
     "execution_count": 78,
     "metadata": {},
     "output_type": "execute_result"
    }
   ],
   "source": [
    "IN.shape"
   ]
  },
  {
   "cell_type": "code",
   "execution_count": null,
   "metadata": {},
   "outputs": [
    {
     "name": "stderr",
     "output_type": "stream",
     "text": [
      "2024-03-27 23:16:15.891969: W tensorflow/core/grappler/optimizers/loop_optimizer.cc:933] Skipping loop optimization for Merge node with control input: sequential_1370/spec_n_cutout_21/StatefulPartitionedCall/cond/branch_executed/_104\n"
     ]
    }
   ],
   "source": [
    "feat_IN = m_specaug(m_pre(IN))  # (nA+nP, F, T, 1)"
   ]
  },
  {
   "cell_type": "code",
   "execution_count": null,
   "metadata": {},
   "outputs": [
    {
     "data": {
      "text/plain": [
       "TensorShape([32, 256, 32, 1])"
      ]
     },
     "execution_count": 80,
     "metadata": {},
     "output_type": "execute_result"
    }
   ],
   "source": [
    "feat_IN.shape"
   ]
  },
  {
   "cell_type": "code",
   "execution_count": null,
   "metadata": {},
   "outputs": [],
   "source": [
    "mel = feat_IN[0, :, :, 0].numpy()"
   ]
  },
  {
   "cell_type": "code",
   "execution_count": null,
   "metadata": {},
   "outputs": [
    {
     "data": {
      "text/plain": [
       "(256, 32)"
      ]
     },
     "execution_count": 82,
     "metadata": {},
     "output_type": "execute_result"
    }
   ],
   "source": [
    "mel.shape"
   ]
  },
  {
   "cell_type": "code",
   "execution_count": null,
   "metadata": {},
   "outputs": [
    {
     "data": {
      "text/plain": [
       "[Text(0.5, 1.0, 'Mel-frequency spectrogram')]"
      ]
     },
     "execution_count": 83,
     "metadata": {},
     "output_type": "execute_result"
    },
    {
     "data": {
      "image/png": "[encoded data removed]",
      "text/plain": [
       "<Figure size 640x480 with 2 Axes>"
      ]
     },
     "metadata": {},
     "output_type": "display_data"
    }
   ],
   "source": [
    "import matplotlib.pyplot as plt\n",
    "fig, ax = plt.subplots()\n",
    "#S_dB = librosa.power_to_db(S, ref=np.max)\n",
    "img = librosa.display.specshow(mel, x_axis='time',\n",
    "                         y_axis='mel', sr=8000,\n",
    "                         fmax=4000, ax=ax)\n",
    "fig.colorbar(img, ax=ax, format='%+2.0f dB')\n",
    "ax.set(title='Mel-frequency spectrogram')"
   ]
  },
  {
   "cell_type": "code",
   "execution_count": null,
   "metadata": {},
   "outputs": [],
   "source": [
    "mel2 = feat_IN[16, :, :, 0].numpy()"
   ]
  },
  {
   "cell_type": "code",
   "execution_count": null,
   "metadata": {},
   "outputs": [
    {
     "data": {
      "text/plain": [
       "[Text(0.5, 1.0, 'Mel-frequency spectrogram')]"
      ]
     },
     "execution_count": 85,
     "metadata": {},
     "output_type": "execute_result"
    },
    {
     "data": {
      "image/png": "[encoded data removed]",
      "text/plain": [
       "<Figure size 640x480 with 2 Axes>"
      ]
     },
     "metadata": {},
     "output_type": "display_data"
    }
   ],
   "source": [
    "import matplotlib.pyplot as plt\n",
    "fig, ax = plt.subplots()\n",
    "#S_dB = librosa.power_to_db(S, ref=np.max)\n",
    "img = librosa.display.specshow(mel2, x_axis='time',\n",
    "                         y_axis='mel', sr=8000,\n",
    "                         fmax=4000, ax=ax)\n",
    "fig.colorbar(img, ax=ax, format='%+2.0f dB')\n",
    "ax.set(title='Mel-frequency spectrogram')"
   ]
  },
  {
   "cell_type": "code",
   "execution_count": null,
   "metadata": {},
   "outputs": [],
   "source": [
    "emb_IN = m_fp(feat_IN)"
   ]
  },
  {
   "cell_type": "code",
   "execution_count": 9,
   "metadata": {},
   "outputs": [],
   "source": [
    "# Dataloader\n",
    "dataset = Dataset(cfg)\n",
    "\n",
    "# Build models.\n",
    "m_pre, m_specaug, m_fp = build_fp(cfg)\n",
    "\n",
    "# Learning schedule\n",
    "total_nsteps = cfg['TRAIN']['MAX_EPOCH'] * len(dataset.get_train_ds())\n",
    "if cfg['TRAIN']['LR_SCHEDULE'].upper() == 'COS':\n",
    "    lr_schedule = tf.keras.experimental.CosineDecay(\n",
    "        initial_learning_rate=float(cfg['TRAIN']['LR']),\n",
    "        decay_steps=total_nsteps,\n",
    "        alpha=1e-06)\n",
    "elif cfg['TRAIN']['LR_SCHEDULE'].upper() == 'COS-RESTART':\n",
    "    lr_schedule = tf.keras.experimental.CosineDecayRestarts(\n",
    "        initial_learning_rate=float(cfg['TRAIN']['LR']),\n",
    "        first_decay_steps=int(total_nsteps * 0.1),\n",
    "        num_periods=0.5,\n",
    "        alpha=2e-06)\n",
    "else:\n",
    "    lr_schedule = float(cfg['TRAIN']['LR'])\n",
    "\n",
    "# Optimizer\n",
    "if cfg['TRAIN']['OPTIMIZER'].upper() == 'LAMB':\n",
    "    opt = LAMB(learning_rate=lr_schedule)\n",
    "elif cfg['TRAIN']['OPTIMIZER'].upper() == 'ADAM':\n",
    "    opt = tf.keras.optimizers.Adam(learning_rate=lr_schedule)\n",
    "else:\n",
    "    raise NotImplementedError(cfg['TRAIN']['OPTIMIZER'])\n",
    "\n",
    "# Loss objects\n",
    "if cfg['LOSS']['LOSS_MODE'].upper() == 'NTXENT': # Default\n",
    "    loss_obj_train = NTxentLoss(\n",
    "        n_org=cfg['BSZ']['TR_N_ANCHOR'],\n",
    "        n_rep=cfg['BSZ']['TR_BATCH_SZ'] - cfg['BSZ']['TR_N_ANCHOR'],\n",
    "        tau=cfg['LOSS']['TAU'])\n",
    "else:\n",
    "    raise NotImplementedError(cfg['LOSS']['LOSS_MODE'])\n"
   ]
  },
  {
   "cell_type": "code",
   "execution_count": null,
   "metadata": {},
   "outputs": [],
   "source": [
    "ep = 0\n",
    "\n",
    "# Train\n",
    "\"\"\" Parallelism to speed up preprocessing.............. \"\"\"\n",
    "train_ds = dataset.get_train_ds(cfg['DATA_SEL']['REDUCE_ITEMS_P'])\n",
    "\n",
    "enq = tf.keras.utils.OrderedEnqueuer(\n",
    "    train_ds, use_multiprocessing=True, shuffle=train_ds.shuffle)\n",
    "enq.start(workers=cfg['DEVICE']['CPU_N_WORKERS'],\n",
    "            max_queue_size=cfg['DEVICE']['CPU_MAX_QUEUE'])\n",
    "i = 0\n",
    "while i < len(enq.sequence):\n",
    "    X = next(enq.get()) # X: Tuple(Xa, Xp)\n",
    "    print(f\"mini-batch {i} of {len(enq.sequence)}\")\n",
    "\n",
    "    avg_loss, sim_mtx = train_step(X, m_pre, m_specaug, m_fp, loss_obj_train, opt=opt)\n",
    "    print(f\"avg_loss {avg_loss}\")\n",
    "\n",
    "    i += 1\n",
    "enq.stop()\n",
    "\"\"\" End of Parallelism................................. \"\"\""
   ]
  },
  {
   "cell_type": "code",
   "execution_count": 1,
   "metadata": {},
   "outputs": [
    {
     "name": "stderr",
     "output_type": "stream",
     "text": [
      "2024-03-28 15:28:29.305944: I tensorflow/core/platform/cpu_feature_guard.cc:210] This TensorFlow binary is optimized to use available CPU instructions in performance-critical operations.\n",
      "To enable the following instructions: AVX2 FMA, in other operations, rebuild TensorFlow with the appropriate compiler flags.\n",
      "2024-03-28 15:28:30.004661: W tensorflow/compiler/tf2tensorrt/utils/py_utils.cc:38] TF-TRT Warning: Could not find TensorRT\n"
     ]
    }
   ],
   "source": [
    "import tensorflow as tf"
   ]
  },
  {
   "cell_type": "code",
   "execution_count": null,
   "metadata": {},
   "outputs": [],
   "source": [
    "tf.test.is_gpu_available()"
   ]
  },
  {
   "cell_type": "code",
   "execution_count": null,
   "metadata": {},
   "outputs": [
    {
     "data": {
      "text/plain": [
       "True"
      ]
     },
     "execution_count": 3,
     "metadata": {},
     "output_type": "execute_result"
    }
   ],
   "source": [
    "tf.test.is_built_with_cuda()"
   ]
  },
  {
   "cell_type": "code",
   "execution_count": null,
   "metadata": {},
   "outputs": [
    {
     "name": "stderr",
     "output_type": "stream",
     "text": [
      "2024-03-27 23:05:17.923828: I external/local_xla/xla/stream_executor/cuda/cuda_executor.cc:901] successful NUMA node read from SysFS had negative value (-1), but there must be at least one NUMA node, so returning NUMA node zero. See more at https://github.com/torvalds/linux/blob/v6.0/Documentation/ABI/testing/sysfs-bus-pci#L344-L355\n",
      "2024-03-27 23:05:17.924221: I external/local_xla/xla/stream_executor/cuda/cuda_executor.cc:901] successful NUMA node read from SysFS had negative value (-1), but there must be at least one NUMA node, so returning NUMA node zero. See more at https://github.com/torvalds/linux/blob/v6.0/Documentation/ABI/testing/sysfs-bus-pci#L344-L355\n",
      "2024-03-27 23:05:17.924531: I external/local_xla/xla/stream_executor/cuda/cuda_executor.cc:901] successful NUMA node read from SysFS had negative value (-1), but there must be at least one NUMA node, so returning NUMA node zero. See more at https://github.com/torvalds/linux/blob/v6.0/Documentation/ABI/testing/sysfs-bus-pci#L344-L355\n",
      "2024-03-27 23:05:17.924819: I external/local_xla/xla/stream_executor/cuda/cuda_executor.cc:901] successful NUMA node read from SysFS had negative value (-1), but there must be at least one NUMA node, so returning NUMA node zero. See more at https://github.com/torvalds/linux/blob/v6.0/Documentation/ABI/testing/sysfs-bus-pci#L344-L355\n",
      "2024-03-27 23:05:17.925105: I external/local_xla/xla/stream_executor/cuda/cuda_executor.cc:901] successful NUMA node read from SysFS had negative value (-1), but there must be at least one NUMA node, so returning NUMA node zero. See more at https://github.com/torvalds/linux/blob/v6.0/Documentation/ABI/testing/sysfs-bus-pci#L344-L355\n",
      "2024-03-27 23:05:17.925390: I external/local_xla/xla/stream_executor/cuda/cuda_executor.cc:901] successful NUMA node read from SysFS had negative value (-1), but there must be at least one NUMA node, so returning NUMA node zero. See more at https://github.com/torvalds/linux/blob/v6.0/Documentation/ABI/testing/sysfs-bus-pci#L344-L355\n"
     ]
    },
    {
     "data": {
      "text/plain": [
       "[PhysicalDevice(name='/physical_device:GPU:0', device_type='GPU'),\n",
       " PhysicalDevice(name='/physical_device:GPU:1', device_type='GPU')]"
      ]
     },
     "execution_count": 4,
     "metadata": {},
     "output_type": "execute_result"
    }
   ],
   "source": [
    "tf.config.list_physical_devices('GPU')"
   ]
  },
  {
   "cell_type": "code",
   "execution_count": null,
   "metadata": {},
   "outputs": [
    {
     "name": "stdout",
     "output_type": "stream",
     "text": [
      "Versão do TensorFlow: 2.15.0\n"
     ]
    }
   ],
   "source": [
    "print(\"Versão do TensorFlow:\", tf.__version__)"
   ]
  },
  {
   "cell_type": "code",
   "execution_count": null,
   "metadata": {},
   "outputs": [],
   "source": [
    "import torch\n",
    "print(torch.__version__)"
   ]
  },
  {
   "cell_type": "code",
   "execution_count": null,
   "metadata": {},
   "outputs": [
    {
     "name": "stdout",
     "output_type": "stream",
     "text": [
      "True\n"
     ]
    }
   ],
   "source": [
    "print(torch.cuda.is_available())"
   ]
  },
  {
   "cell_type": "code",
   "execution_count": null,
   "metadata": {},
   "outputs": [
    {
     "name": "stdout",
     "output_type": "stream",
     "text": [
      "2\n",
      "Device CUDA 0: NVIDIA GeForce RTX 3090\n",
      "Device CUDA 1: NVIDIA GeForce RTX 2080 Ti\n"
     ]
    }
   ],
   "source": [
    "if torch.cuda.is_available():\n",
    "    num_devices = torch.cuda.device_count()\n",
    "    print(num_devices)\n",
    "\n",
    "    for i in range(num_devices):\n",
    "        device = torch.cuda.get_device_name(i)\n",
    "        print(f\"Device CUDA {i}: {device}\")\n",
    "else:\n",
    "    print(\"CUDA not available.\")"
   ]
  },
  {
   "cell_type": "code",
   "execution_count": null,
   "metadata": {},
   "outputs": [],
   "source": [
    "import tensorrt\n",
    "print(tensorrt.__version__)\n",
    "assert tensorrt.Builder(tensorrt.Logger())"
   ]
  },
  {
   "cell_type": "code",
   "execution_count": null,
   "metadata": {},
   "outputs": [],
   "source": [
    "import tensorrt_lean as trt\n",
    "print(trt.__version__)\n",
    "assert trt.Runtime(trt.Logger())"
   ]
  },
  {
   "cell_type": "code",
   "execution_count": null,
   "metadata": {},
   "outputs": [],
   "source": [
    "import tensorrt_dispatch as trt\n",
    "print(trt.__version__)\n",
    "assert trt.Runtime(trt.Logger())"
   ]
  },
  {
   "cell_type": "markdown",
   "metadata": {},
   "source": [
    "## Compute loss - validation loss and training loss"
   ]
  },
  {
   "cell_type": "markdown",
   "metadata": {},
   "source": [
    "EPOCH: 2/100\n",
    "<br>36365/36365 [==============================] - 2375s 65ms/step - tr loss: 0.4658\n",
    "<br>tr_loss:0.4316, val_loss:3.3138\n",
    "<br>======= mini-search-validation: argmin f =======\n",
    "<br>Scope: &nbsp; 1 &nbsp;&nbsp;&nbsp;&nbsp;&nbsp;&nbsp;&nbsp;&nbsp; 3 &nbsp;&nbsp;&nbsp;&nbsp;&nbsp;&nbsp;&nbsp;&nbsp; 5 &nbsp;&nbsp;&nbsp;&nbsp;&nbsp;&nbsp;&nbsp;&nbsp; 9 &nbsp;&nbsp;&nbsp;&nbsp;&nbsp;&nbsp;&nbsp;&nbsp;&nbsp; 11 &nbsp;&nbsp;&nbsp;&nbsp;&nbsp;&nbsp;&nbsp;&nbsp;&nbsp; 19\t \n",
    "<br>T1acc: &nbsp; 73.79 &nbsp; 95.15 &nbsp; 99.19 &nbsp; 100.00 &nbsp; 100.00 &nbsp; 100.00\t\n",
    "<br>mRank: &nbsp; 2.90 &nbsp; 0.15 &nbsp;&nbsp;&nbsp; 0.01 &nbsp;&nbsp;&nbsp; 0.00 &nbsp;&nbsp;&nbsp;&nbsp;&nbsp;\t0.00 &nbsp;&nbsp;&nbsp;&nbsp;&nbsp;\t0.00\t\n",
    "<br>======= mini-search-validation: argmin L2(f) =======\n",
    "<br>Scope: &nbsp; 1 &nbsp;&nbsp;&nbsp;&nbsp;&nbsp;&nbsp;&nbsp;&nbsp; 3 &nbsp;&nbsp;&nbsp;&nbsp;&nbsp;&nbsp;&nbsp;&nbsp; 5 &nbsp;&nbsp;&nbsp;&nbsp;&nbsp;&nbsp;&nbsp;&nbsp; 9 &nbsp;&nbsp;&nbsp;&nbsp;&nbsp;&nbsp;&nbsp;&nbsp;&nbsp; 11 &nbsp;&nbsp;&nbsp;&nbsp;&nbsp;&nbsp;&nbsp;&nbsp;&nbsp; 19 \t \n",
    "<br>T1acc: &nbsp; 73.86 &nbsp;\t95.15 &nbsp; 99.19 &nbsp; 100.00 &nbsp; 100.00 &nbsp;\t100.00\t\n",
    "<br>mRank: &nbsp; 2.89 &nbsp; 0.15 &nbsp;&nbsp;&nbsp; 0.01 &nbsp;&nbsp;&nbsp; 0.00 &nbsp;&nbsp;&nbsp;&nbsp;&nbsp; 0.00 &nbsp;&nbsp;&nbsp;&nbsp;&nbsp; 0.00\t\n",
    "<br>======= mini-search-validation: argmin g(f) =======\n",
    "<br>Scope: &nbsp; 1 &nbsp;&nbsp;&nbsp;&nbsp;&nbsp;&nbsp;&nbsp;&nbsp; 3 &nbsp;&nbsp;&nbsp;&nbsp;&nbsp;&nbsp;&nbsp;&nbsp; 5 &nbsp;&nbsp;&nbsp;&nbsp;&nbsp;&nbsp;&nbsp;&nbsp; 9 &nbsp;&nbsp;&nbsp;&nbsp;&nbsp;&nbsp;&nbsp;&nbsp;&nbsp; 11 &nbsp;&nbsp;&nbsp;&nbsp;&nbsp;&nbsp;&nbsp;&nbsp;&nbsp; 19  \t \n",
    "<br>T1acc &nbsp; 75.87 &nbsp; 96.30 &nbsp; 99.26 &nbsp; 100.00 &nbsp; 100.00 &nbsp; 100.00\t\n",
    "<br>mRank: &nbsp; 1.99 &nbsp; 0.08 &nbsp;&nbsp;&nbsp; 0.01 &nbsp;&nbsp;&nbsp; 0.00 &nbsp;&nbsp;&nbsp;&nbsp;&nbsp; 0.00 &nbsp;&nbsp;&nbsp;&nbsp;&nbsp; 0.00"
   ]
  },
  {
   "cell_type": "code",
   "execution_count": 17,
   "metadata": {},
   "outputs": [],
   "source": [
    "train_loss = [0.7873,0.4316,0.3520,0.3069,0.2774,0.2555,0.2392,0.2246,0.2132,0.2027,0.1944,0.1884,0.1813,0.1737,0.1694,0.1647,0.1612,0.1561,0.1531,0.1500,0.1443,0.1429,0.1381,0.1371,0.1338,0.1326,0.1288,0.1272,0.1234,0.1217,0.1195,0.1181,0.1163,0.1137,0.1135,0.1115,0.1096,0.1071,0.1072,0.1035,0.1030,0.1028,0.1011,0.0994,0.0980,0.0973,0.0945,0.0947,0.0941,0.0920,0.0905,0.0891,0.0879,0.0862,0.0860,0.0855,0.0845,0.0841,0.0828,0.0817,0.0805,0.0807,0.0798,0.0783,0.0781,0.0779,0.0759,0.0745,0.0747,0.0733,0.0729,0.0733,0.0716,0.0722,0.0718,0.0703,0.0711,0.0698,0.0694,0.0696,0.0678,0.0673,0.0686,0.0674,0.0671,0.0669,0.0668,0.0672,0.0659,0.0658,0.0660,0.0658,0.0645,0.0648,0.0660,0.0661,0.0652,0.0651,0.0640,0.0655]\n",
    "val_loss = [3.2719,3.3138,3.0586,3.1283,3.0887,3.1191,3.0887,2.9650,2.8631,3.0724,2.9248,3.0626,2.9176,3.0661,2.9647,2.9925,2.9446,2.9264,3.0110,2.9345,2.8536,3.0006,3.0330,2.8814,2.8888,2.8475,2.8250,2.8103,2.9309,2.8613,2.9033,2.8676,2.8616,2.8454,2.7798,2.8179,2.8668,2.8246,2.8251,2.8784,2.8772,2.9164,2.8873,2.8332,2.7925,2.8277,2.8034,2.7830,2.8026,2.8109,2.8214,2.7793,2.7854,2.7893,2.7888,2.8564,2.7757,2.7367,2.7636,2.8091,2.7758,2.8262,2.7986,2.8219,2.8025,2.8326,2.8261,2.7445,2.8155,2.8080,2.7466,2.7599,2.7841,2.7656,2.7902,2.7522,2.7549,2.7736,2.7591,2.7700,2.7744,2.7589,2.7576,2.7518,2.7923,2.7433,2.7855,2.7747,2.7274,2.7507,2.7489,2.7983,2.7506,2.7571,2.7579,2.7538,2.7802,2.7737,2.7499,2.7461] "
   ]
  },
  {
   "cell_type": "code",
   "execution_count": 20,
   "metadata": {},
   "outputs": [],
   "source": [
    "epochs = range(1, len(train_loss) + 1)"
   ]
  },
  {
   "cell_type": "code",
   "execution_count": 27,
   "metadata": {},
   "outputs": [
    {
     "data": {
      "image/png": "[encoded data removed]",
      "text/plain": [
       "<Figure size 640x480 with 1 Axes>"
      ]
     },
     "metadata": {},
     "output_type": "display_data"
    }
   ],
   "source": [
    "import matplotlib.pyplot as plt\n",
    "\n",
    "plt.plot(epochs, train_loss, 'r', label='Training loss')\n",
    "plt.plot(epochs, val_loss, 'b', label='Validation loss')\n",
    "plt.title('Training and Validation Loss')\n",
    "plt.xlabel('Epochs')\n",
    "plt.ylabel('Loss')\n",
    "plt.legend()\n",
    "plt.show()"
   ]
  },
  {
   "cell_type": "code",
   "execution_count": 25,
   "metadata": {},
   "outputs": [],
   "source": [
    "loss = [1.1586,0.4658,0.3671,0.3155,0.2853,0.2600,0.2409,0.2291,0.2137,0.2034,0.1949,0.1885,0.1832,0.1752,0.1695,0.1657,0.1626,0.1574,0.1544,0.1487,0.1465,0.1448,0.1369,0.1389,0.1338,0.1326,0.1281,0.1288,0.1236,0.1219,0.1192,0.1182,0.1167,0.1127,0.1140,0.1144,0.1104,0.1080,0.1090,0.1026,0.1030,0.1018,0.1008,0.0990,0.0977,0.0983,0.0945,0.0956,0.0956,0.0941,0.0929,0.0908,0.0877,0.0868,0.0859,0.0864,0.0873,0.0848,0.0836,0.0809,0.0798,0.0811,0.0807,0.0784,0.0781,0.0786,0.0754,0.0748,0.0763,0.0739,0.0738,0.0724,0.0720,0.0728,0.0720,0.0713,0.0716,0.0698,0.0709,0.0690,0.0680,0.0685,0.0701,0.0671,0.0674,0.0671,0.0669,0.0659,0.0662,0.0664,0.0661,0.0660,0.0638,0.0643,0.0666,0.0678,0.0643,0.0640,0.0637,0.0647]"
   ]
  },
  {
   "cell_type": "code",
   "execution_count": 26,
   "metadata": {},
   "outputs": [
    {
     "data": {
      "image/png": "[encoded data removed]",
      "text/plain": [
       "<Figure size 640x480 with 1 Axes>"
      ]
     },
     "metadata": {},
     "output_type": "display_data"
    }
   ],
   "source": [
    "plt.plot(epochs, loss, 'r', label='loss')\n",
    "plt.title('Loss')\n",
    "plt.xlabel('Epochs')\n",
    "plt.ylabel('Loss')\n",
    "plt.legend()\n",
    "plt.show()"
   ]
  },
  {
   "cell_type": "code",
   "execution_count": null,
   "metadata": {},
   "outputs": [],
   "source": [
    "import tensorflow as tf\n",
    "import matplotlib.pyplot as plt\n",
    "\n",
    "\n",
    "model = get_fingerprinter(cfg, trainable=False)\n",
    "\n",
    "# Carregar o modelo a partir dos checkpoints\n",
    "model = tf.keras.models.load_model('/home/rodrigo/Documents/neural-audio-fp/logs/checkpoint/Checks')\n",
    "model.load_weights(tf.train.latest_checkpoint(checkpoint_path))\n",
    "\n",
    "# Definir o otimizador e a função de loss\n",
    "optimizer = opt = tf.keras.optimizers.Adam(learning_rate=lr_schedule)\n",
    "loss_fn = NTxentLoss(\n",
    "        n_org=cfg['BSZ']['TR_N_ANCHOR'],\n",
    "        n_rep=cfg['BSZ']['TR_BATCH_SZ'] - cfg['BSZ']['TR_N_ANCHOR'],\n",
    "        tau=cfg['LOSS']['TAU'])\n",
    "\n",
    "# Compilar o modelo (pode ser necessário, dependendo de como os checkpoints foram salvos)\n",
    "model.compile(optimizer=optimizer, loss=loss_fn)\n",
    "\n",
    "# Carregar os dados de treinamento (se necessário)\n",
    "\n",
    "# Continuar o treinamento por uma época para obter a loss\n",
    "# Se você não quiser treinar mais, você pode pular esta etapa\n",
    "# model.fit(x_train, y_train, epochs=1)\n",
    "\n",
    "# Extrair a loss do modelo\n",
    "train_loss = model.history.history['loss']\n",
    "# Se você tiver dados de validação, também pode extrair a loss de validação\n",
    "# val_loss = model.history.history['val_loss']\n",
    "epochs = range(1, len(train_loss) + 1)\n",
    "\n",
    "# Plotar a loss\n",
    "plt.plot(epochs, train_loss, 'r', label='Training loss')\n",
    "# Se você tiver loss de validação, também pode plotar\n",
    "# plt.plot\n"
   ]
  },
  {
   "cell_type": "markdown",
   "metadata": {},
   "source": [
    "# **GENERATE**"
   ]
  },
  {
   "cell_type": "code",
   "execution_count": 13,
   "metadata": {},
   "outputs": [],
   "source": [
    "checkpoint_name:str = \"Check_test-gen\"   # string\n",
    "checkpoint_index:int = 10  # int\n",
    "config:str = \"default\"       # string 'default'\n",
    "source:str = '/mnt/dataset/public/Fingerprinting/neural-audio-fp-dataset/music/test-dummy-db-100k-full/'\n",
    "output:str = './logs/emb/'\n",
    "skip_dummy:bool = False"
   ]
  },
  {
   "cell_type": "code",
   "execution_count": 14,
   "metadata": {},
   "outputs": [
    {
     "name": "stdout",
     "output_type": "stream",
     "text": [
      "cli: Configuration from ./config/default.yaml\n"
     ]
    }
   ],
   "source": [
    "from model.utils.config_gpu_memory_lim import allow_gpu_memory_growth\n",
    "from model.generate import generate_fingerprint\n",
    "\n",
    "cfg = load_config(config)\n",
    "allow_gpu_memory_growth()"
   ]
  },
  {
   "cell_type": "code",
   "execution_count": null,
   "metadata": {},
   "outputs": [],
   "source": [
    "generate_fingerprint(cfg, checkpoint_name, checkpoint_index, source, output, skip_dummy)"
   ]
  },
  {
   "cell_type": "markdown",
   "metadata": {},
   "source": [
    "# Search and Evaluation"
   ]
  },
  {
   "cell_type": "markdown",
   "metadata": {},
   "source": [
    "# SavedModel - professor"
   ]
  },
  {
   "cell_type": "code",
   "execution_count": 16,
   "metadata": {},
   "outputs": [],
   "source": [
    "def load_checkpoint(checkpoint_root_dir, checkpoint_name, checkpoint_index,\n",
    "                    m_fp):\n",
    "    \"\"\" Load a trained fingerprinter \"\"\"\n",
    "    # Create checkpoint\n",
    "    checkpoint = tf.train.Checkpoint(model=m_fp)\n",
    "    checkpoint_dir = checkpoint_root_dir + f'/{checkpoint_name}/'\n",
    "    c_manager = tf.train.CheckpointManager(checkpoint, checkpoint_dir,\n",
    "                                           max_to_keep=None)\n",
    "\n",
    "    # Load\n",
    "    if checkpoint_index == None:\n",
    "        tf.print(\"\\x1b[1;32mArgument 'checkpoint_index' was not specified.\\x1b[0m\")\n",
    "        tf.print('\\x1b[1;32mSearching for the latest checkpoint...\\x1b[0m')\n",
    "        latest_checkpoint = c_manager.latest_checkpoint\n",
    "        if latest_checkpoint:\n",
    "            checkpoint_index = int(latest_checkpoint.split(sep='ckpt-')[-1])\n",
    "            status = checkpoint.restore(latest_checkpoint)\n",
    "            status.expect_partial()\n",
    "            tf.print(f'---Restored from {c_manager.latest_checkpoint}---')\n",
    "        else:\n",
    "            raise FileNotFoundError(f'Cannot find checkpoint in {checkpoint_dir}')\n",
    "    else:\n",
    "        checkpoint_fpath = checkpoint_dir + 'ckpt-' + str(checkpoint_index)\n",
    "        status = checkpoint.restore(checkpoint_fpath) # Let TF to handle error cases.\n",
    "        status.expect_partial()\n",
    "        tf.print(f'---Restored from {checkpoint_fpath}---')\n",
    "    return checkpoint_index"
   ]
  },
  {
   "cell_type": "code",
   "execution_count": 4,
   "metadata": {},
   "outputs": [
    {
     "name": "stdout",
     "output_type": "stream",
     "text": [
      "cli: Configuration from ./config/default.yaml\n"
     ]
    }
   ],
   "source": [
    "config:str = \"default\"  \n",
    "cfg = load_config(config)\n",
    "checkpoint_name:str = 'CHECKPOINT_BSZ_120'\n",
    "checkpoint_index:int = 100"
   ]
  },
  {
   "cell_type": "code",
   "execution_count": 10,
   "metadata": {},
   "outputs": [],
   "source": [
    "def build_prof_fp(cfg):\n",
    "    \"\"\" Build fingerprinter \"\"\"\n",
    "    # m_pre: log-power-Mel-spectrogram layer, S.\n",
    "    #m_pre = get_melspec_layer(cfg, trainable=False)\n",
    "\n",
    "    # m_fp: fingerprinter g(f(.)).\n",
    "    m_fp = get_fingerprinter(cfg, trainable=False)\n",
    "    return m_pre, m_fp"
   ]
  },
  {
   "cell_type": "code",
   "execution_count": 11,
   "metadata": {},
   "outputs": [],
   "source": [
    "# Build and load checkpoint\n",
    "m_fp = build_prof_fp(cfg)\n"
   ]
  },
  {
   "cell_type": "code",
   "execution_count": 19,
   "metadata": {},
   "outputs": [
    {
     "name": "stdout",
     "output_type": "stream",
     "text": [
      "---Restored from ./logs/checkpoint//CHECKPOINT_BSZ_120/ckpt-100---\n"
     ]
    }
   ],
   "source": [
    "checkpoint_root_dir = cfg['DIR']['LOG_ROOT_DIR'] + 'checkpoint/'\n",
    "checkpoint_index = load_checkpoint(checkpoint_root_dir, checkpoint_name, checkpoint_index, m_fp)"
   ]
  },
  {
   "cell_type": "code",
   "execution_count": 33,
   "metadata": {},
   "outputs": [
    {
     "name": "stdout",
     "output_type": "stream",
     "text": [
      "['ckpt-35.data-00000-of-00001', 'checkpoint', 'ckpt-67.data-00000-of-00001', 'ckpt-35.index', 'ckpt-59.index', 'ckpt-55.data-00000-of-00001', 'ckpt-95.data-00000-of-00001', 'ckpt-75.data-00000-of-00001', 'ckpt-100.index', 'ckpt-3.index', 'ckpt-91.index', 'ckpt-79.index', 'ckpt-59.data-00000-of-00001', 'ckpt-99.data-00000-of-00001', 'ckpt-99.index', 'ckpt-3.data-00000-of-00001', 'ckpt-87.data-00000-of-00001', 'ckpt-39.index', 'ckpt-27.data-00000-of-00001', 'ckpt-15.index', 'ckpt-27.index', 'ckpt-71.index', 'ckpt-15.data-00000-of-00001', 'ckpt-19.data-00000-of-00001', 'ckpt-87.index', 'ckpt-51.index', 'ckpt-91.data-00000-of-00001', 'ckpt-51.data-00000-of-00001', 'ckpt-98.index', 'ckpt-100.data-00000-of-00001', 'ckpt-95.index', 'ckpt-98.data-00000-of-00001', 'ckpt-83.data-00000-of-00001', 'ckpt-75.index', 'ckpt-47.index', 'ckpt-79.data-00000-of-00001', 'ckpt-83.index', 'ckpt-67.index', 'ckpt-43.data-00000-of-00001', 'ckpt-43.index', 'ckpt-23.index', 'ckpt-31.index', 'ckpt-23.data-00000-of-00001', 'ckpt-31.data-00000-of-00001', 'ckpt-11.data-00000-of-00001', 'ckpt-63.data-00000-of-00001', 'ckpt-71.data-00000-of-00001', 'ckpt-7.data-00000-of-00001', 'ckpt-47.data-00000-of-00001', 'ckpt-19.index', 'ckpt-7.index', 'ckpt-11.index', 'ckpt-63.index', 'ckpt-39.data-00000-of-00001', 'ckpt-55.index']\n",
      "Latest checkpoint: ./logs/checkpoint/ckpt-99\n"
     ]
    }
   ],
   "source": [
    "checkpoint_files = os.listdir(checkpoint_root_dir + 'CHECKPOINT_BSZ_120/')\n",
    "\n",
    "# Filtrar os arquivos de pontos de verificação (.index)\n",
    "checkpoint_files = [f for f in checkpoint_files if f.endswith('.index')]\n",
    "\n",
    "# Ordene os arquivos para obter o último ponto de verificação\n",
    "if checkpoint_files:\n",
    "    latest_checkpoint = os.path.join(checkpoint_root_dir, sorted(checkpoint_files)[-1].replace('.index', ''))\n",
    "    print(\"Latest checkpoint:\", latest_checkpoint)\n",
    "else:\n",
    "    print(\"Nenhum ponto de verificação encontrado no diretório.\")"
   ]
  },
  {
   "cell_type": "code",
   "execution_count": 23,
   "metadata": {},
   "outputs": [],
   "source": [
    "latest_checkpoint = latest_checkpoint + '.index'"
   ]
  },
  {
   "cell_type": "code",
   "execution_count": 24,
   "metadata": {},
   "outputs": [
    {
     "data": {
      "text/plain": [
       "'./logs/checkpoint/ckpt-99.index'"
      ]
     },
     "execution_count": 24,
     "metadata": {},
     "output_type": "execute_result"
    }
   ],
   "source": [
    "latest_checkpoint"
   ]
  },
  {
   "cell_type": "code",
   "execution_count": 124,
   "metadata": {},
   "outputs": [
    {
     "data": {
      "text/plain": [
       "(<model.fp.melspec.melspectrogram.Melspec_layer at 0x70ba4853d090>,\n",
       " <model.fp.nnfp.FingerPrinter at 0x70ba48f9ed50>)"
      ]
     },
     "execution_count": 124,
     "metadata": {},
     "output_type": "execute_result"
    }
   ],
   "source": [
    "m_fp"
   ]
  },
  {
   "cell_type": "code",
   "execution_count": 125,
   "metadata": {},
   "outputs": [
    {
     "name": "stdout",
     "output_type": "stream",
     "text": [
      "['ckpt-35.data-00000-of-00001', 'checkpoint', 'ckpt-67.data-00000-of-00001', 'ckpt-35.index', 'ckpt-59.index', 'ckpt-55.data-00000-of-00001', 'ckpt-95.data-00000-of-00001', 'ckpt-75.data-00000-of-00001', 'ckpt-100.index', 'ckpt-3.index', 'ckpt-91.index', 'ckpt-79.index', 'ckpt-59.data-00000-of-00001', 'ckpt-99.data-00000-of-00001', 'ckpt-99.index', 'ckpt-3.data-00000-of-00001', 'ckpt-87.data-00000-of-00001', 'ckpt-39.index', 'ckpt-27.data-00000-of-00001', 'ckpt-15.index', 'ckpt-27.index', 'ckpt-71.index', 'ckpt-15.data-00000-of-00001', 'ckpt-19.data-00000-of-00001', 'ckpt-87.index', 'ckpt-51.index', 'ckpt-91.data-00000-of-00001', 'ckpt-51.data-00000-of-00001', 'ckpt-98.index', 'ckpt-100.data-00000-of-00001', 'ckpt-95.index', 'ckpt-98.data-00000-of-00001', 'ckpt-83.data-00000-of-00001', 'ckpt-75.index', 'ckpt-47.index', 'ckpt-79.data-00000-of-00001', 'ckpt-83.index', 'ckpt-67.index', 'ckpt-43.data-00000-of-00001', 'ckpt-43.index', 'ckpt-23.index', 'ckpt-31.index', 'ckpt-23.data-00000-of-00001', 'ckpt-31.data-00000-of-00001', 'ckpt-11.data-00000-of-00001', 'ckpt-63.data-00000-of-00001', 'ckpt-71.data-00000-of-00001', 'ckpt-7.data-00000-of-00001', 'ckpt-47.data-00000-of-00001', 'ckpt-19.index', 'ckpt-7.index', 'ckpt-11.index', 'ckpt-63.index', 'ckpt-39.data-00000-of-00001', 'ckpt-55.index']\n"
     ]
    }
   ],
   "source": [
    "checkpoint_files = os.listdir(checkpoint_root_dir + 'CHECKPOINT_BSZ_120/')\n",
    "print(checkpoint_files)"
   ]
  },
  {
   "cell_type": "code",
   "execution_count": 126,
   "metadata": {},
   "outputs": [],
   "source": [
    "import tensorflow as tf"
   ]
  },
  {
   "cell_type": "code",
   "execution_count": null,
   "metadata": {},
   "outputs": [],
   "source": [
    "#latest_checkpoint = tf.train.latest_checkpoint(checkpoint_root_dir + 'CHECKPOINT_BSZ_120/' + 'ckpt-99.index')\n",
    "m_fp[1].load_weights(latest_checkpoint)"
   ]
  },
  {
   "cell_type": "code",
   "execution_count": null,
   "metadata": {},
   "outputs": [],
   "source": [
    "# Salve o modelo como um SavedModel\n",
    "tf.saved_model.save(model, '/home/rodrigo/Documents/neural-audio-fp/scripts/')"
   ]
  },
  {
   "cell_type": "code",
   "execution_count": 44,
   "metadata": {},
   "outputs": [],
   "source": [
    "checks = tf.train.load_checkpoint('/home/rodrigo/Documents/neural-audio-fp/logs/checkpoint/CHECKPOINT_BSZ_120/ckpt-100.index')"
   ]
  },
  {
   "cell_type": "code",
   "execution_count": 50,
   "metadata": {},
   "outputs": [
    {
     "data": {
      "text/plain": [
       "<model.fp.nnfp.FingerPrinter at 0x73ea44c95bd0>"
      ]
     },
     "execution_count": 50,
     "metadata": {},
     "output_type": "execute_result"
    }
   ],
   "source": [
    "m_fp"
   ]
  },
  {
   "cell_type": "code",
   "execution_count": null,
   "metadata": {},
   "outputs": [],
   "source": [
    "checks.get_variable_names()"
   ]
  },
  {
   "cell_type": "code",
   "execution_count": null,
   "metadata": {},
   "outputs": [],
   "source": [
    "m_fp.set_weights(checks.get_all_variable_values())"
   ]
  },
  {
   "cell_type": "code",
   "execution_count": null,
   "metadata": {},
   "outputs": [],
   "source": [
    "checkpoint_path = '/home/rodrigo/Documents/neural-audio-fp/logs/checkpoint/CHECKPOINT_BSZ_120/ckpt-100'  # Assuming ckpt-100 is the actual checkpoint file\n",
    "\n",
    "# Load the checkpoint (TensorFlow 2)\n",
    "checkpoint = tf.train.CheckpointReader(checkpoint_path)"
   ]
  },
  {
   "cell_type": "code",
   "execution_count": null,
   "metadata": {},
   "outputs": [],
   "source": [
    "import tensorflow as tf\n",
    "#from finger_printer_model import get_fingerprinter  # Importe a função que cria o modelo\n",
    "\n",
    "# Suponha que 'model_checkpoint_path' é o caminho para o arquivo de checkpoint do seu modelo treinado\n",
    "model_checkpoint_path = \"/home/rodrigo/Documents/neural-audio-fp/logs/checkpoint/CHECKPOINT_BSZ_120/\"\n",
    "\n",
    "# Crie uma instância do modelo\n",
    "model = get_fingerprinter(cfg, trainable=True)  # Certifique-se de ajustar 'cfg' de acordo com suas necessidades\n",
    "\n",
    "# Carregue os pesos do modelo a partir do checkpoint\n",
    "#model.load_weights(model_checkpoint_path)\n",
    "model.load_weights(tf.train.latest_checkpoint(model_checkpoint_path))\n",
    "\n",
    "\n",
    "# Salve o modelo como SavedModel\n",
    "saved_model_path = \"/home/rodrigo/Documents/neural-audio-fp/scripts/\"\n",
    "tf.saved_model.save(model, saved_model_path)\n"
   ]
  },
  {
   "cell_type": "code",
   "execution_count": 9,
   "metadata": {},
   "outputs": [
    {
     "data": {
      "text/plain": [
       "<model.fp.nnfp.FingerPrinter at 0x737e19764290>"
      ]
     },
     "execution_count": 9,
     "metadata": {},
     "output_type": "execute_result"
    }
   ],
   "source": [
    "model"
   ]
  },
  {
   "cell_type": "code",
   "execution_count": 10,
   "metadata": {},
   "outputs": [],
   "source": [
    "if cfg['LOSS']['LOSS_MODE'].upper() == 'NTXENT': # Default\n",
    "    loss_obj_train = NTxentLoss(\n",
    "        n_org=cfg['BSZ']['TR_N_ANCHOR'],\n",
    "        n_rep=cfg['BSZ']['TR_BATCH_SZ'] - cfg['BSZ']['TR_N_ANCHOR'],\n",
    "        tau=cfg['LOSS']['TAU'])"
   ]
  },
  {
   "cell_type": "code",
   "execution_count": null,
   "metadata": {},
   "outputs": [],
   "source": [
    "import tensorflow as tf\n",
    "#from finger_printer_model import get_fingerprinter  # Importe a função que cria o modelo\n",
    "\n",
    "# Suponha que 'checkpoint_dir' seja o diretório onde os arquivos de checkpoint estão localizados\n",
    "checkpoint_dir = \"/home/rodrigo/Documents/neural-audio-fp/logs/checkpoint/CHECKPOINT_BSZ_120/\"\n",
    "\n",
    "# Crie uma instância do modelo\n",
    "model = get_fingerprinter(cfg, trainable=True)  # Certifique-se de ajustar 'cfg' de acordo com suas necessidades\n",
    "\n",
    "# Compile o modelo antes de carregar os pesos\n",
    "model.compile(optimizer='ADAM', loss=loss_obj_train, metrics=['accuracy'])\n",
    "\n",
    "# Carregue os pesos do modelo a partir dos arquivos de checkpoint\n",
    "model.load_weights(tf.train.latest_checkpoint(checkpoint_dir))\n",
    "\n",
    "# Salve o modelo como SavedModel\n",
    "saved_model_path = \"/home/rodrigo/Documents/neural-audio-fp/logs/\"\n",
    "tf.saved_model.save(model, saved_model_path)\n"
   ]
  },
  {
   "cell_type": "code",
   "execution_count": null,
   "metadata": {},
   "outputs": [],
   "source": [
    "#saved_model_path = \"/home/rodrigo/Documents/neural-audio-fp/scripts/\"\n",
    "model = tf.saved_model.load('/home/rodrigo/Documents/neural-audio-fp/saved_model')"
   ]
  },
  {
   "cell_type": "code",
   "execution_count": null,
   "metadata": {},
   "outputs": [],
   "source": [
    "model.summary()"
   ]
  }
 ],
 "metadata": {
  "kernelspec": {
   "display_name": "audio",
   "language": "python",
   "name": "python3"
  },
  "language_info": {
   "codemirror_mode": {
    "name": "ipython",
    "version": 3
   },
   "file_extension": ".py",
   "mimetype": "text/x-python",
   "name": "python",
   "nbconvert_exporter": "python",
   "pygments_lexer": "ipython3",
   "version": "3.11.0"
  }
 },
 "nbformat": 4,
 "nbformat_minor": 2
}
