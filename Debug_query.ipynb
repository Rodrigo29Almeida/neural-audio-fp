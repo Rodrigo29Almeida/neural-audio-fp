{
 "cells": [
  {
   "cell_type": "markdown",
   "metadata": {},
   "source": [
    "Perceber faiss, e esquema todo"
   ]
  },
  {
   "cell_type": "code",
   "execution_count": null,
   "metadata": {},
   "outputs": [],
   "source": [
    "\"\"\"\n",
    "def load_h5_data(source_dir):\n",
    "    h5Files = sorted(glob.glob(source_dir + '**/*.h5', recursive=True))\n",
    "\n",
    "    embs_count = 0\n",
    "    embs_info = []\n",
    "    embs = []\n",
    "    music_names = []\n",
    "\n",
    "    for i in range(len(h5Files)):\n",
    "        with h5py.File(h5Files[i], \"r\") as f:\n",
    "            #print(i)\n",
    "            base_name = os.path.splitext(os.path.basename(h5Files[i]))[0]\n",
    "            #primeiro objeto é o que contém os embeddings\n",
    "            a_group_key = list(f.keys())[0]\n",
    "\n",
    "            #Extração dos embs como um array\n",
    "            ds_arr = f[a_group_key][()]  # returns as a numpy array\n",
    "            #print(ds_arr.shape)\n",
    "            embeddings = np.squeeze(ds_arr, axis=1)\n",
    "            #print(embeddings.shape)\n",
    "            embs.append(embeddings) #Guarda na lista os embs\n",
    "            #arrayEmb = ds_arr\n",
    "\n",
    "            embs_count += len(ds_arr) #conta quantos embs tem o vetor\n",
    "            embs_info.append([i, base_name, embs_count]) #guarda numa lista o número de vetores até o momento.\n",
    "            # embs_info = [indice, file_name, n_segs]\n",
    "\n",
    "            music_names.extend([base_name] * len(ds_arr))\n",
    "            \n",
    "            f.close()\n",
    "    return embs, embs_info, music_names\n",
    "\n",
    "\"\"\""
   ]
  },
  {
   "cell_type": "code",
   "execution_count": 51,
   "metadata": {},
   "outputs": [],
   "source": [
    "import os\n",
    "import sys\n",
    "import time\n",
    "import glob\n",
    "import click\n",
    "import curses\n",
    "import numpy as np\n",
    "import faiss\n",
    "#sys.path.append(os.path.dirname(os.path.abspath(os.path.dirname(__file__))))\n",
    "#from eval_RA.utils.get_index_faiss import get_index\n",
    "from eval_RA.utils.print_table import PrintTable"
   ]
  },
  {
   "cell_type": "markdown",
   "metadata": {},
   "source": [
    "Carrega os vetores memmap, é apenas a função"
   ]
  },
  {
   "cell_type": "code",
   "execution_count": 18,
   "metadata": {},
   "outputs": [],
   "source": [
    "def load_memmap_data(source_dir,\n",
    "                     fname,\n",
    "                     append_extra_length=None,\n",
    "                     shape_only=False,\n",
    "                     display=True):\n",
    "    path_shape = source_dir + fname + '_shape.npy'\n",
    "    path_data = source_dir + fname + '.mm'\n",
    "    data_shape = np.load(path_shape)\n",
    "    if shape_only:\n",
    "        return data_shape\n",
    "\n",
    "    if append_extra_length:\n",
    "        data_shape[0] += append_extra_length\n",
    "        data = np.memmap(path_data, dtype='float32', mode='r+',\n",
    "                         shape=(data_shape[0], data_shape[1]))\n",
    "    else:\n",
    "        data = np.memmap(path_data, dtype='float32', mode='r',\n",
    "                         shape=(data_shape[0], data_shape[1]))\n",
    "    if display:\n",
    "        print(f'Load {data_shape[0]:,} items from \\033[32m{path_data}\\033[0m.')\n",
    "    return data, data_shape"
   ]
  },
  {
   "cell_type": "code",
   "execution_count": 17,
   "metadata": {},
   "outputs": [],
   "source": [
    "emb_dir = '/mnt/dev/rodrigoalmeida/neural-audio-fp/logs/emb/CHECK_BFTRI_100/101/'\n",
    "emb_dummy_dir=None\n",
    "index_type='ivfpq'\n",
    "nogpu=True\n",
    "max_train=1e7\n",
    "test_ids='icassp'\n",
    "test_seq_len='1 3 5'#9 11 19' #numero de segmentos para os segunintes segundos: 1, 2, 3, 5, 6, 10\n",
    "k_probe=20\n",
    "display_interval=5"
   ]
  },
  {
   "cell_type": "code",
   "execution_count": 19,
   "metadata": {},
   "outputs": [
    {
     "name": "stdout",
     "output_type": "stream",
     "text": [
      "Load 29,500 items from \u001b[32m/mnt/dev/rodrigoalmeida/neural-audio-fp/logs/emb/CHECK_BFTRI_100/101/query.mm\u001b[0m.\n",
      "Load 29,500 items from \u001b[32m/mnt/dev/rodrigoalmeida/neural-audio-fp/logs/emb/CHECK_BFTRI_100/101/db.mm\u001b[0m.\n",
      "Load 53,754,198 items from \u001b[32m/mnt/dev/rodrigoalmeida/neural-audio-fp/logs/emb/CHECK_BFTRI_100/101/dummy_db.mm\u001b[0m.\n"
     ]
    }
   ],
   "source": [
    "test_seq_len = np.asarray(\n",
    "    list(map(int, test_seq_len.split())))  # '1 3 5' --> [1, 3, 5]\n",
    "\n",
    "# Load items from {query, db, dummy_db}\n",
    "query, query_shape = load_memmap_data(emb_dir, 'query')\n",
    "db, db_shape = load_memmap_data(emb_dir, 'db')\n",
    "\n",
    "if emb_dummy_dir is None:\n",
    "    emb_dummy_dir = emb_dir\n",
    "dummy_db, dummy_db_shape = load_memmap_data(emb_dummy_dir, 'dummy_db')"
   ]
  },
  {
   "cell_type": "code",
   "execution_count": 5,
   "metadata": {},
   "outputs": [
    {
     "data": {
      "text/plain": [
       "'dummy_db = dummy_db[:10000,:]\\ndummy_db_shape = np.array(dummy_db.shape)\\ndb = db[:500,:]\\ndb_shape= np.array(db.shape)\\nquery= query[:500,:]\\nquery_shape= np.array(query.shape)'"
      ]
     },
     "execution_count": 5,
     "metadata": {},
     "output_type": "execute_result"
    }
   ],
   "source": [
    "\"\"\"dummy_db = dummy_db[:10000,:]\n",
    "dummy_db_shape = np.array(dummy_db.shape)\n",
    "db = db[:500,:]\n",
    "db_shape= np.array(db.shape)\n",
    "query= query[:500,:]\n",
    "query_shape= np.array(query.shape)\"\"\""
   ]
  },
  {
   "cell_type": "code",
   "execution_count": 20,
   "metadata": {},
   "outputs": [
    {
     "data": {
      "text/plain": [
       "(array([53754198,      128]), array([29500,   128]), array([29500,   128]))"
      ]
     },
     "execution_count": 20,
     "metadata": {},
     "output_type": "execute_result"
    }
   ],
   "source": [
    "dummy_db_shape, db_shape, query_shape"
   ]
  },
  {
   "cell_type": "code",
   "execution_count": 21,
   "metadata": {},
   "outputs": [],
   "source": [
    "def get_index(index_type,\n",
    "              train_data,\n",
    "              train_data_shape,\n",
    "              use_gpu=True,\n",
    "              max_nitem_train=2e7):\n",
    "\n",
    "    # Fingerprint dimension, d\n",
    "    d = 128#train_data_shape[1]\n",
    "\n",
    "    # Build a flat (CPU) index\n",
    "    index = faiss.IndexFlatL2(d) #\n",
    "\n",
    "    mode = index_type.lower()\n",
    "    print(f'Creating index: \\033[93m{mode}\\033[0m')\n",
    "\n",
    "    if mode == 'ivfpq':\n",
    "        # Using IVF-PQ index\n",
    "        code_sz = 64 # power of 2\n",
    "        n_centroids = 256#\n",
    "        nbits = 8  # nbits must be 8, 12 or 16, The dimension d should be a multiple of M.\n",
    "        index = faiss.IndexIVFPQ(index, d, n_centroids, code_sz, nbits) #nbits = número de bits por índice\n",
    "\n",
    "\n",
    "    # Train index\n",
    "    # len(train_data) = 53754198\n",
    "    # max_nitem_train = 10000000.0\n",
    "    max_nitem_train = int(max_nitem_train)\n",
    "    start_time = time.time()\n",
    "    if len(train_data) > max_nitem_train:\n",
    "        print('Training index using {:>3.2f} % of data...'.format(\n",
    "            100. * max_nitem_train / len(train_data)))\n",
    "        \n",
    "        # shuffle and reduce training data\n",
    "        sel_tr_idx = np.random.permutation(len(train_data))\n",
    "\n",
    "        #print(len(sel_tr_idx))\n",
    "        \n",
    "\n",
    "        sel_tr_idx = sel_tr_idx[:max_nitem_train]\n",
    "        index.train(train_data[sel_tr_idx,:])\n",
    "    else:\n",
    "        print('Training index...')\n",
    "        index.train(train_data) # Actually do nothing for {'l2', 'hnsw'}\n",
    "    print('Elapsed time: {:.2f} seconds.'.format(time.time() - start_time))\n",
    "\n",
    "    # N probe\n",
    "    index.nprobe = 40\n",
    "    return index"
   ]
  },
  {
   "cell_type": "code",
   "execution_count": 22,
   "metadata": {},
   "outputs": [
    {
     "name": "stdout",
     "output_type": "stream",
     "text": [
      "Creating index: \u001b[93mivfpq\u001b[0m\n",
      "Training index using 18.60 % of data...\n"
     ]
    }
   ],
   "source": [
    "index = get_index(index_type, dummy_db, dummy_db.shape, (not nogpu),\n",
    "                    max_train)\n",
    "#index.add(dummy_db); print(f'{len(dummy_db)} items from dummy DB')\n",
    "#index.add(db); print(f'{len(db)} items from reference DB')"
   ]
  },
  {
   "cell_type": "code",
   "execution_count": null,
   "metadata": {},
   "outputs": [
    {
     "name": "stdout",
     "output_type": "stream",
     "text": [
      "53754198 items from dummy DB\n",
      "CPU times: user 48min 40s, sys: 3.38 s, total: 48min 43s\n",
      "Wall time: 7min 20s\n"
     ]
    }
   ],
   "source": [
    "%%time\n",
    "index.add(dummy_db); print(f'{len(dummy_db)} items from dummy DB')"
   ]
  },
  {
   "cell_type": "code",
   "execution_count": null,
   "metadata": {},
   "outputs": [
    {
     "name": "stdout",
     "output_type": "stream",
     "text": [
      "29500 items from reference DB\n"
     ]
    }
   ],
   "source": [
    "#index.add(dummy_db); print(f'{len(dummy_db)} items from dummy DB')\n",
    "#index.add(db); print(f'{len(db)} items from reference DB')\n",
    "#%%time\n",
    "index.add(db); print(f'{len(db)} items from reference DB')"
   ]
  },
  {
   "cell_type": "code",
   "execution_count": 14,
   "metadata": {},
   "outputs": [
    {
     "name": "stdout",
     "output_type": "stream",
     "text": [
      "Added total 53783698 items to DB.\n"
     ]
    }
   ],
   "source": [
    "print(f'Added total {index.ntotal} items to DB.') #53783698"
   ]
  },
  {
   "cell_type": "code",
   "execution_count": 15,
   "metadata": {},
   "outputs": [
    {
     "data": {
      "text/plain": [
       "(29500, 128)"
      ]
     },
     "execution_count": 15,
     "metadata": {},
     "output_type": "execute_result"
    }
   ],
   "source": [
    "db.shape"
   ]
  },
  {
   "cell_type": "code",
   "execution_count": 16,
   "metadata": {},
   "outputs": [
    {
     "data": {
      "text/plain": [
       "(memmap([[ 0.04492491,  0.1270966 ,  0.08505773, ..., -0.14611703,\n",
       "           0.04584039, -0.2061284 ],\n",
       "         [ 0.169376  ,  0.06089051, -0.02685473, ..., -0.04961549,\n",
       "          -0.06049845, -0.15369163],\n",
       "         [ 0.10719954,  0.08526957, -0.11996314, ..., -0.16281487,\n",
       "          -0.10421381, -0.10944535],\n",
       "         ...,\n",
       "         [ 0.16346152,  0.00257511,  0.03175417, ..., -0.02812611,\n",
       "          -0.00081418, -0.00859264],\n",
       "         [ 0.08251635, -0.01852906, -0.05228599, ..., -0.01777812,\n",
       "          -0.01846879,  0.03699062],\n",
       "         [ 0.01534273,  0.00481873, -0.04748525, ...,  0.0211641 ,\n",
       "          -0.07289249,  0.09382156]], dtype=float32),\n",
       " (29500, 128),\n",
       " memmap([[-0.02820984,  0.05458414,  0.13315764, ..., -0.07943324,\n",
       "          -0.06755827, -0.1349114 ],\n",
       "         [-0.03512029, -0.0023555 , -0.01484859, ...,  0.06893457,\n",
       "           0.0056461 , -0.10987652],\n",
       "         [-0.12248736,  0.00509285,  0.0186034 , ..., -0.03802261,\n",
       "          -0.01838935, -0.17803867],\n",
       "         ...,\n",
       "         [ 0.06093094,  0.06798348,  0.02273511, ..., -0.0754654 ,\n",
       "           0.08716874,  0.05081601],\n",
       "         [ 0.01498671,  0.00024725,  0.07270101, ..., -0.10112375,\n",
       "           0.09676183,  0.08034153],\n",
       "         [-0.03057436,  0.02142133,  0.14270875, ..., -0.15414906,\n",
       "           0.05818135,  0.09702029]], dtype=float32),\n",
       " (29500, 128))"
      ]
     },
     "execution_count": 16,
     "metadata": {},
     "output_type": "execute_result"
    }
   ],
   "source": [
    "query, query.shape, db, db.shape"
   ]
  },
  {
   "cell_type": "code",
   "execution_count": 17,
   "metadata": {},
   "outputs": [
    {
     "data": {
      "text/plain": [
       "(memmap([[-0.02531523,  0.04019322, -0.024949  , ..., -0.04270871,\n",
       "           0.04694553, -0.2953804 ],\n",
       "         [ 0.04895402,  0.02706368,  0.09538799, ..., -0.00557855,\n",
       "           0.06903314, -0.3006253 ],\n",
       "         [ 0.04895402,  0.02706368,  0.09538799, ..., -0.00557855,\n",
       "           0.06903314, -0.3006253 ],\n",
       "         ...,\n",
       "         [ 0.03045553,  0.03002142,  0.05494113, ..., -0.01226748,\n",
       "           0.02941038, -0.2961614 ],\n",
       "         [ 0.03061585,  0.02999131,  0.05510492, ..., -0.01257171,\n",
       "           0.02929047, -0.2961139 ],\n",
       "         [ 0.03061585,  0.02999131,  0.05510492, ..., -0.01257171,\n",
       "           0.02929047, -0.2961139 ]], dtype=float32),\n",
       " (53754198, 128))"
      ]
     },
     "execution_count": 17,
     "metadata": {},
     "output_type": "execute_result"
    }
   ],
   "source": [
    "dummy_db, dummy_db.shape"
   ]
  },
  {
   "cell_type": "markdown",
   "metadata": {},
   "source": [
    "## Prepare fake_recon_index"
   ]
  },
  {
   "cell_type": "code",
   "execution_count": 18,
   "metadata": {},
   "outputs": [],
   "source": [
    "del dummy_db"
   ]
  },
  {
   "cell_type": "code",
   "execution_count": 19,
   "metadata": {},
   "outputs": [
    {
     "data": {
      "text/plain": [
       "array([29500,   128])"
      ]
     },
     "execution_count": 19,
     "metadata": {},
     "output_type": "execute_result"
    }
   ],
   "source": [
    "query_shape"
   ]
  },
  {
   "cell_type": "code",
   "execution_count": 20,
   "metadata": {},
   "outputs": [],
   "source": [
    "# append_extra_length = 29500\n",
    "# emb_dummy_dir = '/mnt/dev/rodrigoalmeida/neural-audio-fp/logs/emb/CHECK_BFTRI_100/101/'\n",
    "\n",
    "fake_recon_index, index_shape = load_memmap_data(emb_dummy_dir, 'dummy_db', append_extra_length=query_shape[0], display=False) # shape: 53783698, 128"
   ]
  },
  {
   "cell_type": "code",
   "execution_count": 330,
   "metadata": {},
   "outputs": [],
   "source": [
    "#fake_recon_index = fake_recon_index[:10500,:] "
   ]
  },
  {
   "cell_type": "code",
   "execution_count": 21,
   "metadata": {},
   "outputs": [],
   "source": [
    "index_shape = np.array(fake_recon_index.shape)"
   ]
  },
  {
   "cell_type": "code",
   "execution_count": 22,
   "metadata": {},
   "outputs": [
    {
     "data": {
      "text/plain": [
       "(array([53783698,      128]),\n",
       " memmap([[-2.5315231e-02,  4.0193215e-02, -2.4949001e-02, ...,\n",
       "          -4.2708706e-02,  4.6945531e-02, -2.9538041e-01],\n",
       "         [ 4.8954025e-02,  2.7063677e-02,  9.5387988e-02, ...,\n",
       "          -5.5785514e-03,  6.9033138e-02, -3.0062529e-01],\n",
       "         [ 4.8954025e-02,  2.7063677e-02,  9.5387988e-02, ...,\n",
       "          -5.5785514e-03,  6.9033138e-02, -3.0062529e-01],\n",
       "         ...,\n",
       "         [ 6.0930941e-02,  6.7983478e-02,  2.2735108e-02, ...,\n",
       "          -7.5465396e-02,  8.7168738e-02,  5.0816007e-02],\n",
       "         [ 1.4986711e-02,  2.4725229e-04,  7.2701007e-02, ...,\n",
       "          -1.0112375e-01,  9.6761830e-02,  8.0341525e-02],\n",
       "         [-3.0574361e-02,  2.1421332e-02,  1.4270875e-01, ...,\n",
       "          -1.5414906e-01,  5.8181353e-02,  9.7020291e-02]], dtype=float32))"
      ]
     },
     "execution_count": 22,
     "metadata": {},
     "output_type": "execute_result"
    }
   ],
   "source": [
    "index_shape, fake_recon_index\n",
    "# 53783698, 128"
   ]
  },
  {
   "cell_type": "code",
   "execution_count": 23,
   "metadata": {},
   "outputs": [],
   "source": [
    "# vai adicionar aos extra 29500 espaços vazios que tem o db\n",
    "\n",
    "# dummy_db_shape[0]:dummy_db_shape[0] + query_shape[0] =[ 53754198 : 53754198+29500 ] =[ 53754198 : 53783698 ]\n",
    "\n",
    "fake_recon_index[dummy_db_shape[0]:dummy_db_shape[0] + query_shape[0], :] = db[:, :]"
   ]
  },
  {
   "cell_type": "code",
   "execution_count": 24,
   "metadata": {},
   "outputs": [],
   "source": [
    "fake_recon_index.flush()"
   ]
  },
  {
   "cell_type": "code",
   "execution_count": 25,
   "metadata": {},
   "outputs": [
    {
     "data": {
      "text/plain": [
       "memmap([-0.02820984,  0.05458414,  0.13315764, -0.07217907,  0.00880428,\n",
       "        -0.02644426, -0.0620158 ,  0.03395626,  0.22050709, -0.07457374,\n",
       "         0.00176313, -0.02056349, -0.11613505,  0.05840379,  0.06076813,\n",
       "         0.02107625,  0.06576505,  0.06772836, -0.09941087,  0.01126463,\n",
       "         0.03091909, -0.00330019, -0.01438594,  0.07806544,  0.11890554,\n",
       "         0.07657426,  0.03755019,  0.05498022,  0.05501391,  0.04497967,\n",
       "        -0.00479582, -0.00982922, -0.15555283, -0.01359908,  0.07182553,\n",
       "         0.01893048, -0.06315958, -0.10929884, -0.04172297,  0.06851115,\n",
       "         0.04001686,  0.01183444, -0.05304273,  0.06989591, -0.12449499,\n",
       "        -0.02797864, -0.01638886,  0.0504494 , -0.05245946, -0.10353263,\n",
       "        -0.18387204, -0.08876616,  0.166653  , -0.08358106,  0.08487547,\n",
       "         0.13269134, -0.04197102,  0.20488472,  0.15165468,  0.0330515 ,\n",
       "        -0.01974918, -0.10508668, -0.03005299,  0.08300256, -0.06361946,\n",
       "         0.05721753,  0.13452126,  0.14779134,  0.12907572,  0.08985429,\n",
       "        -0.00798049, -0.03315925,  0.03195597, -0.15440683, -0.01744367,\n",
       "        -0.12098852,  0.04383975, -0.06799519, -0.04539202,  0.16599531,\n",
       "        -0.09183978, -0.05836181, -0.04659382, -0.0115918 ,  0.14730369,\n",
       "        -0.08559957, -0.01557145, -0.01118577,  0.20941375, -0.11276786,\n",
       "         0.12664185, -0.03901649,  0.00889956, -0.15699707,  0.11958051,\n",
       "        -0.04921885, -0.12796459, -0.24051426, -0.04608343,  0.01543779,\n",
       "        -0.00437317, -0.15494621, -0.13079575, -0.07083802, -0.02502246,\n",
       "         0.09137446,  0.01638632, -0.02604073,  0.01660152,  0.011155  ,\n",
       "         0.02391035, -0.06882536, -0.0299443 ,  0.14561187, -0.01489552,\n",
       "         0.0824327 ,  0.05636862, -0.13364175,  0.04536092, -0.05326286,\n",
       "         0.05261469, -0.06924283,  0.0783054 ,  0.09012884,  0.03043924,\n",
       "        -0.07943324, -0.06755827, -0.1349114 ], dtype=float32)"
      ]
     },
     "execution_count": 25,
     "metadata": {},
     "output_type": "execute_result"
    }
   ],
   "source": [
    "db[0, :]"
   ]
  },
  {
   "cell_type": "code",
   "execution_count": 26,
   "metadata": {},
   "outputs": [
    {
     "data": {
      "text/plain": [
       "memmap([-0.02820984,  0.05458414,  0.13315764, -0.07217907,  0.00880428,\n",
       "        -0.02644426, -0.0620158 ,  0.03395626,  0.22050709, -0.07457374,\n",
       "         0.00176313, -0.02056349, -0.11613505,  0.05840379,  0.06076813,\n",
       "         0.02107625,  0.06576505,  0.06772836, -0.09941087,  0.01126463,\n",
       "         0.03091909, -0.00330019, -0.01438594,  0.07806544,  0.11890554,\n",
       "         0.07657426,  0.03755019,  0.05498022,  0.05501391,  0.04497967,\n",
       "        -0.00479582, -0.00982922, -0.15555283, -0.01359908,  0.07182553,\n",
       "         0.01893048, -0.06315958, -0.10929884, -0.04172297,  0.06851115,\n",
       "         0.04001686,  0.01183444, -0.05304273,  0.06989591, -0.12449499,\n",
       "        -0.02797864, -0.01638886,  0.0504494 , -0.05245946, -0.10353263,\n",
       "        -0.18387204, -0.08876616,  0.166653  , -0.08358106,  0.08487547,\n",
       "         0.13269134, -0.04197102,  0.20488472,  0.15165468,  0.0330515 ,\n",
       "        -0.01974918, -0.10508668, -0.03005299,  0.08300256, -0.06361946,\n",
       "         0.05721753,  0.13452126,  0.14779134,  0.12907572,  0.08985429,\n",
       "        -0.00798049, -0.03315925,  0.03195597, -0.15440683, -0.01744367,\n",
       "        -0.12098852,  0.04383975, -0.06799519, -0.04539202,  0.16599531,\n",
       "        -0.09183978, -0.05836181, -0.04659382, -0.0115918 ,  0.14730369,\n",
       "        -0.08559957, -0.01557145, -0.01118577,  0.20941375, -0.11276786,\n",
       "         0.12664185, -0.03901649,  0.00889956, -0.15699707,  0.11958051,\n",
       "        -0.04921885, -0.12796459, -0.24051426, -0.04608343,  0.01543779,\n",
       "        -0.00437317, -0.15494621, -0.13079575, -0.07083802, -0.02502246,\n",
       "         0.09137446,  0.01638632, -0.02604073,  0.01660152,  0.011155  ,\n",
       "         0.02391035, -0.06882536, -0.0299443 ,  0.14561187, -0.01489552,\n",
       "         0.0824327 ,  0.05636862, -0.13364175,  0.04536092, -0.05326286,\n",
       "         0.05261469, -0.06924283,  0.0783054 ,  0.09012884,  0.03043924,\n",
       "        -0.07943324, -0.06755827, -0.1349114 ], dtype=float32)"
      ]
     },
     "execution_count": 26,
     "metadata": {},
     "output_type": "execute_result"
    }
   ],
   "source": [
    "fake_recon_index[ 53754198,:]"
   ]
  },
  {
   "cell_type": "code",
   "execution_count": 27,
   "metadata": {},
   "outputs": [],
   "source": [
    "test_ids = np.load(glob.glob('./**/test_ids_icassp2021.npy', recursive=True)[0])"
   ]
  },
  {
   "cell_type": "code",
   "execution_count": 28,
   "metadata": {},
   "outputs": [
    {
     "data": {
      "text/plain": [
       "53754198"
      ]
     },
     "execution_count": 28,
     "metadata": {},
     "output_type": "execute_result"
    }
   ],
   "source": [
    "dummy_db_shape[0] "
   ]
  },
  {
   "cell_type": "code",
   "execution_count": 29,
   "metadata": {},
   "outputs": [],
   "source": [
    "test_ids = np.array([14655, 24, 121, 487, 112, 483])"
   ]
  },
  {
   "cell_type": "code",
   "execution_count": 30,
   "metadata": {},
   "outputs": [
    {
     "data": {
      "text/plain": [
       "array([14655,    24,   121,   487,   112,   483])"
      ]
     },
     "execution_count": 30,
     "metadata": {},
     "output_type": "execute_result"
    }
   ],
   "source": [
    "test_ids"
   ]
  },
  {
   "cell_type": "code",
   "execution_count": 33,
   "metadata": {},
   "outputs": [],
   "source": [
    "test_ids = test_ids[:1]"
   ]
  },
  {
   "cell_type": "code",
   "execution_count": 34,
   "metadata": {},
   "outputs": [],
   "source": [
    "n_test = len(test_ids)\n",
    "gt_ids  = test_ids + dummy_db_shape[0]\n",
    "top1_exact = np.zeros((n_test, len(test_seq_len))).astype(int) # (n_test, test_seg_len)\n",
    "top1_near = np.zeros((n_test, len(test_seq_len))).astype(int)\n",
    "top3_exact = np.zeros((n_test, len(test_seq_len))).astype(int)\n",
    "top10_exact = np.zeros((n_test, len(test_seq_len))).astype(int)"
   ]
  },
  {
   "cell_type": "code",
   "execution_count": 35,
   "metadata": {},
   "outputs": [
    {
     "data": {
      "text/plain": [
       "array([53768853])"
      ]
     },
     "execution_count": 35,
     "metadata": {},
     "output_type": "execute_result"
    }
   ],
   "source": [
    "gt_ids # 53768853 - 53754198 = 14655"
   ]
  },
  {
   "cell_type": "code",
   "execution_count": null,
   "metadata": {},
   "outputs": [],
   "source": [
    "for ti, test_id in enumerate(test_ids):\n",
    "    gt_id = gt_ids[ti]\n",
    "    for si, sl in enumerate(test_seq_len):\n",
    "        assert test_id <= len(query)"
   ]
  },
  {
   "cell_type": "code",
   "execution_count": 36,
   "metadata": {},
   "outputs": [],
   "source": [
    "ti = 0\n",
    "test_id = test_ids[ti]\n",
    "gt_id = gt_ids[ti]\n",
    "si = 1\n",
    "sl = test_seq_len[si]"
   ]
  },
  {
   "cell_type": "code",
   "execution_count": 37,
   "metadata": {},
   "outputs": [
    {
     "data": {
      "text/plain": [
       "(0, 14655, 53768853, 3)"
      ]
     },
     "execution_count": 37,
     "metadata": {},
     "output_type": "execute_result"
    }
   ],
   "source": [
    "ti, test_id, gt_id, sl"
   ]
  },
  {
   "cell_type": "code",
   "execution_count": 40,
   "metadata": {},
   "outputs": [],
   "source": [
    "q = query[test_id:(test_id + sl), :] # shape(q) = (length, dim)"
   ]
  },
  {
   "cell_type": "code",
   "execution_count": 41,
   "metadata": {},
   "outputs": [
    {
     "data": {
      "text/plain": [
       "memmap([[ 0.15809532, -0.02599731,  0.01563343, -0.01498089, -0.08509405,\n",
       "          0.00918309,  0.07498254,  0.14784455,  0.04171429,  0.00654791,\n",
       "          0.15193549,  0.0434388 , -0.08942915,  0.20740546,  0.03593424,\n",
       "         -0.06072055, -0.04684889, -0.09035619, -0.06467165, -0.00962286,\n",
       "         -0.01251085, -0.08126785,  0.00619965, -0.04982934, -0.00722066,\n",
       "         -0.0855777 ,  0.17162009, -0.07458217,  0.04839539,  0.00616283,\n",
       "          0.02169314, -0.07166849,  0.14735067,  0.02083374,  0.1120945 ,\n",
       "          0.07894135, -0.0452273 , -0.10079931, -0.08433416, -0.0737057 ,\n",
       "         -0.12632951, -0.10347243, -0.06913505,  0.07233108, -0.09519916,\n",
       "          0.08077845, -0.03659033,  0.01063322, -0.11243182,  0.12478732,\n",
       "          0.00699937, -0.00058141,  0.0937693 ,  0.04863384, -0.00416125,\n",
       "         -0.06676556,  0.02907668, -0.02814799,  0.02993005, -0.00958559,\n",
       "         -0.08623658,  0.00639441, -0.06963412, -0.01728812, -0.18978092,\n",
       "         -0.02648345, -0.15898466,  0.00409927,  0.06119691, -0.06204201,\n",
       "          0.08759266,  0.01183059,  0.05071739,  0.32753727, -0.09562138,\n",
       "          0.02530304, -0.1884319 ,  0.12543137, -0.00479679, -0.07211001,\n",
       "          0.10808412,  0.07245206,  0.0610362 , -0.09392631,  0.05131031,\n",
       "          0.07446659,  0.04591974, -0.03691685,  0.0254448 , -0.09683032,\n",
       "          0.03674849,  0.08537237, -0.11328082, -0.05488797,  0.08406887,\n",
       "         -0.03308051, -0.05179197,  0.12429374,  0.23173918, -0.00621815,\n",
       "          0.14942522, -0.0732986 ,  0.08133926,  0.04422827, -0.11327676,\n",
       "          0.15314676, -0.00675235,  0.00959654, -0.06837054,  0.00472656,\n",
       "         -0.04973622, -0.02063952,  0.11427636,  0.09264562,  0.12099369,\n",
       "          0.04713694, -0.03639697,  0.02720241,  0.07506174,  0.05501056,\n",
       "          0.17360698,  0.04519074,  0.01676281, -0.0251747 , -0.0335025 ,\n",
       "          0.04261743,  0.16243638,  0.04823006],\n",
       "        [ 0.05279738,  0.06394619,  0.0391595 ,  0.02991422, -0.04641201,\n",
       "          0.03005909,  0.03202603,  0.06476468,  0.12603728,  0.04041858,\n",
       "          0.11685608, -0.07934853,  0.06022328, -0.017227  ,  0.02464288,\n",
       "         -0.10006492, -0.11707952, -0.04522401, -0.0148611 , -0.0593874 ,\n",
       "         -0.09329333,  0.03910169, -0.03211477,  0.0048564 ,  0.13612793,\n",
       "         -0.17345731,  0.05060726, -0.04315619,  0.0628318 , -0.13271901,\n",
       "          0.05758543, -0.04013068,  0.14472532,  0.06462678,  0.04863745,\n",
       "         -0.09263043, -0.06646013, -0.06775337, -0.04268922, -0.08759148,\n",
       "         -0.01607538, -0.17836304, -0.1952183 ,  0.10680307, -0.16570628,\n",
       "         -0.0700542 , -0.09426725,  0.08871402, -0.03763106,  0.15245873,\n",
       "          0.19309138,  0.0480763 ,  0.03718363,  0.01900929, -0.01729776,\n",
       "         -0.15056594,  0.02300015, -0.0603686 , -0.00577207, -0.00118624,\n",
       "         -0.11109155, -0.01525398, -0.03479432, -0.02329823, -0.21624817,\n",
       "         -0.02171803, -0.10541874,  0.08272585,  0.08248001, -0.1961738 ,\n",
       "         -0.13435483, -0.03176234,  0.01994306,  0.21697389, -0.09588432,\n",
       "         -0.03940715, -0.01296482,  0.03461747,  0.01452324, -0.00295263,\n",
       "          0.058823  ,  0.0543164 ,  0.09965113, -0.03028071,  0.0011208 ,\n",
       "          0.04441449,  0.03490058,  0.04745352,  0.00277666, -0.01026181,\n",
       "          0.03921451,  0.12229775, -0.01417394, -0.03584659,  0.06139781,\n",
       "          0.02667154,  0.09462776,  0.08853462,  0.06846361, -0.11679742,\n",
       "          0.17740835,  0.04205038,  0.07855317,  0.19979557,  0.05944758,\n",
       "          0.14463292, -0.05967902, -0.07743432, -0.06169749,  0.02105292,\n",
       "         -0.01601323, -0.0473304 , -0.12606089,  0.04545901,  0.10866236,\n",
       "          0.07948958, -0.01303041,  0.00524222,  0.09889349,  0.0563683 ,\n",
       "          0.15236902,  0.02041235, -0.07518853, -0.06045268, -0.02392038,\n",
       "         -0.04396903,  0.22648293,  0.03855742],\n",
       "        [ 0.01352251, -0.07554411,  0.06294394, -0.06455733, -0.17754701,\n",
       "          0.04695728,  0.11703553,  0.02138816,  0.01138285,  0.00511093,\n",
       "          0.13409236, -0.09741569,  0.01681521, -0.03953931,  0.01371973,\n",
       "         -0.04834823, -0.05066743, -0.02469772, -0.05464189, -0.05864383,\n",
       "         -0.09624786,  0.00156712, -0.05678684,  0.06961808,  0.07161071,\n",
       "         -0.06709972,  0.13864714,  0.05939149,  0.05187973, -0.14542915,\n",
       "          0.03910067, -0.07236469,  0.13894586,  0.00129054,  0.1591539 ,\n",
       "         -0.03682954, -0.06906245, -0.07700393, -0.06205206, -0.10792854,\n",
       "         -0.06260333, -0.17083426, -0.10609397, -0.0347655 , -0.08442212,\n",
       "          0.01885397, -0.08807246,  0.10369125,  0.02399508,  0.02088907,\n",
       "          0.07349161,  0.06559193,  0.01192984, -0.02768513,  0.05797693,\n",
       "         -0.16981426,  0.00179829, -0.06113629,  0.01675706,  0.03460426,\n",
       "         -0.10477698,  0.00857342,  0.02779946,  0.07372101, -0.1956514 ,\n",
       "         -0.02748441, -0.03377317,  0.10620662,  0.09017379, -0.15093307,\n",
       "         -0.16261256, -0.01536145,  0.16952136,  0.09589994, -0.0381541 ,\n",
       "         -0.03318309, -0.10835104,  0.06325614,  0.07254942,  0.00364377,\n",
       "          0.00947088,  0.06839769,  0.06259396,  0.01228142,  0.06533814,\n",
       "          0.07870194,  0.0855698 ,  0.07307194,  0.03545099,  0.04143295,\n",
       "         -0.04137534,  0.21140724, -0.04115811, -0.05911814,  0.05591662,\n",
       "         -0.02537235, -0.1454857 ,  0.00895162,  0.01000266, -0.02444998,\n",
       "          0.10902794,  0.00856497,  0.11898826,  0.25150314,  0.07688001,\n",
       "          0.06430431, -0.03449596, -0.12511294, -0.10049125, -0.05347748,\n",
       "         -0.0627244 , -0.01114991, -0.17745166,  0.01309567,  0.18056329,\n",
       "          0.11502628, -0.00064221,  0.03232345,  0.03752747,  0.03111211,\n",
       "          0.25331607,  0.01571143, -0.05311668, -0.02468856,  0.00820927,\n",
       "          0.03539498,  0.18197796,  0.08272891]], dtype=float32)"
      ]
     },
     "execution_count": 41,
     "metadata": {},
     "output_type": "execute_result"
    }
   ],
   "source": [
    "q"
   ]
  },
  {
   "cell_type": "code",
   "execution_count": 42,
   "metadata": {},
   "outputs": [],
   "source": [
    "#np.savetxt('query3vetores.csv', q, delimiter=',')"
   ]
  },
  {
   "cell_type": "code",
   "execution_count": 43,
   "metadata": {},
   "outputs": [
    {
     "data": {
      "text/plain": [
       "(29500, 128)"
      ]
     },
     "execution_count": 43,
     "metadata": {},
     "output_type": "execute_result"
    }
   ],
   "source": [
    "query.shape"
   ]
  },
  {
   "cell_type": "code",
   "execution_count": 44,
   "metadata": {},
   "outputs": [
    {
     "data": {
      "text/plain": [
       "(3, 128)"
      ]
     },
     "execution_count": 44,
     "metadata": {},
     "output_type": "execute_result"
    }
   ],
   "source": [
    "q.shape"
   ]
  },
  {
   "cell_type": "code",
   "execution_count": 45,
   "metadata": {},
   "outputs": [
    {
     "data": {
      "text/plain": [
       "memmap([ 0.15809532, -0.02599731,  0.01563343, -0.01498089, -0.08509405,\n",
       "         0.00918309,  0.07498254,  0.14784455,  0.04171429,  0.00654791,\n",
       "         0.15193549,  0.0434388 , -0.08942915,  0.20740546,  0.03593424,\n",
       "        -0.06072055, -0.04684889, -0.09035619, -0.06467165, -0.00962286,\n",
       "        -0.01251085, -0.08126785,  0.00619965, -0.04982934, -0.00722066,\n",
       "        -0.0855777 ,  0.17162009, -0.07458217,  0.04839539,  0.00616283,\n",
       "         0.02169314, -0.07166849,  0.14735067,  0.02083374,  0.1120945 ,\n",
       "         0.07894135, -0.0452273 , -0.10079931, -0.08433416, -0.0737057 ,\n",
       "        -0.12632951, -0.10347243, -0.06913505,  0.07233108, -0.09519916,\n",
       "         0.08077845, -0.03659033,  0.01063322, -0.11243182,  0.12478732,\n",
       "         0.00699937, -0.00058141,  0.0937693 ,  0.04863384, -0.00416125,\n",
       "        -0.06676556,  0.02907668, -0.02814799,  0.02993005, -0.00958559,\n",
       "        -0.08623658,  0.00639441, -0.06963412, -0.01728812, -0.18978092,\n",
       "        -0.02648345, -0.15898466,  0.00409927,  0.06119691, -0.06204201,\n",
       "         0.08759266,  0.01183059,  0.05071739,  0.32753727, -0.09562138,\n",
       "         0.02530304, -0.1884319 ,  0.12543137, -0.00479679, -0.07211001,\n",
       "         0.10808412,  0.07245206,  0.0610362 , -0.09392631,  0.05131031,\n",
       "         0.07446659,  0.04591974, -0.03691685,  0.0254448 , -0.09683032,\n",
       "         0.03674849,  0.08537237, -0.11328082, -0.05488797,  0.08406887,\n",
       "        -0.03308051, -0.05179197,  0.12429374,  0.23173918, -0.00621815,\n",
       "         0.14942522, -0.0732986 ,  0.08133926,  0.04422827, -0.11327676,\n",
       "         0.15314676, -0.00675235,  0.00959654, -0.06837054,  0.00472656,\n",
       "        -0.04973622, -0.02063952,  0.11427636,  0.09264562,  0.12099369,\n",
       "         0.04713694, -0.03639697,  0.02720241,  0.07506174,  0.05501056,\n",
       "         0.17360698,  0.04519074,  0.01676281, -0.0251747 , -0.0335025 ,\n",
       "         0.04261743,  0.16243638,  0.04823006], dtype=float32)"
      ]
     },
     "execution_count": 45,
     "metadata": {},
     "output_type": "execute_result"
    }
   ],
   "source": [
    "query[test_id, :]"
   ]
  },
  {
   "cell_type": "code",
   "execution_count": 47,
   "metadata": {},
   "outputs": [],
   "source": [
    "%%timeit\n",
    "# segment-level top k search for each segment\n",
    "_, I = index.search(q, k_probe) # _: distance, I: result IDs matrix"
   ]
  },
  {
   "cell_type": "code",
   "execution_count": 48,
   "metadata": {},
   "outputs": [
    {
     "data": {
      "text/plain": [
       "array([[53768853, 44703565, 53768854, 53768832, 32602405,  3046219,\n",
       "        50090820, 44703566, 32602390, 30244778, 25233445, 50021449,\n",
       "        53768875, 28396311, 46040053, 27606284, 48439861, 39399655,\n",
       "        39485449, 44703570],\n",
       "       [53768855, 53768876, 50867759, 23104134, 53768854, 53768856,\n",
       "        53768877, 50865421, 23104135, 23104273, 18441413, 23104138,\n",
       "        23104097, 19577881, 23104107, 39696799, 23180610, 19577880,\n",
       "        23104139, 50865250],\n",
       "       [53768855, 53768856, 53768835, 50865430, 30777645, 53768834,\n",
       "        32228339, 53768876, 53768878, 32228337, 30803754, 30803668,\n",
       "        53768877, 23180587, 50865313, 32228338, 32216725, 50701614,\n",
       "        21509771, 21509707]])"
      ]
     },
     "execution_count": 48,
     "metadata": {},
     "output_type": "execute_result"
    }
   ],
   "source": [
    "I"
   ]
  },
  {
   "cell_type": "markdown",
   "metadata": {},
   "source": [
    "I fez a procura dos 20 índices mais próximos para cada segmento. <br><br>\n",
    "array([<br><br>[53761792, 53761793, 53761770, 53761781,  5362706,  7275719,<br>\n",
    "        24526547,  5362584,  6420704,  7295985, 24526136,  3680268,<br>\n",
    "         3679969,  7275692, 53761804, 38301458,  7295993, 24526237,<br>\n",
    "         3679974, 24526761],<br><br>\n",
    "       [ 7270958, 53761771, 33433913, 24526599, 23316112, 34480776,<br>\n",
    "         7351273, 47324267, 21135530, 53761794, 30379957, 53761769,<br>\n",
    "        37939031, 13406213, 24526509, 37751473, 21135531,  8731950,<br>\n",
    "        13406120, 27355198],<br><br>\n",
    "       [28438719, 21019091, 50131108, 52704559, 52704441, 31186157,<br>\n",
    "        30396079, 12989699, 31739697, 47163137, 34751522, 30396077,<br>\n",
    "        31739698, 44823085,  7646024, 20132263, 41764769, 27870591,<br>\n",
    "        30396076, 47163136]<br><br>])"
   ]
  },
  {
   "cell_type": "code",
   "execution_count": 49,
   "metadata": {},
   "outputs": [
    {
     "name": "stdout",
     "output_type": "stream",
     "text": [
      "0\n",
      "1\n",
      "2\n"
     ]
    }
   ],
   "source": [
    "# offset compensation to get the start IDs of candidate sequences\n",
    "for offset in range(len(I)):\n",
    "    print(offset)\n",
    "    I[offset, :] -= offset"
   ]
  },
  {
   "cell_type": "code",
   "execution_count": 50,
   "metadata": {},
   "outputs": [
    {
     "data": {
      "text/plain": [
       "array([[53768853, 44703565, 53768854, 53768832, 32602405,  3046219,\n",
       "        50090820, 44703566, 32602390, 30244778, 25233445, 50021449,\n",
       "        53768875, 28396311, 46040053, 27606284, 48439861, 39399655,\n",
       "        39485449, 44703570],\n",
       "       [53768854, 53768875, 50867758, 23104133, 53768853, 53768855,\n",
       "        53768876, 50865420, 23104134, 23104272, 18441412, 23104137,\n",
       "        23104096, 19577880, 23104106, 39696798, 23180609, 19577879,\n",
       "        23104138, 50865249],\n",
       "       [53768853, 53768854, 53768833, 50865428, 30777643, 53768832,\n",
       "        32228337, 53768874, 53768876, 32228335, 30803752, 30803666,\n",
       "        53768875, 23180585, 50865311, 32228336, 32216723, 50701612,\n",
       "        21509769, 21509705]])"
      ]
     },
     "execution_count": 50,
     "metadata": {},
     "output_type": "execute_result"
    }
   ],
   "source": [
    "I"
   ]
  },
  {
   "cell_type": "code",
   "execution_count": 51,
   "metadata": {},
   "outputs": [
    {
     "data": {
      "text/plain": [
       "array([53768853, 44703565, 53768854, 53768832, 32602405,  3046219,\n",
       "       50090820, 44703566, 32602390, 30244778, 25233445, 50021449,\n",
       "       53768875, 28396311, 46040053, 27606284, 48439861, 39399655,\n",
       "       39485449, 44703570, 53768854, 53768875, 50867758, 23104133,\n",
       "       53768853, 53768855, 53768876, 50865420, 23104134, 23104272,\n",
       "       18441412, 23104137, 23104096, 19577880, 23104106, 39696798,\n",
       "       23180609, 19577879, 23104138, 50865249, 53768853, 53768854,\n",
       "       53768833, 50865428, 30777643, 53768832, 32228337, 53768874,\n",
       "       53768876, 32228335, 30803752, 30803666, 53768875, 23180585,\n",
       "       50865311, 32228336, 32216723, 50701612, 21509769, 21509705])"
      ]
     },
     "execution_count": 51,
     "metadata": {},
     "output_type": "execute_result"
    }
   ],
   "source": [
    "I[np.where(I >= 0)]"
   ]
  },
  {
   "cell_type": "code",
   "execution_count": 52,
   "metadata": {},
   "outputs": [],
   "source": [
    "# unique candidates\n",
    "candidates = np.unique(I[np.where(I >= 0)])   # ignore id < 0"
   ]
  },
  {
   "cell_type": "code",
   "execution_count": 53,
   "metadata": {},
   "outputs": [
    {
     "data": {
      "text/plain": [
       "array([ 3046219, 18441412, 19577879, 19577880, 21509705, 21509769,\n",
       "       23104096, 23104106, 23104133, 23104134, 23104137, 23104138,\n",
       "       23104272, 23180585, 23180609, 25233445, 27606284, 28396311,\n",
       "       30244778, 30777643, 30803666, 30803752, 32216723, 32228335,\n",
       "       32228336, 32228337, 32602390, 32602405, 39399655, 39485449,\n",
       "       39696798, 44703565, 44703566, 44703570, 46040053, 48439861,\n",
       "       50021449, 50090820, 50701612, 50865249, 50865311, 50865420,\n",
       "       50865428, 50867758, 53768832, 53768833, 53768853, 53768854,\n",
       "       53768855, 53768874, 53768875, 53768876])"
      ]
     },
     "execution_count": 53,
     "metadata": {},
     "output_type": "execute_result"
    }
   ],
   "source": [
    "candidates"
   ]
  },
  {
   "cell_type": "code",
   "execution_count": 54,
   "metadata": {},
   "outputs": [],
   "source": [
    "\"\"\" Sequence match score \"\"\"\n",
    "_scores = np.zeros(len(candidates))"
   ]
  },
  {
   "cell_type": "code",
   "execution_count": 55,
   "metadata": {},
   "outputs": [
    {
     "data": {
      "text/plain": [
       "array([0., 0., 0., 0., 0., 0., 0., 0., 0., 0., 0., 0., 0., 0., 0., 0., 0.,\n",
       "       0., 0., 0., 0., 0., 0., 0., 0., 0., 0., 0., 0., 0., 0., 0., 0., 0.,\n",
       "       0., 0., 0., 0., 0., 0., 0., 0., 0., 0., 0., 0., 0., 0., 0., 0., 0.,\n",
       "       0.])"
      ]
     },
     "execution_count": 55,
     "metadata": {},
     "output_type": "execute_result"
    }
   ],
   "source": [
    "_scores"
   ]
  },
  {
   "cell_type": "code",
   "execution_count": 56,
   "metadata": {},
   "outputs": [],
   "source": [
    "ci = 0\n",
    "cid = candidates[ci] "
   ]
  },
  {
   "cell_type": "code",
   "execution_count": 57,
   "metadata": {},
   "outputs": [
    {
     "data": {
      "text/plain": [
       "3046219"
      ]
     },
     "execution_count": 57,
     "metadata": {},
     "output_type": "execute_result"
    }
   ],
   "source": [
    "cid"
   ]
  },
  {
   "cell_type": "code",
   "execution_count": 58,
   "metadata": {},
   "outputs": [
    {
     "data": {
      "text/plain": [
       "3046222"
      ]
     },
     "execution_count": 58,
     "metadata": {},
     "output_type": "execute_result"
    }
   ],
   "source": [
    "cid+sl#, ou seja, se sl=3, 242058+3=242061"
   ]
  },
  {
   "cell_type": "code",
   "execution_count": 59,
   "metadata": {},
   "outputs": [
    {
     "data": {
      "text/plain": [
       "memmap([[ 0.15809532, -0.02599731,  0.01563343, -0.01498089, -0.08509405,\n",
       "          0.00918309,  0.07498254,  0.14784455,  0.04171429,  0.00654791,\n",
       "          0.15193549,  0.0434388 , -0.08942915,  0.20740546,  0.03593424,\n",
       "         -0.06072055, -0.04684889, -0.09035619, -0.06467165, -0.00962286,\n",
       "         -0.01251085, -0.08126785,  0.00619965, -0.04982934, -0.00722066,\n",
       "         -0.0855777 ,  0.17162009, -0.07458217,  0.04839539,  0.00616283,\n",
       "          0.02169314, -0.07166849,  0.14735067,  0.02083374,  0.1120945 ,\n",
       "          0.07894135, -0.0452273 , -0.10079931, -0.08433416, -0.0737057 ,\n",
       "         -0.12632951, -0.10347243, -0.06913505,  0.07233108, -0.09519916,\n",
       "          0.08077845, -0.03659033,  0.01063322, -0.11243182,  0.12478732,\n",
       "          0.00699937, -0.00058141,  0.0937693 ,  0.04863384, -0.00416125,\n",
       "         -0.06676556,  0.02907668, -0.02814799,  0.02993005, -0.00958559,\n",
       "         -0.08623658,  0.00639441, -0.06963412, -0.01728812, -0.18978092,\n",
       "         -0.02648345, -0.15898466,  0.00409927,  0.06119691, -0.06204201,\n",
       "          0.08759266,  0.01183059,  0.05071739,  0.32753727, -0.09562138,\n",
       "          0.02530304, -0.1884319 ,  0.12543137, -0.00479679, -0.07211001,\n",
       "          0.10808412,  0.07245206,  0.0610362 , -0.09392631,  0.05131031,\n",
       "          0.07446659,  0.04591974, -0.03691685,  0.0254448 , -0.09683032,\n",
       "          0.03674849,  0.08537237, -0.11328082, -0.05488797,  0.08406887,\n",
       "         -0.03308051, -0.05179197,  0.12429374,  0.23173918, -0.00621815,\n",
       "          0.14942522, -0.0732986 ,  0.08133926,  0.04422827, -0.11327676,\n",
       "          0.15314676, -0.00675235,  0.00959654, -0.06837054,  0.00472656,\n",
       "         -0.04973622, -0.02063952,  0.11427636,  0.09264562,  0.12099369,\n",
       "          0.04713694, -0.03639697,  0.02720241,  0.07506174,  0.05501056,\n",
       "          0.17360698,  0.04519074,  0.01676281, -0.0251747 , -0.0335025 ,\n",
       "          0.04261743,  0.16243638,  0.04823006],\n",
       "        [ 0.05279738,  0.06394619,  0.0391595 ,  0.02991422, -0.04641201,\n",
       "          0.03005909,  0.03202603,  0.06476468,  0.12603728,  0.04041858,\n",
       "          0.11685608, -0.07934853,  0.06022328, -0.017227  ,  0.02464288,\n",
       "         -0.10006492, -0.11707952, -0.04522401, -0.0148611 , -0.0593874 ,\n",
       "         -0.09329333,  0.03910169, -0.03211477,  0.0048564 ,  0.13612793,\n",
       "         -0.17345731,  0.05060726, -0.04315619,  0.0628318 , -0.13271901,\n",
       "          0.05758543, -0.04013068,  0.14472532,  0.06462678,  0.04863745,\n",
       "         -0.09263043, -0.06646013, -0.06775337, -0.04268922, -0.08759148,\n",
       "         -0.01607538, -0.17836304, -0.1952183 ,  0.10680307, -0.16570628,\n",
       "         -0.0700542 , -0.09426725,  0.08871402, -0.03763106,  0.15245873,\n",
       "          0.19309138,  0.0480763 ,  0.03718363,  0.01900929, -0.01729776,\n",
       "         -0.15056594,  0.02300015, -0.0603686 , -0.00577207, -0.00118624,\n",
       "         -0.11109155, -0.01525398, -0.03479432, -0.02329823, -0.21624817,\n",
       "         -0.02171803, -0.10541874,  0.08272585,  0.08248001, -0.1961738 ,\n",
       "         -0.13435483, -0.03176234,  0.01994306,  0.21697389, -0.09588432,\n",
       "         -0.03940715, -0.01296482,  0.03461747,  0.01452324, -0.00295263,\n",
       "          0.058823  ,  0.0543164 ,  0.09965113, -0.03028071,  0.0011208 ,\n",
       "          0.04441449,  0.03490058,  0.04745352,  0.00277666, -0.01026181,\n",
       "          0.03921451,  0.12229775, -0.01417394, -0.03584659,  0.06139781,\n",
       "          0.02667154,  0.09462776,  0.08853462,  0.06846361, -0.11679742,\n",
       "          0.17740835,  0.04205038,  0.07855317,  0.19979557,  0.05944758,\n",
       "          0.14463292, -0.05967902, -0.07743432, -0.06169749,  0.02105292,\n",
       "         -0.01601323, -0.0473304 , -0.12606089,  0.04545901,  0.10866236,\n",
       "          0.07948958, -0.01303041,  0.00524222,  0.09889349,  0.0563683 ,\n",
       "          0.15236902,  0.02041235, -0.07518853, -0.06045268, -0.02392038,\n",
       "         -0.04396903,  0.22648293,  0.03855742],\n",
       "        [ 0.01352251, -0.07554411,  0.06294394, -0.06455733, -0.17754701,\n",
       "          0.04695728,  0.11703553,  0.02138816,  0.01138285,  0.00511093,\n",
       "          0.13409236, -0.09741569,  0.01681521, -0.03953931,  0.01371973,\n",
       "         -0.04834823, -0.05066743, -0.02469772, -0.05464189, -0.05864383,\n",
       "         -0.09624786,  0.00156712, -0.05678684,  0.06961808,  0.07161071,\n",
       "         -0.06709972,  0.13864714,  0.05939149,  0.05187973, -0.14542915,\n",
       "          0.03910067, -0.07236469,  0.13894586,  0.00129054,  0.1591539 ,\n",
       "         -0.03682954, -0.06906245, -0.07700393, -0.06205206, -0.10792854,\n",
       "         -0.06260333, -0.17083426, -0.10609397, -0.0347655 , -0.08442212,\n",
       "          0.01885397, -0.08807246,  0.10369125,  0.02399508,  0.02088907,\n",
       "          0.07349161,  0.06559193,  0.01192984, -0.02768513,  0.05797693,\n",
       "         -0.16981426,  0.00179829, -0.06113629,  0.01675706,  0.03460426,\n",
       "         -0.10477698,  0.00857342,  0.02779946,  0.07372101, -0.1956514 ,\n",
       "         -0.02748441, -0.03377317,  0.10620662,  0.09017379, -0.15093307,\n",
       "         -0.16261256, -0.01536145,  0.16952136,  0.09589994, -0.0381541 ,\n",
       "         -0.03318309, -0.10835104,  0.06325614,  0.07254942,  0.00364377,\n",
       "          0.00947088,  0.06839769,  0.06259396,  0.01228142,  0.06533814,\n",
       "          0.07870194,  0.0855698 ,  0.07307194,  0.03545099,  0.04143295,\n",
       "         -0.04137534,  0.21140724, -0.04115811, -0.05911814,  0.05591662,\n",
       "         -0.02537235, -0.1454857 ,  0.00895162,  0.01000266, -0.02444998,\n",
       "          0.10902794,  0.00856497,  0.11898826,  0.25150314,  0.07688001,\n",
       "          0.06430431, -0.03449596, -0.12511294, -0.10049125, -0.05347748,\n",
       "         -0.0627244 , -0.01114991, -0.17745166,  0.01309567,  0.18056329,\n",
       "          0.11502628, -0.00064221,  0.03232345,  0.03752747,  0.03111211,\n",
       "          0.25331607,  0.01571143, -0.05311668, -0.02468856,  0.00820927,\n",
       "          0.03539498,  0.18197796,  0.08272891]], dtype=float32)"
      ]
     },
     "execution_count": 59,
     "metadata": {},
     "output_type": "execute_result"
    }
   ],
   "source": [
    "q"
   ]
  },
  {
   "cell_type": "code",
   "execution_count": 61,
   "metadata": {},
   "outputs": [
    {
     "data": {
      "text/plain": [
       "memmap([[ 5.76127395e-02, -1.78871416e-02,  1.44217670e-01],\n",
       "        [ 1.89544428e-02, -2.04251543e-01, -5.37966751e-02],\n",
       "        [ 9.71924067e-02,  7.19601810e-02,  1.38117477e-01],\n",
       "        [ 2.96681803e-02,  2.34301403e-01,  2.08711118e-01],\n",
       "        [-7.05326274e-02,  4.17659506e-02,  6.50995374e-02],\n",
       "        [ 3.80449332e-02,  9.19859335e-02,  9.03739259e-02],\n",
       "        [ 2.53573246e-02, -9.89011154e-02,  2.17377767e-02],\n",
       "        [ 8.30436498e-02,  7.30405599e-02,  1.29654929e-01],\n",
       "        [-8.47351477e-02, -1.04567697e-02,  3.67555916e-02],\n",
       "        [-6.12137653e-02,  6.16695732e-03, -3.67493518e-02],\n",
       "        [ 1.22877248e-01,  2.86944676e-02,  9.05705243e-02],\n",
       "        [-6.64657727e-02, -7.24025965e-02, -3.94301973e-02],\n",
       "        [-8.96304622e-02,  8.10756348e-03,  3.63207906e-02],\n",
       "        [ 9.18619707e-02, -3.82052474e-02, -1.09954908e-01],\n",
       "        [ 9.10857022e-02,  1.00239366e-01,  3.04265227e-02],\n",
       "        [-5.07972576e-02,  2.97043491e-02,  5.21308258e-02],\n",
       "        [ 4.24566343e-02, -9.18675438e-02, -6.10768497e-02],\n",
       "        [-1.08719625e-01, -8.85419026e-02,  2.92556733e-02],\n",
       "        [-1.29962256e-02, -5.78093864e-02,  8.13274309e-02],\n",
       "        [ 1.53548634e-02,  1.87592685e-01,  1.31127685e-01],\n",
       "        [-6.96636215e-02, -7.39152506e-02, -2.37246044e-02],\n",
       "        [-6.63028508e-02, -2.43823174e-02, -1.38045400e-02],\n",
       "        [ 4.70265746e-02,  1.23736069e-01,  5.73406927e-02],\n",
       "        [-6.91973418e-02, -1.29145071e-01, -8.11676756e-02],\n",
       "        [ 1.75083689e-02,  2.26554032e-02, -7.41988793e-02],\n",
       "        [ 1.30293980e-01,  9.26811621e-02,  1.04301646e-02],\n",
       "        [ 1.10557057e-01, -8.77924729e-03,  2.54685879e-02],\n",
       "        [-1.15507841e-01,  1.10388912e-01, -6.37686159e-03],\n",
       "        [ 1.79318897e-02,  6.00447366e-03, -5.32095972e-03],\n",
       "        [ 9.15837009e-03, -4.64964658e-02,  1.27148461e-02],\n",
       "        [-7.91167766e-02,  5.54038659e-02,  1.56839900e-02],\n",
       "        [-3.71685661e-02, -6.68009445e-02, -2.69632638e-02],\n",
       "        [ 1.05622746e-01,  1.26549378e-01,  8.07738528e-02],\n",
       "        [-2.95899883e-02,  4.27171253e-02,  3.37166991e-03],\n",
       "        [ 2.11432800e-01,  8.82683471e-02,  1.49913102e-01],\n",
       "        [ 1.14201643e-01, -5.66710532e-02, -1.64036214e-01],\n",
       "        [-5.40393256e-02,  8.05102959e-02,  2.31272262e-02],\n",
       "        [-9.87185836e-02,  8.00634995e-02,  1.37912007e-02],\n",
       "        [-9.23475772e-02, -8.68470594e-02,  6.44779131e-02],\n",
       "        [-6.16254658e-02, -3.25531289e-02, -9.22018290e-02],\n",
       "        [-3.31992060e-02,  5.07364273e-02, -4.79664616e-02],\n",
       "        [ 1.18832663e-02, -1.50527507e-01, -9.28713977e-02],\n",
       "        [-2.49179214e-01, -1.53472915e-01, -1.19387068e-01],\n",
       "        [ 3.91994081e-02,  1.01863064e-01,  1.06581569e-01],\n",
       "        [-1.44564677e-02,  2.90914867e-02, -8.35218802e-02],\n",
       "        [-4.46612854e-03, -1.21111676e-01, -7.63522461e-02],\n",
       "        [-7.85335749e-02, -1.31129280e-01, -3.40114534e-02],\n",
       "        [-2.68144207e-03, -8.08586106e-02,  5.63394353e-02],\n",
       "        [-8.99638981e-02, -7.09243119e-02, -3.27802226e-02],\n",
       "        [ 1.01850510e-01,  3.21543179e-02,  2.06629448e-02],\n",
       "        [ 4.85282429e-02, -8.64999893e-04,  2.14621916e-01],\n",
       "        [-3.55803296e-02, -9.32031404e-03,  8.29800144e-02],\n",
       "        [ 4.73650172e-02,  6.10142313e-02,  6.00854754e-02],\n",
       "        [ 4.13362794e-02,  1.26671267e-03, -1.31923512e-01],\n",
       "        [-1.02132276e-01, -5.10307252e-02, -4.82194759e-02],\n",
       "        [-2.12004483e-01, -1.44530982e-01, -2.69442677e-01],\n",
       "        [-7.01929966e-04, -4.73776236e-02,  6.59047961e-02],\n",
       "        [-3.10966223e-02, -1.28176332e-01, -1.21401614e-02],\n",
       "        [-8.88239685e-03, -6.52590916e-02,  1.75757520e-02],\n",
       "        [-5.54793589e-02, -5.27684651e-02,  3.56760323e-02],\n",
       "        [-2.05784813e-02,  2.16123704e-02,  2.27729119e-02],\n",
       "        [-5.04870676e-02, -1.04271777e-01, -1.16029732e-01],\n",
       "        [-2.18680203e-02,  5.30919917e-02,  6.05874509e-02],\n",
       "        [ 4.42290828e-02,  1.48047954e-01,  2.56598815e-02],\n",
       "        [-2.08770230e-01,  2.26646326e-02, -1.24063075e-01],\n",
       "        [-6.61498085e-02, -5.44724762e-02, -3.05846054e-02],\n",
       "        [-5.46925329e-02, -9.42293480e-02, -5.15922718e-03],\n",
       "        [-1.15355095e-02,  7.80998245e-02,  1.52423859e-01],\n",
       "        [ 9.39792544e-02,  8.37240815e-02, -4.31289449e-02],\n",
       "        [-2.48808693e-02, -6.54210895e-02,  3.40985358e-02],\n",
       "        [ 9.66309085e-02,  1.39467001e-01,  1.46117434e-01],\n",
       "        [ 1.20784277e-02, -7.28704268e-03, -2.53758729e-02],\n",
       "        [ 8.58123302e-02,  1.65649224e-02, -8.64595398e-02],\n",
       "        [ 3.03852141e-01,  1.31154761e-01,  2.69348115e-01],\n",
       "        [-1.55972345e-02, -3.62745598e-02, -5.85895255e-02],\n",
       "        [ 5.75960167e-02,  1.82218120e-01,  1.06089726e-01],\n",
       "        [-2.86126733e-02, -6.52996674e-02, -1.45132765e-01],\n",
       "        [ 2.04784870e-01,  4.91221584e-02, -6.38580024e-02],\n",
       "        [ 5.85520566e-02,  3.84217650e-02, -8.28444138e-02],\n",
       "        [-1.65357932e-01, -6.78255036e-02,  7.77496025e-02],\n",
       "        [-3.88998277e-02,  2.41477191e-02,  2.86626327e-03],\n",
       "        [ 3.30982581e-02, -6.01019934e-02, -4.41715214e-03],\n",
       "        [ 7.85104856e-02,  1.59541652e-01,  1.10778116e-01],\n",
       "        [-2.39483528e-02, -1.08139608e-02, -2.83791479e-02],\n",
       "        [ 8.73819441e-02,  1.88754648e-01,  1.39855072e-01],\n",
       "        [ 1.71116397e-01,  5.68637848e-02,  7.48813748e-02],\n",
       "        [ 8.49294364e-02,  1.32916540e-01,  9.43865720e-03],\n",
       "        [ 1.71078429e-01, -1.19474955e-01,  2.18429919e-02],\n",
       "        [ 6.27406761e-02, -1.17455401e-01,  5.00126071e-02],\n",
       "        [-1.06802436e-04, -1.03382476e-01,  4.37255055e-02],\n",
       "        [-2.85544023e-02, -9.65157151e-03, -4.96178567e-02],\n",
       "        [ 1.57664254e-01, -4.47509103e-02,  8.34687799e-02],\n",
       "        [-7.84075409e-02, -1.04209520e-01, -7.46656954e-02],\n",
       "        [-6.55140504e-02, -6.58182427e-02, -2.01218948e-02],\n",
       "        [ 5.23409322e-02,  7.48345107e-02,  1.01322137e-01],\n",
       "        [-4.32330407e-02, -7.97229540e-03, -9.19835046e-02],\n",
       "        [-5.60714006e-02,  2.11827848e-02, -2.04729903e-02],\n",
       "        [-7.12020928e-03, -1.62458643e-02, -4.12730463e-02],\n",
       "        [ 1.10065550e-01,  1.35213926e-01,  7.53681958e-02],\n",
       "        [-3.47355269e-02,  4.92219664e-02,  1.13115035e-01],\n",
       "        [ 1.73723057e-01,  5.25637679e-02,  1.03929766e-01],\n",
       "        [-9.92957354e-02, -2.82764453e-02, -1.21781193e-01],\n",
       "        [ 1.02444500e-01, -4.73537035e-02,  1.42479673e-01],\n",
       "        [ 1.58178478e-01,  7.55992755e-02,  5.15761375e-02],\n",
       "        [-1.47064820e-01,  9.82382707e-03,  2.80697513e-02],\n",
       "        [ 4.07243669e-02,  1.51799187e-01,  1.91268787e-01],\n",
       "        [ 8.38521495e-03, -9.73547995e-02, -1.63564816e-01],\n",
       "        [ 4.98423949e-02, -1.35283656e-02,  6.58307746e-02],\n",
       "        [-8.19877908e-03, -9.16119739e-02, -9.87586975e-02],\n",
       "        [ 1.14752017e-02, -1.05025917e-01,  3.90689038e-02],\n",
       "        [-1.01395279e-01,  2.67605986e-02,  1.02120705e-01],\n",
       "        [-1.30181275e-02, -1.36233911e-01, -5.12126908e-02],\n",
       "        [ 1.58492684e-01,  1.10374518e-01,  3.00833005e-02],\n",
       "        [ 2.56350581e-02,  2.63996050e-02, -1.04910739e-01],\n",
       "        [ 8.04733336e-02,  3.15123214e-03,  4.18036953e-02],\n",
       "        [ 6.28554672e-02,  4.40790132e-02, -1.25684228e-03],\n",
       "        [-8.56388360e-02,  1.37406057e-02, -6.68263063e-02],\n",
       "        [ 3.28405276e-02, -8.82752314e-02, -1.72956451e-03],\n",
       "        [-1.07438378e-01, -1.77679703e-01, -7.27834851e-02],\n",
       "        [ 9.03541874e-03,  1.45457044e-01,  1.54341487e-02],\n",
       "        [ 3.97204645e-02,  4.93885428e-02, -1.12934954e-01],\n",
       "        [-2.51156706e-02, -9.72174034e-02, -4.23912331e-02],\n",
       "        [ 4.26704250e-02,  4.94306199e-02,  4.77578714e-02],\n",
       "        [-1.35111157e-03, -2.26940066e-02,  5.29570580e-02],\n",
       "        [ 9.03652832e-02,  7.18709687e-03,  8.32447335e-02],\n",
       "        [-9.21114755e-04, -1.23587333e-01, -8.13893899e-02],\n",
       "        [ 2.08193008e-02,  9.73896459e-02,  1.10637993e-01],\n",
       "        [ 6.66856691e-02,  6.62255585e-02,  6.63538352e-02]],\n",
       "       dtype=float32)"
      ]
     },
     "execution_count": 61,
     "metadata": {},
     "output_type": "execute_result"
    }
   ],
   "source": [
    "fake_recon_index[cid:cid + sl, :].T"
   ]
  },
  {
   "cell_type": "code",
   "execution_count": 62,
   "metadata": {},
   "outputs": [
    {
     "data": {
      "text/plain": [
       "(128, 3)"
      ]
     },
     "execution_count": 62,
     "metadata": {},
     "output_type": "execute_result"
    }
   ],
   "source": [
    "fake_recon_index[cid:cid + sl, :].T.shape"
   ]
  },
  {
   "cell_type": "code",
   "execution_count": 63,
   "metadata": {},
   "outputs": [
    {
     "data": {
      "text/plain": [
       "memmap([[0.67208624, 0.33104604, 0.35702977],\n",
       "        [0.41469234, 0.28005293, 0.38899156],\n",
       "        [0.4534766 , 0.21059127, 0.28456974]], dtype=float32)"
      ]
     },
     "execution_count": 63,
     "metadata": {},
     "output_type": "execute_result"
    }
   ],
   "source": [
    "np.dot(q, fake_recon_index[cid:cid + sl, :].T) # fake_recon_index[3046219:3046220,:] #memmap([[0.6720861]], dtype=float32)"
   ]
  },
  {
   "cell_type": "code",
   "execution_count": 64,
   "metadata": {},
   "outputs": [
    {
     "data": {
      "text/plain": [
       "memmap([0.67208624, 0.28005293, 0.28456974], dtype=float32)"
      ]
     },
     "execution_count": 64,
     "metadata": {},
     "output_type": "execute_result"
    }
   ],
   "source": [
    "np.diag(np.dot(q, fake_recon_index[cid:cid + sl, :].T))"
   ]
  },
  {
   "cell_type": "code",
   "execution_count": 65,
   "metadata": {},
   "outputs": [
    {
     "data": {
      "text/plain": [
       "0.4122363"
      ]
     },
     "execution_count": 65,
     "metadata": {},
     "output_type": "execute_result"
    }
   ],
   "source": [
    "np.mean(np.diag(np.dot(q, fake_recon_index[cid:cid + sl, :].T)))"
   ]
  },
  {
   "cell_type": "code",
   "execution_count": 294,
   "metadata": {},
   "outputs": [],
   "source": [
    "_scores[ci] = np.mean(np.diag(np.dot(q, fake_recon_index[cid:cid + sl, :].T)))"
   ]
  },
  {
   "cell_type": "code",
   "execution_count": 295,
   "metadata": {},
   "outputs": [
    {
     "data": {
      "text/plain": [
       "array([0.22324252, 0.        , 0.        , 0.        , 0.        ,\n",
       "       0.        , 0.        , 0.        , 0.        , 0.        ,\n",
       "       0.        , 0.        , 0.        , 0.        , 0.        ,\n",
       "       0.        , 0.        , 0.        , 0.        , 0.        ,\n",
       "       0.        , 0.        , 0.        , 0.        , 0.        ,\n",
       "       0.        , 0.        , 0.        , 0.        , 0.        ,\n",
       "       0.        , 0.        , 0.        , 0.        , 0.        ,\n",
       "       0.        , 0.        , 0.        , 0.        , 0.        ,\n",
       "       0.        , 0.        , 0.        , 0.        , 0.        ,\n",
       "       0.        , 0.        , 0.        , 0.        , 0.        ,\n",
       "       0.        , 0.        , 0.        , 0.        , 0.        ,\n",
       "       0.        , 0.        , 0.        , 0.        , 0.        ,\n",
       "       0.        , 0.        , 0.        , 0.        , 0.        ,\n",
       "       0.        , 0.        , 0.        , 0.        ])"
      ]
     },
     "execution_count": 295,
     "metadata": {},
     "output_type": "execute_result"
    }
   ],
   "source": [
    "_scores"
   ]
  },
  {
   "cell_type": "code",
   "execution_count": 296,
   "metadata": {},
   "outputs": [
    {
     "data": {
      "text/plain": [
       "array([ 0, 36, 37, 38, 39, 40, 41, 42, 43, 44, 45, 46, 47, 48, 49, 50, 51,\n",
       "       52, 66, 65, 64, 63, 62, 61, 35, 60, 58, 57, 56, 55, 54, 53, 59, 67,\n",
       "       34, 32,  1,  2,  3,  4,  5,  6,  7,  8,  9, 10, 11, 12, 13, 14, 15,\n",
       "       16, 17, 31, 30, 29, 28, 27, 26, 33, 25, 23, 22, 21, 20, 19, 18, 24,\n",
       "       68])"
      ]
     },
     "execution_count": 296,
     "metadata": {},
     "output_type": "execute_result"
    }
   ],
   "source": [
    "np.argsort(-_scores) #ordena por ordem decrescente"
   ]
  },
  {
   "cell_type": "code",
   "execution_count": 297,
   "metadata": {},
   "outputs": [
    {
     "data": {
      "text/plain": [
       "array([ 0, 36, 37, 38, 39, 40, 41, 42, 43, 44])"
      ]
     },
     "execution_count": 297,
     "metadata": {},
     "output_type": "execute_result"
    }
   ],
   "source": [
    "np.argsort(-_scores)[:10]  #ordena os valores por índices."
   ]
  },
  {
   "cell_type": "code",
   "execution_count": 298,
   "metadata": {},
   "outputs": [
    {
     "data": {
      "text/plain": [
       "array([   89, 10006, 10007, 10008, 10009, 10010, 10011, 10014, 10015,\n",
       "       10016])"
      ]
     },
     "execution_count": 298,
     "metadata": {},
     "output_type": "execute_result"
    }
   ],
   "source": [
    "candidates[np.argsort(-_scores)[:10]]"
   ]
  },
  {
   "cell_type": "code",
   "execution_count": 299,
   "metadata": {},
   "outputs": [],
   "source": [
    "pred_ids = candidates[np.argsort(-_scores)[:10]]"
   ]
  },
  {
   "cell_type": "code",
   "execution_count": 300,
   "metadata": {},
   "outputs": [
    {
     "data": {
      "text/plain": [
       "10024"
      ]
     },
     "execution_count": 300,
     "metadata": {},
     "output_type": "execute_result"
    }
   ],
   "source": [
    "gt_id"
   ]
  },
  {
   "cell_type": "code",
   "execution_count": 301,
   "metadata": {},
   "outputs": [
    {
     "data": {
      "text/plain": [
       "89"
      ]
     },
     "execution_count": 301,
     "metadata": {},
     "output_type": "execute_result"
    }
   ],
   "source": [
    "pred_ids[0]"
   ]
  },
  {
   "cell_type": "code",
   "execution_count": 302,
   "metadata": {},
   "outputs": [
    {
     "data": {
      "text/plain": [
       "0"
      ]
     },
     "execution_count": 302,
     "metadata": {},
     "output_type": "execute_result"
    }
   ],
   "source": [
    "int(gt_id == pred_ids[0])"
   ]
  },
  {
   "cell_type": "code",
   "execution_count": 303,
   "metadata": {},
   "outputs": [],
   "source": [
    "top1_exact[ti, si] = int(gt_id == pred_ids[0]) # (0, 0)"
   ]
  },
  {
   "cell_type": "code",
   "execution_count": 251,
   "metadata": {},
   "outputs": [
    {
     "data": {
      "text/plain": [
       "array([[0, 0, 0],\n",
       "       [0, 0, 0],\n",
       "       [0, 0, 0],\n",
       "       [0, 0, 0],\n",
       "       [0, 0, 0]])"
      ]
     },
     "execution_count": 251,
     "metadata": {},
     "output_type": "execute_result"
    }
   ],
   "source": [
    "top1_exact"
   ]
  },
  {
   "cell_type": "code",
   "execution_count": 252,
   "metadata": {},
   "outputs": [
    {
     "data": {
      "text/plain": [
       "10025"
      ]
     },
     "execution_count": 252,
     "metadata": {},
     "output_type": "execute_result"
    }
   ],
   "source": [
    "#top1_near\n",
    "gt_id - 1 # 53768852\n",
    "gt_id # 53768853\n",
    "gt_id + 1 # 53768854"
   ]
  },
  {
   "cell_type": "code",
   "execution_count": 253,
   "metadata": {},
   "outputs": [
    {
     "data": {
      "text/plain": [
       "False"
      ]
     },
     "execution_count": 253,
     "metadata": {},
     "output_type": "execute_result"
    }
   ],
   "source": [
    "pred_ids[0] in [gt_id - 1, gt_id, gt_id + 1]"
   ]
  },
  {
   "cell_type": "code",
   "execution_count": 254,
   "metadata": {},
   "outputs": [
    {
     "data": {
      "text/plain": [
       "0"
      ]
     },
     "execution_count": 254,
     "metadata": {},
     "output_type": "execute_result"
    }
   ],
   "source": [
    "int(pred_ids[0] in [gt_id - 1, gt_id, gt_id + 1])"
   ]
  },
  {
   "cell_type": "code",
   "execution_count": 255,
   "metadata": {},
   "outputs": [],
   "source": [
    "top1_near[ti, si] = int(pred_ids[0] in [gt_id - 1, gt_id, gt_id + 1])"
   ]
  },
  {
   "cell_type": "code",
   "execution_count": 256,
   "metadata": {},
   "outputs": [
    {
     "data": {
      "text/plain": [
       "array([[0, 0, 0],\n",
       "       [0, 0, 0],\n",
       "       [0, 0, 0],\n",
       "       [0, 0, 0],\n",
       "       [0, 0, 0]])"
      ]
     },
     "execution_count": 256,
     "metadata": {},
     "output_type": "execute_result"
    }
   ],
   "source": [
    "top1_near"
   ]
  },
  {
   "cell_type": "code",
   "execution_count": 257,
   "metadata": {},
   "outputs": [
    {
     "data": {
      "text/plain": [
       "10024"
      ]
     },
     "execution_count": 257,
     "metadata": {},
     "output_type": "execute_result"
    }
   ],
   "source": [
    "gt_id"
   ]
  },
  {
   "cell_type": "code",
   "execution_count": 258,
   "metadata": {},
   "outputs": [
    {
     "data": {
      "text/plain": [
       "array([   89, 10006, 10007])"
      ]
     },
     "execution_count": 258,
     "metadata": {},
     "output_type": "execute_result"
    }
   ],
   "source": [
    "# top3\n",
    "pred_ids[:3] #[ 3046219, 50021449, 46040053]"
   ]
  },
  {
   "cell_type": "code",
   "execution_count": 259,
   "metadata": {},
   "outputs": [
    {
     "data": {
      "text/plain": [
       "0"
      ]
     },
     "execution_count": 259,
     "metadata": {},
     "output_type": "execute_result"
    }
   ],
   "source": [
    "int(gt_id in pred_ids[:3])"
   ]
  },
  {
   "cell_type": "code",
   "execution_count": 260,
   "metadata": {},
   "outputs": [],
   "source": [
    "top3_exact[ti, si] = int(gt_id in pred_ids[:3])"
   ]
  },
  {
   "cell_type": "code",
   "execution_count": 261,
   "metadata": {},
   "outputs": [
    {
     "data": {
      "text/plain": [
       "array([[0, 0, 0],\n",
       "       [0, 0, 0],\n",
       "       [0, 0, 0],\n",
       "       [0, 0, 0],\n",
       "       [0, 0, 0]])"
      ]
     },
     "execution_count": 261,
     "metadata": {},
     "output_type": "execute_result"
    }
   ],
   "source": [
    "top3_exact"
   ]
  },
  {
   "cell_type": "code",
   "execution_count": 262,
   "metadata": {},
   "outputs": [
    {
     "data": {
      "text/plain": [
       "array([   89, 10006, 10007, 10008, 10009, 10010, 10011, 10014, 10015,\n",
       "       10016])"
      ]
     },
     "execution_count": 262,
     "metadata": {},
     "output_type": "execute_result"
    }
   ],
   "source": [
    "#top10 hit\n",
    "pred_ids[:10] #[ 3046219, 50021449, 46040053, 44703573, 44703570, 44703566, 44703565, 39485449, 39399655, 32863495]"
   ]
  },
  {
   "cell_type": "code",
   "execution_count": 263,
   "metadata": {},
   "outputs": [
    {
     "data": {
      "text/plain": [
       "0"
      ]
     },
     "execution_count": 263,
     "metadata": {},
     "output_type": "execute_result"
    }
   ],
   "source": [
    "int(gt_id in pred_ids[:10])"
   ]
  },
  {
   "cell_type": "code",
   "execution_count": 264,
   "metadata": {},
   "outputs": [],
   "source": [
    "top10_exact[ti, si] = int(gt_id in pred_ids[:10])"
   ]
  },
  {
   "cell_type": "code",
   "execution_count": 265,
   "metadata": {},
   "outputs": [
    {
     "data": {
      "text/plain": [
       "array([[0, 0, 0],\n",
       "       [0, 0, 0],\n",
       "       [0, 0, 0],\n",
       "       [0, 0, 0],\n",
       "       [0, 0, 0]])"
      ]
     },
     "execution_count": 265,
     "metadata": {},
     "output_type": "execute_result"
    }
   ],
   "source": [
    "top10_exact"
   ]
  },
  {
   "cell_type": "code",
   "execution_count": null,
   "metadata": {},
   "outputs": [
    {
     "data": {
      "text/plain": [
       "5"
      ]
     },
     "execution_count": 99,
     "metadata": {},
     "output_type": "execute_result"
    }
   ],
   "source": [
    "display_interval"
   ]
  },
  {
   "cell_type": "code",
   "execution_count": null,
   "metadata": {},
   "outputs": [
    {
     "data": {
      "text/plain": [
       "2"
      ]
     },
     "execution_count": 100,
     "metadata": {},
     "output_type": "execute_result"
    }
   ],
   "source": [
    "ti % display_interval"
   ]
  },
  {
   "cell_type": "code",
   "execution_count": null,
   "metadata": {},
   "outputs": [
    {
     "data": {
      "text/plain": [
       "False"
      ]
     },
     "execution_count": 326,
     "metadata": {},
     "output_type": "execute_result"
    }
   ],
   "source": [
    "((ti % display_interval) == 0)"
   ]
  },
  {
   "cell_type": "code",
   "execution_count": null,
   "metadata": {},
   "outputs": [
    {
     "data": {
      "text/plain": [
       "True"
      ]
     },
     "execution_count": 327,
     "metadata": {},
     "output_type": "execute_result"
    }
   ],
   "source": [
    "(ti != 0)"
   ]
  },
  {
   "cell_type": "code",
   "execution_count": null,
   "metadata": {},
   "outputs": [
    {
     "data": {
      "text/plain": [
       "(array([[0, 0, 0, 0, 0, 0],\n",
       "        [0, 0, 0, 0, 0, 0],\n",
       "        [0, 0, 0, 0, 0, 0]]),)"
      ]
     },
     "execution_count": 101,
     "metadata": {},
     "output_type": "execute_result"
    }
   ],
   "source": [
    "top1_exact[:ti + 1, :],"
   ]
  },
  {
   "cell_type": "code",
   "execution_count": null,
   "metadata": {},
   "outputs": [
    {
     "data": {
      "text/plain": [
       "array([0., 0., 0., 0., 0., 0.])"
      ]
     },
     "execution_count": 102,
     "metadata": {},
     "output_type": "execute_result"
    }
   ],
   "source": [
    "np.mean(top1_exact[:ti + 1, :], axis=0)"
   ]
  },
  {
   "cell_type": "code",
   "execution_count": null,
   "metadata": {},
   "outputs": [
    {
     "data": {
      "text/plain": [
       "array([0., 0., 0., 0., 0., 0.])"
      ]
     },
     "execution_count": 103,
     "metadata": {},
     "output_type": "execute_result"
    }
   ],
   "source": [
    "100. * np.mean(top1_exact[:ti + 1, :], axis=0)"
   ]
  },
  {
   "cell_type": "code",
   "execution_count": null,
   "metadata": {},
   "outputs": [],
   "source": [
    "top1_exact_rate = 100. * np.mean(top1_exact[:ti + 1, :], axis=0)"
   ]
  },
  {
   "cell_type": "code",
   "execution_count": null,
   "metadata": {},
   "outputs": [],
   "source": [
    "top1_near_rate = 100. * np.mean(top1_near[:ti + 1, :], axis=0)\n",
    "top3_exact_rate = 100. * np.mean(top3_exact[:ti + 1, :], axis=0)\n",
    "top10_exact_rate = 100. * np.mean(top10_exact[:ti + 1, :], axis=0)"
   ]
  },
  {
   "cell_type": "code",
   "execution_count": 71,
   "metadata": {},
   "outputs": [
    {
     "name": "stdout",
     "output_type": "stream",
     "text": [
      "1\n"
     ]
    }
   ],
   "source": [
    "gt=1\n",
    "pre=1\n",
    "print(int(gt == pre))"
   ]
  },
  {
   "cell_type": "code",
   "execution_count": 83,
   "metadata": {},
   "outputs": [
    {
     "name": "stdout",
     "output_type": "stream",
     "text": [
      "ti-0-gt_id-53768853-test_id-14655\n",
      "si-0-sl-1\n",
      "I_offset-[[53768853 44703565 53768854 53768832 32602405  3046219 50090820 44703566\n",
      "  32602390 30244778 25233445 50021449 53768875 28396311 46040053 27606284\n",
      "  48439861 39399655 39485449 44703570]]\n",
      "_scores-[0.67208612 0.65375686 0.64886057 0.64049262 0.66801822 0.66362274\n",
      " 0.68814337 0.64285153 0.64139974 0.7005142  0.67302364 0.63727248\n",
      " 0.64416903 0.64063817 0.65546489 0.65912843 0.68967021 0.77305609\n",
      " 0.67796648 0.65430278]\n",
      "pred_ids-[53768853 44703565 53768832 32602405 53768854 44703566  3046219 30244778\n",
      " 32602390 50090820]\n",
      "si-1-sl-3\n",
      "I_offset-[[53768853 44703565 53768854 53768832 32602405  3046219 50090820 44703566\n",
      "  32602390 30244778 25233445 50021449 53768875 28396311 46040053 27606284\n",
      "  48439861 39399655 39485449 44703570]\n",
      " [53768854 53768875 50867758 23104133 53768853 53768855 53768876 50865420\n",
      "  23104134 23104272 18441412 23104137 23104096 19577880 23104106 39696798\n",
      "  23180609 19577879 23104138 50865249]\n",
      " [53768853 53768854 53768833 50865428 30777643 53768832 32228337 53768874\n",
      "  53768876 32228335 30803752 30803666 53768875 23180585 50865311 32228336\n",
      "  32216723 50701612 21509769 21509705]]\n",
      "_scores-[0.4122363  0.5591113  0.55663937 0.55927253 0.55752951 0.58628172\n",
      " 0.56999809 0.56733614 0.59375185 0.54256994 0.54096967 0.56843758\n",
      " 0.57800698 0.522219   0.47194362 0.45219424 0.44908679 0.50900394\n",
      " 0.39600876 0.57086933 0.46559784 0.48699686 0.48880807 0.54395044\n",
      " 0.55513859 0.56802267 0.39018133 0.41037688 0.53001863 0.52374715\n",
      " 0.50704318 0.54429662 0.48816109 0.44001123 0.34416103 0.4800643\n",
      " 0.43462515 0.43004644 0.45876226 0.60053468 0.55689341 0.58945996\n",
      " 0.61242819 0.57837039 0.67422104 0.63765734 0.74873513 0.71501034\n",
      " 0.62052971 0.61516261 0.68026727 0.60490376]\n",
      "pred_ids-[53768853 53768854 53768875 53768832 53768833 53768855 53768874 50865428\n",
      " 53768876 50865249]\n",
      "si-2-sl-5\n",
      "I_offset-[[53768853 44703565 53768854 53768832 32602405  3046219 50090820 44703566\n",
      "  32602390 30244778 25233445 50021449 53768875 28396311 46040053 27606284\n",
      "  48439861 39399655 39485449 44703570]\n",
      " [53768854 53768875 50867758 23104133 53768853 53768855 53768876 50865420\n",
      "  23104134 23104272 18441412 23104137 23104096 19577880 23104106 39696798\n",
      "  23180609 19577879 23104138 50865249]\n",
      " [53768853 53768854 53768833 50865428 30777643 53768832 32228337 53768874\n",
      "  53768876 32228335 30803752 30803666 53768875 23180585 50865311 32228336\n",
      "  32216723 50701612 21509769 21509705]\n",
      " [53768853 53768832 53768852 53768875 53768854 53768833 53768874 53768831\n",
      "  51765022 39412479 25028154 51765021 51069499 17201918 39412478 20201615\n",
      "  48713936 49139204 39353154  9931355]\n",
      " [ 7926815 53768874 25772094 53768831 36409203 42788203 53768853 42056812\n",
      "  25772079 51571609 18322079 53768852 40042427 53768832 23266002 23248233\n",
      "  51765069 42788204 49142864 51572932]]\n",
      "_scores-[0.32728466 0.30629751 0.4059616  0.47282609 0.46026126 0.45198742\n",
      " 0.53159922 0.51508123 0.49243933 0.4938249  0.53179133 0.55505759\n",
      " 0.50471336 0.56021309 0.5294348  0.53224754 0.54341364 0.51986492\n",
      " 0.38846248 0.36793989 0.37298101 0.39991736 0.42233935 0.34961033\n",
      " 0.3355419  0.37107676 0.35403305 0.35740077 0.2911773  0.52014923\n",
      " 0.38487977 0.38938841 0.47116742 0.4817864  0.47346133 0.46177906\n",
      " 0.26584587 0.28166932 0.4645021  0.40268344 0.45737067 0.3976711\n",
      " 0.4454636  0.45100671 0.41495547 0.34555557 0.38315573 0.38135439\n",
      " 0.39777279 0.42734122 0.37893656 0.43145317 0.20473149 0.38187513\n",
      " 0.30248368 0.48693877 0.34885854 0.37521768 0.34290367 0.43695849\n",
      " 0.51541239 0.48415905 0.54053551 0.55915487 0.50229079 0.46861514\n",
      " 0.35594296 0.29095426 0.4777011  0.4948203  0.56517714 0.55939305\n",
      " 0.67706364 0.62137586 0.55455846 0.73339349 0.678361   0.55036211\n",
      " 0.62942064 0.65229732 0.56653404]\n",
      "pred_ids-[53768853 53768854 53768832 53768875 53768874 53768833 53768876 51765069\n",
      " 23104133 53768831]\n",
      "top1_exact-[[1 1 1]]\n",
      "top1_near-[[1 1 1]]\n",
      "top3_exact-[[1 1 1]]\n",
      "top10_exact-[[1 1 1]]\n",
      "\n",
      "\n",
      "top1_exact_rate-[100. 100. 100.]\n",
      "top1_near_rate-[100. 100. 100.]\n",
      "top3_exact-[100. 100. 100.]\n",
      "top10_exact_rate-[100. 100. 100.]\n"
     ]
    }
   ],
   "source": [
    "for ti, test_id in enumerate(test_ids):\n",
    "    gt_id = gt_ids[ti]\n",
    "    print(f\"ti-{ti}-gt_id-{gt_id}-test_id-{test_id}\")\n",
    "    for si, sl in enumerate(test_seq_len):\n",
    "        assert test_id <= len(query)\n",
    "        q = query[test_id:(test_id + sl), :] # shape(q) = (length, dim)\n",
    "\n",
    "        print(f\"si-{si}-sl-{sl}\")\n",
    "\n",
    "        # segment-level top k search for each segment\n",
    "        _, I = index.search(\n",
    "            q, k_probe) # _: distance, I: result IDs matrix\n",
    "        \n",
    "        #print(f\"ti-{ti}-test_id-{test_id}-si-{si}-sl-{sl}-I-{I}\")\n",
    "\n",
    "        # offset compensation to get the start IDs of candidate sequences\n",
    "        for offset in range(len(I)):\n",
    "            I[offset, :] -= offset\n",
    "        \n",
    "        print(f\"I_offset-{I}\")\n",
    "\n",
    "        # unique candidates\n",
    "        candidates = np.unique(I[np.where(I >= 0)])   # ignore id < 0\n",
    "        #print(f\"candidates-{candidates}\")\n",
    "\n",
    "        \"\"\" Sequence match score \"\"\"\n",
    "        _scores = np.zeros(len(candidates))\n",
    "        for ci, cid in enumerate(candidates):\n",
    "            _scores[ci] = np.mean(\n",
    "                np.diag(\n",
    "                    # np.dot(q, index.reconstruct_n(cid, (cid + l)).T)\n",
    "                    np.dot(q, fake_recon_index[cid:cid + sl, :].T)\n",
    "                    )\n",
    "                )\n",
    "        print(f\"_scores-{_scores}\")\n",
    "\n",
    "        \"\"\" Evaluate \"\"\"\n",
    "        pred_ids = candidates[np.argsort(-_scores)[:10]]\n",
    "        # pred_id = candidates[np.argmax(_scores)] <-- only top1-hit\n",
    "        print(f\"pred_ids-{pred_ids}\")\n",
    "\n",
    "        # top1 hit\n",
    "        top1_exact[ti, si] = int(gt_id == pred_ids[0])\n",
    "        top1_near[ti, si] = int(\n",
    "            pred_ids[0] in [gt_id - 1, gt_id, gt_id + 1])\n",
    "        # top1_song = need song info here...\n",
    "\n",
    "        # top3, top10 hit\n",
    "        top3_exact[ti, si] = int(gt_id in pred_ids[:3])\n",
    "        top10_exact[ti, si] = int(gt_id in pred_ids[:10])\n",
    "\n",
    "        if (ti != 0) & ((ti % display_interval) == 0):\n",
    "            #avg_search_time = (time.time() - start_time) / display_interval \\\n",
    "            #    / len(test_seq_len)\n",
    "            top1_exact_rate = 100. * np.mean(top1_exact[:ti + 1, :], axis=0)\n",
    "            top1_near_rate = 100. * np.mean(top1_near[:ti + 1, :], axis=0)\n",
    "            top3_exact_rate = 100. * np.mean(top3_exact[:ti + 1, :], axis=0)\n",
    "            top10_exact_rate = 100. * np.mean(top10_exact[:ti + 1, :], axis=0)\n",
    "\n",
    "print(f\"top1_exact-{top1_exact}\")\n",
    "print(f\"top1_near-{top1_near}\")\n",
    "print(f\"top3_exact-{top3_exact}\")\n",
    "print(f\"top10_exact-{top10_exact}\")\n",
    "\n",
    "print(f\"\\n\\ntop1_exact_rate-{top1_exact_rate}\")\n",
    "print(f\"top1_near_rate-{top1_near_rate}\")\n",
    "print(f\"top3_exact-{top3_exact_rate}\")\n",
    "print(f\"top10_exact_rate-{top10_exact_rate}\")"
   ]
  },
  {
   "cell_type": "code",
   "execution_count": 82,
   "metadata": {},
   "outputs": [
    {
     "name": "stdout",
     "output_type": "stream",
     "text": [
      "\n",
      "\n",
      "top1_exact_rate-[100. 100. 100.]\n",
      "top1_near_rate-[100. 100. 100.]\n",
      "top3_exact-[100. 100. 100.]\n",
      "top10_exact_rate-[100. 100. 100.]\n"
     ]
    }
   ],
   "source": [
    "top1_exact_rate = 100. * np.mean(top1_exact, axis=0)\n",
    "top1_near_rate = 100. * np.mean(top1_near, axis=0)\n",
    "top3_exact_rate = 100. * np.mean(top3_exact, axis=0)\n",
    "top10_exact_rate = 100. * np.mean(top10_exact, axis=0)\n",
    "\n",
    "print(f\"\\n\\ntop1_exact_rate-{top1_exact_rate}\")\n",
    "print(f\"top1_near_rate-{top1_near_rate}\")\n",
    "print(f\"top3_exact-{top3_exact_rate}\")\n",
    "print(f\"top10_exact_rate-{top10_exact_rate}\")"
   ]
  },
  {
   "cell_type": "markdown",
   "metadata": {},
   "source": [
    "Antes de 25/06"
   ]
  },
  {
   "cell_type": "code",
   "execution_count": null,
   "metadata": {},
   "outputs": [
    {
     "name": "stderr",
     "output_type": "stream",
     "text": [
      "2024-06-24 16:01:31.766660: I tensorflow/core/platform/cpu_feature_guard.cc:182] This TensorFlow binary is optimized to use available CPU instructions in performance-critical operations.\n",
      "To enable the following instructions: SSE4.1 SSE4.2 AVX AVX2 FMA, in other operations, rebuild TensorFlow with the appropriate compiler flags.\n"
     ]
    }
   ],
   "source": [
    "import os\n",
    "import sys\n",
    "import yaml\n",
    "import glob\n",
    "import h5py\n",
    "import librosa\n",
    "\n",
    "import numpy as np\n",
    "import soundfile as sf\n",
    "import tensorflow as tf\n",
    "\n",
    "from model_RA.fp_RA.melspec.melspectrogram_RA import get_melspec_layer\n",
    "from model_RA.fp_RA.nnfp import get_fingerprinter"
   ]
  },
  {
   "cell_type": "code",
   "execution_count": null,
   "metadata": {},
   "outputs": [
    {
     "name": "stdout",
     "output_type": "stream",
     "text": [
      "cli: Configuration from ./config/default_RA.yaml\n"
     ]
    }
   ],
   "source": [
    "def load_config(config_fname):\n",
    "    config_filepath = './config/' + config_fname + '.yaml'\n",
    "    if os.path.exists(config_filepath):\n",
    "        print(f'cli: Configuration from {config_filepath}')\n",
    "    else:\n",
    "        sys.exit(f'cli: ERROR! Configuration file {config_filepath} is missing!!')\n",
    "\n",
    "    with open(config_filepath, 'r') as f:\n",
    "        cfg = yaml.safe_load(f)\n",
    "    return cfg\n",
    "\n",
    "config = \"default_RA\"\n",
    "cfg = load_config(config)"
   ]
  },
  {
   "cell_type": "markdown",
   "metadata": {},
   "source": [
    "# Carregar chekcpoints"
   ]
  },
  {
   "cell_type": "code",
   "execution_count": null,
   "metadata": {},
   "outputs": [],
   "source": [
    "def load_checkpoint(checkpoint_root_dir, checkpoint_name, checkpoint_index,\n",
    "                    m_fp):\n",
    "    \"\"\" Load a trained fingerprinter \"\"\"\n",
    "    # Create checkpoint\n",
    "    checkpoint = tf.train.Checkpoint(model=m_fp)\n",
    "    checkpoint_dir = checkpoint_root_dir + f'/{checkpoint_name}/'\n",
    "    c_manager = tf.train.CheckpointManager(checkpoint, checkpoint_dir,\n",
    "                                           max_to_keep=None)\n",
    "\n",
    "    # Load\n",
    "    if checkpoint_index == None:\n",
    "        tf.print(\"\\x1b[1;32mArgument 'checkpoint_index' was not specified.\\x1b[0m\")\n",
    "        tf.print('\\x1b[1;32mSearching for the latest checkpoint...\\x1b[0m')\n",
    "        latest_checkpoint = c_manager.latest_checkpoint\n",
    "        if latest_checkpoint:\n",
    "            checkpoint_index = int(latest_checkpoint.split(sep='ckpt-')[-1])\n",
    "            status = checkpoint.restore(latest_checkpoint)\n",
    "            status.expect_partial()\n",
    "            tf.print(f'---Restored from {c_manager.latest_checkpoint}---')\n",
    "        else:\n",
    "            raise FileNotFoundError(f'Cannot find checkpoint in {checkpoint_dir}')\n",
    "    else:\n",
    "        checkpoint_fpath = checkpoint_dir + 'ckpt-' + str(checkpoint_index)\n",
    "        status = checkpoint.restore(checkpoint_fpath) # Let TF to handle error cases.\n",
    "        status.expect_partial()\n",
    "        tf.print(f'---Restored from {checkpoint_fpath}---')\n",
    "    return checkpoint_index"
   ]
  },
  {
   "cell_type": "markdown",
   "metadata": {},
   "source": [
    "# Carregar áudio"
   ]
  },
  {
   "cell_type": "code",
   "execution_count": null,
   "metadata": {},
   "outputs": [],
   "source": [
    "source_root_dir = cfg['DIR']['SOURCE_ROOT_DIR']\n",
    "audio_files = sorted(glob.glob(source_root_dir + 'test-dummy-db-100k-full/' + '**/*.wav', recursive=True))"
   ]
  },
  {
   "cell_type": "code",
   "execution_count": null,
   "metadata": {},
   "outputs": [],
   "source": [
    "def load_audio(file_path):\n",
    "    audio, _ = librosa.load(file_path, sr=8000)\n",
    "    #audio, _ = sf.read(file_path)\n",
    "    \"\"\"\n",
    "    audio, _ = sf.read(file_path)\n",
    "    \n",
    "    if audio.ndim > 1:\n",
    "        audio = np.mean(audio, axis=1)  # Convertendo para mono se necessário\n",
    "    # Normalizar o áudio\n",
    "    audio = audio / np.max(np.abs(audio))\n",
    "    \"\"\"\n",
    "    return audio"
   ]
  },
  {
   "cell_type": "markdown",
   "metadata": {},
   "source": [
    "### Processar áudio"
   ]
  },
  {
   "cell_type": "code",
   "execution_count": null,
   "metadata": {},
   "outputs": [],
   "source": [
    "def split_audio_into_segments(audio, dur=1.0, hop=.5, fs=8000):\n",
    "    segment_samples = int(dur * fs) # 8000\n",
    "    hop_samples = int(hop * fs) # 4000\n",
    "\n",
    "    segments = []\n",
    "    for start in range(0, len(audio) - segment_samples + 1, hop_samples):\n",
    "        #len(audio) = 1898580; segment_samples = 8000; hop_samples = 4000\n",
    "        #0, 1898580 - 8000 + 1, 4000\n",
    "\n",
    "        #fica a faltar as residual frames, que são as ultimas que são menores que 1 segundo\n",
    "\n",
    "        segment = audio[start:start + segment_samples] #faz os vetores de 8000 em 8000, isto é, de 1s em 1s, com \n",
    "\n",
    "        if len(segment) == segment_samples:\n",
    "            segments.append(segment)\n",
    "\n",
    "    return segments"
   ]
  },
  {
   "cell_type": "code",
   "execution_count": null,
   "metadata": {},
   "outputs": [],
   "source": [
    "dur=cfg['MODEL']['DUR']\n",
    "hop=cfg['MODEL']['HOP']\n",
    "fs=cfg['MODEL']['FS']"
   ]
  },
  {
   "cell_type": "markdown",
   "metadata": {},
   "source": [
    "Embedding"
   ]
  },
  {
   "cell_type": "code",
   "execution_count": null,
   "metadata": {},
   "outputs": [],
   "source": [
    "def build_fp(cfg):\n",
    "    \"\"\" Build fingerprinter \"\"\"\n",
    "    # m_pre: log-power-Mel-spectrogram layer, S.\n",
    "    m_pre = get_melspec_layer(cfg, trainable=False)\n",
    "\n",
    "    # m_fp: fingerprinter g(f(.)).\n",
    "    m_fp = get_fingerprinter(cfg, trainable=False)\n",
    "    return m_pre, m_fp\n",
    "\n",
    "@tf.function\n",
    "def embeddingGenerator(X, m_pre, m_fp):\n",
    "    \"\"\" \n",
    "    X -> (B,1,8000)\n",
    "    \"\"\"\n",
    "    #tf.print(f\"X:{X}\")\n",
    "    feat = m_pre(X)  # (nA+nP, F, T, 1)\n",
    "    m_fp.trainable = False\n",
    "    emb_f = m_fp.front_conv(feat)  # (BSZ, Dim)\n",
    "    emb_gf = m_fp.div_enc(emb_f)\n",
    "    emb_gf = tf.math.l2_normalize(emb_gf, axis=1)\n",
    "    return emb_gf # f(.), L2(f(.)), L2(g(f(.))"
   ]
  },
  {
   "cell_type": "code",
   "execution_count": null,
   "metadata": {},
   "outputs": [],
   "source": [
    "m_pre, m_fp = build_fp(cfg)\n",
    "checkpoint_root_dir:str = \"./logs/CHECK_BFTRI_100/\"\n",
    "\n",
    "checkpoint = tf.train.Checkpoint(m_fp)\n",
    "checkpoint.restore(tf.train.latest_checkpoint(checkpoint_root_dir))\n",
    "\n",
    "output_root_dir = '/mnt/dataset/public/Fingerprinting/Embeddings_BFTRI/dummy_db/'"
   ]
  },
  {
   "cell_type": "code",
   "execution_count": null,
   "metadata": {},
   "outputs": [],
   "source": [
    "def create_directory_if_not_exists(directory):\n",
    "    if not os.path.exists(directory):\n",
    "        os.makedirs(directory)"
   ]
  },
  {
   "cell_type": "code",
   "execution_count": null,
   "metadata": {},
   "outputs": [
    {
     "name": "stdout",
     "output_type": "stream",
     "text": [
      "000\n",
      "/mnt/dataset/public/Fingerprinting/neural-audio-fp-dataset/music/test-dummy-db-100k-full/fma_full/000/000026.wav\n"
     ]
    },
    {
     "ename": "KeyboardInterrupt",
     "evalue": "",
     "output_type": "error",
     "traceback": [
      "\u001b[0;31m---------------------------------------------------------------------------\u001b[0m",
      "\u001b[0;31mKeyboardInterrupt\u001b[0m                         Traceback (most recent call last)",
      "Cell \u001b[0;32mIn[25], line 20\u001b[0m\n\u001b[1;32m     17\u001b[0m \u001b[38;5;28;01mfor\u001b[39;00m i \u001b[38;5;129;01min\u001b[39;00m \u001b[38;5;28mrange\u001b[39m(\u001b[38;5;28mlen\u001b[39m(X_segments)):\n\u001b[1;32m     18\u001b[0m     X \u001b[38;5;241m=\u001b[39m tf\u001b[38;5;241m.\u001b[39mreshape(X_segments[i],(\u001b[38;5;241m1\u001b[39m, \u001b[38;5;241m1\u001b[39m,\u001b[38;5;241m-\u001b[39m\u001b[38;5;241m1\u001b[39m)) \u001b[38;5;66;03m# podia meter um append, mas pode ser uma variável auxiliar, porque só preciso do tensor para gerar o embedding\u001b[39;00m\n\u001b[0;32m---> 20\u001b[0m     embedding \u001b[38;5;241m=\u001b[39m \u001b[43membeddingGenerator\u001b[49m\u001b[43m(\u001b[49m\u001b[43mX\u001b[49m\u001b[43m,\u001b[49m\u001b[43m \u001b[49m\u001b[43mm_pre\u001b[49m\u001b[43m,\u001b[49m\u001b[43m \u001b[49m\u001b[43mm_fp\u001b[49m\u001b[43m)\u001b[49m\n\u001b[1;32m     21\u001b[0m     emb\u001b[38;5;241m.\u001b[39mappend(embedding\u001b[38;5;241m.\u001b[39mnumpy())\n\u001b[1;32m     23\u001b[0m \u001b[38;5;66;03m#Tendo todos os segementos do audio em vetores embedding, pode-se criar um ficheiro .h5 para o audio,pode-se fazer assim:\u001b[39;00m\n\u001b[1;32m     24\u001b[0m \u001b[38;5;66;03m#000003.h5\u001b[39;00m\n\u001b[1;32m     25\u001b[0m \u001b[38;5;66;03m#vetores:[vetor1, vetor2, vetor3], sendo total de vetores igual ao número de segmentos \u001b[39;00m\n",
      "File \u001b[0;32m~/anaconda3/envs/tfpy/lib/python3.9/site-packages/tensorflow/python/util/traceback_utils.py:150\u001b[0m, in \u001b[0;36mfilter_traceback.<locals>.error_handler\u001b[0;34m(*args, **kwargs)\u001b[0m\n\u001b[1;32m    148\u001b[0m filtered_tb \u001b[38;5;241m=\u001b[39m \u001b[38;5;28;01mNone\u001b[39;00m\n\u001b[1;32m    149\u001b[0m \u001b[38;5;28;01mtry\u001b[39;00m:\n\u001b[0;32m--> 150\u001b[0m   \u001b[38;5;28;01mreturn\u001b[39;00m \u001b[43mfn\u001b[49m\u001b[43m(\u001b[49m\u001b[38;5;241;43m*\u001b[39;49m\u001b[43margs\u001b[49m\u001b[43m,\u001b[49m\u001b[43m \u001b[49m\u001b[38;5;241;43m*\u001b[39;49m\u001b[38;5;241;43m*\u001b[39;49m\u001b[43mkwargs\u001b[49m\u001b[43m)\u001b[49m\n\u001b[1;32m    151\u001b[0m \u001b[38;5;28;01mexcept\u001b[39;00m \u001b[38;5;167;01mException\u001b[39;00m \u001b[38;5;28;01mas\u001b[39;00m e:\n\u001b[1;32m    152\u001b[0m   filtered_tb \u001b[38;5;241m=\u001b[39m _process_traceback_frames(e\u001b[38;5;241m.\u001b[39m__traceback__)\n",
      "File \u001b[0;32m~/anaconda3/envs/tfpy/lib/python3.9/site-packages/tensorflow/python/eager/polymorphic_function/polymorphic_function.py:832\u001b[0m, in \u001b[0;36mFunction.__call__\u001b[0;34m(self, *args, **kwds)\u001b[0m\n\u001b[1;32m    829\u001b[0m compiler \u001b[38;5;241m=\u001b[39m \u001b[38;5;124m\"\u001b[39m\u001b[38;5;124mxla\u001b[39m\u001b[38;5;124m\"\u001b[39m \u001b[38;5;28;01mif\u001b[39;00m \u001b[38;5;28mself\u001b[39m\u001b[38;5;241m.\u001b[39m_jit_compile \u001b[38;5;28;01melse\u001b[39;00m \u001b[38;5;124m\"\u001b[39m\u001b[38;5;124mnonXla\u001b[39m\u001b[38;5;124m\"\u001b[39m\n\u001b[1;32m    831\u001b[0m \u001b[38;5;28;01mwith\u001b[39;00m OptionalXlaContext(\u001b[38;5;28mself\u001b[39m\u001b[38;5;241m.\u001b[39m_jit_compile):\n\u001b[0;32m--> 832\u001b[0m   result \u001b[38;5;241m=\u001b[39m \u001b[38;5;28;43mself\u001b[39;49m\u001b[38;5;241;43m.\u001b[39;49m\u001b[43m_call\u001b[49m\u001b[43m(\u001b[49m\u001b[38;5;241;43m*\u001b[39;49m\u001b[43margs\u001b[49m\u001b[43m,\u001b[49m\u001b[43m \u001b[49m\u001b[38;5;241;43m*\u001b[39;49m\u001b[38;5;241;43m*\u001b[39;49m\u001b[43mkwds\u001b[49m\u001b[43m)\u001b[49m\n\u001b[1;32m    834\u001b[0m new_tracing_count \u001b[38;5;241m=\u001b[39m \u001b[38;5;28mself\u001b[39m\u001b[38;5;241m.\u001b[39mexperimental_get_tracing_count()\n\u001b[1;32m    835\u001b[0m without_tracing \u001b[38;5;241m=\u001b[39m (tracing_count \u001b[38;5;241m==\u001b[39m new_tracing_count)\n",
      "File \u001b[0;32m~/anaconda3/envs/tfpy/lib/python3.9/site-packages/tensorflow/python/eager/polymorphic_function/polymorphic_function.py:868\u001b[0m, in \u001b[0;36mFunction._call\u001b[0;34m(self, *args, **kwds)\u001b[0m\n\u001b[1;32m    865\u001b[0m   \u001b[38;5;28mself\u001b[39m\u001b[38;5;241m.\u001b[39m_lock\u001b[38;5;241m.\u001b[39mrelease()\n\u001b[1;32m    866\u001b[0m   \u001b[38;5;66;03m# In this case we have created variables on the first call, so we run the\u001b[39;00m\n\u001b[1;32m    867\u001b[0m   \u001b[38;5;66;03m# defunned version which is guaranteed to never create variables.\u001b[39;00m\n\u001b[0;32m--> 868\u001b[0m   \u001b[38;5;28;01mreturn\u001b[39;00m \u001b[43mtracing_compilation\u001b[49m\u001b[38;5;241;43m.\u001b[39;49m\u001b[43mcall_function\u001b[49m\u001b[43m(\u001b[49m\n\u001b[1;32m    869\u001b[0m \u001b[43m      \u001b[49m\u001b[43margs\u001b[49m\u001b[43m,\u001b[49m\u001b[43m \u001b[49m\u001b[43mkwds\u001b[49m\u001b[43m,\u001b[49m\u001b[43m \u001b[49m\u001b[38;5;28;43mself\u001b[39;49m\u001b[38;5;241;43m.\u001b[39;49m\u001b[43m_no_variable_creation_config\u001b[49m\n\u001b[1;32m    870\u001b[0m \u001b[43m  \u001b[49m\u001b[43m)\u001b[49m\n\u001b[1;32m    871\u001b[0m \u001b[38;5;28;01melif\u001b[39;00m \u001b[38;5;28mself\u001b[39m\u001b[38;5;241m.\u001b[39m_variable_creation_config \u001b[38;5;129;01mis\u001b[39;00m \u001b[38;5;129;01mnot\u001b[39;00m \u001b[38;5;28;01mNone\u001b[39;00m:\n\u001b[1;32m    872\u001b[0m   \u001b[38;5;66;03m# Release the lock early so that multiple threads can perform the call\u001b[39;00m\n\u001b[1;32m    873\u001b[0m   \u001b[38;5;66;03m# in parallel.\u001b[39;00m\n\u001b[1;32m    874\u001b[0m   \u001b[38;5;28mself\u001b[39m\u001b[38;5;241m.\u001b[39m_lock\u001b[38;5;241m.\u001b[39mrelease()\n",
      "File \u001b[0;32m~/anaconda3/envs/tfpy/lib/python3.9/site-packages/tensorflow/python/eager/polymorphic_function/tracing_compilation.py:139\u001b[0m, in \u001b[0;36mcall_function\u001b[0;34m(args, kwargs, tracing_options)\u001b[0m\n\u001b[1;32m    137\u001b[0m bound_args \u001b[38;5;241m=\u001b[39m function\u001b[38;5;241m.\u001b[39mfunction_type\u001b[38;5;241m.\u001b[39mbind(\u001b[38;5;241m*\u001b[39margs, \u001b[38;5;241m*\u001b[39m\u001b[38;5;241m*\u001b[39mkwargs)\n\u001b[1;32m    138\u001b[0m flat_inputs \u001b[38;5;241m=\u001b[39m function\u001b[38;5;241m.\u001b[39mfunction_type\u001b[38;5;241m.\u001b[39munpack_inputs(bound_args)\n\u001b[0;32m--> 139\u001b[0m \u001b[38;5;28;01mreturn\u001b[39;00m \u001b[43mfunction\u001b[49m\u001b[38;5;241;43m.\u001b[39;49m\u001b[43m_call_flat\u001b[49m\u001b[43m(\u001b[49m\u001b[43m  \u001b[49m\u001b[38;5;66;43;03m# pylint: disable=protected-access\u001b[39;49;00m\n\u001b[1;32m    140\u001b[0m \u001b[43m    \u001b[49m\u001b[43mflat_inputs\u001b[49m\u001b[43m,\u001b[49m\u001b[43m \u001b[49m\u001b[43mcaptured_inputs\u001b[49m\u001b[38;5;241;43m=\u001b[39;49m\u001b[43mfunction\u001b[49m\u001b[38;5;241;43m.\u001b[39;49m\u001b[43mcaptured_inputs\u001b[49m\n\u001b[1;32m    141\u001b[0m \u001b[43m\u001b[49m\u001b[43m)\u001b[49m\n",
      "File \u001b[0;32m~/anaconda3/envs/tfpy/lib/python3.9/site-packages/tensorflow/python/eager/polymorphic_function/concrete_function.py:1323\u001b[0m, in \u001b[0;36mConcreteFunction._call_flat\u001b[0;34m(self, tensor_inputs, captured_inputs)\u001b[0m\n\u001b[1;32m   1319\u001b[0m possible_gradient_type \u001b[38;5;241m=\u001b[39m gradients_util\u001b[38;5;241m.\u001b[39mPossibleTapeGradientTypes(args)\n\u001b[1;32m   1320\u001b[0m \u001b[38;5;28;01mif\u001b[39;00m (possible_gradient_type \u001b[38;5;241m==\u001b[39m gradients_util\u001b[38;5;241m.\u001b[39mPOSSIBLE_GRADIENT_TYPES_NONE\n\u001b[1;32m   1321\u001b[0m     \u001b[38;5;129;01mand\u001b[39;00m executing_eagerly):\n\u001b[1;32m   1322\u001b[0m   \u001b[38;5;66;03m# No tape is watching; skip to running the function.\u001b[39;00m\n\u001b[0;32m-> 1323\u001b[0m   \u001b[38;5;28;01mreturn\u001b[39;00m \u001b[38;5;28;43mself\u001b[39;49m\u001b[38;5;241;43m.\u001b[39;49m\u001b[43m_inference_function\u001b[49m\u001b[38;5;241;43m.\u001b[39;49m\u001b[43mcall_preflattened\u001b[49m\u001b[43m(\u001b[49m\u001b[43margs\u001b[49m\u001b[43m)\u001b[49m\n\u001b[1;32m   1324\u001b[0m forward_backward \u001b[38;5;241m=\u001b[39m \u001b[38;5;28mself\u001b[39m\u001b[38;5;241m.\u001b[39m_select_forward_and_backward_functions(\n\u001b[1;32m   1325\u001b[0m     args,\n\u001b[1;32m   1326\u001b[0m     possible_gradient_type,\n\u001b[1;32m   1327\u001b[0m     executing_eagerly)\n\u001b[1;32m   1328\u001b[0m forward_function, args_with_tangents \u001b[38;5;241m=\u001b[39m forward_backward\u001b[38;5;241m.\u001b[39mforward()\n",
      "File \u001b[0;32m~/anaconda3/envs/tfpy/lib/python3.9/site-packages/tensorflow/python/eager/polymorphic_function/atomic_function.py:216\u001b[0m, in \u001b[0;36mAtomicFunction.call_preflattened\u001b[0;34m(self, args)\u001b[0m\n\u001b[1;32m    214\u001b[0m \u001b[38;5;28;01mdef\u001b[39;00m \u001b[38;5;21mcall_preflattened\u001b[39m(\u001b[38;5;28mself\u001b[39m, args: Sequence[core\u001b[38;5;241m.\u001b[39mTensor]) \u001b[38;5;241m-\u001b[39m\u001b[38;5;241m>\u001b[39m Any:\n\u001b[1;32m    215\u001b[0m \u001b[38;5;250m  \u001b[39m\u001b[38;5;124;03m\"\"\"Calls with flattened tensor inputs and returns the structured output.\"\"\"\u001b[39;00m\n\u001b[0;32m--> 216\u001b[0m   flat_outputs \u001b[38;5;241m=\u001b[39m \u001b[38;5;28;43mself\u001b[39;49m\u001b[38;5;241;43m.\u001b[39;49m\u001b[43mcall_flat\u001b[49m\u001b[43m(\u001b[49m\u001b[38;5;241;43m*\u001b[39;49m\u001b[43margs\u001b[49m\u001b[43m)\u001b[49m\n\u001b[1;32m    217\u001b[0m   \u001b[38;5;28;01mreturn\u001b[39;00m \u001b[38;5;28mself\u001b[39m\u001b[38;5;241m.\u001b[39mfunction_type\u001b[38;5;241m.\u001b[39mpack_output(flat_outputs)\n",
      "File \u001b[0;32m~/anaconda3/envs/tfpy/lib/python3.9/site-packages/tensorflow/python/eager/polymorphic_function/atomic_function.py:251\u001b[0m, in \u001b[0;36mAtomicFunction.call_flat\u001b[0;34m(self, *args)\u001b[0m\n\u001b[1;32m    249\u001b[0m \u001b[38;5;28;01mwith\u001b[39;00m record\u001b[38;5;241m.\u001b[39mstop_recording():\n\u001b[1;32m    250\u001b[0m   \u001b[38;5;28;01mif\u001b[39;00m \u001b[38;5;28mself\u001b[39m\u001b[38;5;241m.\u001b[39m_bound_context\u001b[38;5;241m.\u001b[39mexecuting_eagerly():\n\u001b[0;32m--> 251\u001b[0m     outputs \u001b[38;5;241m=\u001b[39m \u001b[38;5;28;43mself\u001b[39;49m\u001b[38;5;241;43m.\u001b[39;49m\u001b[43m_bound_context\u001b[49m\u001b[38;5;241;43m.\u001b[39;49m\u001b[43mcall_function\u001b[49m\u001b[43m(\u001b[49m\n\u001b[1;32m    252\u001b[0m \u001b[43m        \u001b[49m\u001b[38;5;28;43mself\u001b[39;49m\u001b[38;5;241;43m.\u001b[39;49m\u001b[43mname\u001b[49m\u001b[43m,\u001b[49m\n\u001b[1;32m    253\u001b[0m \u001b[43m        \u001b[49m\u001b[38;5;28;43mlist\u001b[39;49m\u001b[43m(\u001b[49m\u001b[43margs\u001b[49m\u001b[43m)\u001b[49m\u001b[43m,\u001b[49m\n\u001b[1;32m    254\u001b[0m \u001b[43m        \u001b[49m\u001b[38;5;28;43mlen\u001b[39;49m\u001b[43m(\u001b[49m\u001b[38;5;28;43mself\u001b[39;49m\u001b[38;5;241;43m.\u001b[39;49m\u001b[43mfunction_type\u001b[49m\u001b[38;5;241;43m.\u001b[39;49m\u001b[43mflat_outputs\u001b[49m\u001b[43m)\u001b[49m\u001b[43m,\u001b[49m\n\u001b[1;32m    255\u001b[0m \u001b[43m    \u001b[49m\u001b[43m)\u001b[49m\n\u001b[1;32m    256\u001b[0m   \u001b[38;5;28;01melse\u001b[39;00m:\n\u001b[1;32m    257\u001b[0m     outputs \u001b[38;5;241m=\u001b[39m make_call_op_in_graph(\n\u001b[1;32m    258\u001b[0m         \u001b[38;5;28mself\u001b[39m,\n\u001b[1;32m    259\u001b[0m         \u001b[38;5;28mlist\u001b[39m(args),\n\u001b[1;32m    260\u001b[0m         \u001b[38;5;28mself\u001b[39m\u001b[38;5;241m.\u001b[39m_bound_context\u001b[38;5;241m.\u001b[39mfunction_call_options\u001b[38;5;241m.\u001b[39mas_attrs(),\n\u001b[1;32m    261\u001b[0m     )\n",
      "File \u001b[0;32m~/anaconda3/envs/tfpy/lib/python3.9/site-packages/tensorflow/python/eager/context.py:1486\u001b[0m, in \u001b[0;36mContext.call_function\u001b[0;34m(self, name, tensor_inputs, num_outputs)\u001b[0m\n\u001b[1;32m   1484\u001b[0m cancellation_context \u001b[38;5;241m=\u001b[39m cancellation\u001b[38;5;241m.\u001b[39mcontext()\n\u001b[1;32m   1485\u001b[0m \u001b[38;5;28;01mif\u001b[39;00m cancellation_context \u001b[38;5;129;01mis\u001b[39;00m \u001b[38;5;28;01mNone\u001b[39;00m:\n\u001b[0;32m-> 1486\u001b[0m   outputs \u001b[38;5;241m=\u001b[39m \u001b[43mexecute\u001b[49m\u001b[38;5;241;43m.\u001b[39;49m\u001b[43mexecute\u001b[49m\u001b[43m(\u001b[49m\n\u001b[1;32m   1487\u001b[0m \u001b[43m      \u001b[49m\u001b[43mname\u001b[49m\u001b[38;5;241;43m.\u001b[39;49m\u001b[43mdecode\u001b[49m\u001b[43m(\u001b[49m\u001b[38;5;124;43m\"\u001b[39;49m\u001b[38;5;124;43mutf-8\u001b[39;49m\u001b[38;5;124;43m\"\u001b[39;49m\u001b[43m)\u001b[49m\u001b[43m,\u001b[49m\n\u001b[1;32m   1488\u001b[0m \u001b[43m      \u001b[49m\u001b[43mnum_outputs\u001b[49m\u001b[38;5;241;43m=\u001b[39;49m\u001b[43mnum_outputs\u001b[49m\u001b[43m,\u001b[49m\n\u001b[1;32m   1489\u001b[0m \u001b[43m      \u001b[49m\u001b[43minputs\u001b[49m\u001b[38;5;241;43m=\u001b[39;49m\u001b[43mtensor_inputs\u001b[49m\u001b[43m,\u001b[49m\n\u001b[1;32m   1490\u001b[0m \u001b[43m      \u001b[49m\u001b[43mattrs\u001b[49m\u001b[38;5;241;43m=\u001b[39;49m\u001b[43mattrs\u001b[49m\u001b[43m,\u001b[49m\n\u001b[1;32m   1491\u001b[0m \u001b[43m      \u001b[49m\u001b[43mctx\u001b[49m\u001b[38;5;241;43m=\u001b[39;49m\u001b[38;5;28;43mself\u001b[39;49m\u001b[43m,\u001b[49m\n\u001b[1;32m   1492\u001b[0m \u001b[43m  \u001b[49m\u001b[43m)\u001b[49m\n\u001b[1;32m   1493\u001b[0m \u001b[38;5;28;01melse\u001b[39;00m:\n\u001b[1;32m   1494\u001b[0m   outputs \u001b[38;5;241m=\u001b[39m execute\u001b[38;5;241m.\u001b[39mexecute_with_cancellation(\n\u001b[1;32m   1495\u001b[0m       name\u001b[38;5;241m.\u001b[39mdecode(\u001b[38;5;124m\"\u001b[39m\u001b[38;5;124mutf-8\u001b[39m\u001b[38;5;124m\"\u001b[39m),\n\u001b[1;32m   1496\u001b[0m       num_outputs\u001b[38;5;241m=\u001b[39mnum_outputs,\n\u001b[0;32m   (...)\u001b[0m\n\u001b[1;32m   1500\u001b[0m       cancellation_manager\u001b[38;5;241m=\u001b[39mcancellation_context,\n\u001b[1;32m   1501\u001b[0m   )\n",
      "File \u001b[0;32m~/anaconda3/envs/tfpy/lib/python3.9/site-packages/tensorflow/python/eager/execute.py:53\u001b[0m, in \u001b[0;36mquick_execute\u001b[0;34m(op_name, num_outputs, inputs, attrs, ctx, name)\u001b[0m\n\u001b[1;32m     51\u001b[0m \u001b[38;5;28;01mtry\u001b[39;00m:\n\u001b[1;32m     52\u001b[0m   ctx\u001b[38;5;241m.\u001b[39mensure_initialized()\n\u001b[0;32m---> 53\u001b[0m   tensors \u001b[38;5;241m=\u001b[39m \u001b[43mpywrap_tfe\u001b[49m\u001b[38;5;241;43m.\u001b[39;49m\u001b[43mTFE_Py_Execute\u001b[49m\u001b[43m(\u001b[49m\u001b[43mctx\u001b[49m\u001b[38;5;241;43m.\u001b[39;49m\u001b[43m_handle\u001b[49m\u001b[43m,\u001b[49m\u001b[43m \u001b[49m\u001b[43mdevice_name\u001b[49m\u001b[43m,\u001b[49m\u001b[43m \u001b[49m\u001b[43mop_name\u001b[49m\u001b[43m,\u001b[49m\n\u001b[1;32m     54\u001b[0m \u001b[43m                                      \u001b[49m\u001b[43minputs\u001b[49m\u001b[43m,\u001b[49m\u001b[43m \u001b[49m\u001b[43mattrs\u001b[49m\u001b[43m,\u001b[49m\u001b[43m \u001b[49m\u001b[43mnum_outputs\u001b[49m\u001b[43m)\u001b[49m\n\u001b[1;32m     55\u001b[0m \u001b[38;5;28;01mexcept\u001b[39;00m core\u001b[38;5;241m.\u001b[39m_NotOkStatusException \u001b[38;5;28;01mas\u001b[39;00m e:\n\u001b[1;32m     56\u001b[0m   \u001b[38;5;28;01mif\u001b[39;00m name \u001b[38;5;129;01mis\u001b[39;00m \u001b[38;5;129;01mnot\u001b[39;00m \u001b[38;5;28;01mNone\u001b[39;00m:\n",
      "\u001b[0;31mKeyboardInterrupt\u001b[0m: "
     ]
    }
   ],
   "source": [
    "for file_path in audio_files[2:3]:\n",
    "    base_name = os.path.splitext(os.path.basename(file_path))[0]\n",
    "\n",
    "    dir_name = f'{base_name[:3]}'\n",
    "    print(dir_name)\n",
    "    print(file_path)\n",
    "\n",
    "    if not os.path.exists(dir_name):\n",
    "        os.makedirs(dir_name)\n",
    "\n",
    "    audio = load_audio(file_path)\n",
    "    segments = split_audio_into_segments(audio, dur, hop, fs)\n",
    "    X_segments = tf.convert_to_tensor(segments, dtype=tf.float32)\n",
    "\n",
    "    #Tendo cada segmento do audio na forma de tensor de tamanho 1s a um hop de 0.5s, pode-se converter cada segmento num embedding\n",
    "    emb = [] \n",
    "    for i in range(len(X_segments)):\n",
    "        X = tf.reshape(X_segments[i],(1, 1,-1)) # podia meter um append, mas pode ser uma variável auxiliar, porque só preciso do tensor para gerar o embedding\n",
    "\n",
    "        embedding = embeddingGenerator(X, m_pre, m_fp)\n",
    "        emb.append(embedding.numpy())\n",
    "    \n",
    "    #Tendo todos os segementos do audio em vetores embedding, pode-se criar um ficheiro .h5 para o audio,pode-se fazer assim:\n",
    "    #000003.h5\n",
    "    #vetores:[vetor1, vetor2, vetor3], sendo total de vetores igual ao número de segmentos \n",
    "    emb_array = np.array(emb)\n",
    "\n",
    "    output_file_path = os.path.join(output_root_dir +  dir_name + '/', base_name + '.h5')\n",
    "    os.makedirs(os.path.dirname(output_file_path), exist_ok=True)\n",
    "\n",
    "    with h5py.File(output_file_path, 'w') as hf:\n",
    "            a=1#hf.create_dataset('embeddings', data=emb_array)"
   ]
  },
  {
   "cell_type": "code",
   "execution_count": null,
   "metadata": {},
   "outputs": [
    {
     "name": "stdout",
     "output_type": "stream",
     "text": [
      "Dados do arquivo /mnt/dataset/public/Fingerprinting/Embeddings_BFTRI/dummy_db/000003.h5:\n"
     ]
    }
   ],
   "source": [
    "import h5py\n",
    "import numpy as np\n",
    "\n",
    "def visualizar_dados_hdf5(file_path):\n",
    "    emb_array = [] \n",
    "    with h5py.File(file_path, 'r') as hf:\n",
    "        # Verifica se o dataset 'embeddings' está presente\n",
    "        if 'embeddings' in hf:\n",
    "            # Lê os dados do dataset 'embeddings'\n",
    "            emb_array.append(hf['embeddings'][:])\n",
    "            print(f'Dados do arquivo {file_path}:')\n",
    "        else:\n",
    "            print(f'Dataset \"embeddings\" não encontrado no arquivo {file_path}')\n",
    "    return emb_array\n",
    "\n",
    "\n",
    "h5_file = '/mnt/dataset/public/Fingerprinting/Embeddings_BFTRI/dummy_db/000003.h5'\n",
    "\n",
    "x=visualizar_dados_hdf5(h5_file)"
   ]
  },
  {
   "cell_type": "code",
   "execution_count": null,
   "metadata": {},
   "outputs": [],
   "source": [
    "# -*- coding: utf-8 -*-\n",
    "#\n",
    "# This source code is licensed under the MIT license found in the\n",
    "# LICENSE file in the root directory of this source tree.\n",
    "\"\"\" eval_faiss.py \"\"\"\n",
    "import os\n",
    "import sys\n",
    "import time\n",
    "import glob\n",
    "import click\n",
    "import curses\n",
    "import pathlib\n",
    "import yaml\n",
    "import numpy as np\n",
    "#sys.path.append(os.path.abspath('/eval_RA/'))\n",
    "#sys.path.append(os.path.dirname(os.path.abspath(os.path.dirname(__file__))))\n",
    "from utils.get_index_faiss import get_index\n",
    "from utils.print_table import PrintTable\n",
    "import faiss"
   ]
  },
  {
   "cell_type": "code",
   "execution_count": null,
   "metadata": {},
   "outputs": [],
   "source": [
    "def load_config(config_fname):\n",
    "    config_filepath = '../config/' + config_fname + '.yaml'\n",
    "    if os.path.exists(config_filepath):\n",
    "        print(f'cli: Configuration from {config_filepath}')\n",
    "    else:\n",
    "        sys.exit(f'cli: ERROR! Configuration file {config_filepath} is missing!!')\n",
    "\n",
    "    with open(config_filepath, 'r') as f:\n",
    "        cfg = yaml.safe_load(f)\n",
    "    return cfg"
   ]
  },
  {
   "cell_type": "code",
   "execution_count": null,
   "metadata": {},
   "outputs": [
    {
     "name": "stdout",
     "output_type": "stream",
     "text": [
      "cli: Configuration from ./config/default_RA.yaml\n"
     ]
    }
   ],
   "source": [
    "config = \"default_RA\"\n",
    "cfg = load_config(config)"
   ]
  },
  {
   "cell_type": "code",
   "execution_count": null,
   "metadata": {},
   "outputs": [],
   "source": [
    "def load_memmap_data(source_dir,\n",
    "                     fname,\n",
    "                     append_extra_length=None,\n",
    "                     shape_only=False,\n",
    "                     display=True):\n",
    "\n",
    "    path_shape = source_dir + fname + '_shape.npy'\n",
    "    path_data = source_dir + fname + '.mm'\n",
    "    data_shape = np.load(path_shape)\n",
    "    if shape_only:\n",
    "        return data_shape\n",
    "\n",
    "    if append_extra_length:\n",
    "        data_shape[0] += append_extra_length\n",
    "        data = np.memmap(path_data, dtype='float32', mode='r+',\n",
    "                         shape=(data_shape[0], data_shape[1]))\n",
    "    else:\n",
    "        data = np.memmap(path_data, dtype='float32', mode='r',\n",
    "                         shape=(data_shape[0], data_shape[1]))\n",
    "    if display:\n",
    "        print(f'Load {data_shape[0]:,} items from \\033[32m{path_data}\\033[0m.')\n",
    "    return data, data_shape"
   ]
  },
  {
   "cell_type": "code",
   "execution_count": null,
   "metadata": {},
   "outputs": [],
   "source": [
    "logsDir = '/mnt/dev/rodrigoalmeida/neural-audio-fp/logs/emb/CHECK_BFTRI_100/101'\n",
    "emb_dir = logsDir + '/'\n",
    "\n",
    "emb_dummy_dir = None\n",
    "index_type='ivfpq'\n",
    "nogpu=False\n",
    "max_train=1e7\n",
    "test_ids='icassp'\n",
    "test_seq_len='1 3 5 9 11 19'\n",
    "k_probe=20\n",
    "display_interval=5"
   ]
  },
  {
   "cell_type": "code",
   "execution_count": null,
   "metadata": {},
   "outputs": [
    {
     "name": "stdout",
     "output_type": "stream",
     "text": [
      "Load 29,500 items from \u001b[32m/mnt/dev/rodrigoalmeida/neural-audio-fp/logs/emb/CHECK_BFTRI_100/101/query.mm\u001b[0m.\n",
      "Load 29,500 items from \u001b[32m/mnt/dev/rodrigoalmeida/neural-audio-fp/logs/emb/CHECK_BFTRI_100/101/db.mm\u001b[0m.\n",
      "Load 53,754,198 items from \u001b[32m/mnt/dev/rodrigoalmeida/neural-audio-fp/logs/emb/CHECK_BFTRI_100/101/dummy_db.mm\u001b[0m.\n"
     ]
    }
   ],
   "source": [
    "#test_seq_len='1'\n",
    "\n",
    "test_seq_len = np.asarray(\n",
    "        list(map(int, test_seq_len.split())))  # '1 3 5' --> [1, 3, 5]\n",
    "\n",
    "query, query_shape = load_memmap_data(emb_dir, 'query')\n",
    "db, db_shape = load_memmap_data(emb_dir, 'db')\n",
    "\n",
    "if emb_dummy_dir is None:\n",
    "    emb_dummy_dir = emb_dir\n",
    "\n",
    "dummy_db, dummy_db_shape = load_memmap_data(emb_dummy_dir, 'dummy_db')"
   ]
  },
  {
   "cell_type": "code",
   "execution_count": null,
   "metadata": {},
   "outputs": [
    {
     "name": "stdout",
     "output_type": "stream",
     "text": [
      "(53754198, 128) [53754198      128] (29500, 128) [29500   128] (29500, 128) [29500   128]\n"
     ]
    }
   ],
   "source": [
    "print(dummy_db.shape, dummy_db_shape, db.shape, db_shape, query.shape, query_shape)"
   ]
  },
  {
   "cell_type": "code",
   "execution_count": null,
   "metadata": {},
   "outputs": [],
   "source": [
    "def create_index(dummy_db, dummy_db_shape):\n",
    "    #d = dummy_db_shape[1]\n",
    "\n",
    "    # Build a flat (CPU) index\n",
    "    index = faiss.IndexFlatL2(128) #\n",
    "\n",
    "    index_type = 'ivfpq'\n",
    "    mode = index_type.lower()\n",
    "    print(f'Creating index: \\033[93m{mode}\\033[0m')\n",
    "\n",
    "    # Using IVF-PQ index\n",
    "    code_sz = 64 # power of 2\n",
    "    n_centroids = 256#\n",
    "    nbits = 8  # nbits must be 8, 12 or 16, The dimension d should be a multiple of M.\n",
    "    index = faiss.IndexIVFPQ(index, 128, n_centroids, code_sz, nbits)\n",
    "\n",
    "    train_data = dummy_db\n",
    "    max_train=1e7\n",
    "    max_nitem_train = int(max_train)\n",
    "\n",
    "    # Train index\n",
    "\n",
    "    if len(train_data) > max_nitem_train:\n",
    "        print('Training index using {:>3.2f} % of data...'.format(\n",
    "            100. * max_nitem_train / len(train_data)))\n",
    "        # shuffle and reduce training data\n",
    "        sel_tr_idx = np.random.permutation(len(train_data))\n",
    "        sel_tr_idx = sel_tr_idx[:max_nitem_train]\n",
    "        index.train(train_data[sel_tr_idx,:])\n",
    "\n",
    "    index.nprobe = 40\n",
    "    print(f\"index trained: {index.is_trained}\")\n",
    "\n",
    "    #index.add(dummy_db); print(f'{len(dummy_db)} items from dummy DB')\n",
    "    #index.add(db); print(f'{len(db)} items from reference DB') #corresponde aos que estão verdadeiros e iguais ao query_db\n",
    "    return index"
   ]
  },
  {
   "cell_type": "code",
   "execution_count": null,
   "metadata": {},
   "outputs": [
    {
     "name": "stdout",
     "output_type": "stream",
     "text": [
      "Creating index: \u001b[93mivfpq\u001b[0m\n",
      "Training index using 18.60 % of data...\n",
      "index trained: True\n"
     ]
    }
   ],
   "source": [
    "index = create_index(dummy_db, dummy_db_shape) # Demorou 22m36.2s sem o index.add"
   ]
  },
  {
   "cell_type": "code",
   "execution_count": null,
   "metadata": {},
   "outputs": [
    {
     "name": "stdout",
     "output_type": "stream",
     "text": [
      "53754198 items from dummy DB\n",
      "29500 items from reference DB\n"
     ]
    }
   ],
   "source": [
    "index.add(dummy_db); print(f'{len(dummy_db)} items from dummy DB')\n",
    "index.add(db); print(f'{len(db)} items from reference DB') #corresponde aos que estão verdadeiros e iguais ao query_db"
   ]
  },
  {
   "cell_type": "code",
   "execution_count": null,
   "metadata": {},
   "outputs": [
    {
     "name": "stdout",
     "output_type": "stream",
     "text": [
      "test_id: \u001b[93m[14655 21662  7594 ... 15722  1097  4538]\u001b[0m,  "
     ]
    }
   ],
   "source": [
    "# Get test_ids\n",
    "print(f'test_id: \\033[93m{test_ids}\\033[0m,  ', end='') #icassp"
   ]
  },
  {
   "cell_type": "code",
   "execution_count": null,
   "metadata": {},
   "outputs": [
    {
     "name": "stdout",
     "output_type": "stream",
     "text": [
      "2\n",
      "n_test: \u001b[93m2000\u001b[0m\n"
     ]
    }
   ],
   "source": [
    "if test_ids.lower() == 'all':\n",
    "    print('1')\n",
    "    test_ids = np.arange(0, len(query) - max(test_seq_len), 1) # will test all segments in query/db set\n",
    "elif test_ids.lower() == 'icassp':\n",
    "    print('2')\n",
    "    test_ids = np.load(\n",
    "        glob.glob('../**/test_ids_icassp2021.npy', recursive=True)[0])\n",
    "elif test_ids.isnumeric():\n",
    "    print('3')\n",
    "    test_ids = np.random.permutation(len(query) - max(test_seq_len))[:int(test_ids)]\n",
    "else:\n",
    "    print('4')\n",
    "    test_ids = np.load(test_ids)\n",
    "\n",
    "n_test = len(test_ids)\n",
    "gt_ids  = test_ids + dummy_db_shape[0]\n",
    "print(f'n_test: \\033[93m{n_test:n}\\033[0m')"
   ]
  },
  {
   "cell_type": "code",
   "execution_count": null,
   "metadata": {},
   "outputs": [
    {
     "data": {
      "text/plain": [
       "array([14655, 21662,  7594, 23837,  6986,   503,   112, 25776, 11851,\n",
       "       15398, 22953, 13264,  6108, 16048, 22217, 13886, 12292,  7189,\n",
       "        1904, 20861, 17157, 23825, 18234, 21862, 29201, 17855, 27441,\n",
       "       14694,  3954,   483,  8438, 27553,  1310, 22681, 21222,  6360,\n",
       "        3637,  2577, 27481, 27701, 13465,  7457,  3170,  1357, 25567,\n",
       "       20961, 23649, 11466, 14353,  9081, 26635, 11388, 20681,  8941,\n",
       "        2021, 12345, 10838, 27587, 21255, 11784,  3838,  8001, 11629,\n",
       "       15450,  4809,  1790, 22565,  8527, 26434,  9016, 20142,  3558,\n",
       "        2094, 16883, 24742, 18908, 15654, 27950, 18123, 27771,  1275,\n",
       "       16603, 10512, 20703, 28558, 15078, 13893,  2152,  7797, 27343,\n",
       "       26346,  9864, 27904, 27122, 28266, 12375, 23038, 16580, 27227,\n",
       "        2646,  5623, 17025, 21296, 27146, 20650, 14627, 11486, 23879,\n",
       "       25857, 10332,  4860, 25424,  6348,  3334, 28383, 24786,  6867,\n",
       "       25243,  9026,  7575, 17355, 21779,  1507,  6790, 24307,  9351,\n",
       "       19457,  6386,   947,  6232, 17626, 13777, 25984, 25963, 23287,\n",
       "        1188, 27788, 22247, 13478, 22392, 24661, 29184,  8497,  9476,\n",
       "         632, 20003,  7553, 13961, 19017,  9886, 13125, 26164,  1056,\n",
       "       11716, 12230, 24006, 14163,  8082, 21310,  7773, 22822,  9895,\n",
       "       17154, 26812, 16814, 14137, 21801, 29011, 14479,  7514, 16086,\n",
       "       23156, 10460, 11061,  8985,  6094, 14210,  4005, 28747, 23622,\n",
       "        6932, 14840, 22153,  7264, 23821,  5077, 12171, 21435,  8186,\n",
       "       25571,  9255,  3833,  9158, 23376, 18775, 22885,  2834, 23459,\n",
       "       23638, 15540,  3552,  1526, 14092, 10064, 24044, 28922, 21062,\n",
       "       22155, 25226, 18375, 23349,  3251,  3700, 12595,  7147,  5921,\n",
       "       17914, 10613,  1795, 25263,  1644,  6744, 26702, 20283, 16876,\n",
       "        2159, 15620, 21812, 19235, 17631, 29003, 24598,  6664, 20911,\n",
       "       16715, 13715, 24199,  4881,  9798,  1235, 14708, 16173,   573,\n",
       "       11650, 27024, 23453,   867, 26844, 27081, 29312])"
      ]
     },
     "execution_count": 29,
     "metadata": {},
     "output_type": "execute_result"
    }
   ],
   "source": [
    "test_ids[0:250]"
   ]
  },
  {
   "cell_type": "markdown",
   "metadata": {},
   "source": [
    "o test_ids contém 2000 indices (?), isto é, dado uma música\n",
    "\n",
    "\n",
    "ver quantas musicas tem o dummy_db,\n",
    "ver quantos vetores tem cada musica e qual a ordem, para saber que indice é cada vetor e a que musica pertence"
   ]
  },
  {
   "cell_type": "code",
   "execution_count": null,
   "metadata": {},
   "outputs": [],
   "source": [
    "\"\"\"\n",
    "import numpy as np\n",
    "import pandas as pd\n",
    "\n",
    "# Exemplo de array que você quer salvar\n",
    "data = test_ids\n",
    "\n",
    "# Criar um DataFrame com os dados\n",
    "df = pd.DataFrame(data, columns=['indice'])\n",
    "\n",
    "# Escolher o nome do arquivo CSV\n",
    "nome_arquivo = 'test_ids.csv'\n",
    "\n",
    "# Salvar o DataFrame em um arquivo CSV\n",
    "df.to_csv(nome_arquivo, index=False)\n",
    "\n",
    "print(f'Arquivo {nome_arquivo} salvo com sucesso.')\n",
    "\"\"\"\n"
   ]
  },
  {
   "cell_type": "code",
   "execution_count": null,
   "metadata": {},
   "outputs": [],
   "source": [
    "\"\"\" Segement/sequence-level search & evaluation \"\"\"\n",
    "# Define metric\n",
    "top1_exact = np.zeros((n_test, len(test_seq_len))).astype(int) # (n_test, test_seg_len)\n",
    "top1_near = np.zeros((n_test, len(test_seq_len))).astype(int)\n",
    "# top1_song = np.zeros((n_test, len(test_seq_len))).astype(np.int)"
   ]
  },
  {
   "cell_type": "code",
   "execution_count": null,
   "metadata": {},
   "outputs": [
    {
     "data": {
      "text/plain": [
       "memmap([[ 0.15809532, -0.02599731,  0.01563343, -0.01498089, -0.08509405,\n",
       "          0.00918309,  0.07498254,  0.14784455,  0.04171429,  0.00654791,\n",
       "          0.15193549,  0.0434388 , -0.08942915,  0.20740546,  0.03593424,\n",
       "         -0.06072055, -0.04684889, -0.09035619, -0.06467165, -0.00962286,\n",
       "         -0.01251085, -0.08126785,  0.00619965, -0.04982934, -0.00722066,\n",
       "         -0.0855777 ,  0.17162009, -0.07458217,  0.04839539,  0.00616283,\n",
       "          0.02169314, -0.07166849,  0.14735067,  0.02083374,  0.1120945 ,\n",
       "          0.07894135, -0.0452273 , -0.10079931, -0.08433416, -0.0737057 ,\n",
       "         -0.12632951, -0.10347243, -0.06913505,  0.07233108, -0.09519916,\n",
       "          0.08077845, -0.03659033,  0.01063322, -0.11243182,  0.12478732,\n",
       "          0.00699937, -0.00058141,  0.0937693 ,  0.04863384, -0.00416125,\n",
       "         -0.06676556,  0.02907668, -0.02814799,  0.02993005, -0.00958559,\n",
       "         -0.08623658,  0.00639441, -0.06963412, -0.01728812, -0.18978092,\n",
       "         -0.02648345, -0.15898466,  0.00409927,  0.06119691, -0.06204201,\n",
       "          0.08759266,  0.01183059,  0.05071739,  0.32753727, -0.09562138,\n",
       "          0.02530304, -0.1884319 ,  0.12543137, -0.00479679, -0.07211001,\n",
       "          0.10808412,  0.07245206,  0.0610362 , -0.09392631,  0.05131031,\n",
       "          0.07446659,  0.04591974, -0.03691685,  0.0254448 , -0.09683032,\n",
       "          0.03674849,  0.08537237, -0.11328082, -0.05488797,  0.08406887,\n",
       "         -0.03308051, -0.05179197,  0.12429374,  0.23173918, -0.00621815,\n",
       "          0.14942522, -0.0732986 ,  0.08133926,  0.04422827, -0.11327676,\n",
       "          0.15314676, -0.00675235,  0.00959654, -0.06837054,  0.00472656,\n",
       "         -0.04973622, -0.02063952,  0.11427636,  0.09264562,  0.12099369,\n",
       "          0.04713694, -0.03639697,  0.02720241,  0.07506174,  0.05501056,\n",
       "          0.17360698,  0.04519074,  0.01676281, -0.0251747 , -0.0335025 ,\n",
       "          0.04261743,  0.16243638,  0.04823006]], dtype=float32)"
      ]
     },
     "execution_count": 14,
     "metadata": {},
     "output_type": "execute_result"
    }
   ],
   "source": [
    "query[ 14655 : 14655 + 1 , :] #14655 é o primeiro valor do test_ids, sl é o sequence_length value.\n",
    "#ou seja, do query, dos 60 vetores, escolhe-se o indice 14655, quer-se avançar 1 vetor (1 segundo), logo vai de 14655 a 14656.\n",
    "#A comparação vai ser feita no query[14655:14656, :]\n",
    "#q = query[test_id:(test_id + sl), :]"
   ]
  },
  {
   "cell_type": "code",
   "execution_count": null,
   "metadata": {},
   "outputs": [
    {
     "data": {
      "text/plain": [
       "array([53768853, 53775860, 53761792, ..., 53769920, 53755295, 53758736])"
      ]
     },
     "execution_count": 15,
     "metadata": {},
     "output_type": "execute_result"
    }
   ],
   "source": [
    "gt_ids #test_ids + dummy_db_shape[0]"
   ]
  },
  {
   "cell_type": "code",
   "execution_count": null,
   "metadata": {},
   "outputs": [],
   "source": [
    "test_id = test_ids[0]"
   ]
  },
  {
   "cell_type": "code",
   "execution_count": null,
   "metadata": {},
   "outputs": [],
   "source": [
    "sl = test_seq_len[1]"
   ]
  },
  {
   "cell_type": "code",
   "execution_count": null,
   "metadata": {},
   "outputs": [],
   "source": [
    "q = query[test_id:(test_id + sl), :]"
   ]
  },
  {
   "cell_type": "code",
   "execution_count": null,
   "metadata": {},
   "outputs": [],
   "source": [
    "_, I = index.search(q, k_probe)"
   ]
  },
  {
   "cell_type": "code",
   "execution_count": null,
   "metadata": {},
   "outputs": [
    {
     "name": "stdout",
     "output_type": "stream",
     "text": [
      "3\n"
     ]
    }
   ],
   "source": [
    "print(len(I))"
   ]
  },
  {
   "cell_type": "code",
   "execution_count": null,
   "metadata": {},
   "outputs": [],
   "source": [
    "II=I"
   ]
  },
  {
   "cell_type": "code",
   "execution_count": null,
   "metadata": {},
   "outputs": [
    {
     "data": {
      "text/plain": [
       "array([[53768853, 44703565, 53768832, 32602405, 44703566, 53768854,\n",
       "         3046219, 30244778, 50021449, 32602390, 50090820, 46040053,\n",
       "        53768875,  5261943, 39399655, 28396311, 25233445, 46040054,\n",
       "        44703570, 27606284],\n",
       "       [53768855, 53768876, 50867759, 23104134, 53768854, 50865421,\n",
       "        23104135, 53768877, 53768856, 23104097, 19577881, 23104138,\n",
       "        18441413, 23104273, 23104136, 23104107, 19577880, 23104010,\n",
       "        23180610, 38286572],\n",
       "       [53768855, 53768835, 53768856, 30777645, 53768834, 32228339,\n",
       "        53768876, 32216725, 50865430, 32228337, 53768878, 35513917,\n",
       "        30803668, 50865436, 30803754, 21509771, 51635979, 23180587,\n",
       "        53768877, 50865313]])"
      ]
     },
     "execution_count": 36,
     "metadata": {},
     "output_type": "execute_result"
    }
   ],
   "source": [
    "II"
   ]
  },
  {
   "cell_type": "code",
   "execution_count": null,
   "metadata": {},
   "outputs": [],
   "source": [
    "II[2, :] -= 2"
   ]
  },
  {
   "cell_type": "code",
   "execution_count": null,
   "metadata": {},
   "outputs": [
    {
     "data": {
      "text/plain": [
       "array([[53768853, 44703565, 53768832, 32602405, 44703566, 53768854,\n",
       "         3046219, 30244778, 50021449, 32602390, 50090820, 46040053,\n",
       "        53768875,  5261943, 39399655, 28396311, 25233445, 46040054,\n",
       "        44703570, 27606284],\n",
       "       [53768854, 53768875, 50867758, 23104133, 53768853, 50865420,\n",
       "        23104134, 53768876, 53768855, 23104096, 19577880, 23104137,\n",
       "        18441412, 23104272, 23104135, 23104106, 19577879, 23104009,\n",
       "        23180609, 38286571],\n",
       "       [53768853, 53768833, 53768854, 30777643, 53768832, 32228337,\n",
       "        53768874, 32216723, 50865428, 32228335, 53768876, 35513915,\n",
       "        30803666, 50865434, 30803752, 21509769, 51635977, 23180585,\n",
       "        53768875, 50865311]])"
      ]
     },
     "execution_count": 40,
     "metadata": {},
     "output_type": "execute_result"
    }
   ],
   "source": [
    "II"
   ]
  },
  {
   "cell_type": "code",
   "execution_count": null,
   "metadata": {},
   "outputs": [],
   "source": [
    "for offset in range(len(I)):\n",
    "    I[offset, :] -= offset"
   ]
  },
  {
   "cell_type": "code",
   "execution_count": null,
   "metadata": {},
   "outputs": [
    {
     "data": {
      "text/plain": [
       "array([[53768853, 44703565, 53768832, 32602405, 44703566, 53768854,\n",
       "         3046219, 30244778, 50021449, 32602390, 50090820, 46040053,\n",
       "        53768875,  5261943, 39399655, 28396311, 25233445, 46040054,\n",
       "        44703570, 27606284],\n",
       "       [53768853, 53768874, 50867757, 23104132, 53768852, 50865419,\n",
       "        23104133, 53768875, 53768854, 23104095, 19577879, 23104136,\n",
       "        18441411, 23104271, 23104134, 23104105, 19577878, 23104008,\n",
       "        23180608, 38286570],\n",
       "       [53768851, 53768831, 53768852, 30777641, 53768830, 32228335,\n",
       "        53768872, 32216721, 50865426, 32228333, 53768874, 35513913,\n",
       "        30803664, 50865432, 30803750, 21509767, 51635975, 23180583,\n",
       "        53768873, 50865309]])"
      ]
     },
     "execution_count": 42,
     "metadata": {},
     "output_type": "execute_result"
    }
   ],
   "source": [
    "I"
   ]
  },
  {
   "cell_type": "code",
   "execution_count": null,
   "metadata": {},
   "outputs": [
    {
     "name": "stdout",
     "output_type": "stream",
     "text": [
      "[ 3046219  5261943 18441411 19577878 19577879 21509767 23104008 23104095\n",
      " 23104105 23104132 23104133 23104134 23104136 23104271 23180583 23180608\n",
      " 25233445 27606284 28396311 30244778 30777641 30803664 30803750 32216721\n",
      " 32228333 32228335 32602390 32602405 35513913 38286570 39399655 44703565\n",
      " 44703566 44703570 46040053 46040054 50021449 50090820 50865309 50865419\n",
      " 50865426 50865432 50867757 51635975 53768830 53768831 53768832 53768851\n",
      " 53768852 53768853 53768854 53768872 53768873 53768874 53768875]\n"
     ]
    }
   ],
   "source": [
    "candidates = np.unique(I[np.where(I >= 0)])   # ignore id < 0\n",
    "print(candidates)"
   ]
  },
  {
   "cell_type": "code",
   "execution_count": null,
   "metadata": {},
   "outputs": [],
   "source": [
    "\"\"\" Sequence match score \"\"\"\n",
    "_scores = np.zeros(len(candidates))"
   ]
  },
  {
   "cell_type": "code",
   "execution_count": null,
   "metadata": {},
   "outputs": [
    {
     "name": "stdout",
     "output_type": "stream",
     "text": [
      "0 3046219\n",
      "1 5261943\n",
      "2 18441411\n",
      "3 19577878\n",
      "4 19577879\n",
      "5 21509767\n",
      "6 23104008\n",
      "7 23104095\n",
      "8 23104105\n",
      "9 23104132\n",
      "10 23104133\n",
      "11 23104134\n",
      "12 23104136\n",
      "13 23104271\n",
      "14 23180583\n",
      "15 23180608\n",
      "16 25233445\n",
      "17 27606284\n",
      "18 28396311\n",
      "19 30244778\n",
      "20 30777641\n",
      "21 30803664\n",
      "22 30803750\n",
      "23 32216721\n",
      "24 32228333\n",
      "25 32228335\n",
      "26 32602390\n",
      "27 32602405\n",
      "28 35513913\n",
      "29 38286570\n",
      "30 39399655\n",
      "31 44703565\n",
      "32 44703566\n",
      "33 44703570\n",
      "34 46040053\n",
      "35 46040054\n",
      "36 50021449\n",
      "37 50090820\n",
      "38 50865309\n",
      "39 50865419\n",
      "40 50865426\n",
      "41 50865432\n",
      "42 50867757\n",
      "43 51635975\n",
      "44 53768830\n",
      "45 53768831\n",
      "46 53768832\n",
      "47 53768851\n",
      "48 53768852\n",
      "49 53768853\n",
      "50 53768854\n",
      "51 53768872\n",
      "52 53768873\n",
      "53 53768874\n",
      "54 53768875\n"
     ]
    }
   ],
   "source": [
    "for ci, cid in enumerate(candidates):\n",
    "    print(ci, cid)"
   ]
  },
  {
   "cell_type": "code",
   "execution_count": null,
   "metadata": {},
   "outputs": [],
   "source": [
    "emb_dummy_dir = emb_dir"
   ]
  },
  {
   "cell_type": "code",
   "execution_count": null,
   "metadata": {},
   "outputs": [],
   "source": [
    "del dummy_db\n",
    "\n",
    "fake_recon_index, index_shape = load_memmap_data(\n",
    "    emb_dummy_dir, 'dummy_db', append_extra_length=query_shape[0],\n",
    "    display=False)\n",
    "#len(fake_recon_index) - 53783698"
   ]
  },
  {
   "cell_type": "code",
   "execution_count": null,
   "metadata": {},
   "outputs": [],
   "source": [
    "fake_recon_index[dummy_db_shape[0]:dummy_db_shape[0] + query_shape[0], :] = db[:, :]\n",
    "fake_recon_index.flush()\n",
    "#len(fake_recon_index) - 53783698"
   ]
  },
  {
   "cell_type": "code",
   "execution_count": null,
   "metadata": {},
   "outputs": [],
   "source": [
    "ci = 0\n",
    "cid = 153702"
   ]
  },
  {
   "cell_type": "code",
   "execution_count": null,
   "metadata": {},
   "outputs": [
    {
     "data": {
      "text/plain": [
       "memmap([[ 0.13540626,  0.10583296,  0.00773416,  0.01316234, -0.02899436,\n",
       "         -0.04654417, -0.00783276, -0.11456508, -0.04313429, -0.03091665,\n",
       "         -0.0466799 ],\n",
       "        [ 0.1649779 ,  0.1344586 ,  0.03165737,  0.07611004,  0.07867202,\n",
       "         -0.04457755,  0.07102919,  0.13729277,  0.08224892,  0.05492847,\n",
       "          0.12838879],\n",
       "        [ 0.06412753,  0.02963007, -0.01620481,  0.04184759,  0.06647854,\n",
       "          0.01239931,  0.05275577,  0.119441  ,  0.06510368,  0.11412318,\n",
       "          0.08172489],\n",
       "        [ 0.10762019, -0.00687964,  0.07002341,  0.15537184,  0.12973554,\n",
       "          0.01866154,  0.09201331,  0.0503825 ,  0.15598398,  0.1723681 ,\n",
       "          0.08008766],\n",
       "        [ 0.05130191, -0.02845777,  0.09642363,  0.07476643,  0.11307297,\n",
       "         -0.00240691,  0.0151294 ,  0.0215014 ,  0.03398096,  0.10673533,\n",
       "          0.08688808],\n",
       "        [ 0.08944897,  0.0128467 ,  0.0403959 ,  0.16369176,  0.18174008,\n",
       "          0.06037472,  0.0693492 , -0.00599509,  0.11195889,  0.16190957,\n",
       "          0.02195785],\n",
       "        [ 0.18575296,  0.06338863,  0.08204196,  0.12791373,  0.10158814,\n",
       "         -0.08302927,  0.15101886,  0.12055152,  0.06747763,  0.13014697,\n",
       "          0.15549205],\n",
       "        [ 0.4406883 ,  0.30394757,  0.3772272 ,  0.31357995,  0.26579237,\n",
       "          0.3270196 ,  0.2837618 ,  0.17358014,  0.13217597,  0.3395842 ,\n",
       "          0.4226273 ],\n",
       "        [ 0.31935605,  0.1951664 ,  0.17733592,  0.0872376 ,  0.18644914,\n",
       "          0.13924012,  0.23651192,  0.1513813 ,  0.06591691,  0.20380117,\n",
       "          0.32626364],\n",
       "        [ 0.2493438 ,  0.09315011,  0.11935825,  0.11978285,  0.16914254,\n",
       "          0.1113194 ,  0.19955237,  0.11687683,  0.06552711,  0.11153555,\n",
       "          0.23230483],\n",
       "        [ 0.09539243, -0.00920251,  0.09364441,  0.19418971,  0.12671971,\n",
       "          0.01442569,  0.03977111,  0.00455849, -0.04136855,  0.01760709,\n",
       "          0.09477568]], dtype=float32)"
      ]
     },
     "execution_count": 103,
     "metadata": {},
     "output_type": "execute_result"
    }
   ],
   "source": [
    "np.dot(q, fake_recon_index[cid:cid + sl, :].T)"
   ]
  },
  {
   "cell_type": "code",
   "execution_count": null,
   "metadata": {},
   "outputs": [
    {
     "data": {
      "text/plain": [
       "memmap([ 0.13540626,  0.1344586 , -0.01620481,  0.15537184,  0.11307297,\n",
       "         0.06037472,  0.15101886,  0.17358014,  0.06591691,  0.11153555,\n",
       "         0.09477568], dtype=float32)"
      ]
     },
     "execution_count": 101,
     "metadata": {},
     "output_type": "execute_result"
    }
   ],
   "source": [
    "np.diag(np.dot(q, fake_recon_index[cid:cid + sl, :].T))"
   ]
  },
  {
   "cell_type": "code",
   "execution_count": null,
   "metadata": {},
   "outputs": [
    {
     "data": {
      "text/plain": [
       "0.107209705"
      ]
     },
     "execution_count": 102,
     "metadata": {},
     "output_type": "execute_result"
    }
   ],
   "source": [
    "np.mean(\n",
    "        np.diag(\n",
    "            # np.dot(q, index.reconstruct_n(cid, (cid + l)).T)\n",
    "            np.dot(q, fake_recon_index[cid:cid + sl, :].T)\n",
    "            )\n",
    "        )"
   ]
  },
  {
   "cell_type": "code",
   "execution_count": null,
   "metadata": {},
   "outputs": [
    {
     "data": {
      "text/plain": [
       "array([  0, 111, 112, 113, 114, 115, 116, 117, 118, 110])"
      ]
     },
     "execution_count": 105,
     "metadata": {},
     "output_type": "execute_result"
    }
   ],
   "source": [
    "np.argsort(-_scores)[:10]"
   ]
  },
  {
   "cell_type": "code",
   "execution_count": null,
   "metadata": {},
   "outputs": [
    {
     "data": {
      "text/plain": [
       "array([  153702, 39665315, 39665320, 39665424, 39665429, 39665435,\n",
       "       39665473, 39753136, 40748170, 39497959])"
      ]
     },
     "execution_count": 106,
     "metadata": {},
     "output_type": "execute_result"
    }
   ],
   "source": [
    "candidates[np.argsort(-_scores)[:10]]"
   ]
  },
  {
   "cell_type": "code",
   "execution_count": null,
   "metadata": {},
   "outputs": [],
   "source": [
    "pred_ids = candidates[np.argsort(-_scores)[:10]]"
   ]
  },
  {
   "cell_type": "code",
   "execution_count": null,
   "metadata": {},
   "outputs": [],
   "source": [
    "ti=0\n",
    "si=0\n",
    "gt_id = gt_ids[ti]"
   ]
  },
  {
   "cell_type": "code",
   "execution_count": null,
   "metadata": {},
   "outputs": [
    {
     "data": {
      "text/plain": [
       "53768853"
      ]
     },
     "execution_count": 109,
     "metadata": {},
     "output_type": "execute_result"
    }
   ],
   "source": [
    "gt_id"
   ]
  },
  {
   "cell_type": "code",
   "execution_count": null,
   "metadata": {},
   "outputs": [
    {
     "data": {
      "text/plain": [
       "0"
      ]
     },
     "execution_count": 112,
     "metadata": {},
     "output_type": "execute_result"
    }
   ],
   "source": [
    "int(gt_id == pred_ids[0])"
   ]
  },
  {
   "cell_type": "code",
   "execution_count": null,
   "metadata": {},
   "outputs": [
    {
     "data": {
      "text/plain": [
       "0"
      ]
     },
     "execution_count": 113,
     "metadata": {},
     "output_type": "execute_result"
    }
   ],
   "source": [
    "int(\n",
    "    pred_ids[0] in [gt_id - 1, gt_id, gt_id + 1])"
   ]
  },
  {
   "cell_type": "code",
   "execution_count": null,
   "metadata": {},
   "outputs": [],
   "source": [
    "top1_exact[ti, si] = int(gt_id == pred_ids[0])\n",
    "top1_near[ti, si] = int(\n",
    "    pred_ids[0] in [gt_id - 1, gt_id, gt_id + 1])"
   ]
  },
  {
   "cell_type": "code",
   "execution_count": null,
   "metadata": {},
   "outputs": [
    {
     "name": "stdout",
     "output_type": "stream",
     "text": [
      "0\n",
      "1\n",
      "2\n",
      "3\n",
      "4\n",
      "5\n",
      "6\n",
      "7\n",
      "8\n",
      "9\n",
      "10\n",
      "11\n",
      "12\n",
      "13\n",
      "14\n",
      "15\n",
      "16\n",
      "17\n",
      "18\n",
      "19\n",
      "20\n",
      "21\n",
      "22\n",
      "23\n",
      "24\n",
      "25\n",
      "26\n",
      "27\n",
      "28\n",
      "29\n",
      "30\n",
      "31\n",
      "32\n",
      "33\n",
      "34\n",
      "35\n",
      "36\n",
      "37\n",
      "38\n",
      "39\n",
      "40\n",
      "41\n",
      "42\n",
      "43\n",
      "44\n",
      "45\n",
      "46\n",
      "47\n",
      "48\n",
      "49\n",
      "50\n",
      "51\n",
      "52\n",
      "53\n",
      "54\n",
      "55\n",
      "56\n",
      "57\n",
      "58\n",
      "59\n",
      "60\n",
      "61\n",
      "62\n",
      "63\n",
      "64\n",
      "65\n",
      "66\n",
      "67\n",
      "68\n",
      "69\n",
      "70\n",
      "71\n",
      "72\n",
      "73\n",
      "74\n",
      "75\n",
      "76\n",
      "77\n",
      "78\n",
      "79\n",
      "80\n",
      "81\n",
      "82\n",
      "83\n",
      "84\n",
      "85\n",
      "86\n",
      "87\n",
      "88\n",
      "89\n",
      "90\n",
      "91\n",
      "92\n",
      "93\n",
      "94\n",
      "95\n",
      "96\n",
      "97\n",
      "98\n",
      "99\n",
      "100\n",
      "101\n",
      "102\n",
      "103\n",
      "104\n",
      "105\n",
      "106\n",
      "107\n",
      "108\n",
      "109\n",
      "110\n",
      "111\n",
      "112\n",
      "113\n",
      "114\n",
      "115\n",
      "116\n",
      "117\n",
      "118\n",
      "119\n",
      "120\n",
      "121\n",
      "122\n",
      "123\n",
      "124\n",
      "125\n",
      "126\n",
      "127\n",
      "128\n",
      "129\n",
      "130\n",
      "131\n",
      "132\n",
      "133\n",
      "134\n",
      "135\n",
      "136\n",
      "137\n",
      "138\n",
      "139\n",
      "140\n",
      "141\n",
      "142\n",
      "143\n",
      "144\n",
      "145\n",
      "146\n",
      "147\n",
      "148\n",
      "149\n",
      "150\n",
      "151\n",
      "152\n",
      "153\n",
      "154\n",
      "155\n",
      "156\n",
      "157\n",
      "158\n",
      "159\n",
      "160\n",
      "161\n",
      "162\n",
      "163\n",
      "164\n",
      "165\n",
      "166\n",
      "167\n",
      "168\n",
      "169\n",
      "170\n",
      "171\n",
      "172\n",
      "173\n",
      "174\n",
      "175\n",
      "176\n",
      "177\n",
      "178\n",
      "179\n",
      "180\n",
      "181\n",
      "182\n",
      "183\n",
      "184\n",
      "185\n",
      "186\n",
      "187\n",
      "188\n",
      "189\n",
      "190\n",
      "191\n",
      "192\n",
      "193\n",
      "194\n",
      "195\n",
      "196\n",
      "197\n",
      "198\n",
      "199\n",
      "200\n",
      "201\n",
      "202\n",
      "203\n",
      "204\n",
      "205\n",
      "206\n",
      "207\n",
      "208\n",
      "209\n",
      "210\n",
      "211\n",
      "212\n",
      "213\n",
      "214\n",
      "215\n",
      "216\n",
      "217\n",
      "218\n",
      "219\n",
      "220\n",
      "221\n",
      "222\n",
      "223\n",
      "224\n",
      "225\n",
      "226\n",
      "227\n",
      "228\n",
      "229\n",
      "230\n",
      "231\n",
      "232\n",
      "233\n",
      "234\n",
      "235\n",
      "236\n",
      "237\n",
      "238\n",
      "239\n",
      "240\n",
      "241\n",
      "242\n",
      "243\n",
      "244\n",
      "245\n",
      "246\n",
      "247\n",
      "248\n",
      "249\n",
      "250\n",
      "251\n",
      "252\n",
      "253\n",
      "254\n",
      "255\n",
      "256\n",
      "257\n",
      "258\n",
      "259\n",
      "260\n",
      "261\n",
      "262\n",
      "263\n",
      "264\n",
      "265\n",
      "266\n",
      "267\n",
      "268\n",
      "269\n",
      "270\n",
      "271\n",
      "272\n",
      "273\n",
      "274\n",
      "275\n",
      "276\n",
      "277\n",
      "278\n",
      "279\n",
      "280\n",
      "281\n",
      "282\n",
      "283\n",
      "284\n",
      "285\n",
      "286\n",
      "287\n",
      "288\n",
      "289\n",
      "290\n",
      "291\n",
      "292\n",
      "293\n",
      "294\n",
      "295\n",
      "296\n",
      "297\n",
      "298\n",
      "299\n",
      "300\n",
      "301\n",
      "302\n",
      "303\n",
      "304\n",
      "305\n",
      "306\n",
      "307\n",
      "308\n",
      "309\n",
      "310\n",
      "311\n",
      "312\n",
      "313\n",
      "314\n",
      "315\n",
      "316\n",
      "317\n",
      "318\n",
      "319\n",
      "320\n",
      "321\n",
      "322\n",
      "323\n",
      "324\n",
      "325\n",
      "326\n",
      "327\n",
      "328\n",
      "329\n",
      "330\n",
      "331\n",
      "332\n",
      "333\n",
      "334\n",
      "335\n",
      "336\n",
      "337\n",
      "338\n",
      "339\n",
      "340\n",
      "341\n",
      "342\n",
      "343\n",
      "344\n",
      "345\n",
      "346\n",
      "347\n",
      "348\n",
      "349\n",
      "350\n",
      "351\n",
      "352\n",
      "353\n",
      "354\n",
      "355\n",
      "356\n",
      "357\n",
      "358\n",
      "359\n",
      "360\n",
      "361\n",
      "362\n",
      "363\n",
      "364\n",
      "365\n",
      "366\n",
      "367\n",
      "368\n",
      "369\n",
      "370\n",
      "371\n",
      "372\n",
      "373\n",
      "374\n",
      "375\n",
      "376\n",
      "377\n",
      "378\n",
      "379\n",
      "380\n",
      "381\n",
      "382\n",
      "383\n",
      "384\n",
      "385\n",
      "386\n",
      "387\n",
      "388\n",
      "389\n",
      "390\n",
      "391\n",
      "392\n",
      "393\n",
      "394\n",
      "395\n",
      "396\n",
      "397\n",
      "398\n",
      "399\n",
      "400\n",
      "401\n",
      "402\n",
      "403\n",
      "404\n",
      "405\n",
      "406\n",
      "407\n",
      "408\n",
      "409\n",
      "410\n",
      "411\n",
      "412\n",
      "413\n",
      "414\n",
      "415\n",
      "416\n",
      "417\n",
      "418\n",
      "419\n",
      "420\n",
      "421\n",
      "422\n",
      "423\n",
      "424\n",
      "425\n",
      "426\n",
      "427\n",
      "428\n",
      "429\n",
      "430\n",
      "431\n",
      "432\n",
      "433\n",
      "434\n",
      "435\n",
      "436\n",
      "437\n",
      "438\n",
      "439\n",
      "440\n",
      "441\n",
      "442\n",
      "443\n",
      "444\n",
      "445\n",
      "446\n",
      "447\n",
      "448\n",
      "449\n",
      "450\n",
      "451\n",
      "452\n",
      "453\n",
      "454\n",
      "455\n",
      "456\n",
      "457\n",
      "458\n",
      "459\n",
      "460\n",
      "461\n",
      "462\n",
      "463\n",
      "464\n",
      "465\n",
      "466\n",
      "467\n",
      "468\n",
      "469\n",
      "470\n",
      "471\n",
      "472\n",
      "473\n",
      "474\n",
      "475\n",
      "476\n",
      "477\n",
      "478\n",
      "479\n",
      "480\n",
      "481\n",
      "482\n",
      "483\n",
      "484\n",
      "485\n",
      "486\n",
      "487\n",
      "488\n",
      "489\n",
      "490\n",
      "491\n",
      "492\n",
      "493\n",
      "494\n",
      "495\n",
      "496\n",
      "497\n",
      "498\n",
      "499\n",
      "500\n",
      "501\n",
      "502\n",
      "503\n",
      "504\n",
      "505\n",
      "506\n",
      "507\n",
      "508\n",
      "509\n",
      "510\n",
      "511\n",
      "512\n",
      "513\n",
      "514\n",
      "515\n",
      "516\n",
      "517\n",
      "518\n",
      "519\n",
      "520\n",
      "521\n",
      "522\n",
      "523\n",
      "524\n",
      "525\n",
      "526\n",
      "527\n",
      "528\n",
      "529\n",
      "530\n",
      "531\n",
      "532\n",
      "533\n",
      "534\n",
      "535\n",
      "536\n",
      "537\n",
      "538\n",
      "539\n",
      "540\n",
      "541\n",
      "542\n",
      "543\n",
      "544\n",
      "545\n",
      "546\n",
      "547\n",
      "548\n",
      "549\n",
      "550\n",
      "551\n",
      "552\n",
      "553\n",
      "554\n",
      "555\n",
      "556\n",
      "557\n",
      "558\n",
      "559\n",
      "560\n",
      "561\n",
      "562\n",
      "563\n",
      "564\n",
      "565\n",
      "566\n",
      "567\n",
      "568\n",
      "569\n",
      "570\n",
      "571\n",
      "572\n",
      "573\n",
      "574\n",
      "575\n",
      "576\n",
      "577\n",
      "578\n",
      "579\n",
      "580\n",
      "581\n",
      "582\n",
      "583\n",
      "584\n",
      "585\n",
      "586\n",
      "587\n",
      "588\n",
      "589\n",
      "590\n",
      "591\n",
      "592\n",
      "593\n",
      "594\n",
      "595\n",
      "596\n",
      "597\n",
      "598\n",
      "599\n",
      "600\n",
      "601\n",
      "602\n",
      "603\n",
      "604\n",
      "605\n",
      "606\n",
      "607\n",
      "608\n",
      "609\n",
      "610\n",
      "611\n",
      "612\n",
      "613\n",
      "614\n",
      "615\n",
      "616\n",
      "617\n",
      "618\n",
      "619\n",
      "620\n",
      "621\n",
      "622\n",
      "623\n",
      "624\n",
      "625\n",
      "626\n",
      "627\n",
      "628\n",
      "629\n",
      "630\n",
      "631\n",
      "632\n",
      "633\n",
      "634\n",
      "635\n",
      "636\n",
      "637\n",
      "638\n",
      "639\n",
      "640\n",
      "641\n",
      "642\n",
      "643\n",
      "644\n",
      "645\n",
      "646\n",
      "647\n",
      "648\n",
      "649\n",
      "650\n",
      "651\n",
      "652\n",
      "653\n",
      "654\n",
      "655\n",
      "656\n",
      "657\n",
      "658\n",
      "659\n",
      "660\n",
      "661\n",
      "662\n",
      "663\n",
      "664\n",
      "665\n",
      "666\n",
      "667\n",
      "668\n",
      "669\n",
      "670\n",
      "671\n",
      "672\n",
      "673\n",
      "674\n",
      "675\n",
      "676\n",
      "677\n",
      "678\n",
      "679\n",
      "680\n",
      "681\n",
      "682\n",
      "683\n",
      "684\n",
      "685\n",
      "686\n",
      "687\n",
      "688\n",
      "689\n",
      "690\n",
      "691\n",
      "692\n",
      "693\n",
      "694\n",
      "695\n",
      "696\n",
      "697\n",
      "698\n",
      "699\n",
      "700\n",
      "701\n",
      "702\n",
      "703\n",
      "704\n",
      "705\n",
      "706\n",
      "707\n",
      "708\n",
      "709\n",
      "710\n",
      "711\n",
      "712\n",
      "713\n",
      "714\n",
      "715\n",
      "716\n",
      "717\n",
      "718\n",
      "719\n",
      "720\n",
      "721\n",
      "722\n",
      "723\n",
      "724\n",
      "725\n",
      "726\n",
      "727\n",
      "728\n",
      "729\n",
      "730\n",
      "731\n",
      "732\n",
      "733\n",
      "734\n",
      "735\n",
      "736\n",
      "737\n",
      "738\n",
      "739\n",
      "740\n",
      "741\n",
      "742\n",
      "743\n",
      "744\n",
      "745\n",
      "746\n",
      "747\n",
      "748\n",
      "749\n",
      "750\n",
      "751\n",
      "752\n",
      "753\n",
      "754\n",
      "755\n",
      "756\n",
      "757\n",
      "758\n",
      "759\n",
      "760\n",
      "761\n",
      "762\n",
      "763\n",
      "764\n",
      "765\n",
      "766\n",
      "767\n",
      "768\n",
      "769\n",
      "770\n",
      "771\n",
      "772\n",
      "773\n",
      "774\n",
      "775\n",
      "776\n",
      "777\n",
      "778\n",
      "779\n",
      "780\n",
      "781\n",
      "782\n",
      "783\n",
      "784\n",
      "785\n",
      "786\n",
      "787\n",
      "788\n",
      "789\n",
      "790\n",
      "791\n",
      "792\n",
      "793\n",
      "794\n",
      "795\n",
      "796\n",
      "797\n",
      "798\n",
      "799\n",
      "800\n",
      "801\n",
      "802\n",
      "803\n",
      "804\n",
      "805\n",
      "806\n",
      "807\n",
      "808\n",
      "809\n",
      "810\n",
      "811\n",
      "812\n",
      "813\n",
      "814\n",
      "815\n",
      "816\n",
      "817\n",
      "818\n",
      "819\n",
      "820\n",
      "821\n",
      "822\n",
      "823\n",
      "824\n",
      "825\n",
      "826\n",
      "827\n",
      "828\n",
      "829\n",
      "830\n",
      "831\n",
      "832\n",
      "833\n",
      "834\n",
      "835\n",
      "836\n",
      "837\n",
      "838\n",
      "839\n",
      "840\n",
      "841\n",
      "842\n",
      "843\n",
      "844\n",
      "845\n",
      "846\n",
      "847\n",
      "848\n",
      "849\n",
      "850\n",
      "851\n",
      "852\n",
      "853\n",
      "854\n",
      "855\n",
      "856\n",
      "857\n",
      "858\n",
      "859\n",
      "860\n",
      "861\n",
      "862\n",
      "863\n",
      "864\n",
      "865\n",
      "866\n",
      "867\n",
      "868\n",
      "869\n",
      "870\n",
      "871\n",
      "872\n",
      "873\n",
      "874\n",
      "875\n",
      "876\n",
      "877\n",
      "878\n",
      "879\n",
      "880\n",
      "881\n",
      "882\n",
      "883\n",
      "884\n",
      "885\n",
      "886\n",
      "887\n",
      "888\n",
      "889\n",
      "890\n",
      "891\n",
      "892\n",
      "893\n",
      "894\n",
      "895\n",
      "896\n",
      "897\n",
      "898\n",
      "899\n",
      "900\n",
      "901\n",
      "902\n",
      "903\n",
      "904\n",
      "905\n",
      "906\n",
      "907\n",
      "908\n",
      "909\n",
      "910\n",
      "911\n",
      "912\n",
      "913\n",
      "914\n",
      "915\n",
      "916\n",
      "917\n",
      "918\n",
      "919\n",
      "920\n",
      "921\n",
      "922\n",
      "923\n",
      "924\n",
      "925\n",
      "926\n",
      "927\n",
      "928\n",
      "929\n",
      "930\n",
      "931\n",
      "932\n",
      "933\n",
      "934\n",
      "935\n",
      "936\n",
      "937\n",
      "938\n",
      "939\n",
      "940\n",
      "941\n",
      "942\n",
      "943\n",
      "944\n",
      "945\n",
      "946\n",
      "947\n",
      "948\n",
      "949\n",
      "950\n",
      "951\n",
      "952\n",
      "953\n",
      "954\n",
      "955\n",
      "956\n",
      "957\n",
      "958\n",
      "959\n",
      "960\n",
      "961\n",
      "962\n",
      "963\n",
      "964\n",
      "965\n",
      "966\n",
      "967\n",
      "968\n",
      "969\n",
      "970\n",
      "971\n",
      "972\n",
      "973\n",
      "974\n",
      "975\n",
      "976\n",
      "977\n",
      "978\n",
      "979\n",
      "980\n",
      "981\n",
      "982\n",
      "983\n",
      "984\n",
      "985\n",
      "986\n",
      "987\n",
      "988\n",
      "989\n",
      "990\n",
      "991\n",
      "992\n",
      "993\n",
      "994\n",
      "995\n",
      "996\n",
      "997\n",
      "998\n",
      "999\n",
      "1000\n",
      "1001\n",
      "1002\n",
      "1003\n",
      "1004\n",
      "1005\n",
      "1006\n",
      "1007\n",
      "1008\n",
      "1009\n",
      "1010\n",
      "1011\n",
      "1012\n",
      "1013\n",
      "1014\n",
      "1015\n",
      "1016\n",
      "1017\n",
      "1018\n",
      "1019\n",
      "1020\n",
      "1021\n",
      "1022\n",
      "1023\n",
      "1024\n",
      "1025\n",
      "1026\n",
      "1027\n",
      "1028\n",
      "1029\n",
      "1030\n",
      "1031\n",
      "1032\n",
      "1033\n",
      "1034\n",
      "1035\n",
      "1036\n",
      "1037\n",
      "1038\n",
      "1039\n",
      "1040\n",
      "1041\n",
      "1042\n",
      "1043\n",
      "1044\n",
      "1045\n",
      "1046\n",
      "1047\n",
      "1048\n",
      "1049\n",
      "1050\n",
      "1051\n",
      "1052\n",
      "1053\n",
      "1054\n",
      "1055\n",
      "1056\n",
      "1057\n",
      "1058\n",
      "1059\n",
      "1060\n",
      "1061\n",
      "1062\n",
      "1063\n",
      "1064\n",
      "1065\n",
      "1066\n",
      "1067\n",
      "1068\n",
      "1069\n",
      "1070\n",
      "1071\n",
      "1072\n",
      "1073\n",
      "1074\n",
      "1075\n",
      "1076\n",
      "1077\n",
      "1078\n",
      "1079\n",
      "1080\n",
      "1081\n",
      "1082\n",
      "1083\n",
      "1084\n",
      "1085\n",
      "1086\n",
      "1087\n",
      "1088\n",
      "1089\n",
      "1090\n",
      "1091\n",
      "1092\n",
      "1093\n",
      "1094\n",
      "1095\n",
      "1096\n",
      "1097\n",
      "1098\n",
      "1099\n",
      "1100\n",
      "1101\n",
      "1102\n",
      "1103\n",
      "1104\n",
      "1105\n",
      "1106\n",
      "1107\n",
      "1108\n",
      "1109\n",
      "1110\n",
      "1111\n",
      "1112\n",
      "1113\n",
      "1114\n",
      "1115\n",
      "1116\n",
      "1117\n",
      "1118\n",
      "1119\n",
      "1120\n",
      "1121\n",
      "1122\n",
      "1123\n",
      "1124\n",
      "1125\n",
      "1126\n",
      "1127\n",
      "1128\n",
      "1129\n",
      "1130\n",
      "1131\n",
      "1132\n",
      "1133\n",
      "1134\n",
      "1135\n",
      "1136\n",
      "1137\n",
      "1138\n",
      "1139\n",
      "1140\n",
      "1141\n",
      "1142\n",
      "1143\n",
      "1144\n",
      "1145\n",
      "1146\n",
      "1147\n",
      "1148\n",
      "1149\n",
      "1150\n",
      "1151\n",
      "1152\n",
      "1153\n",
      "1154\n",
      "1155\n",
      "1156\n",
      "1157\n",
      "1158\n",
      "1159\n",
      "1160\n",
      "1161\n",
      "1162\n",
      "1163\n",
      "1164\n",
      "1165\n",
      "1166\n",
      "1167\n",
      "1168\n",
      "1169\n",
      "1170\n",
      "1171\n",
      "1172\n",
      "1173\n",
      "1174\n",
      "1175\n",
      "1176\n",
      "1177\n",
      "1178\n",
      "1179\n",
      "1180\n",
      "1181\n",
      "1182\n",
      "1183\n",
      "1184\n",
      "1185\n",
      "1186\n",
      "1187\n",
      "1188\n",
      "1189\n",
      "1190\n",
      "1191\n",
      "1192\n",
      "1193\n",
      "1194\n",
      "1195\n",
      "1196\n",
      "1197\n",
      "1198\n",
      "1199\n",
      "1200\n",
      "1201\n",
      "1202\n",
      "1203\n",
      "1204\n",
      "1205\n",
      "1206\n",
      "1207\n",
      "1208\n",
      "1209\n",
      "1210\n",
      "1211\n",
      "1212\n",
      "1213\n",
      "1214\n",
      "1215\n",
      "1216\n",
      "1217\n",
      "1218\n",
      "1219\n",
      "1220\n",
      "1221\n",
      "1222\n",
      "1223\n",
      "1224\n",
      "1225\n",
      "1226\n",
      "1227\n",
      "1228\n",
      "1229\n",
      "1230\n",
      "1231\n",
      "1232\n",
      "1233\n",
      "1234\n",
      "1235\n",
      "1236\n",
      "1237\n",
      "1238\n",
      "1239\n",
      "1240\n",
      "1241\n",
      "1242\n",
      "1243\n",
      "1244\n",
      "1245\n",
      "1246\n",
      "1247\n",
      "1248\n",
      "1249\n",
      "1250\n",
      "1251\n",
      "1252\n",
      "1253\n",
      "1254\n",
      "1255\n",
      "1256\n",
      "1257\n",
      "1258\n",
      "1259\n",
      "1260\n",
      "1261\n",
      "1262\n",
      "1263\n",
      "1264\n",
      "1265\n",
      "1266\n",
      "1267\n",
      "1268\n",
      "1269\n",
      "1270\n",
      "1271\n",
      "1272\n",
      "1273\n",
      "1274\n",
      "1275\n",
      "1276\n",
      "1277\n",
      "1278\n",
      "1279\n",
      "1280\n",
      "1281\n",
      "1282\n",
      "1283\n",
      "1284\n",
      "1285\n",
      "1286\n",
      "1287\n",
      "1288\n",
      "1289\n",
      "1290\n",
      "1291\n",
      "1292\n",
      "1293\n",
      "1294\n",
      "1295\n",
      "1296\n",
      "1297\n",
      "1298\n",
      "1299\n",
      "1300\n",
      "1301\n",
      "1302\n",
      "1303\n",
      "1304\n",
      "1305\n",
      "1306\n",
      "1307\n",
      "1308\n",
      "1309\n",
      "1310\n",
      "1311\n",
      "1312\n",
      "1313\n",
      "1314\n",
      "1315\n",
      "1316\n",
      "1317\n",
      "1318\n",
      "1319\n",
      "1320\n",
      "1321\n",
      "1322\n",
      "1323\n",
      "1324\n",
      "1325\n",
      "1326\n",
      "1327\n",
      "1328\n",
      "1329\n",
      "1330\n",
      "1331\n",
      "1332\n",
      "1333\n",
      "1334\n",
      "1335\n",
      "1336\n",
      "1337\n",
      "1338\n",
      "1339\n",
      "1340\n",
      "1341\n",
      "1342\n",
      "1343\n",
      "1344\n",
      "1345\n",
      "1346\n",
      "1347\n",
      "1348\n",
      "1349\n",
      "1350\n",
      "1351\n",
      "1352\n",
      "1353\n",
      "1354\n",
      "1355\n",
      "1356\n",
      "1357\n",
      "1358\n",
      "1359\n",
      "1360\n",
      "1361\n",
      "1362\n",
      "1363\n",
      "1364\n",
      "1365\n",
      "1366\n",
      "1367\n",
      "1368\n",
      "1369\n",
      "1370\n",
      "1371\n",
      "1372\n",
      "1373\n",
      "1374\n",
      "1375\n",
      "1376\n",
      "1377\n",
      "1378\n",
      "1379\n",
      "1380\n",
      "1381\n",
      "1382\n",
      "1383\n",
      "1384\n",
      "1385\n",
      "1386\n",
      "1387\n",
      "1388\n",
      "1389\n",
      "1390\n",
      "1391\n",
      "1392\n",
      "1393\n",
      "1394\n",
      "1395\n",
      "1396\n",
      "1397\n",
      "1398\n",
      "1399\n",
      "1400\n",
      "1401\n",
      "1402\n",
      "1403\n",
      "1404\n",
      "1405\n",
      "1406\n",
      "1407\n",
      "1408\n",
      "1409\n",
      "1410\n",
      "1411\n",
      "1412\n",
      "1413\n",
      "1414\n",
      "1415\n",
      "1416\n",
      "1417\n",
      "1418\n",
      "1419\n",
      "1420\n",
      "1421\n",
      "1422\n",
      "1423\n",
      "1424\n",
      "1425\n",
      "1426\n",
      "1427\n",
      "1428\n",
      "1429\n",
      "1430\n",
      "1431\n",
      "1432\n",
      "1433\n",
      "1434\n",
      "1435\n",
      "1436\n",
      "1437\n",
      "1438\n",
      "1439\n",
      "1440\n",
      "1441\n",
      "1442\n",
      "1443\n",
      "1444\n",
      "1445\n",
      "1446\n",
      "1447\n",
      "1448\n",
      "1449\n",
      "1450\n",
      "1451\n",
      "1452\n",
      "1453\n",
      "1454\n",
      "1455\n",
      "1456\n",
      "1457\n",
      "1458\n",
      "1459\n",
      "1460\n",
      "1461\n",
      "1462\n",
      "1463\n",
      "1464\n",
      "1465\n",
      "1466\n",
      "1467\n",
      "1468\n",
      "1469\n",
      "1470\n",
      "1471\n",
      "1472\n",
      "1473\n",
      "1474\n",
      "1475\n",
      "1476\n",
      "1477\n",
      "1478\n",
      "1479\n",
      "1480\n",
      "1481\n",
      "1482\n",
      "1483\n",
      "1484\n",
      "1485\n",
      "1486\n",
      "1487\n",
      "1488\n",
      "1489\n",
      "1490\n",
      "1491\n",
      "1492\n",
      "1493\n",
      "1494\n",
      "1495\n",
      "1496\n",
      "1497\n",
      "1498\n",
      "1499\n",
      "1500\n",
      "1501\n",
      "1502\n",
      "1503\n",
      "1504\n",
      "1505\n",
      "1506\n",
      "1507\n",
      "1508\n",
      "1509\n",
      "1510\n",
      "1511\n",
      "1512\n",
      "1513\n",
      "1514\n",
      "1515\n",
      "1516\n",
      "1517\n",
      "1518\n",
      "1519\n",
      "1520\n",
      "1521\n",
      "1522\n",
      "1523\n",
      "1524\n",
      "1525\n",
      "1526\n",
      "1527\n",
      "1528\n",
      "1529\n",
      "1530\n",
      "1531\n",
      "1532\n",
      "1533\n",
      "1534\n",
      "1535\n",
      "1536\n",
      "1537\n",
      "1538\n",
      "1539\n",
      "1540\n",
      "1541\n",
      "1542\n",
      "1543\n",
      "1544\n",
      "1545\n",
      "1546\n",
      "1547\n",
      "1548\n",
      "1549\n",
      "1550\n",
      "1551\n",
      "1552\n",
      "1553\n",
      "1554\n",
      "1555\n",
      "1556\n",
      "1557\n",
      "1558\n",
      "1559\n",
      "1560\n",
      "1561\n",
      "1562\n",
      "1563\n",
      "1564\n",
      "1565\n",
      "1566\n",
      "1567\n",
      "1568\n",
      "1569\n",
      "1570\n",
      "1571\n",
      "1572\n",
      "1573\n",
      "1574\n",
      "1575\n",
      "1576\n",
      "1577\n",
      "1578\n",
      "1579\n",
      "1580\n",
      "1581\n",
      "1582\n",
      "1583\n",
      "1584\n",
      "1585\n",
      "1586\n",
      "1587\n",
      "1588\n",
      "1589\n",
      "1590\n",
      "1591\n",
      "1592\n",
      "1593\n",
      "1594\n",
      "1595\n",
      "1596\n",
      "1597\n",
      "1598\n",
      "1599\n",
      "1600\n",
      "1601\n",
      "1602\n",
      "1603\n",
      "1604\n",
      "1605\n",
      "1606\n",
      "1607\n",
      "1608\n",
      "1609\n",
      "1610\n",
      "1611\n",
      "1612\n",
      "1613\n",
      "1614\n",
      "1615\n",
      "1616\n",
      "1617\n",
      "1618\n",
      "1619\n",
      "1620\n",
      "1621\n",
      "1622\n",
      "1623\n",
      "1624\n",
      "1625\n",
      "1626\n",
      "1627\n",
      "1628\n",
      "1629\n",
      "1630\n",
      "1631\n",
      "1632\n",
      "1633\n",
      "1634\n",
      "1635\n",
      "1636\n",
      "1637\n",
      "1638\n",
      "1639\n",
      "1640\n",
      "1641\n",
      "1642\n",
      "1643\n",
      "1644\n",
      "1645\n",
      "1646\n",
      "1647\n",
      "1648\n",
      "1649\n",
      "1650\n",
      "1651\n",
      "1652\n",
      "1653\n",
      "1654\n",
      "1655\n",
      "1656\n",
      "1657\n",
      "1658\n",
      "1659\n",
      "1660\n",
      "1661\n",
      "1662\n",
      "1663\n",
      "1664\n",
      "1665\n",
      "1666\n",
      "1667\n",
      "1668\n",
      "1669\n",
      "1670\n",
      "1671\n",
      "1672\n",
      "1673\n",
      "1674\n",
      "1675\n",
      "1676\n",
      "1677\n",
      "1678\n",
      "1679\n",
      "1680\n",
      "1681\n",
      "1682\n",
      "1683\n",
      "1684\n",
      "1685\n",
      "1686\n",
      "1687\n",
      "1688\n",
      "1689\n",
      "1690\n",
      "1691\n",
      "1692\n",
      "1693\n",
      "1694\n",
      "1695\n",
      "1696\n",
      "1697\n",
      "1698\n",
      "1699\n",
      "1700\n",
      "1701\n",
      "1702\n",
      "1703\n",
      "1704\n",
      "1705\n",
      "1706\n",
      "1707\n",
      "1708\n",
      "1709\n",
      "1710\n",
      "1711\n",
      "1712\n",
      "1713\n",
      "1714\n",
      "1715\n",
      "1716\n",
      "1717\n",
      "1718\n",
      "1719\n",
      "1720\n",
      "1721\n",
      "1722\n",
      "1723\n",
      "1724\n",
      "1725\n",
      "1726\n",
      "1727\n",
      "1728\n",
      "1729\n",
      "1730\n",
      "1731\n",
      "1732\n",
      "1733\n",
      "1734\n",
      "1735\n",
      "1736\n",
      "1737\n",
      "1738\n",
      "1739\n",
      "1740\n",
      "1741\n",
      "1742\n",
      "1743\n",
      "1744\n",
      "1745\n",
      "1746\n",
      "1747\n",
      "1748\n",
      "1749\n",
      "1750\n",
      "1751\n",
      "1752\n",
      "1753\n",
      "1754\n",
      "1755\n",
      "1756\n",
      "1757\n",
      "1758\n",
      "1759\n",
      "1760\n",
      "1761\n",
      "1762\n",
      "1763\n",
      "1764\n",
      "1765\n",
      "1766\n",
      "1767\n",
      "1768\n",
      "1769\n",
      "1770\n",
      "1771\n",
      "1772\n",
      "1773\n",
      "1774\n",
      "1775\n",
      "1776\n",
      "1777\n",
      "1778\n",
      "1779\n",
      "1780\n",
      "1781\n",
      "1782\n",
      "1783\n",
      "1784\n",
      "1785\n",
      "1786\n",
      "1787\n",
      "1788\n",
      "1789\n",
      "1790\n",
      "1791\n",
      "1792\n",
      "1793\n",
      "1794\n",
      "1795\n",
      "1796\n",
      "1797\n",
      "1798\n",
      "1799\n",
      "1800\n",
      "1801\n",
      "1802\n",
      "1803\n",
      "1804\n",
      "1805\n",
      "1806\n",
      "1807\n",
      "1808\n",
      "1809\n",
      "1810\n",
      "1811\n",
      "1812\n",
      "1813\n",
      "1814\n",
      "1815\n",
      "1816\n",
      "1817\n",
      "1818\n",
      "1819\n",
      "1820\n",
      "1821\n",
      "1822\n",
      "1823\n",
      "1824\n",
      "1825\n",
      "1826\n",
      "1827\n",
      "1828\n",
      "1829\n",
      "1830\n",
      "1831\n",
      "1832\n",
      "1833\n",
      "1834\n",
      "1835\n",
      "1836\n",
      "1837\n",
      "1838\n",
      "1839\n",
      "1840\n",
      "1841\n",
      "1842\n",
      "1843\n",
      "1844\n",
      "1845\n",
      "1846\n",
      "1847\n",
      "1848\n",
      "1849\n",
      "1850\n",
      "1851\n",
      "1852\n",
      "1853\n",
      "1854\n",
      "1855\n",
      "1856\n",
      "1857\n",
      "1858\n",
      "1859\n",
      "1860\n",
      "1861\n",
      "1862\n",
      "1863\n",
      "1864\n",
      "1865\n",
      "1866\n",
      "1867\n",
      "1868\n",
      "1869\n",
      "1870\n",
      "1871\n",
      "1872\n",
      "1873\n",
      "1874\n",
      "1875\n",
      "1876\n",
      "1877\n",
      "1878\n",
      "1879\n",
      "1880\n",
      "1881\n",
      "1882\n",
      "1883\n",
      "1884\n",
      "1885\n",
      "1886\n",
      "1887\n",
      "1888\n",
      "1889\n",
      "1890\n",
      "1891\n",
      "1892\n",
      "1893\n",
      "1894\n",
      "1895\n",
      "1896\n",
      "1897\n",
      "1898\n",
      "1899\n",
      "1900\n",
      "1901\n",
      "1902\n",
      "1903\n",
      "1904\n",
      "1905\n",
      "1906\n",
      "1907\n",
      "1908\n",
      "1909\n",
      "1910\n",
      "1911\n",
      "1912\n",
      "1913\n",
      "1914\n",
      "1915\n",
      "1916\n",
      "1917\n",
      "1918\n",
      "1919\n",
      "1920\n",
      "1921\n",
      "1922\n",
      "1923\n",
      "1924\n",
      "1925\n",
      "1926\n",
      "1927\n",
      "1928\n",
      "1929\n",
      "1930\n",
      "1931\n",
      "1932\n",
      "1933\n",
      "1934\n",
      "1935\n",
      "1936\n",
      "1937\n",
      "1938\n",
      "1939\n",
      "1940\n",
      "1941\n",
      "1942\n",
      "1943\n",
      "1944\n",
      "1945\n",
      "1946\n",
      "1947\n",
      "1948\n",
      "1949\n",
      "1950\n",
      "1951\n",
      "1952\n",
      "1953\n",
      "1954\n",
      "1955\n",
      "1956\n",
      "1957\n",
      "1958\n",
      "1959\n",
      "1960\n",
      "1961\n",
      "1962\n",
      "1963\n",
      "1964\n",
      "1965\n",
      "1966\n",
      "1967\n",
      "1968\n",
      "1969\n",
      "1970\n",
      "1971\n",
      "1972\n",
      "1973\n",
      "1974\n",
      "1975\n",
      "1976\n",
      "1977\n",
      "1978\n",
      "1979\n",
      "1980\n",
      "1981\n",
      "1982\n",
      "1983\n",
      "1984\n",
      "1985\n",
      "1986\n",
      "1987\n",
      "1988\n",
      "1989\n",
      "1990\n",
      "1991\n",
      "1992\n",
      "1993\n",
      "1994\n",
      "1995\n",
      "1996\n",
      "1997\n",
      "1998\n",
      "1999\n"
     ]
    }
   ],
   "source": [
    "for ti, test_id in enumerate(test_ids):\n",
    "        gt_id = gt_ids[ti]\n",
    "        print(ti)\n",
    "        for si, sl in enumerate(test_seq_len):\n",
    "            assert test_id <= len(query)\n",
    "            q = query[test_id:(test_id + sl), :] # shape(q) = (length, dim)\n",
    "\n",
    "            # segment-level top k search for each segment\n",
    "            _, I = index.search(\n",
    "                q, k_probe) # _: distance, I: result IDs matrix\n",
    "\n",
    "            # offset compensation to get the start IDs of candidate sequences\n",
    "            for offset in range(len(I)):\n",
    "                I[offset, :] -= offset\n",
    "\n",
    "            # unique candidates\n",
    "            candidates = np.unique(I[np.where(I >= 0)])   # ignore id < 0\n",
    "\n",
    "            \"\"\" Sequence match score \"\"\"\n",
    "            _scores = np.zeros(len(candidates))\n",
    "            for ci, cid in enumerate(candidates):\n",
    "                _scores[ci] = np.mean(\n",
    "                    np.diag(\n",
    "                        # np.dot(q, index.reconstruct_n(cid, (cid + l)).T)\n",
    "                        np.dot(q, fake_recon_index[cid:cid + sl, :].T)\n",
    "                        )\n",
    "                    )\n",
    "\n",
    "            \"\"\" Evaluate \"\"\"\n",
    "            pred_ids = candidates[np.argsort(-_scores)[:10]]\n",
    "            # pred_id = candidates[np.argmax(_scores)] <-- only top1-hit\n",
    "\n",
    "            # top1 hit\n",
    "            top1_exact[ti, si] = int(gt_id == pred_ids[0])\n",
    "            top1_near[ti, si] = int(\n",
    "                pred_ids[0] in [gt_id - 1, gt_id, gt_id + 1])\n",
    "            # top1_song = need song info here...\n",
    "\n",
    "\n",
    "        if (ti != 0) & ((ti % display_interval) == 0):\n",
    "            top1_exact_rate = 100. * np.mean(top1_exact[:ti + 1, :], axis=0)\n",
    "            top1_near_rate = 100. * np.mean(top1_near[:ti + 1, :], axis=0)"
   ]
  },
  {
   "cell_type": "code",
   "execution_count": null,
   "metadata": {},
   "outputs": [],
   "source": [
    "# Summary\n",
    "top1_exact_rate = 100. * np.mean(top1_exact, axis=0)\n",
    "top1_near_rate = 100. * np.mean(top1_near, axis=0)"
   ]
  },
  {
   "cell_type": "code",
   "execution_count": null,
   "metadata": {},
   "outputs": [
    {
     "data": {
      "text/plain": [
       "array([70.6 , 91.65, 96.  , 98.05, 98.75, 99.35])"
      ]
     },
     "execution_count": 25,
     "metadata": {},
     "output_type": "execute_result"
    }
   ],
   "source": [
    "top1_exact_rate"
   ]
  },
  {
   "cell_type": "code",
   "execution_count": null,
   "metadata": {},
   "outputs": [
    {
     "data": {
      "text/plain": [
       "array([74.25, 92.15, 96.05, 98.1 , 98.75, 99.35])"
      ]
     },
     "execution_count": 26,
     "metadata": {},
     "output_type": "execute_result"
    }
   ],
   "source": [
    "top1_near_rate"
   ]
  },
  {
   "cell_type": "code",
   "execution_count": null,
   "metadata": {},
   "outputs": [],
   "source": [
    "for ci, cid in enumerate(candidates):\n",
    "    _scores[ci] = np.mean(\n",
    "        np.diag(\n",
    "            # np.dot(q, index.reconstruct_n(cid, (cid + l)).T)\n",
    "            np.dot(q, fake_recon_index[cid:cid + sl, :].T)\n",
    "            )\n",
    "        )"
   ]
  },
  {
   "cell_type": "code",
   "execution_count": null,
   "metadata": {},
   "outputs": [],
   "source": [
    "for ti, test_id in enumerate(test_ids):\n",
    "    gt_id = gt_ids[ti]\n",
    "    #print(test_id)\n",
    "    for si, sl in enumerate(test_seq_len):\n",
    "        #print(sl)\n",
    "        q = query[test_id:(test_id + sl), :] # query[ 14655 : 14655 + 1 , :]\n",
    "\n",
    "        # segment-level top k search for each segment\n",
    "        _, I = index.search(q, k_probe) # _: distance, I: result IDs matrix\n",
    "\n",
    "        print(len(I))\n",
    "\n",
    "        for offset in range(len(I)):\n",
    "            I[offset, :] -= offset\n",
    "\n",
    "        candidates = np.unique(I[np.where(I >= 0)])   # ignore id < 0\n",
    "        print(candidates)"
   ]
  },
  {
   "cell_type": "code",
   "execution_count": null,
   "metadata": {},
   "outputs": [],
   "source": [
    "\n",
    "    \n",
    "       \n",
    "            assert test_id <= len(query)\n",
    "            q = query[test_id:(test_id + sl), :] # shape(q) = (length, dim)\n",
    "\n",
    "            # segment-level top k search for each segment\n",
    "            _, I = index.search(\n",
    "                q, k_probe) # _: distance, I: result IDs matrix\n",
    "\n",
    "            # offset compensation to get the start IDs of candidate sequences\n",
    "            for offset in range(len(I)):\n",
    "                I[offset, :] -= offset\n",
    "\n",
    "            # unique candidates\n",
    "            candidates = np.unique(I[np.where(I >= 0)])   # ignore id < 0\n",
    "\n",
    "            \"\"\" Sequence match score \"\"\"\n",
    "            _scores = np.zeros(len(candidates))\n",
    "            for ci, cid in enumerate(candidates):\n",
    "                _scores[ci] = np.mean(\n",
    "                    np.diag(\n",
    "                        # np.dot(q, index.reconstruct_n(cid, (cid + l)).T)\n",
    "                        np.dot(q, fake_recon_index[cid:cid + sl, :].T)\n",
    "                        )\n",
    "                    )\n",
    "\n",
    "            \"\"\" Evaluate \"\"\"\n",
    "            pred_ids = candidates[np.argsort(-_scores)[:10]]\n",
    "            # pred_id = candidates[np.argmax(_scores)] <-- only top1-hit\n",
    "\n",
    "            # top1 hit\n",
    "            top1_exact[ti, si] = int(gt_id == pred_ids[0])\n",
    "            top1_near[ti, si] = int(\n",
    "                pred_ids[0] in [gt_id - 1, gt_id, gt_id + 1])\n",
    "            # top1_song = need song info here...\n",
    "\n",
    "            # top3, top10 hit\n",
    "            top3_exact[ti, si] = int(gt_id in pred_ids[:3])\n",
    "            top10_exact[ti, si] = int(gt_id in pred_ids[:10])\n",
    "\n",
    "\n",
    "        if (ti != 0) & ((ti % display_interval) == 0):\n",
    "            avg_search_time = (time.time() - start_time) / display_interval \\\n",
    "                / len(test_seq_len)\n",
    "            top1_exact_rate = 100. * np.mean(top1_exact[:ti + 1, :], axis=0)\n",
    "            top1_near_rate = 100. * np.mean(top1_near[:ti + 1, :], axis=0)\n",
    "            top3_exact_rate = 100. * np.mean(top3_exact[:ti + 1, :], axis=0)\n",
    "            top10_exact_rate = 100. * np.mean(top10_exact[:ti + 1, :], axis=0)\n",
    "            # top1_song = 100 * np.mean(tp_song[:ti + 1, :], axis=0)\n",
    "\n",
    "            pt.update_counter(ti, n_test, avg_search_time * 1000.)\n",
    "            pt.update_table((top1_exact_rate, top1_near_rate, top3_exact_rate,\n",
    "                             top10_exact_rate))\n",
    "            start_time = time.time() # reset stopwatch"
   ]
  },
  {
   "cell_type": "code",
   "execution_count": null,
   "metadata": {},
   "outputs": [],
   "source": [
    "def eval_faiss(emb_dir,\n",
    "               emb_dummy_dir=None,\n",
    "               index_type='ivfpq',\n",
    "               nogpu=False,\n",
    "               max_train=1e7,\n",
    "               test_ids='icassp',\n",
    "               test_seq_len='1 3 5 9 11 19',\n",
    "               k_probe=20,\n",
    "               display_interval=5):\n",
    "    \"\"\"\n",
    "    Segment/sequence-wise audio search experiment and evaluation: implementation based on FAISS.\n",
    "\n",
    "    ex) python eval.py EMB_DIR --index_type ivfpq\n",
    "\n",
    "    EMB_DIR: Directory where {query, db, dummy_db}.mm files are located. The 'raw_score.npy' and 'test_ids.npy' will be also created in the same directory.\n",
    "\n",
    "\n",
    "\n",
    "    \"\"\"\n",
    "    test_seq_len = np.asarray(\n",
    "        list(map(int, test_seq_len.split())))  # '1 3 5' --> [1, 3, 5]\n",
    "\n",
    "    # Load items from {query, db, dummy_db}\n",
    "    query, query_shape = load_memmap_data(emb_dir, 'query')\n",
    "    db, db_shape = load_memmap_data(emb_dir, 'db')\n",
    "    if emb_dummy_dir is None:\n",
    "        emb_dummy_dir = emb_dir\n",
    "    dummy_db, dummy_db_shape = load_memmap_data(emb_dummy_dir, 'dummy_db')\n",
    "    \"\"\" ----------------------------------------------------------------------\n",
    "    FAISS index setup\n",
    "\n",
    "        dummy: 10 items.\n",
    "        db: 5 items.\n",
    "        query: 5 items, corresponding to 'db'.\n",
    "\n",
    "        index.add(dummy_db); index.add(db) # 'dummy_db' first\n",
    "\n",
    "               |------ dummy_db ------|\n",
    "        index: [d0, d1, d2,..., d8, d9, d11, d12, d13, d14, d15]\n",
    "                                       |--------- db ----------|\n",
    "\n",
    "                                       |--------query ---------|\n",
    "                                       [q0,  q1,  q2,  q3,  q4]\n",
    "\n",
    "    • The set of ground truth IDs for q[i] will be (i + len(dummy_db))\n",
    "\n",
    "    ---------------------------------------------------------------------- \"\"\"\n",
    "    # Create and train FAISS index\n",
    "    index = get_index(index_type, dummy_db, dummy_db.shape, (not nogpu),\n",
    "                      max_train)\n",
    "\n",
    "    # Add items to index\n",
    "    start_time = time.time()\n",
    "\n",
    "    index.add(dummy_db); print(f'{len(dummy_db)} items from dummy DB')\n",
    "    index.add(db); print(f'{len(db)} items from reference DB')\n",
    "\n",
    "    t = time.time() - start_time\n",
    "    print(f'Added total {index.ntotal} items to DB. {t:>4.2f} sec.')\n",
    "\n",
    "    \"\"\" ----------------------------------------------------------------------\n",
    "    We need to prepare a merged {dummy_db + db} memmap:\n",
    "\n",
    "    • Calcuation of sequence-level matching score requires reconstruction of\n",
    "      vectors from FAISS index.\n",
    "    • Unforunately, current faiss.index.reconstruct_n(id_start, id_stop)\n",
    "      supports only CPU index.\n",
    "    • We prepare a fake_recon_index thourgh the on-disk method.\n",
    "\n",
    "    ---------------------------------------------------------------------- \"\"\"\n",
    "    # Prepare fake_recon_index\n",
    "    del dummy_db\n",
    "    start_time = time.time()\n",
    "\n",
    "    fake_recon_index, index_shape = load_memmap_data(\n",
    "        emb_dummy_dir, 'dummy_db', append_extra_length=query_shape[0],\n",
    "        display=False)\n",
    "    fake_recon_index[dummy_db_shape[0]:dummy_db_shape[0] + query_shape[0], :] = db[:, :]\n",
    "    fake_recon_index.flush()\n",
    "\n",
    "    t = time.time() - start_time\n",
    "    print(f'Created fake_recon_index, total {index_shape[0]} items. {t:>4.2f} sec.')\n",
    "\n",
    "    # Get test_ids\n",
    "    print(f'test_id: \\033[93m{test_ids}\\033[0m,  ', end='')\n",
    "    if test_ids.lower() == 'all':\n",
    "        test_ids = np.arange(0, len(query) - max(test_seq_len), 1) # will test all segments in query/db set\n",
    "    elif test_ids.lower() == 'icassp':\n",
    "        test_ids = np.load(\n",
    "            glob.glob('./**/test_ids_icassp2021.npy', recursive=True)[0])\n",
    "    elif test_ids.isnumeric():\n",
    "        test_ids = np.random.permutation(len(query) - max(test_seq_len))[:int(test_ids)]\n",
    "    else:\n",
    "        test_ids = np.load(test_ids)\n",
    "\n",
    "    n_test = len(test_ids)\n",
    "    gt_ids  = test_ids + dummy_db_shape[0]\n",
    "    print(f'n_test: \\033[93m{n_test:n}\\033[0m')\n",
    "\n",
    "    \"\"\" Segement/sequence-level search & evaluation \"\"\"\n",
    "    # Define metric\n",
    "    top1_exact = np.zeros((n_test, len(test_seq_len))).astype(int) # (n_test, test_seg_len)\n",
    "    top1_near = np.zeros((n_test, len(test_seq_len))).astype(int)\n",
    "    top3_exact = np.zeros((n_test, len(test_seq_len))).astype(int)\n",
    "    top10_exact = np.zeros((n_test, len(test_seq_len))).astype(int)\n",
    "    # top1_song = np.zeros((n_test, len(test_seq_len))).astype(np.int)\n",
    "\n",
    "    scr = curses.initscr()\n",
    "    pt = PrintTable(scr=scr, test_seq_len=test_seq_len,\n",
    "                    row_names=['Top1 exact', 'Top1 near', 'Top3 exact','Top10 exact'])\n",
    "    start_time = time.time()\n",
    "    for ti, test_id in enumerate(test_ids):\n",
    "        gt_id = gt_ids[ti]\n",
    "        for si, sl in enumerate(test_seq_len):\n",
    "            assert test_id <= len(query)\n",
    "            q = query[test_id:(test_id + sl), :] # shape(q) = (length, dim)\n",
    "\n",
    "            # segment-level top k search for each segment\n",
    "            _, I = index.search(\n",
    "                q, k_probe) # _: distance, I: result IDs matrix\n",
    "\n",
    "            # offset compensation to get the start IDs of candidate sequences\n",
    "            for offset in range(len(I)):\n",
    "                I[offset, :] -= offset\n",
    "\n",
    "            # unique candidates\n",
    "            candidates = np.unique(I[np.where(I >= 0)])   # ignore id < 0\n",
    "\n",
    "            \"\"\" Sequence match score \"\"\"\n",
    "            _scores = np.zeros(len(candidates))\n",
    "            for ci, cid in enumerate(candidates):\n",
    "                _scores[ci] = np.mean(\n",
    "                    np.diag(\n",
    "                        # np.dot(q, index.reconstruct_n(cid, (cid + l)).T)\n",
    "                        np.dot(q, fake_recon_index[cid:cid + sl, :].T)\n",
    "                        )\n",
    "                    )\n",
    "\n",
    "            \"\"\" Evaluate \"\"\"\n",
    "            pred_ids = candidates[np.argsort(-_scores)[:10]]\n",
    "            # pred_id = candidates[np.argmax(_scores)] <-- only top1-hit\n",
    "\n",
    "            # top1 hit\n",
    "            top1_exact[ti, si] = int(gt_id == pred_ids[0])\n",
    "            top1_near[ti, si] = int(\n",
    "                pred_ids[0] in [gt_id - 1, gt_id, gt_id + 1])\n",
    "            # top1_song = need song info here...\n",
    "\n",
    "            # top3, top10 hit\n",
    "            top3_exact[ti, si] = int(gt_id in pred_ids[:3])\n",
    "            top10_exact[ti, si] = int(gt_id in pred_ids[:10])\n",
    "\n",
    "\n",
    "        if (ti != 0) & ((ti % display_interval) == 0):\n",
    "            avg_search_time = (time.time() - start_time) / display_interval \\\n",
    "                / len(test_seq_len)\n",
    "            top1_exact_rate = 100. * np.mean(top1_exact[:ti + 1, :], axis=0)\n",
    "            top1_near_rate = 100. * np.mean(top1_near[:ti + 1, :], axis=0)\n",
    "            top3_exact_rate = 100. * np.mean(top3_exact[:ti + 1, :], axis=0)\n",
    "            top10_exact_rate = 100. * np.mean(top10_exact[:ti + 1, :], axis=0)\n",
    "            # top1_song = 100 * np.mean(tp_song[:ti + 1, :], axis=0)\n",
    "\n",
    "            pt.update_counter(ti, n_test, avg_search_time * 1000.)\n",
    "            pt.update_table((top1_exact_rate, top1_near_rate, top3_exact_rate,\n",
    "                             top10_exact_rate))\n",
    "            start_time = time.time() # reset stopwatch\n",
    "\n",
    "    # Summary\n",
    "    top1_exact_rate = 100. * np.mean(top1_exact, axis=0)\n",
    "    top1_near_rate = 100. * np.mean(top1_near, axis=0)\n",
    "    top3_exact_rate = 100. * np.mean(top3_exact, axis=0)\n",
    "    top10_exact_rate = 100. * np.mean(top10_exact, axis=0)\n",
    "    # top1_song = 100 * np.mean(top1_song[:ti + 1, :], axis=0)\n",
    "\n",
    "    pt.update_counter(ti, n_test, avg_search_time * 1000.)\n",
    "    pt.update_table((top1_exact_rate, top1_near_rate, top3_exact_rate, top10_exact_rate))\n",
    "    pt.close_table() # close table and print summary\n",
    "    del fake_recon_index, query, db\n",
    "    np.save(f'{emb_dir}/raw_score.npy',\n",
    "            np.concatenate(\n",
    "                (top1_exact, top1_near, top3_exact, top10_exact), axis=1))\n",
    "    np.save(f'{emb_dir}/test_ids.npy', test_ids)\n",
    "    print(f'Saved test_ids and raw score to {emb_dir}.')\n",
    "\n",
    "if __name__ == \"__main__\":\n",
    "    curses.wrapper(eval_faiss())"
   ]
  },
  {
   "cell_type": "code",
   "execution_count": null,
   "metadata": {},
   "outputs": [],
   "source": [
    "eval_faiss(emb_dir,\n",
    "            emb_dummy_dir,\n",
    "            index_type,\n",
    "            nogpu,\n",
    "            max_train,\n",
    "            test_ids,\n",
    "            test_seq_len,\n",
    "            k_probe,\n",
    "            display_interval)"
   ]
  }
 ],
 "metadata": {
  "kernelspec": {
   "display_name": "tfpy",
   "language": "python",
   "name": "python3"
  },
  "language_info": {
   "codemirror_mode": {
    "name": "ipython",
    "version": 3
   },
   "file_extension": ".py",
   "mimetype": "text/x-python",
   "name": "python",
   "nbconvert_exporter": "python",
   "pygments_lexer": "ipython3",
   "version": "3.9.19"
  }
 },
 "nbformat": 4,
 "nbformat_minor": 2
}
