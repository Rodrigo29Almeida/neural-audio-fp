{
 "cells": [
  {
   "cell_type": "code",
   "execution_count": 1,
   "metadata": {},
   "outputs": [],
   "source": [
    "import pandas as pd"
   ]
  },
  {
   "cell_type": "code",
   "execution_count": 5,
   "metadata": {},
   "outputs": [],
   "source": [
    "metadata_file = \"/mnt/dataset/public/Fingerprinting/neural-audio-fp-dataset/extras/fma_info/tracks.csv\"\n",
    "\n",
    "# Lê o CSV com múltiplas linhas de cabeçalho\n",
    "df = pd.read_csv(metadata_file, header=[0, 1, 2])"
   ]
  },
  {
   "cell_type": "code",
   "execution_count": 20,
   "metadata": {},
   "outputs": [],
   "source": [
    "selected_columns = {\n",
    "    'track_id': df[('Unnamed: 0_level_0', 'Unnamed: 0_level_1', 'track_id')],\n",
    "    'artist_name': df[('artist', 'name', 'Unnamed: 26_level_2')],\n",
    "    'track_title': df[('track', 'title', 'Unnamed: 52_level_2')]\n",
    "}"
   ]
  },
  {
   "cell_type": "code",
   "execution_count": 21,
   "metadata": {},
   "outputs": [],
   "source": [
    "# Cria um novo DataFrame com as colunas selecionadas\n",
    "selected_df = pd.DataFrame(selected_columns)"
   ]
  },
  {
   "cell_type": "code",
   "execution_count": 22,
   "metadata": {},
   "outputs": [
    {
     "name": "stdout",
     "output_type": "stream",
     "text": [
      "        track_id       artist_name                                track_title\n",
      "0              2              AWOL                                       Food\n",
      "1              3              AWOL                               Electric Ave\n",
      "2              5              AWOL                                 This World\n",
      "3             10         Kurt Vile                                    Freeway\n",
      "4             20        Nicky Cook                            Spiritual Level\n",
      "...          ...               ...                                        ...\n",
      "106569    155316           Spowder                                  The Auger\n",
      "106570    155317           Spowder                            Let's Skin Ruby\n",
      "106571    155318           Spowder         My House Smells Like Kim Deal/Pulp\n",
      "106572    155319           Spowder                    The Man With Two Mouths\n",
      "106573    155320  Forget the Whale  Another Trick Up My Sleeve (Instrumental)\n",
      "\n",
      "[106574 rows x 3 columns]\n"
     ]
    }
   ],
   "source": [
    "print(selected_df)"
   ]
  },
  {
   "cell_type": "code",
   "execution_count": 23,
   "metadata": {},
   "outputs": [],
   "source": [
    "# Salva o DataFrame resultante em um novo arquivo CSV, se necessário\n",
    "selected_df.to_csv('selected_tracks.csv', index=False)"
   ]
  }
 ],
 "metadata": {
  "kernelspec": {
   "display_name": "tfpy",
   "language": "python",
   "name": "python3"
  },
  "language_info": {
   "codemirror_mode": {
    "name": "ipython",
    "version": 3
   },
   "file_extension": ".py",
   "mimetype": "text/x-python",
   "name": "python",
   "nbconvert_exporter": "python",
   "pygments_lexer": "ipython3",
   "version": "3.9.19"
  }
 },
 "nbformat": 4,
 "nbformat_minor": 2
}
