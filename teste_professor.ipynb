{
 "cells": [
  {
   "cell_type": "code",
   "execution_count": 3,
   "metadata": {},
   "outputs": [],
   "source": [
    "import numpy as np\n",
    "import tensorflow as tf\n",
    "assert tf.__version__ >= \"2.0\"\n",
    "import keras"
   ]
  },
  {
   "cell_type": "code",
   "execution_count": 6,
   "metadata": {},
   "outputs": [
    {
     "name": "stdout",
     "output_type": "stream",
     "text": [
      "(2, 3)\n",
      "(2, 3)\n"
     ]
    }
   ],
   "source": [
    "layer = keras.layers.LayerNormalization(axis=[1, 2])\n",
    "layer.build([5, 2, 3])\n",
    "print(layer.beta.shape)\n",
    "\n",
    "print(layer.gamma.shape)\n"
   ]
  },
  {
   "cell_type": "code",
   "execution_count": 8,
   "metadata": {},
   "outputs": [
    {
     "data": {
      "text/plain": [
       "<tf.Variable 'beta:0' shape=(2, 3) dtype=float32, numpy=\n",
       "array([[0., 0., 0.],\n",
       "       [0., 0., 0.]], dtype=float32)>"
      ]
     },
     "execution_count": 8,
     "metadata": {},
     "output_type": "execute_result"
    }
   ],
   "source": [
    "layer.beta"
   ]
  },
  {
   "cell_type": "code",
   "execution_count": 9,
   "metadata": {},
   "outputs": [
    {
     "data": {
      "text/plain": [
       "<tf.Variable 'gamma:0' shape=(2, 3) dtype=float32, numpy=\n",
       "array([[1., 1., 1.],\n",
       "       [1., 1., 1.]], dtype=float32)>"
      ]
     },
     "execution_count": 9,
     "metadata": {},
     "output_type": "execute_result"
    }
   ],
   "source": [
    "layer.gamma"
   ]
  },
  {
   "cell_type": "code",
   "execution_count": 10,
   "metadata": {},
   "outputs": [
    {
     "data": {
      "text/plain": [
       "<keras.src.layers.normalization.layer_normalization.LayerNormalization at 0x7470d5210290>"
      ]
     },
     "execution_count": 10,
     "metadata": {},
     "output_type": "execute_result"
    }
   ],
   "source": [
    "layer"
   ]
  },
  {
   "cell_type": "code",
   "execution_count": null,
   "metadata": {},
   "outputs": [],
   "source": [
    "tf.keras.layers.Conv2D(hidden_ch,kernel_size=(1, 3), strides=strides[0],padding='SAME',dilation_rate=(1, 1),kernel_initializer='glorot_uniform',bias_initializer='zeros')"
   ]
  },
  {
   "cell_type": "code",
   "execution_count": 12,
   "metadata": {},
   "outputs": [
    {
     "name": "stdout",
     "output_type": "stream",
     "text": [
      "tf.Tensor(\n",
      "[[ 0. 10.]\n",
      " [20. 30.]\n",
      " [40. 50.]\n",
      " [60. 70.]\n",
      " [80. 90.]], shape=(5, 2), dtype=float32)\n"
     ]
    }
   ],
   "source": [
    "data = tf.constant(np.arange(10).reshape(5, 2) * 10, dtype=tf.float32)\n",
    "print(data)"
   ]
  },
  {
   "cell_type": "code",
   "execution_count": 15,
   "metadata": {},
   "outputs": [
    {
     "name": "stdout",
     "output_type": "stream",
     "text": [
      "tf.Tensor(\n",
      "[[-1.4142127  -1.4142127 ]\n",
      " [-0.70710635 -0.70710635]\n",
      " [ 0.          0.        ]\n",
      " [ 0.70710635  0.7071065 ]\n",
      " [ 1.4142127   1.4142128 ]], shape=(5, 2), dtype=float32)\n"
     ]
    }
   ],
   "source": [
    "layer = tf.keras.layers.LayerNormalization(axis=0)\n",
    "output = layer(data)\n",
    "print(output)"
   ]
  },
  {
   "cell_type": "code",
   "execution_count": 20,
   "metadata": {},
   "outputs": [
    {
     "name": "stdout",
     "output_type": "stream",
     "text": [
      "tf.Tensor(\n",
      "[[-0.99998    0.99998  ]\n",
      " [-0.99998    0.99998  ]\n",
      " [-0.99998    0.99998  ]\n",
      " [-0.99998    0.99998  ]\n",
      " [-0.9999809  0.999979 ]], shape=(5, 2), dtype=float32)\n"
     ]
    }
   ],
   "source": [
    "layer = tf.keras.layers.LayerNormalization(axis=1)\n",
    "output = layer(data)\n",
    "print(output)"
   ]
  },
  {
   "cell_type": "code",
   "execution_count": 17,
   "metadata": {},
   "outputs": [
    {
     "name": "stdout",
     "output_type": "stream",
     "text": [
      "tf.Tensor(\n",
      "[[-1.5666981  -1.2185429 ]\n",
      " [-0.8703878  -0.5222327 ]\n",
      " [-0.17407757  0.17407756]\n",
      " [ 0.52223265  0.8703878 ]\n",
      " [ 1.2185429   1.5666981 ]], shape=(5, 2), dtype=float32)\n"
     ]
    }
   ],
   "source": [
    "layer = tf.keras.layers.LayerNormalization(axis=[0,1])\n",
    "output = layer(data)\n",
    "print(output)"
   ]
  },
  {
   "cell_type": "code",
   "execution_count": 19,
   "metadata": {},
   "outputs": [
    {
     "name": "stdout",
     "output_type": "stream",
     "text": [
      "(5, 2)\n"
     ]
    }
   ],
   "source": [
    "print(layer.beta.shape)"
   ]
  },
  {
   "cell_type": "code",
   "execution_count": 23,
   "metadata": {},
   "outputs": [
    {
     "name": "stdout",
     "output_type": "stream",
     "text": [
      "<tf.Variable 'layer_normalization_9/beta:0' shape=(2,) dtype=float32, numpy=array([0., 0.], dtype=float32)>\n"
     ]
    }
   ],
   "source": [
    "print(layer.beta)"
   ]
  },
  {
   "cell_type": "code",
   "execution_count": 24,
   "metadata": {},
   "outputs": [
    {
     "name": "stdout",
     "output_type": "stream",
     "text": [
      "(2,)\n"
     ]
    }
   ],
   "source": [
    "print(layer.gamma.shape)"
   ]
  },
  {
   "cell_type": "code",
   "execution_count": 22,
   "metadata": {},
   "outputs": [
    {
     "name": "stdout",
     "output_type": "stream",
     "text": [
      "<tf.Variable 'layer_normalization_9/gamma:0' shape=(2,) dtype=float32, numpy=array([1., 1.], dtype=float32)>\n"
     ]
    }
   ],
   "source": [
    "print(layer.gamma)"
   ]
  }
 ],
 "metadata": {
  "kernelspec": {
   "display_name": "tf",
   "language": "python",
   "name": "python3"
  },
  "language_info": {
   "codemirror_mode": {
    "name": "ipython",
    "version": 3
   },
   "file_extension": ".py",
   "mimetype": "text/x-python",
   "name": "python",
   "nbconvert_exporter": "python",
   "pygments_lexer": "ipython3",
   "version": "3.11.0"
  }
 },
 "nbformat": 4,
 "nbformat_minor": 2
}
