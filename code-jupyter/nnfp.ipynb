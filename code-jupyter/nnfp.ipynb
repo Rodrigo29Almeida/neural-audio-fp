{
 "cells": [
  {
   "cell_type": "code",
   "execution_count": 19,
   "metadata": {},
   "outputs": [],
   "source": [
    "import numpy as np\n",
    "import tensorflow as tf\n",
    "\n",
    "\n",
    "def convlayer(hidden_ch=128,\n",
    "              strides=[(1,1),(1,1)],\n",
    "              norm='layer_norm2d'):\n",
    "    \n",
    "    \n",
    "    conv2d_1x3 = tf.keras.layers.Conv2D(hidden_ch,\n",
    "                                        kernel_size=(1, 3),\n",
    "                                        strides=strides[0],\n",
    "                                        padding='SAME',\n",
    "                                        dilation_rate=(1, 1),\n",
    "                                        kernel_initializer='glorot_uniform',\n",
    "                                        bias_initializer='zeros')\n",
    "    conv2d_3x1 = tf.keras.layers.Conv2D(hidden_ch,\n",
    "                                        kernel_size=(3, 1),\n",
    "                                        strides=strides[1],\n",
    "                                        padding='SAME',\n",
    "                                        dilation_rate=(1, 1),\n",
    "                                        kernel_initializer='glorot_uniform',\n",
    "                                        bias_initializer='zeros')\n",
    "    \n",
    "    if norm == 'layer_norm1d':\n",
    "        BN_1x3 = tf.keras.layers.LayerNormalization(axis=-1)\n",
    "        BN_3x1 = tf.keras.layers.LayerNormalization(axis=-1)\n",
    "    elif norm == 'layer_norm2d':\n",
    "        BN_1x3 = tf.keras.layers.LayerNormalization(axis=(1, 2, 3))\n",
    "        BN_3x1 = tf.keras.layers.LayerNormalization(axis=(1, 2, 3))\n",
    "    else:\n",
    "        BN_1x3 = tf.keras.layers.BatchNormalization(axis=-1) # Fix axis: 2020 Apr20\n",
    "        BN_3x1 = tf.keras.layers.BatchNormalization(axis=-1)\n",
    "        \n",
    "    forward = tf.keras.Sequential([conv2d_1x3,\n",
    "                                    tf.keras.layers.ELU(),\n",
    "                                    BN_1x3,\n",
    "                                    conv2d_3x1,\n",
    "                                    tf.keras.layers.ELU(),\n",
    "                                    BN_3x1\n",
    "                                    ])\n",
    "    \n",
    "    return forward\n",
    "\n",
    "\n",
    "def divenclayer(q=128, unit_dim=[32, 1]):\n",
    "    \n",
    "    def unit_block(input):\n",
    "        x = tf.keras.layers.Dense(unit_dim[0], activation='elu')(input)\n",
    "        x = tf.keras.layers.Dense(unit_dim[1])(x)\n",
    "        return x\n",
    "    \n",
    "    def construct_layers():\n",
    "        layers = list()\n",
    "        for _ in range(q): # q: num_slices\n",
    "            layers.append(tf.keras.Sequential([tf.keras.layers.Dense(unit_dim[0], activation='elu'),\n",
    "                                               tf.keras.layers.Dense(unit_dim[1])]))\n",
    "        return layers\n",
    "            \n",
    "    x = tf.reshape(x, shape=[x.shape[0], q, -1])\n",
    "    \n",
    "    out = list()\n",
    "    for i in range(q):\n",
    "        out.append(construct_layers[i](x[:, i, :]))\n",
    "    \n",
    "    return tf.concat(out, axis=1)\n",
    "\n",
    "\n",
    "class DivEncLayer(tf.keras.layers.Layer):\n",
    "    \"\"\"\n",
    "    Multi-head projection a.k.a. 'divide and encode' layer:\n",
    "        \n",
    "    • The concept of 'divide and encode' was discovered  in Lai et.al.,\n",
    "     'Simultaneous Feature Learning and Hash Coding with Deep Neural Networks',\n",
    "      2015. https://arxiv.org/abs/1504.03410\n",
    "    • It was also adopted in Gfeller et.al. 'Now Playing: Continuo-\n",
    "      us low-power music recognition', 2017. https://arxiv.org/abs/1711.10958\n",
    "    \n",
    "    Arguments\n",
    "    ---------\n",
    "    q: (int) number of slices as 'slice_length = input_dim / q'\n",
    "    unit_dim: [(int), (int)]\n",
    "    norm: 'layer_norm1d' or 'layer_norm2d' uses 1D-layer normalization on the feature.\n",
    "          'batch_norm' or else uses batch normalization. Default is 'layer_norm2d'.\n",
    "\n",
    "    Input\n",
    "    -----\n",
    "    x: (B,1,1,C)\n",
    "    \n",
    "    Returns\n",
    "    -------\n",
    "    emb: (B,Q)\n",
    "    \n",
    "    \"\"\"\n",
    "    def __init__(self, q=128, unit_dim=[32, 1], norm='batch_norm'):\n",
    "        super(DivEncLayer, self).__init__()\n",
    "\n",
    "        self.q = q\n",
    "        self.unit_dim = unit_dim\n",
    "        self.norm = norm\n",
    "        \n",
    "        if norm in ['layer_norm1d', 'layer_norm2d']:\n",
    "            self.BN = [tf.keras.layers.LayerNormalization(axis=-1) for i in range(q)]\n",
    "        else:\n",
    "            self.BN = [tf.keras.layers.BatchNormalization(axis=-1) for i in range(q)]\n",
    "            \n",
    "        self.split_fc_layers = self._construct_layers() \n",
    "\n",
    "\n",
    "    def build(self, input_shape):\n",
    "        # Prepare output embedding variable for dynamic batch-size \n",
    "        self.slice_length = int(input_shape[-1] / self.q)\n",
    "\n",
    " \n",
    "    def _construct_layers(self):\n",
    "        layers = list()\n",
    "        for i in range(self.q): # q: num_slices\n",
    "            layers.append(tf.keras.Sequential([tf.keras.layers.Dense(self.unit_dim[0], activation='elu'),\n",
    "                                               #self.BN[i],\n",
    "                                               tf.keras.layers.Dense(self.unit_dim[1])]))\n",
    "        return layers\n",
    "\n",
    " \n",
    "    @tf.function\n",
    "    def _split_encoding(self, x_slices):\n",
    "        \"\"\"\n",
    "        Input: (B,Q,S)\n",
    "        Returns: (B,Q)\n",
    "        \n",
    "        \"\"\"\n",
    "        out = list()\n",
    "        for i in range(self.q):\n",
    "            out.append(self.split_fc_layers[i](x_slices[:, i, :]))\n",
    "        return tf.concat(out, axis=1)\n",
    "\n",
    "    \n",
    "    def call(self, x): # x: (B,1,1,2048)\n",
    "        x = tf.reshape(x, shape=[x.shape[0], self.q, -1]) # (B,Q,S); Q=num_slices; S=slice length; (B,128,8 or 16)\n",
    "        return self._split_encoding(x)\n",
    "    \n",
    "    \n"
   ]
  },
  {
   "cell_type": "code",
   "execution_count": 16,
   "metadata": {},
   "outputs": [],
   "source": [
    "def create_sequential_front_conv(input_shape=(256,32,1),\n",
    "                                    emb_sz=128, # q\n",
    "                                    front_hidden_ch=[128, 128, 256, 256, 512, 512, 1024, 1024],\n",
    "                                    front_strides=[[(1,2), (2,1)], [(1,2), (2,1)],\n",
    "                                                   [(1,2), (2,1)], [(1,2), (2,1)],\n",
    "                                                   [(1,1), (2,1)], [(1,2), (2,1)],\n",
    "                                                   [(1,1), (2,1)], [(1,2), (2,1)]],\n",
    "                                    norm='layer_norm2d'):\n",
    "\n",
    "    front_conv = tf.keras.Sequential(name='ConvLayers')\n",
    "    if ((front_hidden_ch[-1] % emb_sz) != 0):\n",
    "        front_hidden_ch[-1] = ((front_hidden_ch[-1]//emb_sz) + 1) * emb_sz\n",
    "\n",
    "    for i in range(len(front_strides)):\n",
    "        front_conv.add(convlayer(hidden_ch=front_hidden_ch[i], strides=front_strides[i], norm=norm))\n",
    "    front_conv.add(tf.keras.layers.Flatten())\n",
    "\n",
    "    return front_conv\n",
    "\n",
    "def div_enc_layer(emb_sz=128, fc_unit_dim=[32,1], norm='layer_norm2d',):\n",
    "    \n",
    "    div_enc = tf.keras.Sequential(name=\"DivEnclayer\")\n",
    "    div_enc.add(DivEncLayer(q=emb_sz, unit_dim=fc_unit_dim, norm=norm))\n",
    "\n",
    "    return div_enc\n",
    "\n",
    "def get_fingerprinting(conv_model, div_enc):\n",
    "    \n",
    "    fingerprinting_model = tf.keras.Sequential(name='Fingerprinting')\n",
    "    fingerprinting_model.add(conv_model)\n",
    "    fingerprinting_model.add(div_enc)\n",
    "    fingerprinting_model.add(tf.keras.layers.Lambda(lambda x: tf.math.l2_normalize(x, axis=1)))\n",
    "    \n",
    "    return fingerprinting_model\n"
   ]
  },
  {
   "cell_type": "code",
   "execution_count": 22,
   "metadata": {},
   "outputs": [],
   "source": [
    "conv_layer = create_sequential_front_conv()\n",
    "enc_layer = div_enc_layer()\n",
    "\n",
    "finger_model = get_fingerprinting(conv_layer, enc_layer) \n"
   ]
  },
  {
   "cell_type": "code",
   "execution_count": 20,
   "metadata": {},
   "outputs": [],
   "source": [
    "y = finger_model(tf.ones(shape=(120, 256, 32, 1)))"
   ]
  },
  {
   "cell_type": "code",
   "execution_count": 21,
   "metadata": {},
   "outputs": [
    {
     "data": {
      "text/html": [
       "<pre style=\"white-space:pre;overflow-x:auto;line-height:normal;font-family:Menlo,'DejaVu Sans Mono',consolas,'Courier New',monospace\"><span style=\"font-weight: bold\">Model: \"Fingerprinting\"</span>\n",
       "</pre>\n"
      ],
      "text/plain": [
       "\u001b[1mModel: \"Fingerprinting\"\u001b[0m\n"
      ]
     },
     "metadata": {},
     "output_type": "display_data"
    },
    {
     "data": {
      "text/html": [
       "<pre style=\"white-space:pre;overflow-x:auto;line-height:normal;font-family:Menlo,'DejaVu Sans Mono',consolas,'Courier New',monospace\">┏━━━━━━━━━━━━━━━━━━━━━━━━━━━━━━━━━┳━━━━━━━━━━━━━━━━━━━━━━━━┳━━━━━━━━━━━━━━━┓\n",
       "┃<span style=\"font-weight: bold\"> Layer (type)                    </span>┃<span style=\"font-weight: bold\"> Output Shape           </span>┃<span style=\"font-weight: bold\">       Param # </span>┃\n",
       "┡━━━━━━━━━━━━━━━━━━━━━━━━━━━━━━━━━╇━━━━━━━━━━━━━━━━━━━━━━━━╇━━━━━━━━━━━━━━━┩\n",
       "│ ConvLayers (<span style=\"color: #0087ff; text-decoration-color: #0087ff\">Sequential</span>)         │ (<span style=\"color: #00af00; text-decoration-color: #00af00\">120</span>, <span style=\"color: #00af00; text-decoration-color: #00af00\">1024</span>)            │    <span style=\"color: #00af00; text-decoration-color: #00af00\">16,897,920</span> │\n",
       "├─────────────────────────────────┼────────────────────────┼───────────────┤\n",
       "│ DivEnclayer (<span style=\"color: #0087ff; text-decoration-color: #0087ff\">Sequential</span>)        │ (<span style=\"color: #00af00; text-decoration-color: #00af00\">120</span>, <span style=\"color: #00af00; text-decoration-color: #00af00\">128</span>)             │        <span style=\"color: #00af00; text-decoration-color: #00af00\">41,088</span> │\n",
       "├─────────────────────────────────┼────────────────────────┼───────────────┤\n",
       "│ lambda_1 (<span style=\"color: #0087ff; text-decoration-color: #0087ff\">Lambda</span>)               │ (<span style=\"color: #00af00; text-decoration-color: #00af00\">120</span>, <span style=\"color: #00af00; text-decoration-color: #00af00\">128</span>)             │             <span style=\"color: #00af00; text-decoration-color: #00af00\">0</span> │\n",
       "└─────────────────────────────────┴────────────────────────┴───────────────┘\n",
       "</pre>\n"
      ],
      "text/plain": [
       "┏━━━━━━━━━━━━━━━━━━━━━━━━━━━━━━━━━┳━━━━━━━━━━━━━━━━━━━━━━━━┳━━━━━━━━━━━━━━━┓\n",
       "┃\u001b[1m \u001b[0m\u001b[1mLayer (type)                   \u001b[0m\u001b[1m \u001b[0m┃\u001b[1m \u001b[0m\u001b[1mOutput Shape          \u001b[0m\u001b[1m \u001b[0m┃\u001b[1m \u001b[0m\u001b[1m      Param #\u001b[0m\u001b[1m \u001b[0m┃\n",
       "┡━━━━━━━━━━━━━━━━━━━━━━━━━━━━━━━━━╇━━━━━━━━━━━━━━━━━━━━━━━━╇━━━━━━━━━━━━━━━┩\n",
       "│ ConvLayers (\u001b[38;5;33mSequential\u001b[0m)         │ (\u001b[38;5;34m120\u001b[0m, \u001b[38;5;34m1024\u001b[0m)            │    \u001b[38;5;34m16,897,920\u001b[0m │\n",
       "├─────────────────────────────────┼────────────────────────┼───────────────┤\n",
       "│ DivEnclayer (\u001b[38;5;33mSequential\u001b[0m)        │ (\u001b[38;5;34m120\u001b[0m, \u001b[38;5;34m128\u001b[0m)             │        \u001b[38;5;34m41,088\u001b[0m │\n",
       "├─────────────────────────────────┼────────────────────────┼───────────────┤\n",
       "│ lambda_1 (\u001b[38;5;33mLambda\u001b[0m)               │ (\u001b[38;5;34m120\u001b[0m, \u001b[38;5;34m128\u001b[0m)             │             \u001b[38;5;34m0\u001b[0m │\n",
       "└─────────────────────────────────┴────────────────────────┴───────────────┘\n"
      ]
     },
     "metadata": {},
     "output_type": "display_data"
    },
    {
     "data": {
      "text/html": [
       "<pre style=\"white-space:pre;overflow-x:auto;line-height:normal;font-family:Menlo,'DejaVu Sans Mono',consolas,'Courier New',monospace\"><span style=\"font-weight: bold\"> Total params: </span><span style=\"color: #00af00; text-decoration-color: #00af00\">16,939,008</span> (64.62 MB)\n",
       "</pre>\n"
      ],
      "text/plain": [
       "\u001b[1m Total params: \u001b[0m\u001b[38;5;34m16,939,008\u001b[0m (64.62 MB)\n"
      ]
     },
     "metadata": {},
     "output_type": "display_data"
    },
    {
     "data": {
      "text/html": [
       "<pre style=\"white-space:pre;overflow-x:auto;line-height:normal;font-family:Menlo,'DejaVu Sans Mono',consolas,'Courier New',monospace\"><span style=\"font-weight: bold\"> Trainable params: </span><span style=\"color: #00af00; text-decoration-color: #00af00\">16,939,008</span> (64.62 MB)\n",
       "</pre>\n"
      ],
      "text/plain": [
       "\u001b[1m Trainable params: \u001b[0m\u001b[38;5;34m16,939,008\u001b[0m (64.62 MB)\n"
      ]
     },
     "metadata": {},
     "output_type": "display_data"
    },
    {
     "data": {
      "text/html": [
       "<pre style=\"white-space:pre;overflow-x:auto;line-height:normal;font-family:Menlo,'DejaVu Sans Mono',consolas,'Courier New',monospace\"><span style=\"font-weight: bold\"> Non-trainable params: </span><span style=\"color: #00af00; text-decoration-color: #00af00\">0</span> (0.00 B)\n",
       "</pre>\n"
      ],
      "text/plain": [
       "\u001b[1m Non-trainable params: \u001b[0m\u001b[38;5;34m0\u001b[0m (0.00 B)\n"
      ]
     },
     "metadata": {},
     "output_type": "display_data"
    }
   ],
   "source": [
    "finger_model.summary()"
   ]
  },
  {
   "cell_type": "code",
   "execution_count": 26,
   "metadata": {},
   "outputs": [
    {
     "ename": "ValueError",
     "evalue": "Exception encountered when calling Sequential.call().\n\n\u001b[1mCannot convert '32' to a shape.\u001b[0m\n\nArguments received by Sequential.call():\n  • args=(['<KerasTensor shape=(None, 8), dtype=float32, sparse=False, name=keras_tensor_3371>', '<KerasTensor shape=(None, 8), dtype=float32, sparse=False, name=keras_tensor_3372>', '<KerasTensor shape=(None, 8), dtype=float32, sparse=False, name=keras_tensor_3373>', '<KerasTensor shape=(None, 8), dtype=float32, sparse=False, name=keras_tensor_3374>', '<KerasTensor shape=(None, 8), dtype=float32, sparse=False, name=keras_tensor_3375>', '<KerasTensor shape=(None, 8), dtype=float32, sparse=False, name=keras_tensor_3376>', '<KerasTensor shape=(None, 8), dtype=float32, sparse=False, name=keras_tensor_3377>', '<KerasTensor shape=(None, 8), dtype=float32, sparse=False, name=keras_tensor_3378>', '<KerasTensor shape=(None, 8), dtype=float32, sparse=False, name=keras_tensor_3379>', '<KerasTensor shape=(None, 8), dtype=float32, sparse=False, name=keras_tensor_3380>', '<KerasTensor shape=(None, 8), dtype=float32, sparse=False, name=keras_tensor_3381>', '<KerasTensor shape=(None, 8), dtype=float32, sparse=False, name=keras_tensor_3382>', '<KerasTensor shape=(None, 8), dtype=float32, sparse=False, name=keras_tensor_3383>', '<KerasTensor shape=(None, 8), dtype=float32, sparse=False, name=keras_tensor_3384>', '<KerasTensor shape=(None, 8), dtype=float32, sparse=False, name=keras_tensor_3385>', '<KerasTensor shape=(None, 8), dtype=float32, sparse=False, name=keras_tensor_3386>', '<KerasTensor shape=(None, 8), dtype=float32, sparse=False, name=keras_tensor_3387>', '<KerasTensor shape=(None, 8), dtype=float32, sparse=False, name=keras_tensor_3388>', '<KerasTensor shape=(None, 8), dtype=float32, sparse=False, name=keras_tensor_3389>', '<KerasTensor shape=(None, 8), dtype=float32, sparse=False, name=keras_tensor_3390>', '<KerasTensor shape=(None, 8), dtype=float32, sparse=False, name=keras_tensor_3391>', '<KerasTensor shape=(None, 8), dtype=float32, sparse=False, name=keras_tensor_3392>', '<KerasTensor shape=(None, 8), dtype=float32, sparse=False, name=keras_tensor_3393>', '<KerasTensor shape=(None, 8), dtype=float32, sparse=False, name=keras_tensor_3394>', '<KerasTensor shape=(None, 8), dtype=float32, sparse=False, name=keras_tensor_3395>', '<KerasTensor shape=(None, 8), dtype=float32, sparse=False, name=keras_tensor_3396>', '<KerasTensor shape=(None, 8), dtype=float32, sparse=False, name=keras_tensor_3397>', '<KerasTensor shape=(None, 8), dtype=float32, sparse=False, name=keras_tensor_3398>', '<KerasTensor shape=(None, 8), dtype=float32, sparse=False, name=keras_tensor_3399>', '<KerasTensor shape=(None, 8), dtype=float32, sparse=False, name=keras_tensor_3400>', '<KerasTensor shape=(None, 8), dtype=float32, sparse=False, name=keras_tensor_3401>', '<KerasTensor shape=(None, 8), dtype=float32, sparse=False, name=keras_tensor_3402>', '<KerasTensor shape=(None, 8), dtype=float32, sparse=False, name=keras_tensor_3403>', '<KerasTensor shape=(None, 8), dtype=float32, sparse=False, name=keras_tensor_3404>', '<KerasTensor shape=(None, 8), dtype=float32, sparse=False, name=keras_tensor_3405>', '<KerasTensor shape=(None, 8), dtype=float32, sparse=False, name=keras_tensor_3406>', '<KerasTensor shape=(None, 8), dtype=float32, sparse=False, name=keras_tensor_3407>', '<KerasTensor shape=(None, 8), dtype=float32, sparse=False, name=keras_tensor_3408>', '<KerasTensor shape=(None, 8), dtype=float32, sparse=False, name=keras_tensor_3409>', '<KerasTensor shape=(None, 8), dtype=float32, sparse=False, name=keras_tensor_3410>', '<KerasTensor shape=(None, 8), dtype=float32, sparse=False, name=keras_tensor_3411>', '<KerasTensor shape=(None, 8), dtype=float32, sparse=False, name=keras_tensor_3412>', '<KerasTensor shape=(None, 8), dtype=float32, sparse=False, name=keras_tensor_3413>', '<KerasTensor shape=(None, 8), dtype=float32, sparse=False, name=keras_tensor_3414>', '<KerasTensor shape=(None, 8), dtype=float32, sparse=False, name=keras_tensor_3415>', '<KerasTensor shape=(None, 8), dtype=float32, sparse=False, name=keras_tensor_3416>', '<KerasTensor shape=(None, 8), dtype=float32, sparse=False, name=keras_tensor_3417>', '<KerasTensor shape=(None, 8), dtype=float32, sparse=False, name=keras_tensor_3418>', '<KerasTensor shape=(None, 8), dtype=float32, sparse=False, name=keras_tensor_3419>', '<KerasTensor shape=(None, 8), dtype=float32, sparse=False, name=keras_tensor_3420>', '<KerasTensor shape=(None, 8), dtype=float32, sparse=False, name=keras_tensor_3421>', '<KerasTensor shape=(None, 8), dtype=float32, sparse=False, name=keras_tensor_3422>', '<KerasTensor shape=(None, 8), dtype=float32, sparse=False, name=keras_tensor_3423>', '<KerasTensor shape=(None, 8), dtype=float32, sparse=False, name=keras_tensor_3424>', '<KerasTensor shape=(None, 8), dtype=float32, sparse=False, name=keras_tensor_3425>', '<KerasTensor shape=(None, 8), dtype=float32, sparse=False, name=keras_tensor_3426>', '<KerasTensor shape=(None, 8), dtype=float32, sparse=False, name=keras_tensor_3427>', '<KerasTensor shape=(None, 8), dtype=float32, sparse=False, name=keras_tensor_3428>', '<KerasTensor shape=(None, 8), dtype=float32, sparse=False, name=keras_tensor_3429>', '<KerasTensor shape=(None, 8), dtype=float32, sparse=False, name=keras_tensor_3430>', '<KerasTensor shape=(None, 8), dtype=float32, sparse=False, name=keras_tensor_3431>', '<KerasTensor shape=(None, 8), dtype=float32, sparse=False, name=keras_tensor_3432>', '<KerasTensor shape=(None, 8), dtype=float32, sparse=False, name=keras_tensor_3433>', '<KerasTensor shape=(None, 8), dtype=float32, sparse=False, name=keras_tensor_3434>', '<KerasTensor shape=(None, 8), dtype=float32, sparse=False, name=keras_tensor_3435>', '<KerasTensor shape=(None, 8), dtype=float32, sparse=False, name=keras_tensor_3436>', '<KerasTensor shape=(None, 8), dtype=float32, sparse=False, name=keras_tensor_3437>', '<KerasTensor shape=(None, 8), dtype=float32, sparse=False, name=keras_tensor_3438>', '<KerasTensor shape=(None, 8), dtype=float32, sparse=False, name=keras_tensor_3439>', '<KerasTensor shape=(None, 8), dtype=float32, sparse=False, name=keras_tensor_3440>', '<KerasTensor shape=(None, 8), dtype=float32, sparse=False, name=keras_tensor_3441>', '<KerasTensor shape=(None, 8), dtype=float32, sparse=False, name=keras_tensor_3442>', '<KerasTensor shape=(None, 8), dtype=float32, sparse=False, name=keras_tensor_3443>', '<KerasTensor shape=(None, 8), dtype=float32, sparse=False, name=keras_tensor_3444>', '<KerasTensor shape=(None, 8), dtype=float32, sparse=False, name=keras_tensor_3445>', '<KerasTensor shape=(None, 8), dtype=float32, sparse=False, name=keras_tensor_3446>', '<KerasTensor shape=(None, 8), dtype=float32, sparse=False, name=keras_tensor_3447>', '<KerasTensor shape=(None, 8), dtype=float32, sparse=False, name=keras_tensor_3448>', '<KerasTensor shape=(None, 8), dtype=float32, sparse=False, name=keras_tensor_3449>', '<KerasTensor shape=(None, 8), dtype=float32, sparse=False, name=keras_tensor_3450>', '<KerasTensor shape=(None, 8), dtype=float32, sparse=False, name=keras_tensor_3451>', '<KerasTensor shape=(None, 8), dtype=float32, sparse=False, name=keras_tensor_3452>', '<KerasTensor shape=(None, 8), dtype=float32, sparse=False, name=keras_tensor_3453>', '<KerasTensor shape=(None, 8), dtype=float32, sparse=False, name=keras_tensor_3454>', '<KerasTensor shape=(None, 8), dtype=float32, sparse=False, name=keras_tensor_3455>', '<KerasTensor shape=(None, 8), dtype=float32, sparse=False, name=keras_tensor_3456>', '<KerasTensor shape=(None, 8), dtype=float32, sparse=False, name=keras_tensor_3457>', '<KerasTensor shape=(None, 8), dtype=float32, sparse=False, name=keras_tensor_3458>', '<KerasTensor shape=(None, 8), dtype=float32, sparse=False, name=keras_tensor_3459>', '<KerasTensor shape=(None, 8), dtype=float32, sparse=False, name=keras_tensor_3460>', '<KerasTensor shape=(None, 8), dtype=float32, sparse=False, name=keras_tensor_3461>', '<KerasTensor shape=(None, 8), dtype=float32, sparse=False, name=keras_tensor_3462>', '<KerasTensor shape=(None, 8), dtype=float32, sparse=False, name=keras_tensor_3463>', '<KerasTensor shape=(None, 8), dtype=float32, sparse=False, name=keras_tensor_3464>', '<KerasTensor shape=(None, 8), dtype=float32, sparse=False, name=keras_tensor_3465>', '<KerasTensor shape=(None, 8), dtype=float32, sparse=False, name=keras_tensor_3466>', '<KerasTensor shape=(None, 8), dtype=float32, sparse=False, name=keras_tensor_3467>', '<KerasTensor shape=(None, 8), dtype=float32, sparse=False, name=keras_tensor_3468>', '<KerasTensor shape=(None, 8), dtype=float32, sparse=False, name=keras_tensor_3469>', '<KerasTensor shape=(None, 8), dtype=float32, sparse=False, name=keras_tensor_3470>', '<KerasTensor shape=(None, 8), dtype=float32, sparse=False, name=keras_tensor_3471>', '<KerasTensor shape=(None, 8), dtype=float32, sparse=False, name=keras_tensor_3472>', '<KerasTensor shape=(None, 8), dtype=float32, sparse=False, name=keras_tensor_3473>', '<KerasTensor shape=(None, 8), dtype=float32, sparse=False, name=keras_tensor_3474>', '<KerasTensor shape=(None, 8), dtype=float32, sparse=False, name=keras_tensor_3475>', '<KerasTensor shape=(None, 8), dtype=float32, sparse=False, name=keras_tensor_3476>', '<KerasTensor shape=(None, 8), dtype=float32, sparse=False, name=keras_tensor_3477>', '<KerasTensor shape=(None, 8), dtype=float32, sparse=False, name=keras_tensor_3478>', '<KerasTensor shape=(None, 8), dtype=float32, sparse=False, name=keras_tensor_3479>', '<KerasTensor shape=(None, 8), dtype=float32, sparse=False, name=keras_tensor_3480>', '<KerasTensor shape=(None, 8), dtype=float32, sparse=False, name=keras_tensor_3481>', '<KerasTensor shape=(None, 8), dtype=float32, sparse=False, name=keras_tensor_3482>', '<KerasTensor shape=(None, 8), dtype=float32, sparse=False, name=keras_tensor_3483>', '<KerasTensor shape=(None, 8), dtype=float32, sparse=False, name=keras_tensor_3484>', '<KerasTensor shape=(None, 8), dtype=float32, sparse=False, name=keras_tensor_3485>', '<KerasTensor shape=(None, 8), dtype=float32, sparse=False, name=keras_tensor_3486>', '<KerasTensor shape=(None, 8), dtype=float32, sparse=False, name=keras_tensor_3487>', '<KerasTensor shape=(None, 8), dtype=float32, sparse=False, name=keras_tensor_3488>', '<KerasTensor shape=(None, 8), dtype=float32, sparse=False, name=keras_tensor_3489>', '<KerasTensor shape=(None, 8), dtype=float32, sparse=False, name=keras_tensor_3490>', '<KerasTensor shape=(None, 8), dtype=float32, sparse=False, name=keras_tensor_3491>', '<KerasTensor shape=(None, 8), dtype=float32, sparse=False, name=keras_tensor_3492>', '<KerasTensor shape=(None, 8), dtype=float32, sparse=False, name=keras_tensor_3493>', '<KerasTensor shape=(None, 8), dtype=float32, sparse=False, name=keras_tensor_3494>', '<KerasTensor shape=(None, 8), dtype=float32, sparse=False, name=keras_tensor_3495>', '<KerasTensor shape=(None, 8), dtype=float32, sparse=False, name=keras_tensor_3496>', '<KerasTensor shape=(None, 8), dtype=float32, sparse=False, name=keras_tensor_3497>', '<KerasTensor shape=(None, 8), dtype=float32, sparse=False, name=keras_tensor_3498>'],)\n  • kwargs={'mask': ['None', 'None', 'None', 'None', 'None', 'None', 'None', 'None', 'None', 'None', 'None', 'None', 'None', 'None', 'None', 'None', 'None', 'None', 'None', 'None', 'None', 'None', 'None', 'None', 'None', 'None', 'None', 'None', 'None', 'None', 'None', 'None', 'None', 'None', 'None', 'None', 'None', 'None', 'None', 'None', 'None', 'None', 'None', 'None', 'None', 'None', 'None', 'None', 'None', 'None', 'None', 'None', 'None', 'None', 'None', 'None', 'None', 'None', 'None', 'None', 'None', 'None', 'None', 'None', 'None', 'None', 'None', 'None', 'None', 'None', 'None', 'None', 'None', 'None', 'None', 'None', 'None', 'None', 'None', 'None', 'None', 'None', 'None', 'None', 'None', 'None', 'None', 'None', 'None', 'None', 'None', 'None', 'None', 'None', 'None', 'None', 'None', 'None', 'None', 'None', 'None', 'None', 'None', 'None', 'None', 'None', 'None', 'None', 'None', 'None', 'None', 'None', 'None', 'None', 'None', 'None', 'None', 'None', 'None', 'None', 'None', 'None', 'None', 'None', 'None', 'None', 'None', 'None']}",
     "output_type": "error",
     "traceback": [
      "\u001b[0;31m---------------------------------------------------------------------------\u001b[0m",
      "\u001b[0;31mValueError\u001b[0m                                Traceback (most recent call last)",
      "Cell \u001b[0;32mIn[26], line 45\u001b[0m\n\u001b[1;32m     42\u001b[0m     \u001b[38;5;28;01mreturn\u001b[39;00m model\n\u001b[1;32m     44\u001b[0m \u001b[38;5;66;03m# Criar o modelo\u001b[39;00m\n\u001b[0;32m---> 45\u001b[0m model \u001b[38;5;241m=\u001b[39m \u001b[43mcreate_model\u001b[49m\u001b[43m(\u001b[49m\u001b[43m)\u001b[49m\n\u001b[1;32m     46\u001b[0m \u001b[38;5;66;03m# Sumário do modelo\u001b[39;00m\n\u001b[1;32m     47\u001b[0m \u001b[38;5;66;03m#model.summary()\u001b[39;00m\n",
      "Cell \u001b[0;32mIn[26], line 37\u001b[0m, in \u001b[0;36mcreate_model\u001b[0;34m(input_shape, num_blocks, block_size)\u001b[0m\n\u001b[1;32m     35\u001b[0m \u001b[38;5;66;03m# Sequencial de camadas densas para cada bloco\u001b[39;00m\n\u001b[1;32m     36\u001b[0m \u001b[38;5;28;01mfor\u001b[39;00m _ \u001b[38;5;129;01min\u001b[39;00m \u001b[38;5;28mrange\u001b[39m(num_blocks):\n\u001b[0;32m---> 37\u001b[0m     \u001b[43mmodel\u001b[49m\u001b[38;5;241;43m.\u001b[39;49m\u001b[43madd\u001b[49m\u001b[43m(\u001b[49m\u001b[43mcreate_dense_block\u001b[49m\u001b[43m(\u001b[49m\u001b[43munits\u001b[49m\u001b[38;5;241;43m=\u001b[39;49m\u001b[43m[\u001b[49m\u001b[38;5;241;43m32\u001b[39;49m\u001b[43m,\u001b[49m\u001b[38;5;241;43m1\u001b[39;49m\u001b[43m]\u001b[49m\u001b[43m)\u001b[49m\u001b[43m)\u001b[49m\n\u001b[1;32m     39\u001b[0m \u001b[38;5;66;03m# Concatenação dos resultados\u001b[39;00m\n\u001b[1;32m     40\u001b[0m model\u001b[38;5;241m.\u001b[39madd(tf\u001b[38;5;241m.\u001b[39mkeras\u001b[38;5;241m.\u001b[39mlayers\u001b[38;5;241m.\u001b[39mConcatenate(axis\u001b[38;5;241m=\u001b[39m\u001b[38;5;241m1\u001b[39m))\n",
      "File \u001b[0;32m~/.pyenv/versions/3.9.19/envs/audio/lib/python3.9/site-packages/keras/src/models/sequential.py:120\u001b[0m, in \u001b[0;36mSequential.add\u001b[0;34m(self, layer, rebuild)\u001b[0m\n\u001b[1;32m    118\u001b[0m \u001b[38;5;28mself\u001b[39m\u001b[38;5;241m.\u001b[39m_layers\u001b[38;5;241m.\u001b[39mappend(layer)\n\u001b[1;32m    119\u001b[0m \u001b[38;5;28;01mif\u001b[39;00m rebuild:\n\u001b[0;32m--> 120\u001b[0m     \u001b[38;5;28;43mself\u001b[39;49m\u001b[38;5;241;43m.\u001b[39;49m\u001b[43m_maybe_rebuild\u001b[49m\u001b[43m(\u001b[49m\u001b[43m)\u001b[49m\n\u001b[1;32m    121\u001b[0m \u001b[38;5;28;01melse\u001b[39;00m:\n\u001b[1;32m    122\u001b[0m     \u001b[38;5;28mself\u001b[39m\u001b[38;5;241m.\u001b[39mbuilt \u001b[38;5;241m=\u001b[39m \u001b[38;5;28;01mFalse\u001b[39;00m\n",
      "File \u001b[0;32m~/.pyenv/versions/3.9.19/envs/audio/lib/python3.9/site-packages/keras/src/models/sequential.py:139\u001b[0m, in \u001b[0;36mSequential._maybe_rebuild\u001b[0;34m(self)\u001b[0m\n\u001b[1;32m    137\u001b[0m \u001b[38;5;28;01mif\u001b[39;00m \u001b[38;5;28misinstance\u001b[39m(\u001b[38;5;28mself\u001b[39m\u001b[38;5;241m.\u001b[39m_layers[\u001b[38;5;241m0\u001b[39m], InputLayer) \u001b[38;5;129;01mand\u001b[39;00m \u001b[38;5;28mlen\u001b[39m(\u001b[38;5;28mself\u001b[39m\u001b[38;5;241m.\u001b[39m_layers) \u001b[38;5;241m>\u001b[39m \u001b[38;5;241m1\u001b[39m:\n\u001b[1;32m    138\u001b[0m     input_shape \u001b[38;5;241m=\u001b[39m \u001b[38;5;28mself\u001b[39m\u001b[38;5;241m.\u001b[39m_layers[\u001b[38;5;241m0\u001b[39m]\u001b[38;5;241m.\u001b[39mbatch_shape\n\u001b[0;32m--> 139\u001b[0m     \u001b[38;5;28;43mself\u001b[39;49m\u001b[38;5;241;43m.\u001b[39;49m\u001b[43mbuild\u001b[49m\u001b[43m(\u001b[49m\u001b[43minput_shape\u001b[49m\u001b[43m)\u001b[49m\n",
      "File \u001b[0;32m~/.pyenv/versions/3.9.19/envs/audio/lib/python3.9/site-packages/keras/src/layers/layer.py:222\u001b[0m, in \u001b[0;36mLayer.__new__.<locals>.build_wrapper\u001b[0;34m(*args, **kwargs)\u001b[0m\n\u001b[1;32m    219\u001b[0m \u001b[38;5;129m@wraps\u001b[39m(original_build_method)\n\u001b[1;32m    220\u001b[0m \u001b[38;5;28;01mdef\u001b[39;00m \u001b[38;5;21mbuild_wrapper\u001b[39m(\u001b[38;5;241m*\u001b[39margs, \u001b[38;5;241m*\u001b[39m\u001b[38;5;241m*\u001b[39mkwargs):\n\u001b[1;32m    221\u001b[0m     \u001b[38;5;28;01mwith\u001b[39;00m obj\u001b[38;5;241m.\u001b[39m_open_name_scope():\n\u001b[0;32m--> 222\u001b[0m         \u001b[43moriginal_build_method\u001b[49m\u001b[43m(\u001b[49m\u001b[38;5;241;43m*\u001b[39;49m\u001b[43margs\u001b[49m\u001b[43m,\u001b[49m\u001b[43m \u001b[49m\u001b[38;5;241;43m*\u001b[39;49m\u001b[38;5;241;43m*\u001b[39;49m\u001b[43mkwargs\u001b[49m\u001b[43m)\u001b[49m\n\u001b[1;32m    223\u001b[0m     \u001b[38;5;66;03m# Record build config.\u001b[39;00m\n\u001b[1;32m    224\u001b[0m     signature \u001b[38;5;241m=\u001b[39m inspect\u001b[38;5;241m.\u001b[39msignature(original_build_method)\n",
      "File \u001b[0;32m~/.pyenv/versions/3.9.19/envs/audio/lib/python3.9/site-packages/keras/src/models/sequential.py:180\u001b[0m, in \u001b[0;36mSequential.build\u001b[0;34m(self, input_shape)\u001b[0m\n\u001b[1;32m    178\u001b[0m \u001b[38;5;28;01mfor\u001b[39;00m layer \u001b[38;5;129;01min\u001b[39;00m \u001b[38;5;28mself\u001b[39m\u001b[38;5;241m.\u001b[39m_layers[\u001b[38;5;241m1\u001b[39m:]:\n\u001b[1;32m    179\u001b[0m     \u001b[38;5;28;01mtry\u001b[39;00m:\n\u001b[0;32m--> 180\u001b[0m         x \u001b[38;5;241m=\u001b[39m \u001b[43mlayer\u001b[49m\u001b[43m(\u001b[49m\u001b[43mx\u001b[49m\u001b[43m)\u001b[49m\n\u001b[1;32m    181\u001b[0m     \u001b[38;5;28;01mexcept\u001b[39;00m \u001b[38;5;167;01mNotImplementedError\u001b[39;00m:\n\u001b[1;32m    182\u001b[0m         \u001b[38;5;66;03m# Can happen if shape inference is not implemented.\u001b[39;00m\n\u001b[1;32m    183\u001b[0m         \u001b[38;5;66;03m# TODO: consider reverting inbound nodes on layers processed.\u001b[39;00m\n\u001b[1;32m    184\u001b[0m         \u001b[38;5;28;01mreturn\u001b[39;00m\n",
      "File \u001b[0;32m~/.pyenv/versions/3.9.19/envs/audio/lib/python3.9/site-packages/keras/src/utils/traceback_utils.py:122\u001b[0m, in \u001b[0;36mfilter_traceback.<locals>.error_handler\u001b[0;34m(*args, **kwargs)\u001b[0m\n\u001b[1;32m    119\u001b[0m     filtered_tb \u001b[38;5;241m=\u001b[39m _process_traceback_frames(e\u001b[38;5;241m.\u001b[39m__traceback__)\n\u001b[1;32m    120\u001b[0m     \u001b[38;5;66;03m# To get the full stack trace, call:\u001b[39;00m\n\u001b[1;32m    121\u001b[0m     \u001b[38;5;66;03m# `keras.config.disable_traceback_filtering()`\u001b[39;00m\n\u001b[0;32m--> 122\u001b[0m     \u001b[38;5;28;01mraise\u001b[39;00m e\u001b[38;5;241m.\u001b[39mwith_traceback(filtered_tb) \u001b[38;5;28;01mfrom\u001b[39;00m \u001b[38;5;28;01mNone\u001b[39;00m\n\u001b[1;32m    123\u001b[0m \u001b[38;5;28;01mfinally\u001b[39;00m:\n\u001b[1;32m    124\u001b[0m     \u001b[38;5;28;01mdel\u001b[39;00m filtered_tb\n",
      "File \u001b[0;32m~/.pyenv/versions/3.9.19/envs/audio/lib/python3.9/site-packages/optree/ops.py:594\u001b[0m, in \u001b[0;36mtree_map\u001b[0;34m(func, tree, is_leaf, none_is_leaf, namespace, *rests)\u001b[0m\n\u001b[1;32m    592\u001b[0m leaves, treespec \u001b[38;5;241m=\u001b[39m _C\u001b[38;5;241m.\u001b[39mflatten(tree, is_leaf, none_is_leaf, namespace)\n\u001b[1;32m    593\u001b[0m flat_args \u001b[38;5;241m=\u001b[39m [leaves] \u001b[38;5;241m+\u001b[39m [treespec\u001b[38;5;241m.\u001b[39mflatten_up_to(r) \u001b[38;5;28;01mfor\u001b[39;00m r \u001b[38;5;129;01min\u001b[39;00m rests]\n\u001b[0;32m--> 594\u001b[0m \u001b[38;5;28;01mreturn\u001b[39;00m \u001b[43mtreespec\u001b[49m\u001b[38;5;241;43m.\u001b[39;49m\u001b[43munflatten\u001b[49m\u001b[43m(\u001b[49m\u001b[38;5;28;43mmap\u001b[39;49m\u001b[43m(\u001b[49m\u001b[43mfunc\u001b[49m\u001b[43m,\u001b[49m\u001b[43m \u001b[49m\u001b[38;5;241;43m*\u001b[39;49m\u001b[43mflat_args\u001b[49m\u001b[43m)\u001b[49m\u001b[43m)\u001b[49m\n",
      "\u001b[0;31mValueError\u001b[0m: Exception encountered when calling Sequential.call().\n\n\u001b[1mCannot convert '32' to a shape.\u001b[0m\n\nArguments received by Sequential.call():\n  • args=(['<KerasTensor shape=(None, 8), dtype=float32, sparse=False, name=keras_tensor_3371>', '<KerasTensor shape=(None, 8), dtype=float32, sparse=False, name=keras_tensor_3372>', '<KerasTensor shape=(None, 8), dtype=float32, sparse=False, name=keras_tensor_3373>', '<KerasTensor shape=(None, 8), dtype=float32, sparse=False, name=keras_tensor_3374>', '<KerasTensor shape=(None, 8), dtype=float32, sparse=False, name=keras_tensor_3375>', '<KerasTensor shape=(None, 8), dtype=float32, sparse=False, name=keras_tensor_3376>', '<KerasTensor shape=(None, 8), dtype=float32, sparse=False, name=keras_tensor_3377>', '<KerasTensor shape=(None, 8), dtype=float32, sparse=False, name=keras_tensor_3378>', '<KerasTensor shape=(None, 8), dtype=float32, sparse=False, name=keras_tensor_3379>', '<KerasTensor shape=(None, 8), dtype=float32, sparse=False, name=keras_tensor_3380>', '<KerasTensor shape=(None, 8), dtype=float32, sparse=False, name=keras_tensor_3381>', '<KerasTensor shape=(None, 8), dtype=float32, sparse=False, name=keras_tensor_3382>', '<KerasTensor shape=(None, 8), dtype=float32, sparse=False, name=keras_tensor_3383>', '<KerasTensor shape=(None, 8), dtype=float32, sparse=False, name=keras_tensor_3384>', '<KerasTensor shape=(None, 8), dtype=float32, sparse=False, name=keras_tensor_3385>', '<KerasTensor shape=(None, 8), dtype=float32, sparse=False, name=keras_tensor_3386>', '<KerasTensor shape=(None, 8), dtype=float32, sparse=False, name=keras_tensor_3387>', '<KerasTensor shape=(None, 8), dtype=float32, sparse=False, name=keras_tensor_3388>', '<KerasTensor shape=(None, 8), dtype=float32, sparse=False, name=keras_tensor_3389>', '<KerasTensor shape=(None, 8), dtype=float32, sparse=False, name=keras_tensor_3390>', '<KerasTensor shape=(None, 8), dtype=float32, sparse=False, name=keras_tensor_3391>', '<KerasTensor shape=(None, 8), dtype=float32, sparse=False, name=keras_tensor_3392>', '<KerasTensor shape=(None, 8), dtype=float32, sparse=False, name=keras_tensor_3393>', '<KerasTensor shape=(None, 8), dtype=float32, sparse=False, name=keras_tensor_3394>', '<KerasTensor shape=(None, 8), dtype=float32, sparse=False, name=keras_tensor_3395>', '<KerasTensor shape=(None, 8), dtype=float32, sparse=False, name=keras_tensor_3396>', '<KerasTensor shape=(None, 8), dtype=float32, sparse=False, name=keras_tensor_3397>', '<KerasTensor shape=(None, 8), dtype=float32, sparse=False, name=keras_tensor_3398>', '<KerasTensor shape=(None, 8), dtype=float32, sparse=False, name=keras_tensor_3399>', '<KerasTensor shape=(None, 8), dtype=float32, sparse=False, name=keras_tensor_3400>', '<KerasTensor shape=(None, 8), dtype=float32, sparse=False, name=keras_tensor_3401>', '<KerasTensor shape=(None, 8), dtype=float32, sparse=False, name=keras_tensor_3402>', '<KerasTensor shape=(None, 8), dtype=float32, sparse=False, name=keras_tensor_3403>', '<KerasTensor shape=(None, 8), dtype=float32, sparse=False, name=keras_tensor_3404>', '<KerasTensor shape=(None, 8), dtype=float32, sparse=False, name=keras_tensor_3405>', '<KerasTensor shape=(None, 8), dtype=float32, sparse=False, name=keras_tensor_3406>', '<KerasTensor shape=(None, 8), dtype=float32, sparse=False, name=keras_tensor_3407>', '<KerasTensor shape=(None, 8), dtype=float32, sparse=False, name=keras_tensor_3408>', '<KerasTensor shape=(None, 8), dtype=float32, sparse=False, name=keras_tensor_3409>', '<KerasTensor shape=(None, 8), dtype=float32, sparse=False, name=keras_tensor_3410>', '<KerasTensor shape=(None, 8), dtype=float32, sparse=False, name=keras_tensor_3411>', '<KerasTensor shape=(None, 8), dtype=float32, sparse=False, name=keras_tensor_3412>', '<KerasTensor shape=(None, 8), dtype=float32, sparse=False, name=keras_tensor_3413>', '<KerasTensor shape=(None, 8), dtype=float32, sparse=False, name=keras_tensor_3414>', '<KerasTensor shape=(None, 8), dtype=float32, sparse=False, name=keras_tensor_3415>', '<KerasTensor shape=(None, 8), dtype=float32, sparse=False, name=keras_tensor_3416>', '<KerasTensor shape=(None, 8), dtype=float32, sparse=False, name=keras_tensor_3417>', '<KerasTensor shape=(None, 8), dtype=float32, sparse=False, name=keras_tensor_3418>', '<KerasTensor shape=(None, 8), dtype=float32, sparse=False, name=keras_tensor_3419>', '<KerasTensor shape=(None, 8), dtype=float32, sparse=False, name=keras_tensor_3420>', '<KerasTensor shape=(None, 8), dtype=float32, sparse=False, name=keras_tensor_3421>', '<KerasTensor shape=(None, 8), dtype=float32, sparse=False, name=keras_tensor_3422>', '<KerasTensor shape=(None, 8), dtype=float32, sparse=False, name=keras_tensor_3423>', '<KerasTensor shape=(None, 8), dtype=float32, sparse=False, name=keras_tensor_3424>', '<KerasTensor shape=(None, 8), dtype=float32, sparse=False, name=keras_tensor_3425>', '<KerasTensor shape=(None, 8), dtype=float32, sparse=False, name=keras_tensor_3426>', '<KerasTensor shape=(None, 8), dtype=float32, sparse=False, name=keras_tensor_3427>', '<KerasTensor shape=(None, 8), dtype=float32, sparse=False, name=keras_tensor_3428>', '<KerasTensor shape=(None, 8), dtype=float32, sparse=False, name=keras_tensor_3429>', '<KerasTensor shape=(None, 8), dtype=float32, sparse=False, name=keras_tensor_3430>', '<KerasTensor shape=(None, 8), dtype=float32, sparse=False, name=keras_tensor_3431>', '<KerasTensor shape=(None, 8), dtype=float32, sparse=False, name=keras_tensor_3432>', '<KerasTensor shape=(None, 8), dtype=float32, sparse=False, name=keras_tensor_3433>', '<KerasTensor shape=(None, 8), dtype=float32, sparse=False, name=keras_tensor_3434>', '<KerasTensor shape=(None, 8), dtype=float32, sparse=False, name=keras_tensor_3435>', '<KerasTensor shape=(None, 8), dtype=float32, sparse=False, name=keras_tensor_3436>', '<KerasTensor shape=(None, 8), dtype=float32, sparse=False, name=keras_tensor_3437>', '<KerasTensor shape=(None, 8), dtype=float32, sparse=False, name=keras_tensor_3438>', '<KerasTensor shape=(None, 8), dtype=float32, sparse=False, name=keras_tensor_3439>', '<KerasTensor shape=(None, 8), dtype=float32, sparse=False, name=keras_tensor_3440>', '<KerasTensor shape=(None, 8), dtype=float32, sparse=False, name=keras_tensor_3441>', '<KerasTensor shape=(None, 8), dtype=float32, sparse=False, name=keras_tensor_3442>', '<KerasTensor shape=(None, 8), dtype=float32, sparse=False, name=keras_tensor_3443>', '<KerasTensor shape=(None, 8), dtype=float32, sparse=False, name=keras_tensor_3444>', '<KerasTensor shape=(None, 8), dtype=float32, sparse=False, name=keras_tensor_3445>', '<KerasTensor shape=(None, 8), dtype=float32, sparse=False, name=keras_tensor_3446>', '<KerasTensor shape=(None, 8), dtype=float32, sparse=False, name=keras_tensor_3447>', '<KerasTensor shape=(None, 8), dtype=float32, sparse=False, name=keras_tensor_3448>', '<KerasTensor shape=(None, 8), dtype=float32, sparse=False, name=keras_tensor_3449>', '<KerasTensor shape=(None, 8), dtype=float32, sparse=False, name=keras_tensor_3450>', '<KerasTensor shape=(None, 8), dtype=float32, sparse=False, name=keras_tensor_3451>', '<KerasTensor shape=(None, 8), dtype=float32, sparse=False, name=keras_tensor_3452>', '<KerasTensor shape=(None, 8), dtype=float32, sparse=False, name=keras_tensor_3453>', '<KerasTensor shape=(None, 8), dtype=float32, sparse=False, name=keras_tensor_3454>', '<KerasTensor shape=(None, 8), dtype=float32, sparse=False, name=keras_tensor_3455>', '<KerasTensor shape=(None, 8), dtype=float32, sparse=False, name=keras_tensor_3456>', '<KerasTensor shape=(None, 8), dtype=float32, sparse=False, name=keras_tensor_3457>', '<KerasTensor shape=(None, 8), dtype=float32, sparse=False, name=keras_tensor_3458>', '<KerasTensor shape=(None, 8), dtype=float32, sparse=False, name=keras_tensor_3459>', '<KerasTensor shape=(None, 8), dtype=float32, sparse=False, name=keras_tensor_3460>', '<KerasTensor shape=(None, 8), dtype=float32, sparse=False, name=keras_tensor_3461>', '<KerasTensor shape=(None, 8), dtype=float32, sparse=False, name=keras_tensor_3462>', '<KerasTensor shape=(None, 8), dtype=float32, sparse=False, name=keras_tensor_3463>', '<KerasTensor shape=(None, 8), dtype=float32, sparse=False, name=keras_tensor_3464>', '<KerasTensor shape=(None, 8), dtype=float32, sparse=False, name=keras_tensor_3465>', '<KerasTensor shape=(None, 8), dtype=float32, sparse=False, name=keras_tensor_3466>', '<KerasTensor shape=(None, 8), dtype=float32, sparse=False, name=keras_tensor_3467>', '<KerasTensor shape=(None, 8), dtype=float32, sparse=False, name=keras_tensor_3468>', '<KerasTensor shape=(None, 8), dtype=float32, sparse=False, name=keras_tensor_3469>', '<KerasTensor shape=(None, 8), dtype=float32, sparse=False, name=keras_tensor_3470>', '<KerasTensor shape=(None, 8), dtype=float32, sparse=False, name=keras_tensor_3471>', '<KerasTensor shape=(None, 8), dtype=float32, sparse=False, name=keras_tensor_3472>', '<KerasTensor shape=(None, 8), dtype=float32, sparse=False, name=keras_tensor_3473>', '<KerasTensor shape=(None, 8), dtype=float32, sparse=False, name=keras_tensor_3474>', '<KerasTensor shape=(None, 8), dtype=float32, sparse=False, name=keras_tensor_3475>', '<KerasTensor shape=(None, 8), dtype=float32, sparse=False, name=keras_tensor_3476>', '<KerasTensor shape=(None, 8), dtype=float32, sparse=False, name=keras_tensor_3477>', '<KerasTensor shape=(None, 8), dtype=float32, sparse=False, name=keras_tensor_3478>', '<KerasTensor shape=(None, 8), dtype=float32, sparse=False, name=keras_tensor_3479>', '<KerasTensor shape=(None, 8), dtype=float32, sparse=False, name=keras_tensor_3480>', '<KerasTensor shape=(None, 8), dtype=float32, sparse=False, name=keras_tensor_3481>', '<KerasTensor shape=(None, 8), dtype=float32, sparse=False, name=keras_tensor_3482>', '<KerasTensor shape=(None, 8), dtype=float32, sparse=False, name=keras_tensor_3483>', '<KerasTensor shape=(None, 8), dtype=float32, sparse=False, name=keras_tensor_3484>', '<KerasTensor shape=(None, 8), dtype=float32, sparse=False, name=keras_tensor_3485>', '<KerasTensor shape=(None, 8), dtype=float32, sparse=False, name=keras_tensor_3486>', '<KerasTensor shape=(None, 8), dtype=float32, sparse=False, name=keras_tensor_3487>', '<KerasTensor shape=(None, 8), dtype=float32, sparse=False, name=keras_tensor_3488>', '<KerasTensor shape=(None, 8), dtype=float32, sparse=False, name=keras_tensor_3489>', '<KerasTensor shape=(None, 8), dtype=float32, sparse=False, name=keras_tensor_3490>', '<KerasTensor shape=(None, 8), dtype=float32, sparse=False, name=keras_tensor_3491>', '<KerasTensor shape=(None, 8), dtype=float32, sparse=False, name=keras_tensor_3492>', '<KerasTensor shape=(None, 8), dtype=float32, sparse=False, name=keras_tensor_3493>', '<KerasTensor shape=(None, 8), dtype=float32, sparse=False, name=keras_tensor_3494>', '<KerasTensor shape=(None, 8), dtype=float32, sparse=False, name=keras_tensor_3495>', '<KerasTensor shape=(None, 8), dtype=float32, sparse=False, name=keras_tensor_3496>', '<KerasTensor shape=(None, 8), dtype=float32, sparse=False, name=keras_tensor_3497>', '<KerasTensor shape=(None, 8), dtype=float32, sparse=False, name=keras_tensor_3498>'],)\n  • kwargs={'mask': ['None', 'None', 'None', 'None', 'None', 'None', 'None', 'None', 'None', 'None', 'None', 'None', 'None', 'None', 'None', 'None', 'None', 'None', 'None', 'None', 'None', 'None', 'None', 'None', 'None', 'None', 'None', 'None', 'None', 'None', 'None', 'None', 'None', 'None', 'None', 'None', 'None', 'None', 'None', 'None', 'None', 'None', 'None', 'None', 'None', 'None', 'None', 'None', 'None', 'None', 'None', 'None', 'None', 'None', 'None', 'None', 'None', 'None', 'None', 'None', 'None', 'None', 'None', 'None', 'None', 'None', 'None', 'None', 'None', 'None', 'None', 'None', 'None', 'None', 'None', 'None', 'None', 'None', 'None', 'None', 'None', 'None', 'None', 'None', 'None', 'None', 'None', 'None', 'None', 'None', 'None', 'None', 'None', 'None', 'None', 'None', 'None', 'None', 'None', 'None', 'None', 'None', 'None', 'None', 'None', 'None', 'None', 'None', 'None', 'None', 'None', 'None', 'None', 'None', 'None', 'None', 'None', 'None', 'None', 'None', 'None', 'None', 'None', 'None', 'None', 'None', 'None', 'None']}"
     ]
    }
   ],
   "source": [
    "import tensorflow as tf\n",
    "\n",
    "# Função para criar o bloco de camadas densas\n",
    "def create_dense_block(units: list):\n",
    "    return tf.keras.Sequential([\n",
    "        tf.keras.layers.Dense(units[0], activation='elu'),\n",
    "        tf.keras.layers.Dense(units[1])\n",
    "    ])\n",
    "\n",
    "# Criar o modelo\n",
    "def create_model(input_shape=(256, 256, 3), num_blocks=128, block_size=8):\n",
    "    model = tf.keras.Sequential()\n",
    "    \n",
    "    # Primeiro bloco convolucional e average pooling\n",
    "    model.add(tf.keras.layers.Conv2D(64, (3, 3), activation='relu', padding='same', input_shape=input_shape))\n",
    "    model.add(tf.keras.layers.Conv2D(64, (3, 3), activation='relu', padding='same'))\n",
    "    model.add(tf.keras.layers.MaxPooling2D((2, 2)))\n",
    "    model.add(tf.keras.layers.Conv2D(128, (3, 3), activation='relu', padding='same'))\n",
    "    model.add(tf.keras.layers.Conv2D(128, (3, 3), activation='relu', padding='same'))\n",
    "    model.add(tf.keras.layers.MaxPooling2D((2, 2)))\n",
    "    model.add(tf.keras.layers.Conv2D(256, (3, 3), activation='relu', padding='same'))\n",
    "    model.add(tf.keras.layers.Conv2D(256, (3, 3), activation='relu', padding='same'))\n",
    "    model.add(tf.keras.layers.MaxPooling2D((2, 2)))\n",
    "    model.add(tf.keras.layers.Conv2D(512, (3, 3), activation='relu', padding='same'))\n",
    "    model.add(tf.keras.layers.Conv2D(512, (3, 3), activation='relu', padding='same'))\n",
    "    model.add(tf.keras.layers.MaxPooling2D((2, 2)))\n",
    "    model.add(tf.keras.layers.Conv2D(1024, (3, 3), activation='relu', padding='same'))\n",
    "    model.add(tf.keras.layers.Conv2D(1024, (3, 3), activation='relu', padding='same'))\n",
    "    model.add(tf.keras.layers.GlobalAveragePooling2D())  # Average pooling para saída 1024\n",
    "    \n",
    "    # Divisão em 128 blocos\n",
    "    split_layer = tf.keras.layers.Lambda(lambda x: tf.split(x, num_blocks, axis=1))\n",
    "    model.add(split_layer)\n",
    "    \n",
    "    # Sequencial de camadas densas para cada bloco\n",
    "    for _ in range(num_blocks):\n",
    "        model.add(create_dense_block(units=[32,1]))\n",
    "    \n",
    "    # Concatenação dos resultados\n",
    "    model.add(tf.keras.layers.Concatenate(axis=1))\n",
    "    \n",
    "    return model\n",
    "\n",
    "# Criar o modelo\n",
    "model = create_model()\n",
    "# Sumário do modelo\n",
    "#model.summary()"
   ]
  }
 ],
 "metadata": {
  "kernelspec": {
   "display_name": "audio",
   "language": "python",
   "name": "python3"
  },
  "language_info": {
   "codemirror_mode": {
    "name": "ipython",
    "version": 3
   },
   "file_extension": ".py",
   "mimetype": "text/x-python",
   "name": "python",
   "nbconvert_exporter": "python",
   "pygments_lexer": "ipython3",
   "version": "3.9.19"
  }
 },
 "nbformat": 4,
 "nbformat_minor": 2
}
