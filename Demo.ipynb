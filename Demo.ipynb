{
 "cells": [
  {
   "cell_type": "code",
   "execution_count": 1,
   "metadata": {},
   "outputs": [
    {
     "name": "stderr",
     "output_type": "stream",
     "text": [
      "2024-07-12 11:34:45.624497: I tensorflow/core/platform/cpu_feature_guard.cc:182] This TensorFlow binary is optimized to use available CPU instructions in performance-critical operations.\n",
      "To enable the following instructions: SSE4.1 SSE4.2 AVX AVX2 FMA, in other operations, rebuild TensorFlow with the appropriate compiler flags.\n"
     ]
    }
   ],
   "source": [
    "import os\n",
    "import io\n",
    "import gc\n",
    "import sys\n",
    "import yaml\n",
    "import time\n",
    "import glob\n",
    "import wave\n",
    "import faiss\n",
    "\n",
    "import random\n",
    "import librosa\n",
    "\n",
    "import numpy as np\n",
    "import pandas as pd\n",
    "import deepdish as dd\n",
    "import tensorflow as tf\n",
    "from pydub import AudioSegment\n",
    "import matplotlib.pyplot as plt\n",
    "from sklearn.metrics import confusion_matrix\n",
    "\n",
    "from model_RA.fp_RA.nnfp import get_fingerprinter\n",
    "from model_RA.fp_RA.melspec.melspectrogram_RA import get_melspec_layer"
   ]
  },
  {
   "cell_type": "markdown",
   "metadata": {},
   "source": [
    "# **Carregar Faiss Index**"
   ]
  },
  {
   "cell_type": "code",
   "execution_count": 2,
   "metadata": {},
   "outputs": [],
   "source": [
    "def create_index(db_embeddings, nogpu=True, n_centroids=256, code_sz=64, nbits=8):\n",
    "    #faiss.IndexIVFPQ(quantizer, d, n_centroids, code_sz, nbits), com d=, nlist=n_centroids=50, m=code_sz=8, bits=nbits=8\n",
    "    #faiss.IndexIVFPQ(quantizer, d, nlist, m, bits)\n",
    "    #n_centroids -> clusters\n",
    "\n",
    "    # GPU Setup\n",
    "    if not nogpu:\n",
    "        GPU_RESOURCES = faiss.StandardGpuResources()\n",
    "        GPU_OPTIONS = faiss.GpuClonerOptions()\n",
    "        GPU_OPTIONS.useFloat16 = True # use float16 table to avoid https://github.com/facebookresearch/faiss/issues/1178\n",
    "    else:\n",
    "        pass\n",
    "    \n",
    "\n",
    "    # Fingerprint dimension, d\n",
    "    d = db_embeddings.shape[1] #len(db_embeddings[0][0]) #db_embeddings.shape[1]  # Dim emb #len(db_embeddings[0][0][0])\n",
    "\n",
    "\n",
    "    # Build a flat (CPU) index\n",
    "    quantizer = faiss.IndexFlatL2(d)\n",
    "\n",
    "\n",
    "    # Using IVF-PQ index\n",
    "    code_sz = 64 # power of 2\n",
    "    n_centroids = 256 # Number of Veronoi Cells (?)\n",
    "    nbits = 8  # nbits must be 8, 12 or 16, The dimension d should be a multiple of M.\n",
    "    index = faiss.IndexIVFPQ(quantizer, d, n_centroids, code_sz, nbits) #Adicona clustering\n",
    "\n",
    "\n",
    "    # Se não usar GPU\n",
    "    if not nogpu:\n",
    "        res = faiss.StandardGpuResources()\n",
    "        index = faiss.index_cpu_to_gpu(res, 0, index)\n",
    "\n",
    "    max_nitem_train = int(1e7)\n",
    "    # Train index\n",
    "    if not index.is_trained:\n",
    "        #print('Training index using {:>3.2f} % of data...'.format(100. * max_nitem_train / len(db_embeddings)))\n",
    "        #sel_tr_idx = np.random.permutation(len(db_embeddings))\n",
    "        #sel_tr_idx = sel_tr_idx[:max_nitem_train]\n",
    "        #index.train(db_embeddings[sel_tr_idx,:])\n",
    "        index.train(db_embeddings)\n",
    "    \n",
    "\n",
    "    # N probe\n",
    "    index.nprobe = 40\n",
    "    return index"
   ]
  },
  {
   "cell_type": "markdown",
   "metadata": {},
   "source": [
    "# **Carregar Base de Dados**"
   ]
  },
  {
   "cell_type": "code",
   "execution_count": 3,
   "metadata": {},
   "outputs": [],
   "source": [
    "def def_files(files, train_num):\n",
    "    embs = []\n",
    "\n",
    "    for _, file in enumerate(files):\n",
    "        embs.append(dd.io.load(file))\n",
    "\n",
    "    embs = np.concatenate(embs, axis=0)\n",
    "    sel_tr_idx = np.random.permutation(len(embs))\n",
    "    sel_tr_idx = sel_tr_idx[:train_num]\n",
    "\n",
    "    return embs, sel_tr_idx"
   ]
  },
  {
   "cell_type": "code",
   "execution_count": 4,
   "metadata": {},
   "outputs": [],
   "source": [
    "#carregar em duas parcelas devido aos problemas de memória\n",
    "source_dir = '/mnt/dataset/public/Fingerprinting/Embeddings_BFTRI/dummyEmb/'\n",
    "h5Files = sorted(glob.glob(os.path.join(source_dir, '**/*.h5') ,recursive = True))\n",
    "\n",
    "\n",
    "mid_file = len(h5Files)//2\n",
    "h5Files_1 = h5Files[:mid_file]\n",
    "h5Files_2 = h5Files[mid_file:]\n",
    "files = [h5Files_1, h5Files_2]\n",
    "\n",
    "\n",
    "\n",
    "max_train_num = int(1e7)\n",
    "idx_1_train = idx_2_train = np.empty((max_train_num//2, 128))\n",
    "\n",
    "\n",
    "embs_1, idx_1_train = def_files(files[0], max_train_num//2)\n",
    "print(len(embs_1))\n",
    "embs_1_sliced = embs_1[idx_1_train,:]\n",
    "del embs_1, idx_1_train\n",
    "\n",
    "embs_2, idx_2_train = def_files(files[1], max_train_num//2)\n",
    "print(len(embs_2))\n",
    "embs_2_sliced = embs_2[idx_2_train,:]\n",
    "del embs_2, idx_2_train\n",
    "\n",
    "embs_sliced = np.concatenate((embs_1_sliced, embs_2_sliced), axis = 0)\n",
    "del embs_1_sliced, embs_2_sliced"
   ]
  },
  {
   "cell_type": "code",
   "execution_count": null,
   "metadata": {},
   "outputs": [],
   "source": [
    "%%time\n",
    "faiss_engine = create_index(embs_sliced, nogpu=True, n_centroids=256, code_sz=64, nbits=8) #dummy_db"
   ]
  },
  {
   "cell_type": "markdown",
   "metadata": {},
   "source": [
    "## **Carrega Informações da Base de Dados**"
   ]
  },
  {
   "cell_type": "code",
   "execution_count": null,
   "metadata": {},
   "outputs": [],
   "source": [
    "def add_faiss(faiss_engine, h5Files):\n",
    "    for idx_file, file in enumerate(h5Files):\n",
    "        print(file)\n",
    "        emb = dd.io.load(file)\n",
    "        faiss_engine.add(emb)\n",
    "    \n",
    "    return faiss_engine"
   ]
  },
  {
   "cell_type": "markdown",
   "metadata": {},
   "source": [
    "### **dummy**"
   ]
  },
  {
   "cell_type": "code",
   "execution_count": null,
   "metadata": {},
   "outputs": [],
   "source": [
    "%%time\n",
    "#2h 42min 36s\n",
    "source_dir = '/mnt/dataset/public/Fingerprinting/Embeddings_BFTRI/dummyEmb/'\n",
    "h5Files_dummy = sorted(glob.glob(os.path.join(source_dir, '**/*.h5') ,recursive = True)) #93458 files\n",
    "\n",
    "#93458 ficheiros/músicas\n",
    "\n",
    "for idx_file, file in enumerate(h5Files_dummy):\n",
    "        print(file)\n",
    "        emb = dd.io.load(file)\n",
    "        faiss_engine.add(emb)"
   ]
  },
  {
   "cell_type": "markdown",
   "metadata": {},
   "source": [
    "### **db**"
   ]
  },
  {
   "cell_type": "code",
   "execution_count": null,
   "metadata": {},
   "outputs": [],
   "source": [
    "source_dir_db = '/mnt/dataset/public/Fingerprinting/Embeddings_BFTRI/dbEmb/'\n",
    "h5Files_db = sorted(glob.glob(os.path.join(source_dir_db, '**/*.h5') ,recursive = True))\n",
    "\n",
    "#93458 ficheiros/músicas\n",
    "\n",
    "for idx_file, file in enumerate(h5Files_db):\n",
    "    print(file)\n",
    "    emb = dd.io.load(file)\n",
    "    faiss_engine.add(emb)"
   ]
  },
  {
   "cell_type": "markdown",
   "metadata": {},
   "source": [
    "#### **Nomes das Músicas**"
   ]
  },
  {
   "cell_type": "code",
   "execution_count": null,
   "metadata": {},
   "outputs": [],
   "source": [
    "\"\"\"\n",
    "def musica(music_names, pred_ids, idx_music):\n",
    "    tracksCSV = '/mnt/dataset/public/Fingerprinting/selected_tracks.csv'\n",
    "    df = pd.read_csv(tracksCSV)\n",
    "\n",
    "    music_names = np.array(music_names)\n",
    "\n",
    "    map_obra = lambda idx: music_names[idx]\n",
    "\n",
    "    obras_result = map_obra(pred_ids[idx_music])\n",
    "\n",
    "    print(obras_result)\n",
    "\n",
    "    linha_encontrada = df[df.iloc[:, 0] == int(obras_result)]\n",
    "\n",
    "    return linha_encontrada\n",
    "\"\"\""
   ]
  },
  {
   "cell_type": "markdown",
   "metadata": {},
   "source": [
    "# **Carrega Modelo**"
   ]
  },
  {
   "cell_type": "code",
   "execution_count": null,
   "metadata": {},
   "outputs": [],
   "source": [
    "def load_config(config_fname):\n",
    "    config_filepath = './config/' + config_fname + '.yaml'\n",
    "    if os.path.exists(config_filepath):\n",
    "        print(f'cli: Configuration from {config_filepath}')\n",
    "    else:\n",
    "        sys.exit(f'cli: ERROR! Configuration file {config_filepath} is missing!!')\n",
    "\n",
    "    with open(config_filepath, 'r') as f:\n",
    "        cfg = yaml.safe_load(f)\n",
    "    return cfg"
   ]
  },
  {
   "cell_type": "code",
   "execution_count": null,
   "metadata": {},
   "outputs": [],
   "source": [
    "def build_fp(cfg):\n",
    "    \"\"\" Build fingerprinter \"\"\"\n",
    "    # m_pre: log-power-Mel-spectrogram layer, S.\n",
    "    m_pre = get_melspec_layer(cfg, trainable=False)\n",
    "\n",
    "    # m_fp: fingerprinter g(f(.)).\n",
    "    m_fp = get_fingerprinter(cfg, trainable=False)\n",
    "    return m_pre, m_fp\n",
    "\n",
    "\n",
    "@tf.function\n",
    "def predict(X, m_pre, m_fp):\n",
    "    \"\"\" \n",
    "    Test step used for mini-search-validation \n",
    "    X -> (B,1,8000)\n",
    "    \"\"\"\n",
    "    #tf.print(X)\n",
    "    feat = m_pre(X)  # (nA+nP, F, T, 1)\n",
    "    m_fp.trainable = False\n",
    "    emb_f = m_fp.front_conv(feat)  # (BSZ, Dim)\n",
    "    emb_gf = m_fp.div_enc(emb_f)\n",
    "    emb_gf = tf.math.l2_normalize(emb_gf, axis=1)\n",
    "    \n",
    "    return emb_gf # L2(g(f(.))"
   ]
  },
  {
   "cell_type": "code",
   "execution_count": null,
   "metadata": {},
   "outputs": [
    {
     "name": "stdout",
     "output_type": "stream",
     "text": [
      "cli: Configuration from ./config/default_RA.yaml\n"
     ]
    },
    {
     "data": {
      "text/plain": [
       "<tensorflow.python.checkpoint.checkpoint.InitializationOnlyStatus at 0x726dc3d6dd30>"
      ]
     },
     "execution_count": 31,
     "metadata": {},
     "output_type": "execute_result"
    }
   ],
   "source": [
    "config = \"default_RA\"\n",
    "cfg = load_config(config)\n",
    "\n",
    "m_pre, m_fp = build_fp(cfg)\n",
    "\n",
    "checkpoint_root_dir:str = \"./logs/CHECK_BFTRI_100/101/\"\n",
    "checkpoint = tf.train.Checkpoint(m_fp)\n",
    "checkpoint.restore(tf.train.latest_checkpoint(checkpoint_root_dir))"
   ]
  },
  {
   "cell_type": "markdown",
   "metadata": {},
   "source": [
    "# **Carrega Query**"
   ]
  },
  {
   "cell_type": "code",
   "execution_count": null,
   "metadata": {},
   "outputs": [],
   "source": [
    "def convert_to_wav(audio_file_path, wav_file_path, sample_rate=8000):\n",
    "    file_extension = os.path.splitext(audio_file_path)[1][1:].lower()\n",
    "\n",
    "    if file_extension in ['mp3', 'wav', 'ogg', 'flv', 'flac', 'mp4', 'wma', 'aac', 'aiff', 'au']:\n",
    "        audio = AudioSegment.from_file(audio_file_path, format=file_extension)\n",
    "    else:\n",
    "        raise ValueError(f\"Unsupported file format: {file_extension}\")\n",
    "    \n",
    "    audio = audio.set_frame_rate(sample_rate)\n",
    "\n",
    "    audio.export(wav_file_path, format=\"wav\")"
   ]
  },
  {
   "cell_type": "code",
   "execution_count": null,
   "metadata": {},
   "outputs": [],
   "source": [
    "def convert_to_wav_bytes(audio_file_path, sample_rate=8000):\n",
    "    # Descobrir a extensão do arquivo de entrada\n",
    "    file_extension = os.path.splitext(audio_file_path)[1][1:].lower()\n",
    "    \n",
    "    # Carregar o arquivo de áudio com base na extensão\n",
    "    if file_extension in ['mp3', 'wav', 'ogg', 'flv', 'flac', 'mp4', 'wma', 'aac', 'aiff', 'au']:\n",
    "        audio = AudioSegment.from_file(audio_file_path, format=file_extension)\n",
    "    else:\n",
    "        raise ValueError(f\"Unsupported file format: {file_extension}\")\n",
    "    \n",
    "    # Configurar a taxa de amostragem\n",
    "    audio = audio.set_frame_rate(sample_rate)\n",
    "    \n",
    "    # Exportar o arquivo como bytes WAV\n",
    "    wav_io = io.BytesIO()\n",
    "    audio.export(wav_io, format=\"wav\")\n",
    "    wav_io.seek(0)\n",
    "    \n",
    "    return wav_io.read()"
   ]
  },
  {
   "cell_type": "code",
   "execution_count": null,
   "metadata": {},
   "outputs": [],
   "source": [
    "def plot_waveform(audio):\n",
    "    sample_rate=8000\n",
    "    # Plotar a forma de onda do áudio\n",
    "    plt.figure(figsize=(14, 5))\n",
    "    librosa.display.waveshow(audio, sr=sample_rate)\n",
    "    plt.title('Waveform')\n",
    "    plt.xlabel('Time (s)')\n",
    "    plt.ylabel('Amplitude')\n",
    "    plt.show()"
   ]
  },
  {
   "cell_type": "code",
   "execution_count": null,
   "metadata": {},
   "outputs": [],
   "source": [
    "def get_audio(audiofile, sr_target=8000):\n",
    "    audio, fs = librosa.load(audiofile, mono=True, sr=sr_target)\n",
    "    return audio, fs\n",
    "\n",
    "def nframe(audio, win_size, hop_size):\n",
    "    frames =librosa.util.frame(x=audio, frame_length=win_size, hop_length=hop_size)\n",
    "    return frames"
   ]
  },
  {
   "cell_type": "code",
   "execution_count": null,
   "metadata": {},
   "outputs": [],
   "source": [
    "def get_embeddings(file, win_size_sec, hop_size_sec):\n",
    "    emb_list = []\n",
    "\n",
    "    _, file_extension = os.path.splitext(file)\n",
    "\n",
    "    if file_extension == '.wav':\n",
    "        audio, fs = get_audio(audiofile=file)\n",
    "        plot_waveform(audio)\n",
    "    else:\n",
    "        audio = convert_to_wav_bytes(file, sample_rate=8000)\n",
    "        audio, fs = get_audio(io.BytesIO(audio), sr_target=8000)\n",
    "        plot_waveform(audio)\n",
    "\n",
    "\n",
    "    audio_frames = nframe(audio, int(win_size_sec * fs), int(hop_size_sec*fs))\n",
    "    audio_frames = np.transpose(audio_frames[np.newaxis, ...], (2, 0,1))\n",
    "    \n",
    "    \n",
    "    # b) gerar o embedded\n",
    "    emb = predict(audio_frames, m_pre, m_fp) # tensor 1 - TensorShape([473, 128])\n",
    "    emb = emb.numpy() # tensor 1 - (473, 128)\n",
    "\n",
    "    emb_list.append(emb)\n",
    "    \n",
    "    return np.concatenate(emb_list, axis = 0)"
   ]
  },
  {
   "cell_type": "code",
   "execution_count": null,
   "metadata": {},
   "outputs": [
    {
     "data": {
      "image/png": "[encoded data removed]",
      "text/plain": [
       "<Figure size 1400x500 with 1 Axes>"
      ]
     },
     "metadata": {},
     "output_type": "display_data"
    },
    {
     "name": "stdout",
     "output_type": "stream",
     "text": [
      "CPU times: user 15.5 s, sys: 2.39 s, total: 17.9 s\n",
      "Wall time: 5.25 s\n"
     ]
    }
   ],
   "source": [
    "%%time\n",
    "#a) carregar áudio\n",
    "queryDir = '/mnt/dataset/public/Fingerprinting/FalseBD/eterna-cancao-wav-12569.wav'\n",
    "queryDir ='/home/rodrigo/Downloads/eterna-cancao-wav-12569.mp3'\n",
    "queryFile = glob.glob(os.path.join(queryDir) ,recursive = True)\n",
    "\n",
    "win_size_sec = 1\n",
    "hop_size_sec = 0.5\n",
    "\n",
    "queryEmbeddings = get_embeddings(queryFile[0], win_size_sec, hop_size_sec)"
   ]
  },
  {
   "cell_type": "markdown",
   "metadata": {},
   "source": [
    "### **Procura Query**"
   ]
  },
  {
   "cell_type": "code",
   "execution_count": null,
   "metadata": {},
   "outputs": [],
   "source": [
    "def  get_threshold(q_shape_0, query_length_limiar):\n",
    "\n",
    "    query_length_limiar = {\n",
    "        1: 0.852932, #0.852932,\n",
    "        3: 0.2,\n",
    "        5: 0.05,\n",
    "        9: 0.03,\n",
    "        11: 0.02,\n",
    "        19: 0.006\n",
    "        }\n",
    "\n",
    "    valid_keys = [key for key in query_length_limiar.keys() if key <= q_shape_0]\n",
    "\n",
    "    if valid_keys:\n",
    "        # Selecionar a maior dessas chaves\n",
    "        selected_key = max(valid_keys)\n",
    "        return query_length_limiar[selected_key]"
   ]
  },
  {
   "cell_type": "code",
   "execution_count": null,
   "metadata": {},
   "outputs": [],
   "source": [
    "db_startIndex = 53754198\n",
    "q = queryEmbeddings\n",
    "sl = q.shape[0] #query length"
   ]
  },
  {
   "cell_type": "code",
   "execution_count": null,
   "metadata": {},
   "outputs": [],
   "source": [
    "%%time\n",
    "_, I = faiss_engine.search(q, 20) # D: Distâncias, I: Índices dos resultados"
   ]
  },
  {
   "cell_type": "code",
   "execution_count": null,
   "metadata": {},
   "outputs": [],
   "source": [
    "for offset in range(len(I)):\n",
    "    I[offset, :] -= offset\n",
    "\n",
    "\n",
    "candidates = np.unique(I[np.where(I >= 0)])   # ignore id < 0\n",
    "\n",
    "\n",
    "# Sequence match score \n",
    "_scores = np.zeros(len(candidates))\n",
    "for ci, cid in enumerate(candidates):\n",
    "    _scores[ci] = np.mean(\n",
    "        np.diag(\n",
    "            np.dot(q, fake_recon_index[cid:cid + q.shape[0], :].T)\n",
    "            )\n",
    "        )\n",
    "\n",
    "# Evaluate \n",
    "pred_ids = candidates[np.argsort(-_scores)[:10]]\n",
    "\n",
    "threshold = get_threshold(sl)\n",
    "\n",
    "for i, pred_id in enumerate(pred_ids):\n",
    "    if sorted(_scores)[i:i+1][0] < threshold and sorted(_scores)[i:i+1][0] > 0: #verificar se este último é realmente verdade\n",
    "        musica_encontrada = musica(music_names, pred_ids, 0)\n",
    "        print(musica_encontrada)\n",
    "        break\n",
    "    \n",
    "    if i == len(pred_ids)-1:\n",
    "        print(\"Não encontrou a música.\")"
   ]
  }
 ],
 "metadata": {
  "kernelspec": {
   "display_name": "tfpy",
   "language": "python",
   "name": "python3"
  },
  "language_info": {
   "codemirror_mode": {
    "name": "ipython",
    "version": 3
   },
   "file_extension": ".py",
   "mimetype": "text/x-python",
   "name": "python",
   "nbconvert_exporter": "python",
   "pygments_lexer": "ipython3",
   "version": "3.9.19"
  }
 },
 "nbformat": 4,
 "nbformat_minor": 2
}
